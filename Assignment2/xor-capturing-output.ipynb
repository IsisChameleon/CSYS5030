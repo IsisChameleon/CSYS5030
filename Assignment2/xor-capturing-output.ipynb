{
 "cells": [
  {
   "cell_type": "code",
   "execution_count": 8,
   "source": [
    "import os\n",
    "import torch\n",
    "from torch import nn\n",
    "\n",
    "from torch.utils.data import DataLoader, Dataset\n",
    "from torchvision import transforms\n",
    "\n",
    "import matplotlib.pyplot as plt"
   ],
   "outputs": [],
   "metadata": {}
  },
  {
   "cell_type": "markdown",
   "source": [
    "# Dataset"
   ],
   "metadata": {}
  },
  {
   "cell_type": "code",
   "execution_count": 10,
   "source": [
    "import numpy as np\n",
    "\n",
    "class XORDataset(Dataset):\n",
    "    \"\"\"XOR dataset.\"\"\"\n",
    "\n",
    "    def __init__(self, num_samples = 200):\n",
    "        \"\"\"\n",
    "        Args:\n",
    "            num_samples: number of samples to generate\n",
    "        \"\"\"\n",
    "\n",
    "        self.num_samples = num_samples\n",
    "        self.X = np.random.randint(0,high=2, size=num_samples*2).reshape((num_samples, 2)).astype(np.float32)\n",
    "        self.y = np.logical_xor(self.X[:,0], self.X[:,1]).reshape((num_samples,1)).astype(np.float32)\n",
    "\n",
    "    def __len__(self):\n",
    "        return self.num_samples\n",
    "\n",
    "    def __getitem__(self, idx):\n",
    "        if torch.is_tensor(idx):\n",
    "            idx = idx.tolist()\n",
    "\n",
    "        #sample = {'X': self.X[idx], 'y': self.y[idx]}\n",
    "        sample = (self.X[idx], self.y[idx])\n",
    "\n",
    "        return sample"
   ],
   "outputs": [],
   "metadata": {}
  },
  {
   "cell_type": "code",
   "execution_count": 3,
   "source": [
    "X = np.random.randint(0,high=2, size=10*2).reshape((10, 2))\n",
    "y = np.logical_xor(X[:,0], X[:,1]).astype(np.uint)\n",
    "print(X)\n",
    "print(y)\n",
    "print(X[2])\n",
    "print(y[2])"
   ],
   "outputs": [
    {
     "output_type": "stream",
     "name": "stdout",
     "text": [
      "[[0 0]\n",
      " [0 1]\n",
      " [0 0]\n",
      " [1 1]\n",
      " [0 1]\n",
      " [1 1]\n",
      " [0 0]\n",
      " [0 1]\n",
      " [1 0]\n",
      " [1 0]]\n",
      "[0 1 0 0 1 0 0 1 1 1]\n",
      "[0 0]\n",
      "0\n"
     ]
    }
   ],
   "metadata": {}
  },
  {
   "cell_type": "code",
   "execution_count": 4,
   "source": [
    "ds_train = XORDataset(200)\n",
    "ds_val= XORDataset(50)\n",
    "ds_test = XORDataset(30)"
   ],
   "outputs": [],
   "metadata": {}
  },
  {
   "cell_type": "code",
   "execution_count": 5,
   "source": [
    "ds_train[3]\n"
   ],
   "outputs": [
    {
     "output_type": "execute_result",
     "data": {
      "text/plain": [
       "(array([1., 0.], dtype=float32), array([1.], dtype=float32))"
      ]
     },
     "metadata": {},
     "execution_count": 5
    }
   ],
   "metadata": {}
  },
  {
   "cell_type": "markdown",
   "source": [
    "# Dataloaders"
   ],
   "metadata": {}
  },
  {
   "cell_type": "code",
   "execution_count": 6,
   "source": [
    "# Prepare training data loader\n",
    "\n",
    "# how many samples per batch to load\n",
    "batch_size=40\n",
    "train_batch_size = batch_size\n",
    "valid_batch_size = batch_size\n",
    "test_batch_size = batch_size\n",
    "\n",
    "loaders = {\n",
    "    'train' : torch.utils.data.DataLoader(ds_train,  \n",
    "                                          batch_size=train_batch_size, \n",
    "                                          shuffle=True,\n",
    "                                          num_workers=1),\n",
    "    'valid' : torch.utils.data.DataLoader(ds_val, \n",
    "                                          batch_size=valid_batch_size, \n",
    "                                          shuffle=True,\n",
    "                                          num_workers=1),\n",
    "    'test'  : torch.utils.data.DataLoader(ds_test, \n",
    "                                          batch_size=test_batch_size , \n",
    "                                          shuffle=True, \n",
    "                                          num_workers=1),\n",
    "}\n",
    "loaders"
   ],
   "outputs": [
    {
     "output_type": "execute_result",
     "data": {
      "text/plain": [
       "{'train': <torch.utils.data.dataloader.DataLoader at 0x7faac06ec910>,\n",
       " 'valid': <torch.utils.data.dataloader.DataLoader at 0x7faac06ece50>,\n",
       " 'test': <torch.utils.data.dataloader.DataLoader at 0x7fa95bb5fe80>}"
      ]
     },
     "metadata": {},
     "execution_count": 6
    }
   ],
   "metadata": {}
  },
  {
   "cell_type": "code",
   "execution_count": 11,
   "source": [
    "def get_data(batch_size):\n",
    "\n",
    "    datasets = {\n",
    "        'train' : XORDataset(200),\n",
    "        'valid' : XORDataset(50),\n",
    "    }\n",
    "    loaders = {\n",
    "    'train' : torch.utils.data.DataLoader(datasets['train'],  \n",
    "                                          batch_size=batch_size, \n",
    "                                          shuffle=True,\n",
    "                                          num_workers=1),\n",
    "    'valid' : torch.utils.data.DataLoader(datasets['valid'], \n",
    "                                          batch_size=batch_size, \n",
    "                                          shuffle=True,\n",
    "                                          num_workers=1),\n",
    "    }\n",
    "    return datasets, loaders\n",
    "    "
   ],
   "outputs": [],
   "metadata": {}
  },
  {
   "cell_type": "markdown",
   "source": [
    "# Net model"
   ],
   "metadata": {}
  },
  {
   "cell_type": "code",
   "execution_count": 12,
   "source": [
    "class XORnet(nn.Module):\n",
    "\n",
    "    def __init__(self):\n",
    "        super(XORnet, self).__init__()\n",
    "        self.linear = nn.Linear(2, 2)\n",
    "        self.Sigmoid = nn.Sigmoid()\n",
    "        self.linear2 = nn.Linear(2, 1)\n",
    "        self.layers = nn.Sequential(\n",
    "            self.linear, \n",
    "            self.Sigmoid, \n",
    "            self.linear2\n",
    "        )\n",
    "        # custom weight initialization\n",
    "        nnLinearLayers = [layer for layer in self.layers if type(layer) == nn.Linear]\n",
    "        for layer in nnLinearLayers:\n",
    "            nn.init.normal_(layer.weight)\n",
    "\n",
    "    def forward(self, x):\n",
    "        '''Forward pass'''\n",
    "        return self.layers(x)"
   ],
   "outputs": [],
   "metadata": {}
  },
  {
   "cell_type": "code",
   "execution_count": 13,
   "source": [
    "def get_model(lr):\n",
    "    model = XORnet()\n",
    "\n",
    "    # optimizer = torch.optim.SGD(model.parameters(), lr=0.5)\n",
    "    optimizer = torch.optim.Adam(model.parameters(), lr = 0.03) \n",
    "    return model, optimizer"
   ],
   "outputs": [],
   "metadata": {}
  },
  {
   "cell_type": "code",
   "execution_count": 14,
   "source": [
    "loss_fn = nn.MSELoss() "
   ],
   "outputs": [],
   "metadata": {}
  },
  {
   "cell_type": "code",
   "execution_count": 1,
   "source": [
    "# to do : determine learning rate by grid search\n",
    "'''To make comparisons easier, we use the\n",
    "same learning rate η for FF+FB and FF, determined by grid search. \n",
    "We average 10 runs, taking g = 0.7 and η = 0.025 for both networks. The number of\n",
    "epochs is capped to 300 epochs. With these constraints, η is optimized (by grid search) for the smallest\n",
    "number of epochs of the two networks that reached 100% training accuracy in 10 runs.'''"
   ],
   "outputs": [
    {
     "output_type": "execute_result",
     "data": {
      "text/plain": [
       "'To make comparisons easier, we use the\\nsame learning rate η for FF+FB and FF, determined by grid search. '"
      ]
     },
     "metadata": {},
     "execution_count": 1
    }
   ],
   "metadata": {}
  },
  {
   "cell_type": "code",
   "execution_count": 10,
   "source": [
    "from torch.utils.tensorboard import SummaryWriter\n",
    "\n",
    "# default `log_dir` is \"runs\" - we'll be more specific here\n",
    "writer = SummaryWriter('runs/xor_experiment_1')\n",
    "dataiter = iter(loaders['train'])\n",
    "Xs, ys = dataiter.next()\n",
    "print('Xs:', Xs)\n",
    "writer.add_graph(model, Xs, verbose=True)\n"
   ],
   "outputs": [
    {
     "output_type": "stream",
     "name": "stdout",
     "text": [
      "Xs: tensor([[1., 1.],\n",
      "        [1., 0.],\n",
      "        [0., 1.],\n",
      "        [0., 1.],\n",
      "        [1., 1.],\n",
      "        [1., 0.],\n",
      "        [0., 0.],\n",
      "        [1., 1.],\n",
      "        [0., 1.],\n",
      "        [0., 1.],\n",
      "        [1., 0.],\n",
      "        [1., 0.],\n",
      "        [0., 0.],\n",
      "        [1., 1.],\n",
      "        [1., 1.],\n",
      "        [0., 1.],\n",
      "        [0., 1.],\n",
      "        [1., 0.],\n",
      "        [0., 0.],\n",
      "        [0., 0.],\n",
      "        [1., 0.],\n",
      "        [0., 0.],\n",
      "        [1., 1.],\n",
      "        [1., 1.],\n",
      "        [1., 0.],\n",
      "        [1., 1.],\n",
      "        [0., 0.],\n",
      "        [1., 1.],\n",
      "        [0., 1.],\n",
      "        [0., 0.],\n",
      "        [1., 0.],\n",
      "        [1., 0.],\n",
      "        [1., 1.],\n",
      "        [0., 1.],\n",
      "        [1., 1.],\n",
      "        [0., 1.],\n",
      "        [1., 1.],\n",
      "        [1., 0.],\n",
      "        [0., 1.],\n",
      "        [0., 0.]])\n",
      "graph(%self.1 : __torch__.XORnet,\n",
      "      %x : Float(40, 2, strides=[2, 1], requires_grad=0, device=cpu)):\n",
      "  %73 : __torch__.torch.nn.modules.container.Sequential = prim::GetAttr[name=\"layers\"](%self.1)\n",
      "  %60 : __torch__.torch.nn.modules.linear.___torch_mangle_0.Linear = prim::GetAttr[name=\"linear2\"](%self.1)\n",
      "  %61 : Tensor = prim::GetAttr[name=\"bias\"](%60)\n",
      "  %58 : __torch__.torch.nn.modules.linear.___torch_mangle_0.Linear = prim::GetAttr[name=\"linear2\"](%self.1)\n",
      "  %59 : Tensor = prim::GetAttr[name=\"weight\"](%58)\n",
      "  %56 : __torch__.torch.nn.modules.linear.Linear = prim::GetAttr[name=\"linear\"](%self.1)\n",
      "  %57 : Tensor = prim::GetAttr[name=\"bias\"](%56)\n",
      "  %54 : __torch__.torch.nn.modules.linear.Linear = prim::GetAttr[name=\"linear\"](%self.1)\n",
      "  %55 : Tensor = prim::GetAttr[name=\"weight\"](%54)\n",
      "  %79 : __torch__.torch.nn.modules.linear.___torch_mangle_3.Linear = prim::GetAttr[name=\"2\"](%73)\n",
      "  %80 : __torch__.torch.nn.modules.activation.___torch_mangle_2.Sigmoid = prim::GetAttr[name=\"1\"](%73)\n",
      "  %81 : __torch__.torch.nn.modules.linear.___torch_mangle_1.Linear = prim::GetAttr[name=\"0\"](%73)\n",
      "  %input.1 : Float(40, 2, strides=[2, 1], requires_grad=1, device=cpu) = aten::linear(%x, %55, %57), scope: __module.layers/__module.layers.0 # /opt/conda/lib/python3.9/site-packages/torch/nn/functional.py:1847:0\n",
      "  %input : Float(40, 2, strides=[2, 1], requires_grad=1, device=cpu) = aten::sigmoid(%input.1), scope: __module.layers/__module.layers.1 # /opt/conda/lib/python3.9/site-packages/torch/nn/modules/activation.py:299:0\n",
      "  %84 : Float(40, 1, strides=[1, 1], requires_grad=1, device=cpu) = aten::linear(%input, %59, %61), scope: __module.layers/__module.layers.2 # /opt/conda/lib/python3.9/site-packages/torch/nn/functional.py:1847:0\n",
      "  return (%84)\n",
      "\n"
     ]
    }
   ],
   "metadata": {}
  },
  {
   "cell_type": "code",
   "execution_count": 48,
   "source": [],
   "outputs": [],
   "metadata": {}
  },
  {
   "cell_type": "code",
   "execution_count": 41,
   "source": [
    "class statsLogger():\n",
    "    def __init__(self):\n",
    "        self.accuracies=[]   # accuracy for each epoch\n",
    "        self.losses=[]\n",
    "\n",
    "    def startEpoch(self):\n",
    "        self.epoch_total_samples=0\n",
    "        self.epoch_correct_samples=0\n",
    "        self.minibatch_losses=[]  # losses for all minibatches in the epoch\n",
    "\n",
    "    def getMinibatchStats(self, pred, yb, loss, pref_fn=lambda pred : (pred>0.5).float() ):\n",
    "        #Accuracy\n",
    "        predicted = pref_fn(pred)\n",
    "        minibatch_num_corrects = (predicted == yb).float().sum()\n",
    "        minibatch_total = pred.shape[0]\n",
    "        minibatch_accuracy = minibatch_num_corrects.item()/pred.shape[0]\n",
    "        self.epoch_total_samples += minibatch_total\n",
    "        self.epoch_correct_samples += minibatch_num_corrects.item()\n",
    "        self.minibatch_losses.append(loss.item())\n",
    "\n",
    "    def endEpoch(self):\n",
    "        self.losses.append(np.array(self.minibatch_losses).mean())\n",
    "        self.accuracies.append(100 * self.epoch_correct_samples / self.epoch_total_samples)\n",
    "        \n",
    "    "
   ],
   "outputs": [],
   "metadata": {}
  },
  {
   "cell_type": "code",
   "execution_count": 49,
   "source": [
    "epochs=100\n",
    "epoch_training_accuracies=[]\n",
    "epoch_valid_accuracies=[]\n",
    "epoch_training_losses=[]\n",
    "epoch_valid_losses=[]\n",
    "\n",
    "def process_batch(model, loss_func, xb, yb, opt=None):\n",
    "    pred = model(xb)\n",
    "    loss = loss_func(pred, yb)\n",
    "\n",
    "    if opt is not None:\n",
    "        loss.backward()\n",
    "        opt.step()\n",
    "        opt.zero_grad()\n",
    "\n",
    "    return pred, loss.item(), len(xb)\n",
    "\n",
    "def fit(model, optimizer, loaders, epochs):\n",
    "\n",
    "    trainLogger = statsLogger()\n",
    "    validLogger = statsLogger()\n",
    "\n",
    "    for epoch in range(epochs): \n",
    "\n",
    "        trainLogger.startEpoch()\n",
    "\n",
    "        train_loss, valid_loss = [], []\n",
    "        train_epoch_total = 0\n",
    "        train_epoch_correct = 0\n",
    "        valid_epoch_total = 0\n",
    "        valid_epoch_correct = 0\n",
    "        valid_accuracy = []\n",
    "\n",
    "        ## training part \n",
    "        ##--------------\n",
    "        model.train()\n",
    "        for xb, yb in loaders['train']:\n",
    "\n",
    "            optimizer.zero_grad()\n",
    "\n",
    "\n",
    "            ## 1. forward propagation\n",
    "            pred = model(xb)\n",
    "            \n",
    "            ## 2. loss calculation\n",
    "            loss = loss_fn(pred, yb)        \n",
    "            train_loss.append(loss.item())\n",
    "\n",
    "            # tensorboard\n",
    "            # writer.add_scalar(\"Loss/train\", loss, epoch)\n",
    "            \n",
    "            ## 3. backward propagation\n",
    "            loss.backward()\n",
    "            \n",
    "            ## 4. weight optimization\n",
    "            optimizer.step()\n",
    "\n",
    "            #logger\n",
    "            trainLogger.getMinibatchStats(pred, yb, loss)\n",
    "\n",
    "\n",
    "            #Accuracy\n",
    "            predicted = (pred>0.5).float()\n",
    "            minibatch_num_corrects = (predicted == yb).float().sum()\n",
    "            minibatch_total = pred.shape[0]\n",
    "            minibatch_accuracy = minibatch_num_corrects.item()/pred.shape[0]\n",
    "            train_epoch_total += minibatch_total\n",
    "            train_epoch_correct += minibatch_num_corrects.item()\n",
    "\n",
    "            # print(\"Epoch {}/{}, Training Loss: {:.3f}, Training Minibatch Accuracy: {:.3f}\".format(epoch+1,epochs, loss.item(), minibatch_accuracy))\n",
    "        epoch_training_losses.append(np.array(train_loss).mean())\n",
    "        trainLogger.endEpoch()\n",
    "            \n",
    "        ## evaluation part\n",
    "        ## ---------------\n",
    "\n",
    "        with torch.no_grad():  #gradients should not evaluate\n",
    "            model.eval()\n",
    "            validLogger.startEpoch()\n",
    "            for xb, yb in loaders['valid']:\n",
    "                pred = model(xb)\n",
    "                loss = loss_fn(pred, yb)\n",
    "                valid_loss.append(loss.item())\n",
    "                \n",
    "                #Accuracy\n",
    "                prediction = (pred>0.5).float()\n",
    "                valid_minibatch_num_corrects = (prediction == yb).float().sum()\n",
    "                valid_minibatch_total = pred.shape[0]\n",
    "                valid_minibatch_accuracy = valid_minibatch_num_corrects.item()/pred.shape[0]\n",
    "\n",
    "                # print(\"Epoch {}/{}, Valid Loss: {:.3f}, Valid Minibatch Accuracy: {:.3f}\".format(epoch+1,epochs, loss.item(), minibatch_accuracy))\n",
    "\n",
    "                valid_accuracy.append(valid_minibatch_accuracy)\n",
    "                valid_epoch_total += valid_minibatch_total\n",
    "                valid_epoch_correct += valid_minibatch_num_corrects.item()\n",
    "\n",
    "                validLogger.getMinibatchStats(pred, yb, loss)\n",
    "\n",
    "            epoch_valid_losses.append(np.array(valid_loss).mean())\n",
    "            validLogger.endEpoch()\n",
    "\n",
    "        # epoch statistics\n",
    "\n",
    "        epoch_training_accuracy = 100 * train_epoch_correct / train_epoch_total\n",
    "        epoch_valid_accuracy = 100 * valid_epoch_correct / valid_epoch_total\n",
    "        epoch_training_accuracies.append(epoch_training_accuracy )\n",
    "        epoch_valid_accuracies.append(epoch_valid_accuracy)\n",
    "\n",
    "        average_validation_accuracy=np.mean(valid_accuracy)\n",
    "        print(\"Epoch:\", epoch+1, \"Training Loss:\", np.mean(train_loss),\"Valid Loss: \", np.mean(valid_loss), \"Valid accuracy: \", np.mean(valid_accuracy))\n",
    "        print(\"Training accuracy:\", epoch_training_accuracy , \", Valid accuracy:\", epoch_valid_accuracy)\n",
    "        #if average_validation_accuracy == 1:\n",
    "        #   break\n",
    "\n",
    "        # writer.flush()\n",
    "    return { 'train' : trainLogger, 'valid' : validLogger }\n"
   ],
   "outputs": [],
   "metadata": {}
  },
  {
   "cell_type": "code",
   "execution_count": 52,
   "source": [
    "fig, axs = plt.subplots(1, 1, figsize=(9, 6))  \n",
    "axs.plot(epoch_training_accuracies, label='Train acc')\n",
    "axs.plot(epoch_valid_accuracies, label='Valid acc')\n",
    "axs.set_title('XOR Dataset learning')\n",
    "axs.set_xlabel('epochs')\n",
    "axs.set_ylabel('accuracy %')\n",
    "plt.legend()\n",
    "plt.show()"
   ],
   "outputs": [
    {
     "output_type": "display_data",
     "data": {
      "image/png": "[encoded data removed]",
      "text/plain": [
       "<Figure size 648x432 with 1 Axes>"
      ]
     },
     "metadata": {
      "needs_background": "light"
     }
    }
   ],
   "metadata": {}
  },
  {
   "cell_type": "code",
   "execution_count": 53,
   "source": [
    "fig, axs = plt.subplots(1, 1, figsize=(9, 6))  \n",
    "axs.plot(epoch_training_losses, label='Train loss')\n",
    "axs.plot(epoch_valid_losses, label='Valid loss')\n",
    "axs.set_title('XOR Dataset learning')\n",
    "axs.set_xlabel('epochs')\n",
    "axs.set_ylabel('loss')\n",
    "plt.legend()\n",
    "plt.show()"
   ],
   "outputs": [
    {
     "output_type": "display_data",
     "data": {
      "image/png": "[encoded data removed]",
      "text/plain": [
       "<Figure size 648x432 with 1 Axes>"
      ]
     },
     "metadata": {
      "needs_background": "light"
     }
    }
   ],
   "metadata": {}
  },
  {
   "cell_type": "code",
   "execution_count": 50,
   "source": [
    "lr = 0.03\n",
    "bs=40\n",
    "datasets, loaders = get_data(bs)\n",
    "model, opt = get_model(lr)\n",
    "\n",
    "epochs=100\n",
    "loggers = fit(model, opt, loaders, epochs)"
   ],
   "outputs": [
    {
     "output_type": "stream",
     "name": "stdout",
     "text": [
      "Epoch: 1 Training Loss: 0.3477199852466583 Valid Loss:  0.30821408331394196 Valid accuracy:  0.5\n",
      "Training accuracy: 51.0 , Valid accuracy: 50.0\n",
      "Epoch: 2 Training Loss: 0.28428431153297423 Valid Loss:  0.32431361079216003 Valid accuracy:  0.175\n",
      "Training accuracy: 42.0 , Valid accuracy: 22.0\n",
      "Epoch: 3 Training Loss: 0.2868566393852234 Valid Loss:  0.29396580159664154 Valid accuracy:  0.5375\n",
      "Training accuracy: 30.0 , Valid accuracy: 50.0\n",
      "Epoch: 4 Training Loss: 0.2618708312511444 Valid Loss:  0.27195873856544495 Valid accuracy:  0.5\n",
      "Training accuracy: 53.5 , Valid accuracy: 50.0\n",
      "Epoch: 5 Training Loss: 0.2601488709449768 Valid Loss:  0.31110499799251556 Valid accuracy:  0.6499999999999999\n",
      "Training accuracy: 69.5 , Valid accuracy: 68.0\n",
      "Epoch: 6 Training Loss: 0.2564286768436432 Valid Loss:  0.3223614990711212 Valid accuracy:  0.5375\n",
      "Training accuracy: 79.0 , Valid accuracy: 68.0\n",
      "Epoch: 7 Training Loss: 0.24947212934494017 Valid Loss:  0.2644239813089371 Valid accuracy:  0.21250000000000002\n",
      "Training accuracy: 56.5 , Valid accuracy: 22.0\n",
      "Epoch: 8 Training Loss: 0.2503680497407913 Valid Loss:  0.2430826500058174 Valid accuracy:  0.325\n",
      "Training accuracy: 30.0 , Valid accuracy: 22.0\n",
      "Epoch: 9 Training Loss: 0.24563107788562774 Valid Loss:  0.2576952129602432 Valid accuracy:  0.575\n",
      "Training accuracy: 30.0 , Valid accuracy: 50.0\n",
      "Epoch: 10 Training Loss: 0.2440357357263565 Valid Loss:  0.29046423733234406 Valid accuracy:  0.575\n",
      "Training accuracy: 67.5 , Valid accuracy: 68.0\n",
      "Epoch: 11 Training Loss: 0.24402776062488557 Valid Loss:  0.26215989887714386 Valid accuracy:  0.6499999999999999\n",
      "Training accuracy: 79.0 , Valid accuracy: 68.0\n",
      "Epoch: 12 Training Loss: 0.2416660487651825 Valid Loss:  0.25985249876976013 Valid accuracy:  0.4375\n",
      "Training accuracy: 65.5 , Valid accuracy: 40.0\n",
      "Epoch: 13 Training Loss: 0.2399962306022644 Valid Loss:  0.2606164216995239 Valid accuracy:  0.4\n",
      "Training accuracy: 55.5 , Valid accuracy: 40.0\n",
      "Epoch: 14 Training Loss: 0.23930306732654572 Valid Loss:  0.25266143679618835 Valid accuracy:  0.4375\n",
      "Training accuracy: 55.5 , Valid accuracy: 40.0\n",
      "Epoch: 15 Training Loss: 0.23726434111595154 Valid Loss:  0.2575802654027939 Valid accuracy:  0.4\n",
      "Training accuracy: 55.5 , Valid accuracy: 40.0\n",
      "Epoch: 16 Training Loss: 0.2353774666786194 Valid Loss:  0.26547425985336304 Valid accuracy:  0.3625\n",
      "Training accuracy: 55.5 , Valid accuracy: 40.0\n",
      "Epoch: 17 Training Loss: 0.23331575095653534 Valid Loss:  0.2571846544742584 Valid accuracy:  0.4\n",
      "Training accuracy: 55.5 , Valid accuracy: 40.0\n",
      "Epoch: 18 Training Loss: 0.2326799064874649 Valid Loss:  0.2411719411611557 Valid accuracy:  0.475\n",
      "Training accuracy: 55.5 , Valid accuracy: 40.0\n",
      "Epoch: 19 Training Loss: 0.22784291207790375 Valid Loss:  0.26282359659671783 Valid accuracy:  0.325\n",
      "Training accuracy: 55.5 , Valid accuracy: 40.0\n",
      "Epoch: 20 Training Loss: 0.22454571425914766 Valid Loss:  0.24822691828012466 Valid accuracy:  0.4\n",
      "Training accuracy: 55.5 , Valid accuracy: 40.0\n",
      "Epoch: 21 Training Loss: 0.2213313549757004 Valid Loss:  0.24223045259714127 Valid accuracy:  0.4\n",
      "Training accuracy: 55.5 , Valid accuracy: 40.0\n",
      "Epoch: 22 Training Loss: 0.21773073375225066 Valid Loss:  0.24865231662988663 Valid accuracy:  0.3625\n",
      "Training accuracy: 55.5 , Valid accuracy: 40.0\n",
      "Epoch: 23 Training Loss: 0.21202891767024995 Valid Loss:  0.24009279906749725 Valid accuracy:  0.3625\n",
      "Training accuracy: 55.5 , Valid accuracy: 40.0\n",
      "Epoch: 24 Training Loss: 0.20636628866195678 Valid Loss:  0.2382054477930069 Valid accuracy:  0.3625\n",
      "Training accuracy: 55.5 , Valid accuracy: 40.0\n",
      "Epoch: 25 Training Loss: 0.2014610081911087 Valid Loss:  0.24655327200889587 Valid accuracy:  0.2875\n",
      "Training accuracy: 55.5 , Valid accuracy: 40.0\n",
      "Epoch: 26 Training Loss: 0.19652689695358277 Valid Loss:  0.20184694230556488 Valid accuracy:  0.7875000000000001\n",
      "Training accuracy: 58.5 , Valid accuracy: 72.0\n",
      "Epoch: 27 Training Loss: 0.1892704039812088 Valid Loss:  0.19198938459157944 Valid accuracy:  0.5125\n",
      "Training accuracy: 69.0 , Valid accuracy: 40.0\n",
      "Epoch: 28 Training Loss: 0.18164353370666503 Valid Loss:  0.19305288791656494 Valid accuracy:  0.475\n",
      "Training accuracy: 55.5 , Valid accuracy: 40.0\n",
      "Epoch: 29 Training Loss: 0.1745737075805664 Valid Loss:  0.20061995089054108 Valid accuracy:  0.7875000000000001\n",
      "Training accuracy: 62.0 , Valid accuracy: 72.0\n",
      "Epoch: 30 Training Loss: 0.16693407893180848 Valid Loss:  0.19006723165512085 Valid accuracy:  0.7124999999999999\n",
      "Training accuracy: 76.5 , Valid accuracy: 72.0\n",
      "Epoch: 31 Training Loss: 0.15950549840927125 Valid Loss:  0.17999357730150223 Valid accuracy:  0.6375\n",
      "Training accuracy: 76.5 , Valid accuracy: 72.0\n",
      "Epoch: 32 Training Loss: 0.15256254971027375 Valid Loss:  0.1587722972035408 Valid accuracy:  0.825\n",
      "Training accuracy: 76.5 , Valid accuracy: 72.0\n",
      "Epoch: 33 Training Loss: 0.14465675204992295 Valid Loss:  0.17278538644313812 Valid accuracy:  0.675\n",
      "Training accuracy: 76.5 , Valid accuracy: 72.0\n",
      "Epoch: 34 Training Loss: 0.136822971701622 Valid Loss:  0.1699267327785492 Valid accuracy:  0.675\n",
      "Training accuracy: 76.5 , Valid accuracy: 72.0\n",
      "Epoch: 35 Training Loss: 0.12841121703386307 Valid Loss:  0.13515400514006615 Valid accuracy:  1.0\n",
      "Training accuracy: 85.0 , Valid accuracy: 100.0\n",
      "Epoch: 36 Training Loss: 0.12026391476392746 Valid Loss:  0.15398458391427994 Valid accuracy:  1.0\n",
      "Training accuracy: 100.0 , Valid accuracy: 100.0\n",
      "Epoch: 37 Training Loss: 0.1122581496834755 Valid Loss:  0.12905851006507874 Valid accuracy:  1.0\n",
      "Training accuracy: 100.0 , Valid accuracy: 100.0\n",
      "Epoch: 38 Training Loss: 0.10348050743341446 Valid Loss:  0.11566295102238655 Valid accuracy:  1.0\n",
      "Training accuracy: 100.0 , Valid accuracy: 100.0\n",
      "Epoch: 39 Training Loss: 0.09542349427938461 Valid Loss:  0.12152097001671791 Valid accuracy:  1.0\n",
      "Training accuracy: 100.0 , Valid accuracy: 100.0\n",
      "Epoch: 40 Training Loss: 0.08660800606012345 Valid Loss:  0.0906510166823864 Valid accuracy:  1.0\n",
      "Training accuracy: 100.0 , Valid accuracy: 100.0\n",
      "Epoch: 41 Training Loss: 0.07811465859413147 Valid Loss:  0.08206842839717865 Valid accuracy:  1.0\n",
      "Training accuracy: 100.0 , Valid accuracy: 100.0\n",
      "Epoch: 42 Training Loss: 0.06971421092748642 Valid Loss:  0.08216995000839233 Valid accuracy:  1.0\n",
      "Training accuracy: 100.0 , Valid accuracy: 100.0\n",
      "Epoch: 43 Training Loss: 0.06109859049320221 Valid Loss:  0.06894434243440628 Valid accuracy:  1.0\n",
      "Training accuracy: 100.0 , Valid accuracy: 100.0\n",
      "Epoch: 44 Training Loss: 0.05310245230793953 Valid Loss:  0.06362337246537209 Valid accuracy:  1.0\n",
      "Training accuracy: 100.0 , Valid accuracy: 100.0\n",
      "Epoch: 45 Training Loss: 0.04521197527647018 Valid Loss:  0.05024690553545952 Valid accuracy:  1.0\n",
      "Training accuracy: 100.0 , Valid accuracy: 100.0\n",
      "Epoch: 46 Training Loss: 0.037193306535482404 Valid Loss:  0.038244154304265976 Valid accuracy:  1.0\n",
      "Training accuracy: 100.0 , Valid accuracy: 100.0\n",
      "Epoch: 47 Training Loss: 0.030408248677849768 Valid Loss:  0.0349603146314621 Valid accuracy:  1.0\n",
      "Training accuracy: 100.0 , Valid accuracy: 100.0\n",
      "Epoch: 48 Training Loss: 0.024088814109563827 Valid Loss:  0.024201630614697933 Valid accuracy:  1.0\n",
      "Training accuracy: 100.0 , Valid accuracy: 100.0\n",
      "Epoch: 49 Training Loss: 0.01853550486266613 Valid Loss:  0.01957028266042471 Valid accuracy:  1.0\n",
      "Training accuracy: 100.0 , Valid accuracy: 100.0\n",
      "Epoch: 50 Training Loss: 0.01384631209075451 Valid Loss:  0.013999797403812408 Valid accuracy:  1.0\n",
      "Training accuracy: 100.0 , Valid accuracy: 100.0\n",
      "Epoch: 51 Training Loss: 0.010230533592402936 Valid Loss:  0.011531073600053787 Valid accuracy:  1.0\n",
      "Training accuracy: 100.0 , Valid accuracy: 100.0\n",
      "Epoch: 52 Training Loss: 0.007345577143132687 Valid Loss:  0.007296771509572864 Valid accuracy:  1.0\n",
      "Training accuracy: 100.0 , Valid accuracy: 100.0\n",
      "Epoch: 53 Training Loss: 0.004910227656364441 Valid Loss:  0.00410891545470804 Valid accuracy:  1.0\n",
      "Training accuracy: 100.0 , Valid accuracy: 100.0\n",
      "Epoch: 54 Training Loss: 0.00318341632373631 Valid Loss:  0.0025449818931519985 Valid accuracy:  1.0\n",
      "Training accuracy: 100.0 , Valid accuracy: 100.0\n",
      "Epoch: 55 Training Loss: 0.0020845205523073672 Valid Loss:  0.0016896732267923653 Valid accuracy:  1.0\n",
      "Training accuracy: 100.0 , Valid accuracy: 100.0\n",
      "Epoch: 56 Training Loss: 0.0012657278217375278 Valid Loss:  0.0011794351739808917 Valid accuracy:  1.0\n",
      "Training accuracy: 100.0 , Valid accuracy: 100.0\n",
      "Epoch: 57 Training Loss: 0.0007333861896768213 Valid Loss:  0.0006039541040081531 Valid accuracy:  1.0\n",
      "Training accuracy: 100.0 , Valid accuracy: 100.0\n",
      "Epoch: 58 Training Loss: 0.00041927705169655385 Valid Loss:  0.00032146082958206534 Valid accuracy:  1.0\n",
      "Training accuracy: 100.0 , Valid accuracy: 100.0\n",
      "Epoch: 59 Training Loss: 0.00023028802534099668 Valid Loss:  0.00019289281772216782 Valid accuracy:  1.0\n",
      "Training accuracy: 100.0 , Valid accuracy: 100.0\n",
      "Epoch: 60 Training Loss: 0.00011694395943777636 Valid Loss:  8.451273606624454e-05 Valid accuracy:  1.0\n",
      "Training accuracy: 100.0 , Valid accuracy: 100.0\n",
      "Epoch: 61 Training Loss: 5.469787574838847e-05 Valid Loss:  3.437635587033583e-05 Valid accuracy:  1.0\n",
      "Training accuracy: 100.0 , Valid accuracy: 100.0\n",
      "Epoch: 62 Training Loss: 2.3167449762695468e-05 Valid Loss:  1.4040243058843771e-05 Valid accuracy:  1.0\n",
      "Training accuracy: 100.0 , Valid accuracy: 100.0\n",
      "Epoch: 63 Training Loss: 8.608110329078045e-06 Valid Loss:  4.664084372052457e-06 Valid accuracy:  1.0\n",
      "Training accuracy: 100.0 , Valid accuracy: 100.0\n",
      "Epoch: 64 Training Loss: 2.5892788926284993e-06 Valid Loss:  1.2414920433911902e-06 Valid accuracy:  1.0\n",
      "Training accuracy: 100.0 , Valid accuracy: 100.0\n",
      "Epoch: 65 Training Loss: 5.006479511848738e-07 Valid Loss:  1.5323677615697306e-07 Valid accuracy:  1.0\n",
      "Training accuracy: 100.0 , Valid accuracy: 100.0\n",
      "Epoch: 66 Training Loss: 4.721265831619803e-08 Valid Loss:  3.7598654856196845e-08 Valid accuracy:  1.0\n",
      "Training accuracy: 100.0 , Valid accuracy: 100.0\n",
      "Epoch: 67 Training Loss: 8.849910102526337e-08 Valid Loss:  2.0574161396780255e-07 Valid accuracy:  1.0\n",
      "Training accuracy: 100.0 , Valid accuracy: 100.0\n",
      "Epoch: 68 Training Loss: 2.1537219936362816e-07 Valid Loss:  3.4335624832237954e-07 Valid accuracy:  1.0\n",
      "Training accuracy: 100.0 , Valid accuracy: 100.0\n",
      "Epoch: 69 Training Loss: 2.952554837065691e-07 Valid Loss:  3.9520884342891804e-07 Valid accuracy:  1.0\n",
      "Training accuracy: 100.0 , Valid accuracy: 100.0\n",
      "Epoch: 70 Training Loss: 3.0123019882921654e-07 Valid Loss:  3.2909753144849674e-07 Valid accuracy:  1.0\n",
      "Training accuracy: 100.0 , Valid accuracy: 100.0\n",
      "Epoch: 71 Training Loss: 2.5794212206164956e-07 Valid Loss:  2.4086941152745567e-07 Valid accuracy:  1.0\n",
      "Training accuracy: 100.0 , Valid accuracy: 100.0\n",
      "Epoch: 72 Training Loss: 1.9701095368418465e-07 Valid Loss:  2.230245428336275e-07 Valid accuracy:  1.0\n",
      "Training accuracy: 100.0 , Valid accuracy: 100.0\n",
      "Epoch: 73 Training Loss: 1.3767202915460076e-07 Valid Loss:  1.3688468669670328e-07 Valid accuracy:  1.0\n",
      "Training accuracy: 100.0 , Valid accuracy: 100.0\n",
      "Epoch: 74 Training Loss: 8.793688976993508e-08 Valid Loss:  7.098987708786808e-08 Valid accuracy:  1.0\n",
      "Training accuracy: 100.0 , Valid accuracy: 100.0\n",
      "Epoch: 75 Training Loss: 5.3347884687582335e-08 Valid Loss:  3.935320336267978e-08 Valid accuracy:  1.0\n",
      "Training accuracy: 100.0 , Valid accuracy: 100.0\n",
      "Epoch: 76 Training Loss: 2.890815054001905e-08 Valid Loss:  2.225670758804199e-08 Valid accuracy:  1.0\n",
      "Training accuracy: 100.0 , Valid accuracy: 100.0\n",
      "Epoch: 77 Training Loss: 1.4493307354257468e-08 Valid Loss:  9.808825307544566e-09 Valid accuracy:  1.0\n",
      "Training accuracy: 100.0 , Valid accuracy: 100.0\n",
      "Epoch: 78 Training Loss: 6.8383365636748294e-09 Valid Loss:  4.173572598631381e-09 Valid accuracy:  1.0\n",
      "Training accuracy: 100.0 , Valid accuracy: 100.0\n",
      "Epoch: 79 Training Loss: 2.7773421784615946e-09 Valid Loss:  1.6400875102462464e-09 Valid accuracy:  1.0\n",
      "Training accuracy: 100.0 , Valid accuracy: 100.0\n",
      "Epoch: 80 Training Loss: 8.644554849723818e-10 Valid Loss:  6.718417766560236e-10 Valid accuracy:  1.0\n",
      "Training accuracy: 100.0 , Valid accuracy: 100.0\n",
      "Epoch: 81 Training Loss: 2.503879936721631e-10 Valid Loss:  4.727645011581849e-11 Valid accuracy:  1.0\n",
      "Training accuracy: 100.0 , Valid accuracy: 100.0\n",
      "Epoch: 82 Training Loss: 5.458316403028629e-11 Valid Loss:  1.5207080386603344e-11 Valid accuracy:  1.0\n",
      "Training accuracy: 100.0 , Valid accuracy: 100.0\n",
      "Epoch: 83 Training Loss: 3.283172744089624e-11 Valid Loss:  7.404681381939504e-11 Valid accuracy:  1.0\n",
      "Training accuracy: 100.0 , Valid accuracy: 100.0\n",
      "Epoch: 84 Training Loss: 6.96642896147459e-11 Valid Loss:  9.237113157700705e-11 Valid accuracy:  1.0\n",
      "Training accuracy: 100.0 , Valid accuracy: 100.0\n",
      "Epoch: 85 Training Loss: 8.87881934641399e-11 Valid Loss:  8.368954487747438e-11 Valid accuracy:  1.0\n",
      "Training accuracy: 100.0 , Valid accuracy: 100.0\n",
      "Epoch: 86 Training Loss: 8.280208602107208e-11 Valid Loss:  9.571494638538347e-11 Valid accuracy:  1.0\n",
      "Training accuracy: 100.0 , Valid accuracy: 100.0\n",
      "Epoch: 87 Training Loss: 6.844828592811325e-11 Valid Loss:  7.212079891627532e-11 Valid accuracy:  1.0\n",
      "Training accuracy: 100.0 , Valid accuracy: 100.0\n",
      "Epoch: 88 Training Loss: 4.980590107006577e-11 Valid Loss:  4.554063723349877e-11 Valid accuracy:  1.0\n",
      "Training accuracy: 100.0 , Valid accuracy: 100.0\n",
      "Epoch: 89 Training Loss: 3.23061220136589e-11 Valid Loss:  2.315623214010909e-11 Valid accuracy:  1.0\n",
      "Training accuracy: 100.0 , Valid accuracy: 100.0\n",
      "Epoch: 90 Training Loss: 1.9022614733410494e-11 Valid Loss:  1.5789859003634277e-11 Valid accuracy:  1.0\n",
      "Training accuracy: 100.0 , Valid accuracy: 100.0\n",
      "Epoch: 91 Training Loss: 1.0266205593967292e-11 Valid Loss:  7.0750072467262726e-12 Valid accuracy:  1.0\n",
      "Training accuracy: 100.0 , Valid accuracy: 100.0\n",
      "Epoch: 92 Training Loss: 4.645599486693963e-12 Valid Loss:  3.5303759698609993e-12 Valid accuracy:  1.0\n",
      "Training accuracy: 100.0 , Valid accuracy: 100.0\n",
      "Epoch: 93 Training Loss: 1.9388934902053734e-12 Valid Loss:  9.899636720187704e-13 Valid accuracy:  1.0\n",
      "Training accuracy: 100.0 , Valid accuracy: 100.0\n",
      "Epoch: 94 Training Loss: 5.44027041297912e-13 Valid Loss:  2.578381979494518e-13 Valid accuracy:  1.0\n",
      "Training accuracy: 100.0 , Valid accuracy: 100.0\n",
      "Epoch: 95 Training Loss: 1.475619641397568e-13 Valid Loss:  2.5712765080912036e-14 Valid accuracy:  1.0\n",
      "Training accuracy: 100.0 , Valid accuracy: 100.0\n",
      "Epoch: 96 Training Loss: 5.5955239763481534e-14 Valid Loss:  5.795364188543317e-14 Valid accuracy:  1.0\n",
      "Training accuracy: 100.0 , Valid accuracy: 100.0\n",
      "Epoch: 97 Training Loss: 3.524291928712516e-14 Valid Loss:  4.7251090911607126e-14 Valid accuracy:  1.0\n",
      "Training accuracy: 100.0 , Valid accuracy: 100.0\n",
      "Epoch: 98 Training Loss: 5.515587986337778e-14 Valid Loss:  5.782041546129133e-14 Valid accuracy:  1.0\n",
      "Training accuracy: 100.0 , Valid accuracy: 100.0\n",
      "Epoch: 99 Training Loss: 4.4018122344812934e-14 Valid Loss:  6.359357349527625e-14 Valid accuracy:  1.0\n",
      "Training accuracy: 100.0 , Valid accuracy: 100.0\n",
      "Epoch: 100 Training Loss: 4.810374307543351e-14 Valid Loss:  6.306066779870889e-14 Valid accuracy:  1.0\n",
      "Training accuracy: 100.0 , Valid accuracy: 100.0\n"
     ]
    }
   ],
   "metadata": {}
  },
  {
   "cell_type": "code",
   "execution_count": 46,
   "source": [
    "type(loggers['train'].losses)\n",
    "type(loggers['train'].losses[0])"
   ],
   "outputs": [
    {
     "output_type": "execute_result",
     "data": {
      "text/plain": [
       "numpy.float64"
      ]
     },
     "metadata": {},
     "execution_count": 46
    }
   ],
   "metadata": {}
  },
  {
   "cell_type": "code",
   "execution_count": 51,
   "source": [
    "fig, axs= plt.subplots(1, 1, figsize=(9, 6))  \n",
    "axs.plot(loggers['train'].losses, label='Train loss')\n",
    "axs.plot(loggers['valid'].losses, label='Valid loss')\n",
    "axs.set_title('XOR Dataset learning')\n",
    "axs.set_xlabel('epochs')\n",
    "axs.set_ylabel('loss')\n",
    "plt.legend()\n",
    "plt.show()"
   ],
   "outputs": [
    {
     "output_type": "display_data",
     "data": {
      "image/png": "[encoded data removed]",
      "text/plain": [
       "<Figure size 648x432 with 1 Axes>"
      ]
     },
     "metadata": {
      "needs_background": "light"
     }
    }
   ],
   "metadata": {}
  },
  {
   "cell_type": "code",
   "execution_count": 54,
   "source": [
    "fig, axs= plt.subplots(1, 1, figsize=(9, 6))  \n",
    "axs.plot(loggers['train'].accuracies, label='Train loss')\n",
    "axs.plot(loggers['valid'].accuracies, label='Valid loss')\n",
    "axs.set_title('XOR Dataset learning')\n",
    "axs.set_xlabel('epochs')\n",
    "axs.set_ylabel('loss')\n",
    "plt.legend()\n",
    "plt.show()"
   ],
   "outputs": [
    {
     "output_type": "display_data",
     "data": {
      "image/png": "[encoded data removed]",
      "text/plain": [
       "<Figure size 648x432 with 1 Axes>"
      ]
     },
     "metadata": {
      "needs_background": "light"
     }
    }
   ],
   "metadata": {}
  },
  {
   "cell_type": "code",
   "execution_count": null,
   "source": [],
   "outputs": [],
   "metadata": {}
  }
 ],
 "metadata": {
  "orig_nbformat": 4,
  "language_info": {
   "name": "python",
   "version": "3.9.6",
   "mimetype": "text/x-python",
   "codemirror_mode": {
    "name": "ipython",
    "version": 3
   },
   "pygments_lexer": "ipython3",
   "nbconvert_exporter": "python",
   "file_extension": ".py"
  },
  "kernelspec": {
   "name": "python3",
   "display_name": "Python 3.9.6 64-bit ('base': conda)"
  },
  "interpreter": {
   "hash": "98b0a9b7b4eaaa670588a142fd0a9b87eaafe866f1db4228be72b4211d12040f"
  }
 },
 "nbformat": 4,
 "nbformat_minor": 2
}