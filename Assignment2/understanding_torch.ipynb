{
 "cells": [
  {
   "cell_type": "code",
   "execution_count": 2,
   "metadata": {},
   "outputs": [
    {
     "name": "stdout",
     "output_type": "stream",
     "text": [
      "The grad fn for a is None\n",
      "The grad fn for d is <AddBackward0 object at 0x7f0b2d7068e0>\n"
     ]
    }
   ],
   "source": [
    "# torch, autograd and backpropagation\n",
    "# https://blog.paperspace.com/pytorch-101-understanding-graphs-and-automatic-differentiation/\n",
    "\n",
    "\n",
    "import torch \n",
    "\n",
    "a = torch.randn((3,3), requires_grad = True)\n",
    "\n",
    "w1 = torch.randn((3,3), requires_grad = True)\n",
    "w2 = torch.randn((3,3), requires_grad = True)\n",
    "w3 = torch.randn((3,3), requires_grad = True)\n",
    "w4 = torch.randn((3,3), requires_grad = True)\n",
    "\n",
    "b = w1*a \n",
    "c = w2*a\n",
    "\n",
    "d = w3*b + w4*c \n",
    "\n",
    "L = 10 - d\n",
    "\n",
    "print(\"The grad fn for a is\", a.grad_fn)\n",
    "print(\"The grad fn for d is\", d.grad_fn)"
   ]
  },
  {
   "cell_type": "code",
   "execution_count": 3,
   "metadata": {},
   "outputs": [
    {
     "data": {
      "text/plain": [
       "False"
      ]
     },
     "execution_count": 3,
     "metadata": {},
     "output_type": "execute_result"
    }
   ],
   "source": [
    "b.is_leaf"
   ]
  },
  {
   "cell_type": "code",
   "execution_count": 4,
   "metadata": {},
   "outputs": [
    {
     "data": {
      "text/plain": [
       "True"
      ]
     },
     "execution_count": 4,
     "metadata": {},
     "output_type": "execute_result"
    }
   ],
   "source": [
    "w1.is_leaf"
   ]
  },
  {
   "cell_type": "code",
   "execution_count": 5,
   "metadata": {},
   "outputs": [
    {
     "data": {
      "text/plain": [
       "<MulBackward0 at 0x7f0b2d7069d0>"
      ]
     },
     "execution_count": 5,
     "metadata": {},
     "output_type": "execute_result"
    }
   ],
   "source": [
    "b.grad_fn"
   ]
  },
  {
   "cell_type": "code",
   "execution_count": 6,
   "metadata": {},
   "outputs": [
    {
     "name": "stdout",
     "output_type": "stream",
     "text": [
      "tensor([0.4000, 0.4000, 0.4000, 0.4000, 0.4000]) tensor([0.2000, 0.2000, 0.2000, 0.2000, 0.2000])\n"
     ]
    }
   ],
   "source": [
    "import torch \n",
    "a = torch.ones(5)\n",
    "a.requires_grad = True\n",
    "\n",
    "b = 2*a\n",
    "\n",
    "b.retain_grad()   # Since b is non-leaf and it's grad will be destroyed otherwise.\n",
    "\n",
    "c = b.mean()\n",
    "\n",
    "c.backward()\n",
    "\n",
    "print(a.grad, b.grad)"
   ]
  },
  {
   "cell_type": "code",
   "execution_count": 7,
   "metadata": {},
   "outputs": [
    {
     "name": "stdout",
     "output_type": "stream",
     "text": [
      "Hello Im a tensor backward hook reporting on x: tensor([0.2000, 0.2000, 0.2000, 0.2000, 0.2000])\n",
      "tensor([0.4000, 0.4000, 0.4000, 0.4000, 0.4000]) tensor([0.2000, 0.2000, 0.2000, 0.2000, 0.2000])\n"
     ]
    }
   ],
   "source": [
    "# Redo the experiment but with a hook that multiplies b's grad by 2. \n",
    "a = torch.ones(5)\n",
    "\n",
    "a.requires_grad = True\n",
    "\n",
    "b = 2*a\n",
    "\n",
    "b.retain_grad()\n",
    "\n",
    "b.register_hook(lambda x: print('Hello Im a tensor backward hook reporting on x:', x))  \n",
    "\n",
    "b.mean().backward() \n",
    "\n",
    "\n",
    "print(a.grad, b.grad)"
   ]
  },
  {
   "cell_type": "code",
   "execution_count": 8,
   "metadata": {},
   "outputs": [
    {
     "name": "stdout",
     "output_type": "stream",
     "text": [
      "Gradients less than zero: False\n",
      "The biases are tensor([0., 0., 0., 0., 0.])\n"
     ]
    }
   ],
   "source": [
    "# Playing with hooks (https://blog.paperspace.com/pytorch-hooks-gradient-clipping-debugging/)\n",
    "\n",
    "import torch \n",
    "import torch.nn as nn\n",
    "\n",
    "class myNet(nn.Module):\n",
    "  def __init__(self):\n",
    "    super().__init__()\n",
    "    self.conv = nn.Conv2d(3,10,2, stride = 2)\n",
    "    self.relu = nn.ReLU()\n",
    "    self.flatten = lambda x: x.view(-1)\n",
    "    self.fc1 = nn.Linear(160,5)\n",
    "   \n",
    "  \n",
    "  def forward(self, x):\n",
    "    x = self.relu(self.conv(x))\n",
    "    x.register_hook(lambda grad : torch.clamp(grad, min = 0))     #No gradient shall be backpropagated \n",
    "                                                                  #conv outside less than 0\n",
    "      \n",
    "    # print whether there is any negative grad\n",
    "    x.register_hook(lambda grad: print(\"Gradients less than zero:\", bool((grad < 0).any())))  \n",
    "    return self.fc1(self.flatten(x))\n",
    "  \n",
    "\n",
    "net = myNet()\n",
    "\n",
    "for name, param in net.named_parameters():\n",
    "  # if the param is from a linear and is a bias\n",
    "  if \"fc\" in name and \"bias\" in name:\n",
    "    param.register_hook(lambda grad: torch.zeros(grad.shape))\n",
    "\n",
    "\n",
    "out = net(torch.randn(1,3,8,8)) \n",
    "\n",
    "(1 - out).mean().backward()\n",
    "\n",
    "print(\"The biases are\", net.fc1.bias.grad)     #bias grads are zero"
   ]
  },
  {
   "cell_type": "code",
   "execution_count": 9,
   "metadata": {},
   "outputs": [
    {
     "name": "stdout",
     "output_type": "stream",
     "text": [
      "net._modules.items().__class__.__name__: odict_items([('conv', Conv2d(3, 10, kernel_size=(2, 2), stride=(2, 2))), ('relu', ReLU()), ('fc1', Linear(in_features=160, out_features=5, bias=True))])\n",
      "net._modules.items().__class__.__name__: odict_items([('conv', Conv2d(3, 10, kernel_size=(2, 2), stride=(2, 2))), ('relu', ReLU()), ('fc1', Linear(in_features=160, out_features=5, bias=True))])\n",
      "net._modules.items().__class__.__name__: odict_items([('conv', Conv2d(3, 10, kernel_size=(2, 2), stride=(2, 2))), ('relu', ReLU()), ('fc1', Linear(in_features=160, out_features=5, bias=True))])\n"
     ]
    }
   ],
   "source": [
    "# The Forward Hook for Visualising Activations \n",
    "\n",
    "visualisation = {}\n",
    "\n",
    "inp = torch.randn(1,3,8,8)\n",
    "\n",
    "def hook_fn(m, i, o):\n",
    "  visualisation[m] = o \n",
    "  \n",
    "net = myNet()\n",
    "\n",
    "for name, layer in net._modules.items():\n",
    "  print('net._modules.items().__class__.__name__:', net._modules.items())\n",
    "  layer.register_forward_hook(hook_fn)\n",
    "  \n",
    "out = net(inp) "
   ]
  },
  {
   "cell_type": "code",
   "execution_count": 10,
   "metadata": {},
   "outputs": [],
   "source": [
    "inp = torch.randn(1,3,8,8)"
   ]
  },
  {
   "cell_type": "code",
   "execution_count": 11,
   "metadata": {},
   "outputs": [
    {
     "data": {
      "text/plain": [
       "int"
      ]
     },
     "execution_count": 11,
     "metadata": {},
     "output_type": "execute_result"
    }
   ],
   "source": [
    "type(inp.size()[2])"
   ]
  },
  {
   "cell_type": "code",
   "execution_count": 12,
   "metadata": {},
   "outputs": [],
   "source": [
    "w=torch.randn(2,2)"
   ]
  },
  {
   "cell_type": "code",
   "execution_count": 13,
   "metadata": {},
   "outputs": [
    {
     "data": {
      "text/plain": [
       "tensor([[ 0.3264, -0.1605],\n",
       "        [ 0.6966,  0.4734]])"
      ]
     },
     "execution_count": 13,
     "metadata": {},
     "output_type": "execute_result"
    }
   ],
   "source": [
    "w"
   ]
  },
  {
   "cell_type": "code",
   "execution_count": 14,
   "metadata": {},
   "outputs": [],
   "source": [
    "te=torch.randn(2,2)"
   ]
  },
  {
   "cell_type": "code",
   "execution_count": 15,
   "metadata": {},
   "outputs": [],
   "source": [
    "x = (torch.rand(2, 2) * 10).int()"
   ]
  },
  {
   "cell_type": "code",
   "execution_count": 16,
   "metadata": {},
   "outputs": [
    {
     "data": {
      "text/plain": [
       "tensor([[3, 6],\n",
       "        [7, 1]], dtype=torch.int32)"
      ]
     },
     "execution_count": 16,
     "metadata": {},
     "output_type": "execute_result"
    }
   ],
   "source": [
    "x"
   ]
  },
  {
   "cell_type": "code",
   "execution_count": 17,
   "metadata": {},
   "outputs": [],
   "source": [
    "te = (torch.rand(2, 2) * 10).int()"
   ]
  },
  {
   "cell_type": "code",
   "execution_count": 18,
   "metadata": {},
   "outputs": [
    {
     "data": {
      "text/plain": [
       "tensor([[9, 5],\n",
       "        [0, 4]], dtype=torch.int32)"
      ]
     },
     "execution_count": 18,
     "metadata": {},
     "output_type": "execute_result"
    }
   ],
   "source": [
    "te"
   ]
  },
  {
   "cell_type": "code",
   "execution_count": 19,
   "metadata": {},
   "outputs": [
    {
     "data": {
      "text/plain": [
       "tensor([[27, 30],\n",
       "        [ 0,  4]], dtype=torch.int32)"
      ]
     },
     "execution_count": 19,
     "metadata": {},
     "output_type": "execute_result"
    }
   ],
   "source": [
    "te * x"
   ]
  },
  {
   "cell_type": "code",
   "execution_count": 20,
   "metadata": {},
   "outputs": [
    {
     "data": {
      "text/plain": [
       "tensor([[-8, -4],\n",
       "        [ 1, -3]], dtype=torch.int32)"
      ]
     },
     "execution_count": 20,
     "metadata": {},
     "output_type": "execute_result"
    }
   ],
   "source": [
    "(1 -te)"
   ]
  },
  {
   "cell_type": "code",
   "execution_count": 21,
   "metadata": {},
   "outputs": [
    {
     "data": {
      "text/plain": [
       "tensor([[-24, -24],\n",
       "        [  7,  -3]], dtype=torch.int32)"
      ]
     },
     "execution_count": 21,
     "metadata": {},
     "output_type": "execute_result"
    }
   ],
   "source": [
    "(1-te)*x"
   ]
  },
  {
   "cell_type": "code",
   "execution_count": null,
   "metadata": {},
   "outputs": [],
   "source": [
    "nn = {\n",
    "    '0-0-0-0': [1,2,3,4,5,6,7,8,9,0],\n",
    "    '0-1-0-1': [0,.9789,8,7,6,5,4,3,2,1]\n",
    "}\n",
    "\n",
    "import pandas as pd\n",
    "\n",
    "df = pd.DataFrame(nn)\n",
    "\n",
    "df.head()\n",
    "\n",
    "df.to_csv(\"bblob.csv\", sep=',', index=False)"
   ]
  },
  {
   "cell_type": "code",
   "execution_count": 3,
   "metadata": {},
   "outputs": [
    {
     "data": {
      "text/plain": [
       "7"
      ]
     },
     "execution_count": 3,
     "metadata": {},
     "output_type": "execute_result"
    }
   ],
   "source": [
    "mylist = [1,2,5,6,7,8,9]\n",
    "\n",
    "next((i+1 for i, x in enumerate(mylist) if x >= 18), len(mylist))"
   ]
  },
  {
   "cell_type": "code",
   "execution_count": 13,
   "metadata": {},
   "outputs": [
    {
     "name": "stdout",
     "output_type": "stream",
     "text": [
      "<class 'dict'>\n",
      "File exists\n"
     ]
    }
   ],
   "source": [
    "\n",
    "import pandas as pd\n",
    "import os\n",
    "\n",
    "import pathlib\n",
    "\n",
    "\n",
    "info = {\n",
    "            'target_epoch_accuracy': [100],\n",
    "            'epoch': [300], \n",
    "            'epoch_loss': [2.3478567],\n",
    "            'epoch_accuracy': [80],\n",
    "        }\n",
    "print(type(info))\n",
    "\n",
    "filename= 'XORNET-ADAM-0.03-blablab.csv'\n",
    "\n",
    "file = pathlib.Path(filename)\n",
    "if file.exists ():\n",
    "\n",
    "    df = pd.read_csv(filename)\n",
    "    df2 = pd.DataFrame(info)\n",
    "    result = pd.concat([df, df2])\n",
    "    result.to_csv(filename, sep=',', index=None)\n",
    "else:\n",
    "\n",
    "    df = pd.DataFrame(info)\n",
    "    df.to_csv(filename, sep=',', index=None)\n"
   ]
  },
  {
   "cell_type": "code",
   "execution_count": 2,
   "metadata": {},
   "outputs": [
    {
     "data": {
      "text/plain": [
       "[1, 2]"
      ]
     },
     "execution_count": 2,
     "metadata": {},
     "output_type": "execute_result"
    }
   ],
   "source": [
    "[i for i in range(1, 3)]"
   ]
  },
  {
   "cell_type": "code",
   "execution_count": 3,
   "metadata": {},
   "outputs": [
    {
     "name": "stdout",
     "output_type": "stream",
     "text": [
      "Source layer 0, target layer 1\n",
      "Source layer 0, target layer 2\n",
      "Source layer 1, target layer 2\n"
     ]
    }
   ],
   "source": [
    "num_layers=3\n",
    "for source_layer in range(0, num_layers-1):\n",
    "    for target_layer in range(source_layer+1, num_layers):\n",
    "        print(f'Source layer {source_layer}, target layer {target_layer}')"
   ]
  },
  {
   "cell_type": "code",
   "execution_count": 5,
   "metadata": {},
   "outputs": [
    {
     "name": "stdout",
     "output_type": "stream",
     "text": [
      "Empty DataFrame\n",
      "Columns: [kh, kt, lh, lt]\n",
      "Index: []\n",
      "  kh kt lh lt\n",
      "0  3  5  6  7\n"
     ]
    }
   ],
   "source": [
    "import pandas as pd\n",
    "tek_embedding_parameters=pd.DataFrame(columns=['kh', 'kt', 'lh', 'lt'])\n",
    "print(tek_embedding_parameters.head())\n",
    "tek_embedding={'kh': 3, 'kt': 5, 'lh': 6, 'lt': 7}\n",
    "tek_embedding_parameters = tek_embedding_parameters.append(tek_embedding, ignore_index=True)\n",
    "print(tek_embedding_parameters.head())"
   ]
  },
  {
   "cell_type": "code",
   "execution_count": 6,
   "metadata": {},
   "outputs": [],
   "source": [
    "tek_embedding_parameters = tek_embedding_parameters.append(tek_embedding, ignore_index=True)"
   ]
  },
  {
   "cell_type": "code",
   "execution_count": 7,
   "metadata": {},
   "outputs": [
    {
     "data": {
      "text/html": [
       "<div>\n",
       "<style scoped>\n",
       "    .dataframe tbody tr th:only-of-type {\n",
       "        vertical-align: middle;\n",
       "    }\n",
       "\n",
       "    .dataframe tbody tr th {\n",
       "        vertical-align: top;\n",
       "    }\n",
       "\n",
       "    .dataframe thead th {\n",
       "        text-align: right;\n",
       "    }\n",
       "</style>\n",
       "<table border=\"1\" class=\"dataframe\">\n",
       "  <thead>\n",
       "    <tr style=\"text-align: right;\">\n",
       "      <th></th>\n",
       "      <th>kh</th>\n",
       "      <th>kt</th>\n",
       "      <th>lh</th>\n",
       "      <th>lt</th>\n",
       "    </tr>\n",
       "  </thead>\n",
       "  <tbody>\n",
       "    <tr>\n",
       "      <th>0</th>\n",
       "      <td>3</td>\n",
       "      <td>5</td>\n",
       "      <td>6</td>\n",
       "      <td>7</td>\n",
       "    </tr>\n",
       "    <tr>\n",
       "      <th>1</th>\n",
       "      <td>3</td>\n",
       "      <td>5</td>\n",
       "      <td>6</td>\n",
       "      <td>7</td>\n",
       "    </tr>\n",
       "  </tbody>\n",
       "</table>\n",
       "</div>"
      ],
      "text/plain": [
       "  kh kt lh lt\n",
       "0  3  5  6  7\n",
       "1  3  5  6  7"
      ]
     },
     "execution_count": 7,
     "metadata": {},
     "output_type": "execute_result"
    }
   ],
   "source": [
    "tek_embedding_parameters.head()"
   ]
  },
  {
   "cell_type": "code",
   "execution_count": null,
   "metadata": {},
   "outputs": [],
   "source": []
  }
 ],
 "metadata": {
  "interpreter": {
   "hash": "d4d1e4263499bec80672ea0156c357c1ee493ec2b1c70f0acce89fc37c4a6abe"
  },
  "kernelspec": {
   "display_name": "Python 3.9.7 64-bit ('base': conda)",
   "name": "python3"
  },
  "language_info": {
   "codemirror_mode": {
    "name": "ipython",
    "version": 3
   },
   "file_extension": ".py",
   "mimetype": "text/x-python",
   "name": "python",
   "nbconvert_exporter": "python",
   "pygments_lexer": "ipython3",
   "version": "3.9.7"
  },
  "orig_nbformat": 4
 },
 "nbformat": 4,
 "nbformat_minor": 2
}
