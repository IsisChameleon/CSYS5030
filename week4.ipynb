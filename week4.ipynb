{
 "metadata": {
  "language_info": {
   "codemirror_mode": {
    "name": "ipython",
    "version": 3
   },
   "file_extension": ".py",
   "mimetype": "text/x-python",
   "name": "python",
   "nbconvert_exporter": "python",
   "pygments_lexer": "ipython3",
   "version": "3.9.2"
  },
  "orig_nbformat": 4,
  "kernelspec": {
   "name": "python3",
   "display_name": "Python 3.9.2 64-bit ('base': conda)"
  },
  "interpreter": {
   "hash": "98b0a9b7b4eaaa670588a142fd0a9b87eaafe866f1db4228be72b4211d12040f"
  }
 },
 "nbformat": 4,
 "nbformat_minor": 2,
 "cells": [
  {
   "source": [
    "# WEEK4 Conditional Mutual Information\n",
    "## 1. Scissors rock paper analysis"
   ],
   "cell_type": "markdown",
   "metadata": {}
  },
  {
   "cell_type": "code",
   "execution_count": 2,
   "metadata": {},
   "outputs": [],
   "source": [
    "#------------------------------------------------------------\n",
    "# WHEN RUNNING LOCALLY UPDATE THIS CELL TO SET UP DATASET LOCATION\n",
    "#------------------------------------------------------------\n",
    "BASEURITXT='/home/jovyan/notebooks/CSYS5030/data/SPR'"
   ]
  },
  {
   "cell_type": "code",
   "execution_count": 3,
   "metadata": {},
   "outputs": [],
   "source": [
    "from spr import loadGames, listPlayers, getPlayerAllMovesAndScores, getPlayerEntropyAndRatios\n",
    "games = loadGames(BASEURITXT)\n"
   ]
  },
  {
   "cell_type": "code",
   "execution_count": 4,
   "metadata": {},
   "outputs": [
    {
     "output_type": "stream",
     "name": "stdout",
     "text": [
      "['m-sizzle', 'kc', 'clover', 'isabelle', 'stuart', 'sebastian', 'yizhi']\nm-sizzle\n"
     ]
    }
   ],
   "source": [
    "players = listPlayers(games)\n",
    "print(players)\n",
    "print(players[0])\n",
    "\n",
    "moves, scores = getPlayerAllMovesAndScores('Isabelle', games)\n",
    "\n"
   ]
  },
  {
   "cell_type": "code",
   "execution_count": 5,
   "metadata": {},
   "outputs": [
    {
     "output_type": "stream",
     "name": "stdout",
     "text": [
      "m-sizzle plays with entropy 1.5602518646164185 and in average a score of 1\nwinRatio 0.4, lossRatio 0.37777777777777777\nkc plays with entropy 1.565596230357602 and in average a score of 3\nwinRatio 0.4, lossRatio 0.3\nclover plays with entropy 1.516147658077609 and in average a score of -3\nwinRatio 0.16, lossRatio 0.28\nisabelle plays with entropy 1.5488102670635504 and in average a score of -4\nwinRatio 0.29545454545454547, lossRatio 0.38636363636363635\nstuart plays with entropy 1.4839123015466111 and in average a score of -3\nwinRatio 0.2857142857142857, lossRatio 0.37142857142857144\nsebastian plays with entropy 1.4396275363413569 and in average a score of 3\nwinRatio 0.28, lossRatio 0.16\nyizhi plays with entropy 1.4987512731845576 and in average a score of 3\nwinRatio 0.38235294117647056, lossRatio 0.29411764705882354\n"
     ]
    }
   ],
   "source": [
    "entropies, winRatios, lossRatios = getPlayerEntropyAndRatios(players, games)"
   ]
  },
  {
   "source": [
    "# Stage 3 -- Conditional entropy calculations"
   ],
   "cell_type": "markdown",
   "metadata": {}
  },
  {
   "cell_type": "code",
   "execution_count": 6,
   "metadata": {},
   "outputs": [],
   "source": [
    "import numpy as np\n",
    "from week1 import conditionalEntropyEmpirical\n",
    "\n",
    "def computeConditionalEntropyForPlayer(player:str, games: np.array):\n",
    "\n",
    "    moves, scores = getPlayerAllMovesAndScores(player, games)\n",
    "    moves_1 = [[move2, move1] for move1, move2 in list(zip(moves[slice(0, None, 1)], moves[slice(1, None, 1)])) ] \n",
    "    conditionalEntropy = conditionalEntropyEmpirical(moves_1)\n",
    "\n",
    "    scores=np.array(scores)\n",
    "    scores=scores[1:]  #since we're only calculating entropies from game 2 onwards (conditional on previous game), we cut out the first score\n",
    "    winRatio=len(list(scores[scores==1]))/len(list(scores))\n",
    "    lossRatio=len(list(scores[scores==-1]))/len(list(scores))\n",
    "\n",
    "    return conditionalEntropy, winRatio, lossRatio\n"
   ]
  },
  {
   "cell_type": "code",
   "execution_count": 7,
   "metadata": {},
   "outputs": [
    {
     "output_type": "execute_result",
     "data": {
      "text/plain": [
       "(1.3420580875359998, 0.3793103448275862, 0.3103448275862069)"
      ]
     },
     "metadata": {},
     "execution_count": 7
    }
   ],
   "source": [
    "computeConditionalEntropyForPlayer('kc', games)\n"
   ]
  },
  {
   "cell_type": "code",
   "execution_count": 8,
   "metadata": {},
   "outputs": [],
   "source": [
    "#----------------------------------------------------\n",
    "# Compute conditional entropy for all Players \n",
    "#----------------------------------------------------\n",
    "players = listPlayers(games)\n",
    "\n",
    "def computeConditionalEntropyForAllPlayers(players: list, games: np.array):\n",
    "    \n",
    "    # initialize lists\n",
    "\n",
    "    scores=list()\n",
    "    conditionalEntropies=list()\n",
    "    lossRatios=list()\n",
    "    winRatios=list()\n",
    "\n",
    "    for player in players:\n",
    "        conditionalEntropy, winRatio, lossRatio = computeConditionalEntropyForPlayer(player, games)\n",
    "        \n",
    "        winRatios.append(winRatio)\n",
    "        lossRatios.append(lossRatio)\n",
    "        conditionalEntropies.append(conditionalEntropy)\n",
    "\n",
    "    return conditionalEntropies, winRatios, lossRatios\n",
    "\n",
    "\n"
   ]
  },
  {
   "cell_type": "code",
   "execution_count": 9,
   "metadata": {},
   "outputs": [],
   "source": [
    "conditionalEntropies, winRatios, lossRatios = computeConditionalEntropyForAllPlayers(players, games)"
   ]
  },
  {
   "cell_type": "code",
   "execution_count": 10,
   "metadata": {},
   "outputs": [
    {
     "output_type": "execute_result",
     "data": {
      "text/plain": [
       "array([[1.        , 0.56104977],\n",
       "       [0.56104977, 1.        ]])"
      ]
     },
     "metadata": {},
     "execution_count": 10
    }
   ],
   "source": [
    "# ----------------------------------------------------------------------\n",
    "# Compute correlation between conditional entropies and win/loss ratios\n",
    "# -----------------------------------------------------------------------\n",
    "\n",
    "np.corrcoef(conditionalEntropies, winRatios)"
   ]
  },
  {
   "cell_type": "code",
   "execution_count": 11,
   "metadata": {},
   "outputs": [
    {
     "output_type": "execute_result",
     "data": {
      "text/plain": [
       "array([[1.        , 0.57766723],\n",
       "       [0.57766723, 1.        ]])"
      ]
     },
     "metadata": {},
     "execution_count": 11
    }
   ],
   "source": [
    "np.corrcoef(conditionalEntropies, lossRatios)"
   ]
  },
  {
   "cell_type": "code",
   "execution_count": 12,
   "metadata": {},
   "outputs": [
    {
     "output_type": "display_data",
     "data": {
      "text/plain": "<Figure size 648x432 with 1 Axes>",
      "image/svg+xml": "<?xml version=\"1.0\" encoding=\"utf-8\" standalone=\"no\"?>\n<!DOCTYPE svg PUBLIC \"-//W3C//DTD SVG 1.1//EN\"\n  \"http://www.w3.org/Graphics/SVG/1.1/DTD/svg11.dtd\">\n<svg height=\"386.35625pt\" version=\"1.1\" viewBox=\"0 0 545.865625 386.35625\" width=\"545.865625pt\" xmlns=\"http://www.w3.org/2000/svg\" xmlns:xlink=\"http://www.w3.org/1999/xlink\">\n <metadata>\n  <rdf:RDF xmlns:cc=\"http://creativecommons.org/ns#\" xmlns:dc=\"http://purl.org/dc/elements/1.1/\" xmlns:rdf=\"http://www.w3.org/1999/02/22-rdf-syntax-ns#\">\n   <cc:Work>\n    <dc:type rdf:resource=\"http://purl.org/dc/dcmitype/StillImage\"/>\n    <dc:date>2021-09-01T06:45:42.174602</dc:date>\n    <dc:format>image/svg+xml</dc:format>\n    <dc:creator>\n     <cc:Agent>\n      <dc:title>Matplotlib v3.4.2, https://matplotlib.org/</dc:title>\n     </cc:Agent>\n    </dc:creator>\n   </cc:Work>\n  </rdf:RDF>\n </metadata>\n <defs>\n  <style type=\"text/css\">*{stroke-linecap:butt;stroke-linejoin:round;}</style>\n </defs>\n <g id=\"figure_1\">\n  <g id=\"patch_1\">\n   <path d=\"M 0 386.35625 \nL 545.865625 386.35625 \nL 545.865625 0 \nL 0 0 \nz\n\" style=\"fill:none;\"/>\n  </g>\n  <g id=\"axes_1\">\n   <g id=\"patch_2\">\n    <path d=\"M 36.465625 348.478125 \nL 538.665625 348.478125 \nL 538.665625 22.318125 \nL 36.465625 22.318125 \nz\n\" style=\"fill:#ffffff;\"/>\n   </g>\n   <g id=\"matplotlib.axis_1\">\n    <g id=\"xtick_1\">\n     <g id=\"line2d_1\">\n      <defs>\n       <path d=\"M 0 0 \nL 0 3.5 \n\" id=\"m06819de019\" style=\"stroke:#000000;stroke-width:0.8;\"/>\n      </defs>\n      <g>\n       <use style=\"stroke:#000000;stroke-width:0.8;\" x=\"93.248134\" xlink:href=\"#m06819de019\" y=\"348.478125\"/>\n      </g>\n     </g>\n     <g id=\"text_1\">\n      <!-- 1.15 -->\n      <g transform=\"translate(82.115321 363.076563)scale(0.1 -0.1)\">\n       <defs>\n        <path d=\"M 794 531 \nL 1825 531 \nL 1825 4091 \nL 703 3866 \nL 703 4441 \nL 1819 4666 \nL 2450 4666 \nL 2450 531 \nL 3481 531 \nL 3481 0 \nL 794 0 \nL 794 531 \nz\n\" id=\"DejaVuSans-31\" transform=\"scale(0.015625)\"/>\n        <path d=\"M 684 794 \nL 1344 794 \nL 1344 0 \nL 684 0 \nL 684 794 \nz\n\" id=\"DejaVuSans-2e\" transform=\"scale(0.015625)\"/>\n        <path d=\"M 691 4666 \nL 3169 4666 \nL 3169 4134 \nL 1269 4134 \nL 1269 2991 \nQ 1406 3038 1543 3061 \nQ 1681 3084 1819 3084 \nQ 2600 3084 3056 2656 \nQ 3513 2228 3513 1497 \nQ 3513 744 3044 326 \nQ 2575 -91 1722 -91 \nQ 1428 -91 1123 -41 \nQ 819 9 494 109 \nL 494 744 \nQ 775 591 1075 516 \nQ 1375 441 1709 441 \nQ 2250 441 2565 725 \nQ 2881 1009 2881 1497 \nQ 2881 1984 2565 2268 \nQ 2250 2553 1709 2553 \nQ 1456 2553 1204 2497 \nQ 953 2441 691 2322 \nL 691 4666 \nz\n\" id=\"DejaVuSans-35\" transform=\"scale(0.015625)\"/>\n       </defs>\n       <use xlink:href=\"#DejaVuSans-31\"/>\n       <use x=\"63.623047\" xlink:href=\"#DejaVuSans-2e\"/>\n       <use x=\"95.410156\" xlink:href=\"#DejaVuSans-31\"/>\n       <use x=\"159.033203\" xlink:href=\"#DejaVuSans-35\"/>\n      </g>\n     </g>\n    </g>\n    <g id=\"xtick_2\">\n     <g id=\"line2d_2\">\n      <g>\n       <use style=\"stroke:#000000;stroke-width:0.8;\" x=\"152.172687\" xlink:href=\"#m06819de019\" y=\"348.478125\"/>\n      </g>\n     </g>\n     <g id=\"text_2\">\n      <!-- 1.20 -->\n      <g transform=\"translate(141.039875 363.076563)scale(0.1 -0.1)\">\n       <defs>\n        <path d=\"M 1228 531 \nL 3431 531 \nL 3431 0 \nL 469 0 \nL 469 531 \nQ 828 903 1448 1529 \nQ 2069 2156 2228 2338 \nQ 2531 2678 2651 2914 \nQ 2772 3150 2772 3378 \nQ 2772 3750 2511 3984 \nQ 2250 4219 1831 4219 \nQ 1534 4219 1204 4116 \nQ 875 4013 500 3803 \nL 500 4441 \nQ 881 4594 1212 4672 \nQ 1544 4750 1819 4750 \nQ 2544 4750 2975 4387 \nQ 3406 4025 3406 3419 \nQ 3406 3131 3298 2873 \nQ 3191 2616 2906 2266 \nQ 2828 2175 2409 1742 \nQ 1991 1309 1228 531 \nz\n\" id=\"DejaVuSans-32\" transform=\"scale(0.015625)\"/>\n        <path d=\"M 2034 4250 \nQ 1547 4250 1301 3770 \nQ 1056 3291 1056 2328 \nQ 1056 1369 1301 889 \nQ 1547 409 2034 409 \nQ 2525 409 2770 889 \nQ 3016 1369 3016 2328 \nQ 3016 3291 2770 3770 \nQ 2525 4250 2034 4250 \nz\nM 2034 4750 \nQ 2819 4750 3233 4129 \nQ 3647 3509 3647 2328 \nQ 3647 1150 3233 529 \nQ 2819 -91 2034 -91 \nQ 1250 -91 836 529 \nQ 422 1150 422 2328 \nQ 422 3509 836 4129 \nQ 1250 4750 2034 4750 \nz\n\" id=\"DejaVuSans-30\" transform=\"scale(0.015625)\"/>\n       </defs>\n       <use xlink:href=\"#DejaVuSans-31\"/>\n       <use x=\"63.623047\" xlink:href=\"#DejaVuSans-2e\"/>\n       <use x=\"95.410156\" xlink:href=\"#DejaVuSans-32\"/>\n       <use x=\"159.033203\" xlink:href=\"#DejaVuSans-30\"/>\n      </g>\n     </g>\n    </g>\n    <g id=\"xtick_3\">\n     <g id=\"line2d_3\">\n      <g>\n       <use style=\"stroke:#000000;stroke-width:0.8;\" x=\"211.097241\" xlink:href=\"#m06819de019\" y=\"348.478125\"/>\n      </g>\n     </g>\n     <g id=\"text_3\">\n      <!-- 1.25 -->\n      <g transform=\"translate(199.964429 363.076563)scale(0.1 -0.1)\">\n       <use xlink:href=\"#DejaVuSans-31\"/>\n       <use x=\"63.623047\" xlink:href=\"#DejaVuSans-2e\"/>\n       <use x=\"95.410156\" xlink:href=\"#DejaVuSans-32\"/>\n       <use x=\"159.033203\" xlink:href=\"#DejaVuSans-35\"/>\n      </g>\n     </g>\n    </g>\n    <g id=\"xtick_4\">\n     <g id=\"line2d_4\">\n      <g>\n       <use style=\"stroke:#000000;stroke-width:0.8;\" x=\"270.021795\" xlink:href=\"#m06819de019\" y=\"348.478125\"/>\n      </g>\n     </g>\n     <g id=\"text_4\">\n      <!-- 1.30 -->\n      <g transform=\"translate(258.888983 363.076563)scale(0.1 -0.1)\">\n       <defs>\n        <path d=\"M 2597 2516 \nQ 3050 2419 3304 2112 \nQ 3559 1806 3559 1356 \nQ 3559 666 3084 287 \nQ 2609 -91 1734 -91 \nQ 1441 -91 1130 -33 \nQ 819 25 488 141 \nL 488 750 \nQ 750 597 1062 519 \nQ 1375 441 1716 441 \nQ 2309 441 2620 675 \nQ 2931 909 2931 1356 \nQ 2931 1769 2642 2001 \nQ 2353 2234 1838 2234 \nL 1294 2234 \nL 1294 2753 \nL 1863 2753 \nQ 2328 2753 2575 2939 \nQ 2822 3125 2822 3475 \nQ 2822 3834 2567 4026 \nQ 2313 4219 1838 4219 \nQ 1578 4219 1281 4162 \nQ 984 4106 628 3988 \nL 628 4550 \nQ 988 4650 1302 4700 \nQ 1616 4750 1894 4750 \nQ 2613 4750 3031 4423 \nQ 3450 4097 3450 3541 \nQ 3450 3153 3228 2886 \nQ 3006 2619 2597 2516 \nz\n\" id=\"DejaVuSans-33\" transform=\"scale(0.015625)\"/>\n       </defs>\n       <use xlink:href=\"#DejaVuSans-31\"/>\n       <use x=\"63.623047\" xlink:href=\"#DejaVuSans-2e\"/>\n       <use x=\"95.410156\" xlink:href=\"#DejaVuSans-33\"/>\n       <use x=\"159.033203\" xlink:href=\"#DejaVuSans-30\"/>\n      </g>\n     </g>\n    </g>\n    <g id=\"xtick_5\">\n     <g id=\"line2d_5\">\n      <g>\n       <use style=\"stroke:#000000;stroke-width:0.8;\" x=\"328.946349\" xlink:href=\"#m06819de019\" y=\"348.478125\"/>\n      </g>\n     </g>\n     <g id=\"text_5\">\n      <!-- 1.35 -->\n      <g transform=\"translate(317.813536 363.076563)scale(0.1 -0.1)\">\n       <use xlink:href=\"#DejaVuSans-31\"/>\n       <use x=\"63.623047\" xlink:href=\"#DejaVuSans-2e\"/>\n       <use x=\"95.410156\" xlink:href=\"#DejaVuSans-33\"/>\n       <use x=\"159.033203\" xlink:href=\"#DejaVuSans-35\"/>\n      </g>\n     </g>\n    </g>\n    <g id=\"xtick_6\">\n     <g id=\"line2d_6\">\n      <g>\n       <use style=\"stroke:#000000;stroke-width:0.8;\" x=\"387.870903\" xlink:href=\"#m06819de019\" y=\"348.478125\"/>\n      </g>\n     </g>\n     <g id=\"text_6\">\n      <!-- 1.40 -->\n      <g transform=\"translate(376.73809 363.076563)scale(0.1 -0.1)\">\n       <defs>\n        <path d=\"M 2419 4116 \nL 825 1625 \nL 2419 1625 \nL 2419 4116 \nz\nM 2253 4666 \nL 3047 4666 \nL 3047 1625 \nL 3713 1625 \nL 3713 1100 \nL 3047 1100 \nL 3047 0 \nL 2419 0 \nL 2419 1100 \nL 313 1100 \nL 313 1709 \nL 2253 4666 \nz\n\" id=\"DejaVuSans-34\" transform=\"scale(0.015625)\"/>\n       </defs>\n       <use xlink:href=\"#DejaVuSans-31\"/>\n       <use x=\"63.623047\" xlink:href=\"#DejaVuSans-2e\"/>\n       <use x=\"95.410156\" xlink:href=\"#DejaVuSans-34\"/>\n       <use x=\"159.033203\" xlink:href=\"#DejaVuSans-30\"/>\n      </g>\n     </g>\n    </g>\n    <g id=\"xtick_7\">\n     <g id=\"line2d_7\">\n      <g>\n       <use style=\"stroke:#000000;stroke-width:0.8;\" x=\"446.795456\" xlink:href=\"#m06819de019\" y=\"348.478125\"/>\n      </g>\n     </g>\n     <g id=\"text_7\">\n      <!-- 1.45 -->\n      <g transform=\"translate(435.662644 363.076563)scale(0.1 -0.1)\">\n       <use xlink:href=\"#DejaVuSans-31\"/>\n       <use x=\"63.623047\" xlink:href=\"#DejaVuSans-2e\"/>\n       <use x=\"95.410156\" xlink:href=\"#DejaVuSans-34\"/>\n       <use x=\"159.033203\" xlink:href=\"#DejaVuSans-35\"/>\n      </g>\n     </g>\n    </g>\n    <g id=\"xtick_8\">\n     <g id=\"line2d_8\">\n      <g>\n       <use style=\"stroke:#000000;stroke-width:0.8;\" x=\"505.72001\" xlink:href=\"#m06819de019\" y=\"348.478125\"/>\n      </g>\n     </g>\n     <g id=\"text_8\">\n      <!-- 1.50 -->\n      <g transform=\"translate(494.587198 363.076563)scale(0.1 -0.1)\">\n       <use xlink:href=\"#DejaVuSans-31\"/>\n       <use x=\"63.623047\" xlink:href=\"#DejaVuSans-2e\"/>\n       <use x=\"95.410156\" xlink:href=\"#DejaVuSans-35\"/>\n       <use x=\"159.033203\" xlink:href=\"#DejaVuSans-30\"/>\n      </g>\n     </g>\n    </g>\n    <g id=\"text_9\">\n     <!-- H(X|X-1) -->\n     <g transform=\"translate(266.634375 376.798437)scale(0.1 -0.1)\">\n      <defs>\n       <path d=\"M 628 4666 \nL 1259 4666 \nL 1259 2753 \nL 3553 2753 \nL 3553 4666 \nL 4184 4666 \nL 4184 0 \nL 3553 0 \nL 3553 2222 \nL 1259 2222 \nL 1259 0 \nL 628 0 \nL 628 4666 \nz\n\" id=\"DejaVuSans-48\" transform=\"scale(0.015625)\"/>\n       <path d=\"M 1984 4856 \nQ 1566 4138 1362 3434 \nQ 1159 2731 1159 2009 \nQ 1159 1288 1364 580 \nQ 1569 -128 1984 -844 \nL 1484 -844 \nQ 1016 -109 783 600 \nQ 550 1309 550 2009 \nQ 550 2706 781 3412 \nQ 1013 4119 1484 4856 \nL 1984 4856 \nz\n\" id=\"DejaVuSans-28\" transform=\"scale(0.015625)\"/>\n       <path d=\"M 403 4666 \nL 1081 4666 \nL 2241 2931 \nL 3406 4666 \nL 4084 4666 \nL 2584 2425 \nL 4184 0 \nL 3506 0 \nL 2194 1984 \nL 872 0 \nL 191 0 \nL 1856 2491 \nL 403 4666 \nz\n\" id=\"DejaVuSans-58\" transform=\"scale(0.015625)\"/>\n       <path d=\"M 1344 4891 \nL 1344 -1509 \nL 813 -1509 \nL 813 4891 \nL 1344 4891 \nz\n\" id=\"DejaVuSans-7c\" transform=\"scale(0.015625)\"/>\n       <path d=\"M 313 2009 \nL 1997 2009 \nL 1997 1497 \nL 313 1497 \nL 313 2009 \nz\n\" id=\"DejaVuSans-2d\" transform=\"scale(0.015625)\"/>\n       <path d=\"M 513 4856 \nL 1013 4856 \nQ 1481 4119 1714 3412 \nQ 1947 2706 1947 2009 \nQ 1947 1309 1714 600 \nQ 1481 -109 1013 -844 \nL 513 -844 \nQ 928 -128 1133 580 \nQ 1338 1288 1338 2009 \nQ 1338 2731 1133 3434 \nQ 928 4138 513 4856 \nz\n\" id=\"DejaVuSans-29\" transform=\"scale(0.015625)\"/>\n      </defs>\n      <use xlink:href=\"#DejaVuSans-48\"/>\n      <use x=\"75.195312\" xlink:href=\"#DejaVuSans-28\"/>\n      <use x=\"114.208984\" xlink:href=\"#DejaVuSans-58\"/>\n      <use x=\"182.714844\" xlink:href=\"#DejaVuSans-7c\"/>\n      <use x=\"216.40625\" xlink:href=\"#DejaVuSans-58\"/>\n      <use x=\"279.912109\" xlink:href=\"#DejaVuSans-2d\"/>\n      <use x=\"315.996094\" xlink:href=\"#DejaVuSans-31\"/>\n      <use x=\"379.619141\" xlink:href=\"#DejaVuSans-29\"/>\n     </g>\n    </g>\n   </g>\n   <g id=\"matplotlib.axis_2\">\n    <g id=\"ytick_1\">\n     <g id=\"line2d_9\">\n      <defs>\n       <path d=\"M 0 0 \nL -3.5 0 \n\" id=\"m527517e300\" style=\"stroke:#000000;stroke-width:0.8;\"/>\n      </defs>\n      <g>\n       <use style=\"stroke:#000000;stroke-width:0.8;\" x=\"36.465625\" xlink:href=\"#m527517e300\" y=\"292.88267\"/>\n      </g>\n     </g>\n     <g id=\"text_10\">\n      <!-- 0.20 -->\n      <g transform=\"translate(7.2 296.681889)scale(0.1 -0.1)\">\n       <use xlink:href=\"#DejaVuSans-30\"/>\n       <use x=\"63.623047\" xlink:href=\"#DejaVuSans-2e\"/>\n       <use x=\"95.410156\" xlink:href=\"#DejaVuSans-32\"/>\n       <use x=\"159.033203\" xlink:href=\"#DejaVuSans-30\"/>\n      </g>\n     </g>\n    </g>\n    <g id=\"ytick_2\">\n     <g id=\"line2d_10\">\n      <g>\n       <use style=\"stroke:#000000;stroke-width:0.8;\" x=\"36.465625\" xlink:href=\"#m527517e300\" y=\"231.72767\"/>\n      </g>\n     </g>\n     <g id=\"text_11\">\n      <!-- 0.25 -->\n      <g transform=\"translate(7.2 235.526889)scale(0.1 -0.1)\">\n       <use xlink:href=\"#DejaVuSans-30\"/>\n       <use x=\"63.623047\" xlink:href=\"#DejaVuSans-2e\"/>\n       <use x=\"95.410156\" xlink:href=\"#DejaVuSans-32\"/>\n       <use x=\"159.033203\" xlink:href=\"#DejaVuSans-35\"/>\n      </g>\n     </g>\n    </g>\n    <g id=\"ytick_3\">\n     <g id=\"line2d_11\">\n      <g>\n       <use style=\"stroke:#000000;stroke-width:0.8;\" x=\"36.465625\" xlink:href=\"#m527517e300\" y=\"170.57267\"/>\n      </g>\n     </g>\n     <g id=\"text_12\">\n      <!-- 0.30 -->\n      <g transform=\"translate(7.2 174.371889)scale(0.1 -0.1)\">\n       <use xlink:href=\"#DejaVuSans-30\"/>\n       <use x=\"63.623047\" xlink:href=\"#DejaVuSans-2e\"/>\n       <use x=\"95.410156\" xlink:href=\"#DejaVuSans-33\"/>\n       <use x=\"159.033203\" xlink:href=\"#DejaVuSans-30\"/>\n      </g>\n     </g>\n    </g>\n    <g id=\"ytick_4\">\n     <g id=\"line2d_12\">\n      <g>\n       <use style=\"stroke:#000000;stroke-width:0.8;\" x=\"36.465625\" xlink:href=\"#m527517e300\" y=\"109.41767\"/>\n      </g>\n     </g>\n     <g id=\"text_13\">\n      <!-- 0.35 -->\n      <g transform=\"translate(7.2 113.216889)scale(0.1 -0.1)\">\n       <use xlink:href=\"#DejaVuSans-30\"/>\n       <use x=\"63.623047\" xlink:href=\"#DejaVuSans-2e\"/>\n       <use x=\"95.410156\" xlink:href=\"#DejaVuSans-33\"/>\n       <use x=\"159.033203\" xlink:href=\"#DejaVuSans-35\"/>\n      </g>\n     </g>\n    </g>\n    <g id=\"ytick_5\">\n     <g id=\"line2d_13\">\n      <g>\n       <use style=\"stroke:#000000;stroke-width:0.8;\" x=\"36.465625\" xlink:href=\"#m527517e300\" y=\"48.26267\"/>\n      </g>\n     </g>\n     <g id=\"text_14\">\n      <!-- 0.40 -->\n      <g transform=\"translate(7.2 52.061889)scale(0.1 -0.1)\">\n       <use xlink:href=\"#DejaVuSans-30\"/>\n       <use x=\"63.623047\" xlink:href=\"#DejaVuSans-2e\"/>\n       <use x=\"95.410156\" xlink:href=\"#DejaVuSans-34\"/>\n       <use x=\"159.033203\" xlink:href=\"#DejaVuSans-30\"/>\n      </g>\n     </g>\n    </g>\n   </g>\n   <g id=\"line2d_14\">\n    <defs>\n     <path d=\"M 0 1.5 \nC 0.397805 1.5 0.77937 1.341951 1.06066 1.06066 \nC 1.341951 0.77937 1.5 0.397805 1.5 0 \nC 1.5 -0.397805 1.341951 -0.77937 1.06066 -1.06066 \nC 0.77937 -1.341951 0.397805 -1.5 0 -1.5 \nC -0.397805 -1.5 -0.77937 -1.341951 -1.06066 -1.06066 \nC -1.341951 -0.77937 -1.5 -0.397805 -1.5 0 \nC -1.5 0.397805 -1.341951 0.77937 -1.06066 1.06066 \nC -0.77937 1.341951 -0.397805 1.5 0 1.5 \nz\n\" id=\"m9084266002\" style=\"stroke:#1f77b4;\"/>\n    </defs>\n    <g clip-path=\"url(#p54e13489be)\">\n     <use style=\"fill:#1f77b4;stroke:#1f77b4;\" x=\"515.838352\" xlink:href=\"#m9084266002\" y=\"37.14358\"/>\n     <use style=\"fill:#1f77b4;stroke:#1f77b4;\" x=\"319.586876\" xlink:href=\"#m9084266002\" y=\"73.568188\"/>\n     <use style=\"fill:#1f77b4;stroke:#1f77b4;\" x=\"59.292898\" xlink:href=\"#m9084266002\" y=\"333.65267\"/>\n     <use style=\"fill:#1f77b4;stroke:#1f77b4;\" x=\"104.446916\" xlink:href=\"#m9084266002\" y=\"167.728252\"/>\n     <use style=\"fill:#1f77b4;stroke:#1f77b4;\" x=\"417.176231\" xlink:href=\"#m9084266002\" y=\"177.767376\"/>\n     <use style=\"fill:#1f77b4;stroke:#1f77b4;\" x=\"63.959565\" xlink:href=\"#m9084266002\" y=\"180.76517\"/>\n     <use style=\"fill:#1f77b4;stroke:#1f77b4;\" x=\"71.648137\" xlink:href=\"#m9084266002\" y=\"92.739034\"/>\n    </g>\n   </g>\n   <g id=\"line2d_15\">\n    <defs>\n     <path d=\"M 0 1.5 \nC 0.397805 1.5 0.77937 1.341951 1.06066 1.06066 \nC 1.341951 0.77937 1.5 0.397805 1.5 0 \nC 1.5 -0.397805 1.341951 -0.77937 1.06066 -1.06066 \nC 0.77937 -1.341951 0.397805 -1.5 0 -1.5 \nC -0.397805 -1.5 -0.77937 -1.341951 -1.06066 -1.06066 \nC -1.341951 -0.77937 -1.5 -0.397805 -1.5 0 \nC -1.5 0.397805 -1.341951 0.77937 -1.06066 1.06066 \nC -0.77937 1.341951 -0.397805 1.5 0 1.5 \nz\n\" id=\"m90d25a5cea\" style=\"stroke:#ff7f0e;\"/>\n    </defs>\n    <g clip-path=\"url(#p54e13489be)\">\n     <use style=\"fill:#ff7f0e;stroke:#ff7f0e;\" x=\"515.838352\" xlink:href=\"#m90d25a5cea\" y=\"92.739034\"/>\n     <use style=\"fill:#ff7f0e;stroke:#ff7f0e;\" x=\"319.586876\" xlink:href=\"#m90d25a5cea\" y=\"157.919912\"/>\n     <use style=\"fill:#ff7f0e;stroke:#ff7f0e;\" x=\"59.292898\" xlink:href=\"#m90d25a5cea\" y=\"180.76517\"/>\n     <use style=\"fill:#ff7f0e;stroke:#ff7f0e;\" x=\"104.446916\" xlink:href=\"#m90d25a5cea\" y=\"82.395694\"/>\n     <use style=\"fill:#ff7f0e;stroke:#ff7f0e;\" x=\"417.176231\" xlink:href=\"#m90d25a5cea\" y=\"69.846788\"/>\n     <use style=\"fill:#ff7f0e;stroke:#ff7f0e;\" x=\"63.959565\" xlink:href=\"#m90d25a5cea\" y=\"333.65267\"/>\n     <use style=\"fill:#ff7f0e;stroke:#ff7f0e;\" x=\"71.648137\" xlink:href=\"#m90d25a5cea\" y=\"166.866307\"/>\n    </g>\n   </g>\n   <g id=\"patch_3\">\n    <path d=\"M 36.465625 348.478125 \nL 36.465625 22.318125 \n\" style=\"fill:none;stroke:#000000;stroke-linecap:square;stroke-linejoin:miter;stroke-width:0.8;\"/>\n   </g>\n   <g id=\"patch_4\">\n    <path d=\"M 538.665625 348.478125 \nL 538.665625 22.318125 \n\" style=\"fill:none;stroke:#000000;stroke-linecap:square;stroke-linejoin:miter;stroke-width:0.8;\"/>\n   </g>\n   <g id=\"patch_5\">\n    <path d=\"M 36.465625 348.478125 \nL 538.665625 348.478125 \n\" style=\"fill:none;stroke:#000000;stroke-linecap:square;stroke-linejoin:miter;stroke-width:0.8;\"/>\n   </g>\n   <g id=\"patch_6\">\n    <path d=\"M 36.465625 22.318125 \nL 538.665625 22.318125 \n\" style=\"fill:none;stroke:#000000;stroke-linecap:square;stroke-linejoin:miter;stroke-width:0.8;\"/>\n   </g>\n   <g id=\"text_15\">\n    <!-- Conditional Entropies vs Win Ratios -->\n    <g transform=\"translate(181.249375 16.318125)scale(0.12 -0.12)\">\n     <defs>\n      <path d=\"M 4122 4306 \nL 4122 3641 \nQ 3803 3938 3442 4084 \nQ 3081 4231 2675 4231 \nQ 1875 4231 1450 3742 \nQ 1025 3253 1025 2328 \nQ 1025 1406 1450 917 \nQ 1875 428 2675 428 \nQ 3081 428 3442 575 \nQ 3803 722 4122 1019 \nL 4122 359 \nQ 3791 134 3420 21 \nQ 3050 -91 2638 -91 \nQ 1578 -91 968 557 \nQ 359 1206 359 2328 \nQ 359 3453 968 4101 \nQ 1578 4750 2638 4750 \nQ 3056 4750 3426 4639 \nQ 3797 4528 4122 4306 \nz\n\" id=\"DejaVuSans-43\" transform=\"scale(0.015625)\"/>\n      <path d=\"M 1959 3097 \nQ 1497 3097 1228 2736 \nQ 959 2375 959 1747 \nQ 959 1119 1226 758 \nQ 1494 397 1959 397 \nQ 2419 397 2687 759 \nQ 2956 1122 2956 1747 \nQ 2956 2369 2687 2733 \nQ 2419 3097 1959 3097 \nz\nM 1959 3584 \nQ 2709 3584 3137 3096 \nQ 3566 2609 3566 1747 \nQ 3566 888 3137 398 \nQ 2709 -91 1959 -91 \nQ 1206 -91 779 398 \nQ 353 888 353 1747 \nQ 353 2609 779 3096 \nQ 1206 3584 1959 3584 \nz\n\" id=\"DejaVuSans-6f\" transform=\"scale(0.015625)\"/>\n      <path d=\"M 3513 2113 \nL 3513 0 \nL 2938 0 \nL 2938 2094 \nQ 2938 2591 2744 2837 \nQ 2550 3084 2163 3084 \nQ 1697 3084 1428 2787 \nQ 1159 2491 1159 1978 \nL 1159 0 \nL 581 0 \nL 581 3500 \nL 1159 3500 \nL 1159 2956 \nQ 1366 3272 1645 3428 \nQ 1925 3584 2291 3584 \nQ 2894 3584 3203 3211 \nQ 3513 2838 3513 2113 \nz\n\" id=\"DejaVuSans-6e\" transform=\"scale(0.015625)\"/>\n      <path d=\"M 2906 2969 \nL 2906 4863 \nL 3481 4863 \nL 3481 0 \nL 2906 0 \nL 2906 525 \nQ 2725 213 2448 61 \nQ 2172 -91 1784 -91 \nQ 1150 -91 751 415 \nQ 353 922 353 1747 \nQ 353 2572 751 3078 \nQ 1150 3584 1784 3584 \nQ 2172 3584 2448 3432 \nQ 2725 3281 2906 2969 \nz\nM 947 1747 \nQ 947 1113 1208 752 \nQ 1469 391 1925 391 \nQ 2381 391 2643 752 \nQ 2906 1113 2906 1747 \nQ 2906 2381 2643 2742 \nQ 2381 3103 1925 3103 \nQ 1469 3103 1208 2742 \nQ 947 2381 947 1747 \nz\n\" id=\"DejaVuSans-64\" transform=\"scale(0.015625)\"/>\n      <path d=\"M 603 3500 \nL 1178 3500 \nL 1178 0 \nL 603 0 \nL 603 3500 \nz\nM 603 4863 \nL 1178 4863 \nL 1178 4134 \nL 603 4134 \nL 603 4863 \nz\n\" id=\"DejaVuSans-69\" transform=\"scale(0.015625)\"/>\n      <path d=\"M 1172 4494 \nL 1172 3500 \nL 2356 3500 \nL 2356 3053 \nL 1172 3053 \nL 1172 1153 \nQ 1172 725 1289 603 \nQ 1406 481 1766 481 \nL 2356 481 \nL 2356 0 \nL 1766 0 \nQ 1100 0 847 248 \nQ 594 497 594 1153 \nL 594 3053 \nL 172 3053 \nL 172 3500 \nL 594 3500 \nL 594 4494 \nL 1172 4494 \nz\n\" id=\"DejaVuSans-74\" transform=\"scale(0.015625)\"/>\n      <path d=\"M 2194 1759 \nQ 1497 1759 1228 1600 \nQ 959 1441 959 1056 \nQ 959 750 1161 570 \nQ 1363 391 1709 391 \nQ 2188 391 2477 730 \nQ 2766 1069 2766 1631 \nL 2766 1759 \nL 2194 1759 \nz\nM 3341 1997 \nL 3341 0 \nL 2766 0 \nL 2766 531 \nQ 2569 213 2275 61 \nQ 1981 -91 1556 -91 \nQ 1019 -91 701 211 \nQ 384 513 384 1019 \nQ 384 1609 779 1909 \nQ 1175 2209 1959 2209 \nL 2766 2209 \nL 2766 2266 \nQ 2766 2663 2505 2880 \nQ 2244 3097 1772 3097 \nQ 1472 3097 1187 3025 \nQ 903 2953 641 2809 \nL 641 3341 \nQ 956 3463 1253 3523 \nQ 1550 3584 1831 3584 \nQ 2591 3584 2966 3190 \nQ 3341 2797 3341 1997 \nz\n\" id=\"DejaVuSans-61\" transform=\"scale(0.015625)\"/>\n      <path d=\"M 603 4863 \nL 1178 4863 \nL 1178 0 \nL 603 0 \nL 603 4863 \nz\n\" id=\"DejaVuSans-6c\" transform=\"scale(0.015625)\"/>\n      <path id=\"DejaVuSans-20\" transform=\"scale(0.015625)\"/>\n      <path d=\"M 628 4666 \nL 3578 4666 \nL 3578 4134 \nL 1259 4134 \nL 1259 2753 \nL 3481 2753 \nL 3481 2222 \nL 1259 2222 \nL 1259 531 \nL 3634 531 \nL 3634 0 \nL 628 0 \nL 628 4666 \nz\n\" id=\"DejaVuSans-45\" transform=\"scale(0.015625)\"/>\n      <path d=\"M 2631 2963 \nQ 2534 3019 2420 3045 \nQ 2306 3072 2169 3072 \nQ 1681 3072 1420 2755 \nQ 1159 2438 1159 1844 \nL 1159 0 \nL 581 0 \nL 581 3500 \nL 1159 3500 \nL 1159 2956 \nQ 1341 3275 1631 3429 \nQ 1922 3584 2338 3584 \nQ 2397 3584 2469 3576 \nQ 2541 3569 2628 3553 \nL 2631 2963 \nz\n\" id=\"DejaVuSans-72\" transform=\"scale(0.015625)\"/>\n      <path d=\"M 1159 525 \nL 1159 -1331 \nL 581 -1331 \nL 581 3500 \nL 1159 3500 \nL 1159 2969 \nQ 1341 3281 1617 3432 \nQ 1894 3584 2278 3584 \nQ 2916 3584 3314 3078 \nQ 3713 2572 3713 1747 \nQ 3713 922 3314 415 \nQ 2916 -91 2278 -91 \nQ 1894 -91 1617 61 \nQ 1341 213 1159 525 \nz\nM 3116 1747 \nQ 3116 2381 2855 2742 \nQ 2594 3103 2138 3103 \nQ 1681 3103 1420 2742 \nQ 1159 2381 1159 1747 \nQ 1159 1113 1420 752 \nQ 1681 391 2138 391 \nQ 2594 391 2855 752 \nQ 3116 1113 3116 1747 \nz\n\" id=\"DejaVuSans-70\" transform=\"scale(0.015625)\"/>\n      <path d=\"M 3597 1894 \nL 3597 1613 \nL 953 1613 \nQ 991 1019 1311 708 \nQ 1631 397 2203 397 \nQ 2534 397 2845 478 \nQ 3156 559 3463 722 \nL 3463 178 \nQ 3153 47 2828 -22 \nQ 2503 -91 2169 -91 \nQ 1331 -91 842 396 \nQ 353 884 353 1716 \nQ 353 2575 817 3079 \nQ 1281 3584 2069 3584 \nQ 2775 3584 3186 3129 \nQ 3597 2675 3597 1894 \nz\nM 3022 2063 \nQ 3016 2534 2758 2815 \nQ 2500 3097 2075 3097 \nQ 1594 3097 1305 2825 \nQ 1016 2553 972 2059 \nL 3022 2063 \nz\n\" id=\"DejaVuSans-65\" transform=\"scale(0.015625)\"/>\n      <path d=\"M 2834 3397 \nL 2834 2853 \nQ 2591 2978 2328 3040 \nQ 2066 3103 1784 3103 \nQ 1356 3103 1142 2972 \nQ 928 2841 928 2578 \nQ 928 2378 1081 2264 \nQ 1234 2150 1697 2047 \nL 1894 2003 \nQ 2506 1872 2764 1633 \nQ 3022 1394 3022 966 \nQ 3022 478 2636 193 \nQ 2250 -91 1575 -91 \nQ 1294 -91 989 -36 \nQ 684 19 347 128 \nL 347 722 \nQ 666 556 975 473 \nQ 1284 391 1588 391 \nQ 1994 391 2212 530 \nQ 2431 669 2431 922 \nQ 2431 1156 2273 1281 \nQ 2116 1406 1581 1522 \nL 1381 1569 \nQ 847 1681 609 1914 \nQ 372 2147 372 2553 \nQ 372 3047 722 3315 \nQ 1072 3584 1716 3584 \nQ 2034 3584 2315 3537 \nQ 2597 3491 2834 3397 \nz\n\" id=\"DejaVuSans-73\" transform=\"scale(0.015625)\"/>\n      <path d=\"M 191 3500 \nL 800 3500 \nL 1894 563 \nL 2988 3500 \nL 3597 3500 \nL 2284 0 \nL 1503 0 \nL 191 3500 \nz\n\" id=\"DejaVuSans-76\" transform=\"scale(0.015625)\"/>\n      <path d=\"M 213 4666 \nL 850 4666 \nL 1831 722 \nL 2809 4666 \nL 3519 4666 \nL 4500 722 \nL 5478 4666 \nL 6119 4666 \nL 4947 0 \nL 4153 0 \nL 3169 4050 \nL 2175 0 \nL 1381 0 \nL 213 4666 \nz\n\" id=\"DejaVuSans-57\" transform=\"scale(0.015625)\"/>\n      <path d=\"M 2841 2188 \nQ 3044 2119 3236 1894 \nQ 3428 1669 3622 1275 \nL 4263 0 \nL 3584 0 \nL 2988 1197 \nQ 2756 1666 2539 1819 \nQ 2322 1972 1947 1972 \nL 1259 1972 \nL 1259 0 \nL 628 0 \nL 628 4666 \nL 2053 4666 \nQ 2853 4666 3247 4331 \nQ 3641 3997 3641 3322 \nQ 3641 2881 3436 2590 \nQ 3231 2300 2841 2188 \nz\nM 1259 4147 \nL 1259 2491 \nL 2053 2491 \nQ 2509 2491 2742 2702 \nQ 2975 2913 2975 3322 \nQ 2975 3731 2742 3939 \nQ 2509 4147 2053 4147 \nL 1259 4147 \nz\n\" id=\"DejaVuSans-52\" transform=\"scale(0.015625)\"/>\n     </defs>\n     <use xlink:href=\"#DejaVuSans-43\"/>\n     <use x=\"69.824219\" xlink:href=\"#DejaVuSans-6f\"/>\n     <use x=\"131.005859\" xlink:href=\"#DejaVuSans-6e\"/>\n     <use x=\"194.384766\" xlink:href=\"#DejaVuSans-64\"/>\n     <use x=\"257.861328\" xlink:href=\"#DejaVuSans-69\"/>\n     <use x=\"285.644531\" xlink:href=\"#DejaVuSans-74\"/>\n     <use x=\"324.853516\" xlink:href=\"#DejaVuSans-69\"/>\n     <use x=\"352.636719\" xlink:href=\"#DejaVuSans-6f\"/>\n     <use x=\"413.818359\" xlink:href=\"#DejaVuSans-6e\"/>\n     <use x=\"477.197266\" xlink:href=\"#DejaVuSans-61\"/>\n     <use x=\"538.476562\" xlink:href=\"#DejaVuSans-6c\"/>\n     <use x=\"566.259766\" xlink:href=\"#DejaVuSans-20\"/>\n     <use x=\"598.046875\" xlink:href=\"#DejaVuSans-45\"/>\n     <use x=\"661.230469\" xlink:href=\"#DejaVuSans-6e\"/>\n     <use x=\"724.609375\" xlink:href=\"#DejaVuSans-74\"/>\n     <use x=\"763.818359\" xlink:href=\"#DejaVuSans-72\"/>\n     <use x=\"802.681641\" xlink:href=\"#DejaVuSans-6f\"/>\n     <use x=\"863.863281\" xlink:href=\"#DejaVuSans-70\"/>\n     <use x=\"927.339844\" xlink:href=\"#DejaVuSans-69\"/>\n     <use x=\"955.123047\" xlink:href=\"#DejaVuSans-65\"/>\n     <use x=\"1016.646484\" xlink:href=\"#DejaVuSans-73\"/>\n     <use x=\"1068.746094\" xlink:href=\"#DejaVuSans-20\"/>\n     <use x=\"1100.533203\" xlink:href=\"#DejaVuSans-76\"/>\n     <use x=\"1159.712891\" xlink:href=\"#DejaVuSans-73\"/>\n     <use x=\"1211.8125\" xlink:href=\"#DejaVuSans-20\"/>\n     <use x=\"1243.599609\" xlink:href=\"#DejaVuSans-57\"/>\n     <use x=\"1340.226562\" xlink:href=\"#DejaVuSans-69\"/>\n     <use x=\"1368.009766\" xlink:href=\"#DejaVuSans-6e\"/>\n     <use x=\"1431.388672\" xlink:href=\"#DejaVuSans-20\"/>\n     <use x=\"1463.175781\" xlink:href=\"#DejaVuSans-52\"/>\n     <use x=\"1530.408203\" xlink:href=\"#DejaVuSans-61\"/>\n     <use x=\"1591.6875\" xlink:href=\"#DejaVuSans-74\"/>\n     <use x=\"1630.896484\" xlink:href=\"#DejaVuSans-69\"/>\n     <use x=\"1658.679688\" xlink:href=\"#DejaVuSans-6f\"/>\n     <use x=\"1719.861328\" xlink:href=\"#DejaVuSans-73\"/>\n    </g>\n   </g>\n   <g id=\"legend_1\">\n    <g id=\"patch_7\">\n     <path d=\"M 43.465625 59.674375 \nL 131.45625 59.674375 \nQ 133.45625 59.674375 133.45625 57.674375 \nL 133.45625 29.318125 \nQ 133.45625 27.318125 131.45625 27.318125 \nL 43.465625 27.318125 \nQ 41.465625 27.318125 41.465625 29.318125 \nL 41.465625 57.674375 \nQ 41.465625 59.674375 43.465625 59.674375 \nz\n\" style=\"fill:#ffffff;opacity:0.8;stroke:#cccccc;stroke-linejoin:miter;\"/>\n    </g>\n    <g id=\"line2d_16\"/>\n    <g id=\"line2d_17\">\n     <g>\n      <use style=\"fill:#1f77b4;stroke:#1f77b4;\" x=\"55.465625\" xlink:href=\"#m9084266002\" y=\"35.416562\"/>\n     </g>\n    </g>\n    <g id=\"text_16\">\n     <!-- winRatios -->\n     <g transform=\"translate(73.465625 38.916562)scale(0.1 -0.1)\">\n      <defs>\n       <path d=\"M 269 3500 \nL 844 3500 \nL 1563 769 \nL 2278 3500 \nL 2956 3500 \nL 3675 769 \nL 4391 3500 \nL 4966 3500 \nL 4050 0 \nL 3372 0 \nL 2619 2869 \nL 1863 0 \nL 1184 0 \nL 269 3500 \nz\n\" id=\"DejaVuSans-77\" transform=\"scale(0.015625)\"/>\n      </defs>\n      <use xlink:href=\"#DejaVuSans-77\"/>\n      <use x=\"81.787109\" xlink:href=\"#DejaVuSans-69\"/>\n      <use x=\"109.570312\" xlink:href=\"#DejaVuSans-6e\"/>\n      <use x=\"172.949219\" xlink:href=\"#DejaVuSans-52\"/>\n      <use x=\"240.181641\" xlink:href=\"#DejaVuSans-61\"/>\n      <use x=\"301.460938\" xlink:href=\"#DejaVuSans-74\"/>\n      <use x=\"340.669922\" xlink:href=\"#DejaVuSans-69\"/>\n      <use x=\"368.453125\" xlink:href=\"#DejaVuSans-6f\"/>\n      <use x=\"429.634766\" xlink:href=\"#DejaVuSans-73\"/>\n     </g>\n    </g>\n    <g id=\"line2d_18\"/>\n    <g id=\"line2d_19\">\n     <g>\n      <use style=\"fill:#ff7f0e;stroke:#ff7f0e;\" x=\"55.465625\" xlink:href=\"#m90d25a5cea\" y=\"50.094687\"/>\n     </g>\n    </g>\n    <g id=\"text_17\">\n     <!-- Loss Ratios -->\n     <g transform=\"translate(73.465625 53.594687)scale(0.1 -0.1)\">\n      <defs>\n       <path d=\"M 628 4666 \nL 1259 4666 \nL 1259 531 \nL 3531 531 \nL 3531 0 \nL 628 0 \nL 628 4666 \nz\n\" id=\"DejaVuSans-4c\" transform=\"scale(0.015625)\"/>\n      </defs>\n      <use xlink:href=\"#DejaVuSans-4c\"/>\n      <use x=\"53.962891\" xlink:href=\"#DejaVuSans-6f\"/>\n      <use x=\"115.144531\" xlink:href=\"#DejaVuSans-73\"/>\n      <use x=\"167.244141\" xlink:href=\"#DejaVuSans-73\"/>\n      <use x=\"219.34375\" xlink:href=\"#DejaVuSans-20\"/>\n      <use x=\"251.130859\" xlink:href=\"#DejaVuSans-52\"/>\n      <use x=\"318.363281\" xlink:href=\"#DejaVuSans-61\"/>\n      <use x=\"379.642578\" xlink:href=\"#DejaVuSans-74\"/>\n      <use x=\"418.851562\" xlink:href=\"#DejaVuSans-69\"/>\n      <use x=\"446.634766\" xlink:href=\"#DejaVuSans-6f\"/>\n      <use x=\"507.816406\" xlink:href=\"#DejaVuSans-73\"/>\n     </g>\n    </g>\n   </g>\n  </g>\n </g>\n <defs>\n  <clipPath id=\"p54e13489be\">\n   <rect height=\"326.16\" width=\"502.2\" x=\"36.465625\" y=\"22.318125\"/>\n  </clipPath>\n </defs>\n</svg>\n",
      "image/png": "[encoded data removed]"
     },
     "metadata": {
      "needs_background": "light"
     }
    }
   ],
   "source": [
    "#------------------------------------------------------------\n",
    "#   PLOT Conditional Entropies vs Ratios\n",
    "#------------------------------------------------------------\n",
    "\n",
    "\n",
    "import matplotlib.pyplot as plt\n",
    "\n",
    "fig, axs = plt.subplots(1, 1, figsize=(9, 6))  \n",
    "axs.plot(conditionalEntropies, winRatios, '.', label='winRatios')\n",
    "axs.plot(conditionalEntropies, lossRatios, '.', label='Loss Ratios')\n",
    "axs.set_title('Conditional Entropies vs Win Ratios')\n",
    "axs.set_xlabel('H(X|X-1)')\n",
    "plt.legend()\n",
    "plt.show()\n"
   ]
  },
  {
   "source": [
    "### Some testing of the functions used"
   ],
   "cell_type": "markdown",
   "metadata": {}
  },
  {
   "cell_type": "code",
   "execution_count": null,
   "metadata": {},
   "outputs": [],
   "source": []
  },
  {
   "cell_type": "code",
   "execution_count": 13,
   "metadata": {},
   "outputs": [
    {
     "output_type": "stream",
     "name": "stdout",
     "text": [
      "[[2, 1], [3, 2], [4, 3], [5, 4], [6, 5], [7, 6]]\n"
     ]
    }
   ],
   "source": [
    "tests = [1,2,3,4,5,6,7]\n",
    "test_1= [[test2, test1] for test1, test2 in list(zip(tests[slice(0, None, 1)], tests[slice(1, None, 1)])) ] \n",
    "print(test_1)"
   ]
  },
  {
   "cell_type": "code",
   "execution_count": 14,
   "metadata": {},
   "outputs": [],
   "source": [
    "tests=tests[1:]"
   ]
  },
  {
   "cell_type": "code",
   "execution_count": 15,
   "metadata": {},
   "outputs": [
    {
     "output_type": "execute_result",
     "data": {
      "text/plain": [
       "[2, 3, 4, 5, 6, 7]"
      ]
     },
     "metadata": {},
     "execution_count": 15
    }
   ],
   "source": [
    "tests"
   ]
  },
  {
   "source": [
    "# Stage 4 -- Mutual information calculations"
   ],
   "cell_type": "markdown",
   "metadata": {}
  },
  {
   "cell_type": "code",
   "execution_count": 16,
   "metadata": {},
   "outputs": [],
   "source": [
    "\n",
    "#-----------------------------------------------------------------------------\n",
    "# Compute mutual information for a player , mutual information between their\n",
    "# current move and their previous move and the previous one from the opponent\n",
    "#-----------------------------------------------------------------------------\n",
    "\n",
    "def computeMutualInformationForPlayer(player: str, games):\n",
    "    \n",
    "    moves, scores, opponentMoves = getPlayerAndOpponentAllMovesAndScores(player, games)\n",
    "\n",
    "    moves_1 = [[move2, move1, opponentMove1] for move1, move2, opponentMove1 in list(zip(moves[slice(0, None, 1)], moves[slice(1, None, 1)], opponentMoves[slice(0,None,1)])) ] \n",
    "    conditionalEntropy = conditionalEntropyEmpirical(moves_1)\n",
    "\n",
    "    scores=np.array(scores)\n",
    "    scores=scores[1:]  #since we're only calculating entropies from game 2 onwards (conditional on previous game), we cut out the first score\n",
    "    winRatio=len(list(scores[scores==1]))/len(list(scores))\n",
    "    lossRatio=len(list(scores[scores==-1]))/len(list(scores))\n",
    "\n",
    "    return conditionalEntropy, winRatio, lossRatio"
   ]
  },
  {
   "cell_type": "code",
   "execution_count": 17,
   "metadata": {},
   "outputs": [],
   "source": [
    "arr = np.array([[1,2,3],[4,5,6]])\n",
    "\n",
    "list=[0,1]"
   ]
  },
  {
   "cell_type": "code",
   "execution_count": 18,
   "metadata": {},
   "outputs": [
    {
     "output_type": "execute_result",
     "data": {
      "text/plain": [
       "array([[1, 2, 3],\n",
       "       [4, 5, 6]])"
      ]
     },
     "metadata": {},
     "execution_count": 18
    }
   ],
   "source": [
    "arr[list]"
   ]
  },
  {
   "cell_type": "code",
   "execution_count": 19,
   "metadata": {},
   "outputs": [
    {
     "output_type": "execute_result",
     "data": {
      "text/plain": [
       "2"
      ]
     },
     "metadata": {},
     "execution_count": 19
    }
   ],
   "source": [
    "arr[0,1]"
   ]
  },
  {
   "cell_type": "code",
   "execution_count": 20,
   "metadata": {},
   "outputs": [
    {
     "output_type": "execute_result",
     "data": {
      "text/plain": [
       "2"
      ]
     },
     "metadata": {},
     "execution_count": 20
    }
   ],
   "source": [
    "arr[(0,1)]"
   ]
  },
  {
   "cell_type": "code",
   "execution_count": 21,
   "metadata": {},
   "outputs": [],
   "source": [
    "myvar=(0,1)"
   ]
  },
  {
   "cell_type": "code",
   "execution_count": 22,
   "metadata": {},
   "outputs": [
    {
     "output_type": "execute_result",
     "data": {
      "text/plain": [
       "2"
      ]
     },
     "metadata": {},
     "execution_count": 22
    }
   ],
   "source": [
    "arr[myvar]"
   ]
  },
  {
   "cell_type": "code",
   "execution_count": 23,
   "metadata": {},
   "outputs": [],
   "source": [
    "myvar2=[0,1]"
   ]
  },
  {
   "cell_type": "code",
   "execution_count": 24,
   "metadata": {},
   "outputs": [
    {
     "output_type": "execute_result",
     "data": {
      "text/plain": [
       "array([[1, 2, 3],\n",
       "       [4, 5, 6]])"
      ]
     },
     "metadata": {},
     "execution_count": 24
    }
   ],
   "source": [
    "arr[myvar2]"
   ]
  },
  {
   "cell_type": "code",
   "execution_count": 25,
   "metadata": {},
   "outputs": [],
   "source": [
    "myvar3=tuple(myvar2)"
   ]
  },
  {
   "cell_type": "code",
   "execution_count": 26,
   "metadata": {},
   "outputs": [
    {
     "output_type": "execute_result",
     "data": {
      "text/plain": [
       "(0, 1)"
      ]
     },
     "metadata": {},
     "execution_count": 26
    }
   ],
   "source": [
    "myvar3"
   ]
  },
  {
   "cell_type": "code",
   "execution_count": 27,
   "metadata": {},
   "outputs": [
    {
     "output_type": "execute_result",
     "data": {
      "text/plain": [
       "2"
      ]
     },
     "metadata": {},
     "execution_count": 27
    }
   ],
   "source": [
    "arr[myvar3]"
   ]
  },
  {
   "cell_type": "code",
   "execution_count": 28,
   "metadata": {},
   "outputs": [
    {
     "output_type": "execute_result",
     "data": {
      "text/plain": [
       "2.0"
      ]
     },
     "metadata": {},
     "execution_count": 28
    }
   ],
   "source": [
    "from week1 import jointEntropyEmpiricalOld, jointEntropyEmpirical\n",
    "\n",
    "jointEntropyEmpirical([[0,0],[0,1],[1,0],[1,1]])"
   ]
  },
  {
   "cell_type": "code",
   "execution_count": 29,
   "metadata": {},
   "outputs": [
    {
     "output_type": "stream",
     "name": "stdout",
     "text": [
      "0.0\n1.0\n"
     ]
    }
   ],
   "source": [
    "from week1 import mutualInformationEmpiricalOld, mutualInformationEmpirical\n",
    "\n",
    "#     mutualinformationempirical([0,0,1,1],[0,1,0,1]) and validating that you get the result 0 bits\n",
    "# mutualinformationempirical([0,0,1,1],[0,0,1,1]) and validating that you get the result 1 bit\n",
    "print(mutualInformationEmpirical([[0,0],[0,1],[1,0],[1,1]]))\n",
    "print(mutualInformationEmpirical([[0,0],[0,0],[1,1],[1,1]]))"
   ]
  },
  {
   "cell_type": "code",
   "execution_count": 30,
   "metadata": {},
   "outputs": [
    {
     "output_type": "execute_result",
     "data": {
      "text/plain": [
       "array([1, 2, 3, 4])"
      ]
     },
     "metadata": {},
     "execution_count": 30
    }
   ],
   "source": [
    "x = [1,2,3,4]\n",
    "x=np.array(x)\n",
    "x"
   ]
  },
  {
   "cell_type": "code",
   "execution_count": 31,
   "metadata": {},
   "outputs": [
    {
     "output_type": "execute_result",
     "data": {
      "text/plain": [
       "1"
      ]
     },
     "metadata": {},
     "execution_count": 31
    }
   ],
   "source": [
    "x.ndim"
   ]
  },
  {
   "cell_type": "code",
   "execution_count": 32,
   "metadata": {},
   "outputs": [
    {
     "output_type": "execute_result",
     "data": {
      "text/plain": [
       "4"
      ]
     },
     "metadata": {},
     "execution_count": 32
    }
   ],
   "source": [
    "x.shape[0]"
   ]
  },
  {
   "cell_type": "code",
   "execution_count": 33,
   "metadata": {},
   "outputs": [
    {
     "output_type": "execute_result",
     "data": {
      "text/plain": [
       "(4,)"
      ]
     },
     "metadata": {},
     "execution_count": 33
    }
   ],
   "source": [
    "x.shape"
   ]
  },
  {
   "cell_type": "code",
   "execution_count": 34,
   "metadata": {},
   "outputs": [],
   "source": [
    "x = x.reshape(x.shape[0],1)"
   ]
  },
  {
   "cell_type": "code",
   "execution_count": 35,
   "metadata": {},
   "outputs": [
    {
     "output_type": "execute_result",
     "data": {
      "text/plain": [
       "(4, 1)"
      ]
     },
     "metadata": {},
     "execution_count": 35
    }
   ],
   "source": [
    "x.shape"
   ]
  },
  {
   "cell_type": "code",
   "execution_count": 36,
   "metadata": {},
   "outputs": [],
   "source": [
    "N, D = x.shape"
   ]
  },
  {
   "source": [
    "# 4. Coding conditional mutual information"
   ],
   "cell_type": "markdown",
   "metadata": {}
  },
  {
   "cell_type": "code",
   "execution_count": null,
   "metadata": {},
   "outputs": [],
   "source": []
  },
  {
   "cell_type": "code",
   "execution_count": 39,
   "metadata": {},
   "outputs": [],
   "source": [
    "#-------------------------------------------------------------------------------------------------------------------------------\n",
    "#\n",
    "# The conditional mutual information between variables x and y, conditional on variable z, for a distribution p(x,y,z) is:\n",
    "# \n",
    "# I(X;Y∣Z)=H(X∣Z)+H(Y∣Z)−H(X,Y∣Z)\n",
    "#------------------------------------------------------------------------------------------------------------------------------\n",
    "\n",
    "\n",
    "'''\n",
    "Test that your code works by running, e.g.:\n",
    "conditionalmutualinformationempirical([0,0,1,1],[0,1,0,1],[0,1,0,1]) and validating that you get the result 0 bits.\n",
    "conditionalmutualinformationempirical([0,0,1,1],[0,0,1,1],[0,1,1,0]) and validating that you get the result 1 bit.\n",
    "conditionalmutualinformationempirical([0,0,1,1],[0,1,0,1],[0,1,1,0]) and validating that you get the result 1 bit. \n",
    "'''\n",
    "\n",
    "from week1 import conditionalEntropyEmpirical, conditionalEntropyEmpiricalXnYn\n",
    "\n",
    "def conditionalMutualInformationEmpirical(xn: np.array, yn: np.array, zn: np.array):\n",
    "    \n",
    "    HXgZ = conditionalEntropyEmpirical([[x, z] for x,z in zip(xn, zn)])\n",
    "    HYgZ = conditionalEntropyEmpirical([[y, z] for y,z in zip(yn, zn)])\n",
    "    xnyn = np.column_stack((xn,yn))\n",
    "    HXYgZ = conditionalEntropyEmpiricalXnYn(xnyn, zn)\n",
    "    CMI = HXgZ + HYgZ - HXYgZ\n",
    "    return CMI\n"
   ]
  },
  {
   "cell_type": "code",
   "execution_count": 40,
   "metadata": {},
   "outputs": [
    {
     "output_type": "execute_result",
     "data": {
      "text/plain": [
       "0.0"
      ]
     },
     "metadata": {},
     "execution_count": 40
    }
   ],
   "source": [
    "conditionalMutualInformationEmpirical([0,0,1,1],[0,1,0,1],[0,1,0,1])"
   ]
  },
  {
   "cell_type": "code",
   "execution_count": 41,
   "metadata": {},
   "outputs": [
    {
     "output_type": "execute_result",
     "data": {
      "text/plain": [
       "1.0"
      ]
     },
     "metadata": {},
     "execution_count": 41
    }
   ],
   "source": [
    "conditionalMutualInformationEmpirical([0,0,1,1],[0,0,1,1],[0,1,1,0])"
   ]
  },
  {
   "source": [
    "### Challenge: \n",
    " \n",
    "Let's make a larger empirical test of case c above. First we will generate a large sample of binary values for variable X, X = randi(2, 1000, 1) - 1;, and same for Z, Z = randi(2, 1000, 1) - 1;, then we will construct the samples of y as the exclusive OR (XOR) of these two, Y = xor(X, Z);. Validate using mutualinformationempirical that there is (almost) no mutual information between either X or Z with Y, yet using conditionalmutualinformationempirical that there is (almost) one bit of conditional mutual information from X to Y given Z (or vice versa in X and Z). Explain the meaning of the conditioning on Z increasing the apparent mutual information between X and Y - see part 5 of the lecture, below. (Also: why are the bit values not quite 0 and 1 in this example?)"
   ],
   "cell_type": "markdown",
   "metadata": {}
  },
  {
   "cell_type": "code",
   "execution_count": 42,
   "metadata": {},
   "outputs": [],
   "source": [
    "X = np.random.randint(2, size=1000)\n",
    "Z = np.random.randint(2, size=1000)\n",
    "Y = np.logical_xor(X, Z)"
   ]
  },
  {
   "cell_type": "code",
   "execution_count": 49,
   "metadata": {},
   "outputs": [],
   "source": [
    "from week1 import mutualInformationEmpirical\n",
    "\n",
    "MI_XY = mutualInformationEmpirical(np.column_stack((X,Y)))\n",
    "MI_ZY = mutualInformationEmpirical(np.column_stack((Z,Y)))\n",
    "MI_XZ = mutualInformationEmpirical(np.column_stack((X,Z)))"
   ]
  },
  {
   "cell_type": "code",
   "execution_count": 50,
   "metadata": {},
   "outputs": [
    {
     "output_type": "stream",
     "name": "stdout",
     "text": [
      "0.0003606945900156422\n0.0003606945900156422\n0.0001962070664154325\n"
     ]
    }
   ],
   "source": [
    "print(MI_XY)\n",
    "print(MI_ZY)\n",
    "print(MI_XZ)"
   ]
  },
  {
   "cell_type": "code",
   "execution_count": null,
   "metadata": {},
   "outputs": [],
   "source": []
  }
 ]
}