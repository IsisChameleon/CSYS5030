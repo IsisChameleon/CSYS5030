{
 "cells": [
  {
   "cell_type": "markdown",
   "metadata": {},
   "source": [
    "# WEEK4 Conditional Mutual Information\n",
    "## 1. Scissors rock paper analysis"
   ]
  },
  {
   "cell_type": "code",
   "execution_count": 1,
   "metadata": {},
   "outputs": [],
   "source": [
    "#------------------------------------------------------------\n",
    "# WHEN RUNNING LOCALLY UPDATE THIS CELL TO SET UP DATASET LOCATION\n",
    "#------------------------------------------------------------\n",
    "BASEURITXT='/home/jovyan/notebooks/CSYS5030/data/SPR'"
   ]
  },
  {
   "cell_type": "code",
   "execution_count": 2,
   "metadata": {},
   "outputs": [],
   "source": [
    "from spr import loadGames, listPlayers, getPlayerAllMovesAndScores, getPlayerEntropyAndRatios\n",
    "games = loadGames(BASEURITXT)\n"
   ]
  },
  {
   "cell_type": "code",
   "execution_count": 3,
   "metadata": {},
   "outputs": [
    {
     "name": "stdout",
     "output_type": "stream",
     "text": [
      "['isabelle', 'clover', 'stuart', 'sebastian', 'yizhi', 'kc', 'm-sizzle']\n",
      "isabelle\n"
     ]
    }
   ],
   "source": [
    "players = listPlayers(games)\n",
    "print(players)\n",
    "print(players[0])\n",
    "\n",
    "moves, scores = getPlayerAllMovesAndScores('Isabelle', games)\n",
    "\n"
   ]
  },
  {
   "cell_type": "code",
   "execution_count": 4,
   "metadata": {},
   "outputs": [
    {
     "name": "stdout",
     "output_type": "stream",
     "text": [
      "isabelle plays with entropy 1.5488102670635504 and in average a score of -4\n",
      "winRatio 0.29545454545454547, lossRatio 0.38636363636363635\n",
      "clover plays with entropy 1.516147658077609 and in average a score of -3\n",
      "winRatio 0.16, lossRatio 0.28\n",
      "stuart plays with entropy 1.4839123015466111 and in average a score of -3\n",
      "winRatio 0.2857142857142857, lossRatio 0.37142857142857144\n",
      "sebastian plays with entropy 1.4396275363413569 and in average a score of 3\n",
      "winRatio 0.28, lossRatio 0.16\n",
      "yizhi plays with entropy 1.4987512731845576 and in average a score of 3\n",
      "winRatio 0.38235294117647056, lossRatio 0.29411764705882354\n",
      "kc plays with entropy 1.565596230357602 and in average a score of 3\n",
      "winRatio 0.4, lossRatio 0.3\n",
      "m-sizzle plays with entropy 1.5602518646164185 and in average a score of 1\n",
      "winRatio 0.4, lossRatio 0.37777777777777777\n"
     ]
    }
   ],
   "source": [
    "entropies, winRatios, lossRatios = getPlayerEntropyAndRatios(players, games)"
   ]
  },
  {
   "cell_type": "markdown",
   "metadata": {},
   "source": [
    "# Stage 3 -- Conditional entropy calculations"
   ]
  },
  {
   "cell_type": "code",
   "execution_count": 6,
   "metadata": {},
   "outputs": [],
   "source": [
    "import numpy as np\n",
    "from week1 import conditionalEntropyEmpirical\n",
    "\n",
    "def computeConditionalEntropyForPlayer(player:str, games: np.array):\n",
    "\n",
    "    moves, scores = getPlayerAllMovesAndScores(player, games)\n",
    "    moves_1 = [[move2, move1] for move1, move2 in zip(moves[slice(0, None, 1)], moves[slice(1, None, 1)]) ] \n",
    "    conditionalEntropy = conditionalEntropyEmpirical(moves_1)\n",
    "\n",
    "    scores=np.array(scores)\n",
    "    scores=scores[1:]  #since we're only calculating entropies from game 2 onwards (conditional on previous game), we cut out the first score\n",
    "    winRatio=scores[scores==1].size/scores.size\n",
    "    lossRatio=scores[scores==-1].size/scores.size\n",
    "\n",
    "    return conditionalEntropy, winRatio, lossRatio\n"
   ]
  },
  {
   "cell_type": "code",
   "execution_count": 7,
   "metadata": {},
   "outputs": [
    {
     "data": {
      "text/plain": [
       "(1.508585845307161, 0.4090909090909091, 0.36363636363636365)"
      ]
     },
     "execution_count": 7,
     "metadata": {},
     "output_type": "execute_result"
    }
   ],
   "source": [
    "computeConditionalEntropyForPlayer('m-Sizzle', games)\n"
   ]
  },
  {
   "cell_type": "code",
   "execution_count": 8,
   "metadata": {},
   "outputs": [],
   "source": [
    "#----------------------------------------------------\n",
    "# Compute conditional entropy for all Players \n",
    "#----------------------------------------------------\n",
    "players = listPlayers(games)\n",
    "\n",
    "def computeConditionalEntropyForAllPlayers(players: list, games: np.array):\n",
    "    \n",
    "    # initialize lists\n",
    "\n",
    "    scores=[]\n",
    "    conditionalEntropies=[]\n",
    "    lossRatios=[]\n",
    "    winRatios=[]\n",
    "\n",
    "    for player in players:\n",
    "        conditionalEntropy, winRatio, lossRatio = computeConditionalEntropyForPlayer(player, games)\n",
    "        \n",
    "        winRatios.append(winRatio)\n",
    "        lossRatios.append(lossRatio)\n",
    "        conditionalEntropies.append(conditionalEntropy)\n",
    "\n",
    "    return conditionalEntropies, winRatios, lossRatios\n",
    "\n",
    "\n"
   ]
  },
  {
   "cell_type": "code",
   "execution_count": 9,
   "metadata": {},
   "outputs": [],
   "source": [
    "conditionalEntropies, winRatios, lossRatios = computeConditionalEntropyForAllPlayers(players, games)"
   ]
  },
  {
   "cell_type": "code",
   "execution_count": 10,
   "metadata": {},
   "outputs": [
    {
     "name": "stdout",
     "output_type": "stream",
     "text": [
      "[['isabelle', 1.1595026452514754], ['clover', 1.1211875323868168], ['stuart', 1.4248668227610133], ['sebastian', 1.125147399068765], ['yizhi', 1.1316714803387717], ['kc', 1.3420580875359998], ['m-sizzle', 1.508585845307161]]\n"
     ]
    }
   ],
   "source": [
    "pes = [[player, conditionalEntropy] for player, conditionalEntropy in zip(players, conditionalEntropies)]\n",
    "print(pes)"
   ]
  },
  {
   "cell_type": "code",
   "execution_count": 11,
   "metadata": {},
   "outputs": [
    {
     "data": {
      "text/plain": [
       "array([[1.        , 0.56104977],\n",
       "       [0.56104977, 1.        ]])"
      ]
     },
     "execution_count": 11,
     "metadata": {},
     "output_type": "execute_result"
    }
   ],
   "source": [
    "# ----------------------------------------------------------------------\n",
    "# Compute correlation between conditional entropies and win/loss ratios\n",
    "# -----------------------------------------------------------------------\n",
    "\n",
    "np.corrcoef(conditionalEntropies, winRatios)"
   ]
  },
  {
   "cell_type": "code",
   "execution_count": 12,
   "metadata": {},
   "outputs": [
    {
     "data": {
      "text/plain": [
       "array([[1.        , 0.57766723],\n",
       "       [0.57766723, 1.        ]])"
      ]
     },
     "execution_count": 12,
     "metadata": {},
     "output_type": "execute_result"
    }
   ],
   "source": [
    "np.corrcoef(conditionalEntropies, lossRatios)"
   ]
  },
  {
   "cell_type": "markdown",
   "metadata": {},
   "source": [
    "### 5. Call the script to see the conditional entropies of each player, the plots and correlation analyses on how this related to performance.\n",
    "\n",
    " Who was most (conditionally) uncertain? \n",
    " Did this correlate to wins? What about losses? Does this match your hypothesis?"
   ]
  },
  {
   "cell_type": "code",
   "execution_count": 13,
   "metadata": {},
   "outputs": [
    {
     "data": {
      "image/png": "[encoded data removed]",
      "text/plain": [
       "<Figure size 648x432 with 1 Axes>"
      ]
     },
     "metadata": {
      "needs_background": "light"
     },
     "output_type": "display_data"
    }
   ],
   "source": [
    "#------------------------------------------------------------\n",
    "#   PLOT Conditional Entropies vs Ratios\n",
    "#------------------------------------------------------------\n",
    "\n",
    "\n",
    "import matplotlib.pyplot as plt\n",
    "\n",
    "fig, axs = plt.subplots(1, 1, figsize=(9, 6))  \n",
    "axs.plot(conditionalEntropies, winRatios, '.', label='winRatios')\n",
    "axs.plot(conditionalEntropies, lossRatios, '.', label='Loss Ratios')\n",
    "axs.set_title('Conditional Entropies vs Win Ratios')\n",
    "axs.set_xlabel('H(X|X-1)')\n",
    "plt.legend()\n",
    "plt.show()\n"
   ]
  },
  {
   "cell_type": "markdown",
   "metadata": {},
   "source": [
    "# Stage 4 -- Mutual information calculations"
   ]
  },
  {
   "cell_type": "code",
   "execution_count": null,
   "metadata": {},
   "outputs": [],
   "source": [
    "\n",
    "#-----------------------------------------------------------------------------\n",
    "# Compute mutual information for a player , mutual information between their\n",
    "# current move and their previous move and the previous one from the opponent\n",
    "#-----------------------------------------------------------------------------\n",
    "\n",
    "from spr import getPlayerAndOpponentAllMovesAndScores\n",
    "from week1 import mutualInformationEmpiricalXnYn\n",
    "\n",
    "def computeMutualInformationForPlayer(player: str, games):\n",
    "    \n",
    "    moves, scores, opponentMoves = getPlayerAndOpponentAllMovesAndScores(player, games)\n",
    "\n",
    "    Xn = [move2 for move2 in moves[slice(1, None, 1)] ] \n",
    "    Yn = [[move1, opponentMove1] for move1, opponentMove1 in zip(moves[slice(0, None, 1)], opponentMoves[slice(0,None,1)]) ] \n",
    "    Yn = Yn[:-1]\n",
    "    #conditionalEntropy = conditionalEntropyEmpirical(moves_1)\n",
    "\n",
    "    MI = mutualInformationEmpiricalXnYn(Xn,Yn)\n",
    "    scores=np.array(scores)\n",
    "    scores=scores[1:]  #since we're only calculating entropies from game 2 onwards (conditional on previous game), we cut out the first score\n",
    "    winRatio=scores[scores==1].size/scores.size\n",
    "    lossRatio=scores[scores==-1].size/scores.size\n",
    "\n",
    "    return MI, winRatio, lossRatio"
   ]
  },
  {
   "cell_type": "code",
   "execution_count": null,
   "metadata": {},
   "outputs": [],
   "source": [
    "computeMutualInformationForPlayer('isabelle', games)"
   ]
  },
  {
   "cell_type": "code",
   "execution_count": null,
   "metadata": {},
   "outputs": [],
   "source": [
    "from week1 import jointEntropyEmpiricalOld, jointEntropyEmpirical\n",
    "\n",
    "jointEntropyEmpirical([[0,0],[0,1],[1,0],[1,1]])"
   ]
  },
  {
   "cell_type": "code",
   "execution_count": null,
   "metadata": {},
   "outputs": [],
   "source": [
    "from week1 import mutualInformationEmpiricalOld, mutualInformationEmpirical\n",
    "\n",
    "#     mutualinformationempirical([0,0,1,1],[0,1,0,1]) and validating that you get the result 0 bits\n",
    "# mutualinformationempirical([0,0,1,1],[0,0,1,1]) and validating that you get the result 1 bit\n",
    "print(mutualInformationEmpirical([[0,0],[0,1],[1,0],[1,1]]))\n",
    "print(mutualInformationEmpirical([[0,0],[0,0],[1,1],[1,1]]))"
   ]
  },
  {
   "cell_type": "markdown",
   "metadata": {},
   "source": [
    "# 4. Coding conditional mutual information"
   ]
  },
  {
   "cell_type": "code",
   "execution_count": null,
   "metadata": {},
   "outputs": [],
   "source": []
  },
  {
   "cell_type": "code",
   "execution_count": null,
   "metadata": {},
   "outputs": [],
   "source": [
    "#-------------------------------------------------------------------------------------------------------------------------------\n",
    "#\n",
    "# The conditional mutual information between variables x and y, conditional on variable z, for a distribution p(x,y,z) is:\n",
    "# \n",
    "# I(X;Y∣Z)=H(X∣Z)+H(Y∣Z)−H(X,Y∣Z)\n",
    "#------------------------------------------------------------------------------------------------------------------------------\n",
    "\n",
    "\n",
    "'''\n",
    "Test that your code works by running, e.g.:\n",
    "conditionalmutualinformationempirical([0,0,1,1],[0,1,0,1],[0,1,0,1]) and validating that you get the result 0 bits.\n",
    "conditionalmutualinformationempirical([0,0,1,1],[0,0,1,1],[0,1,1,0]) and validating that you get the result 1 bit.\n",
    "conditionalmutualinformationempirical([0,0,1,1],[0,1,0,1],[0,1,1,0]) and validating that you get the result 1 bit. \n",
    "'''\n",
    " \n",
    "from week1 import conditionalEntropyEmpirical, conditionalEntropyEmpiricalXnYn\n",
    "\n",
    "def conditionalMutualInformationEmpirical(xn: np.array, yn: np.array, zn: np.array):\n",
    "    \n",
    "    HXgZ = conditionalEntropyEmpirical([[x, z] for x,z in zip(xn, zn)])\n",
    "    HYgZ = conditionalEntropyEmpirical([[y, z] for y,z in zip(yn, zn)])\n",
    "    xnyn = np.column_stack((xn,yn))\n",
    "    HXYgZ = conditionalEntropyEmpiricalXnYn(xnyn, zn)\n",
    "    CMI = HXgZ + HYgZ - HXYgZ\n",
    "    return CMI\n"
   ]
  },
  {
   "cell_type": "code",
   "execution_count": null,
   "metadata": {},
   "outputs": [],
   "source": [
    "conditionalMutualInformationEmpirical([0,0,1,1],[0,1,0,1],[0,1,0,1])"
   ]
  },
  {
   "cell_type": "code",
   "execution_count": null,
   "metadata": {},
   "outputs": [],
   "source": [
    "conditionalMutualInformationEmpirical([0,0,1,1],[0,0,1,1],[0,1,1,0])"
   ]
  },
  {
   "cell_type": "markdown",
   "metadata": {},
   "source": [
    "Here Z is not correlated to X and Y, so it doesn't change the information between X and Y to condition on Z"
   ]
  },
  {
   "cell_type": "code",
   "execution_count": null,
   "metadata": {},
   "outputs": [],
   "source": [
    "mutualInformationEmpiricalXnYn([0,0,1,1],[0,0,1,1])"
   ]
  },
  {
   "cell_type": "code",
   "execution_count": null,
   "metadata": {},
   "outputs": [],
   "source": [
    "# Last Case Z is X xor Y\n",
    "conditionalMutualInformationEmpirical([0,0,1,1],[0,1,0,1],[0,1,1,0])"
   ]
  },
  {
   "cell_type": "code",
   "execution_count": null,
   "metadata": {},
   "outputs": [],
   "source": [
    "# no relationship between x and Y, y and z, or x and z\n",
    "mutualInformationEmpiricalXnYn([0,0,1,1],[0,1,0,1])"
   ]
  },
  {
   "cell_type": "code",
   "execution_count": null,
   "metadata": {},
   "outputs": [],
   "source": [
    "# if we have 2 of them we can completely decode the last one ==> we have 1 bit of information\n",
    "# classic example of synergy A\n",
    "mutualInformationEmpiricalXnYn([0,0,1,1],np.column_stack(([0,1,0,1],[0,1,1,0])))"
   ]
  },
  {
   "cell_type": "markdown",
   "metadata": {},
   "source": [
    "### Challenge: \n",
    " \n",
    "Let's make a larger empirical test of case c above. First we will generate a large sample of binary values for variable X, X = randi(2, 1000, 1) - 1;, and same for Z, Z = randi(2, 1000, 1) - 1;, then we will construct the samples of y as the exclusive OR (XOR) of these two, Y = xor(X, Z);. Validate using mutualinformationempirical that there is (almost) no mutual information between either X or Z with Y, yet using conditionalmutualinformationempirical that there is (almost) one bit of conditional mutual information from X to Y given Z (or vice versa in X and Z). Explain the meaning of the conditioning on Z increasing the apparent mutual information between X and Y - see part 5 of the lecture, below. (Also: why are the bit values not quite 0 and 1 in this example?)"
   ]
  },
  {
   "cell_type": "code",
   "execution_count": null,
   "metadata": {},
   "outputs": [],
   "source": [
    "X = np.random.randint(2, size=1000)\n",
    "Z = np.random.randint(2, size=1000)\n",
    "Y = np.logical_xor(X, Z)"
   ]
  },
  {
   "cell_type": "code",
   "execution_count": null,
   "metadata": {},
   "outputs": [],
   "source": [
    "from week1 import mutualInformationEmpirical\n",
    "\n",
    "MI_XY = mutualInformationEmpirical(np.column_stack((X,Y)))\n",
    "MI_ZY = mutualInformationEmpirical(np.column_stack((Z,Y)))\n",
    "MI_XZ = mutualInformationEmpirical(np.column_stack((X,Z)))"
   ]
  },
  {
   "cell_type": "code",
   "execution_count": null,
   "metadata": {},
   "outputs": [],
   "source": [
    "print(MI_XY)\n",
    "print(MI_ZY)\n",
    "print(MI_XZ)"
   ]
  },
  {
   "cell_type": "markdown",
   "metadata": {},
   "source": [
    "## 4.3 Compute conditional mutual Information based on a joint probability matrix"
   ]
  },
  {
   "cell_type": "code",
   "execution_count": null,
   "metadata": {},
   "outputs": [],
   "source": [
    "'''\n",
    "% Computes the mutual information over all outcomes x of a random\n",
    "%  variable X with outcomes y of a random variable Y, conditioning on \n",
    "%  outcomes z of a random variable Z.\n",
    "%  Probability matrix p(x,y,z) is given for each candidate outcome\n",
    "%  (x,y,z).\n",
    "%\n",
    "% Inputs:\n",
    "% - p - 3D probability distribution function over all outcomes (x,y,z).\n",
    "%       p is a matrix over all combinations of x and y and z,\n",
    "%\twhere p(1,3,2) gives the probability of the first symbol of variable\n",
    "%\tx co-occuring with the third symbol of variable y and the second\n",
    "%\tsymbol of z.\n",
    "%       The sum over p must be 1.\n",
    "%       E.g.:\n",
    "%         p(:,:,1) = [0.114286, 0.171429; 0.057143, 0.228571];\n",
    "%         p(:,:,2) = [0.171429, 0.114286; 0.028571, 0.114286];\n",
    "%\n",
    "% Outputs:\n",
    "% - result - mutual information of X with Y\n",
    "\n",
    "% We need to compute H(X|Z) + H(Y|Z) - H(X,Y|Z).\n",
    "% But our conditional entropy calculator won't do H(X,Y|Z) since it doesn't accept a joint probability for X,Y.\n",
    "% So, easier to rewrite as:\n",
    "%  H(X,Z) - H(Z) + H(Y,Z) - H(Z) - H(X,Y,Z) + H(Z)\n",
    "%  = H(X,Z) - H(Z) + H(Y,Z) - H(X,Y,Z)\n",
    "'''\n",
    "\n",
    "def conditionalMutualInformation(p):\n",
    "    \n",
    "    pass"
   ]
  },
  {
   "cell_type": "code",
   "execution_count": null,
   "metadata": {},
   "outputs": [],
   "source": [
    "import numpy as np\n",
    "-np.log2(1/12)"
   ]
  },
  {
   "cell_type": "code",
   "execution_count": null,
   "metadata": {},
   "outputs": [],
   "source": []
  }
 ],
 "metadata": {
  "interpreter": {
   "hash": "98b0a9b7b4eaaa670588a142fd0a9b87eaafe866f1db4228be72b4211d12040f"
  },
  "kernelspec": {
   "display_name": "Python 3 (ipykernel)",
   "language": "python",
   "name": "python3"
  },
  "language_info": {
   "codemirror_mode": {
    "name": "ipython",
    "version": 3
   },
   "file_extension": ".py",
   "mimetype": "text/x-python",
   "name": "python",
   "nbconvert_exporter": "python",
   "pygments_lexer": "ipython3",
   "version": "3.9.7"
  }
 },
 "nbformat": 4,
 "nbformat_minor": 4
}
