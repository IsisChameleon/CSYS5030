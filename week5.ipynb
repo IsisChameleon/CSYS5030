{
 "cells": [
  {
   "cell_type": "code",
   "execution_count": 2,
   "source": [
    "import numpy as np\n",
    "\n",
    "import jpype as jp\n",
    "\n",
    "jarLocation = '/home/jovyan/notebooks/jidt/infodynamics.jar'\n",
    "\n",
    "jp.startJVM(jp.getDefaultJVMPath(), \"-Djava.class.path=\" + jarLocation)"
   ],
   "outputs": [],
   "metadata": {}
  },
  {
   "cell_type": "code",
   "execution_count": 3,
   "source": [
    "teCalcClass = jp.JPackage(\"infodynamics.measures.discrete\").TransferEntropyCalculatorDiscrete\n",
    "teCalc = teCalcClass(2,1)\n",
    "teCalc.initialise()"
   ],
   "outputs": [],
   "metadata": {}
  },
  {
   "cell_type": "code",
   "execution_count": 13,
   "source": [
    "randomBitsSource = list(np.random.randint(0, 2, size=100, dtype=int))\n",
    "dest = [[0] + randomBitsSource[0:99]]"
   ],
   "outputs": [],
   "metadata": {}
  },
  {
   "cell_type": "code",
   "execution_count": 14,
   "source": [
    "teCalc.addObservations(randomBitsSource, dest)\n",
    "print(\"For copied source, result should be close to 1 bit : %.4f\" % teCalc.computeAverageLocalOfObservations())"
   ],
   "outputs": [
    {
     "output_type": "error",
     "ename": "TypeError",
     "evalue": "object of type 'numpy.int64' has no len()",
     "traceback": [
      "\u001b[0;31m---------------------------------------------------------------------------\u001b[0m",
      "\u001b[0;31mTypeError\u001b[0m                                 Traceback (most recent call last)",
      "\u001b[0;32m/tmp/ipykernel_12679/1828712313.py\u001b[0m in \u001b[0;36m<module>\u001b[0;34m\u001b[0m\n\u001b[0;32m----> 1\u001b[0;31m \u001b[0mteCalc\u001b[0m\u001b[0;34m.\u001b[0m\u001b[0maddObservations\u001b[0m\u001b[0;34m(\u001b[0m\u001b[0mrandomBitsSource\u001b[0m\u001b[0;34m,\u001b[0m \u001b[0mdest\u001b[0m\u001b[0;34m)\u001b[0m\u001b[0;34m\u001b[0m\u001b[0;34m\u001b[0m\u001b[0m\n\u001b[0m\u001b[1;32m      2\u001b[0m \u001b[0mprint\u001b[0m\u001b[0;34m(\u001b[0m\u001b[0;34m\"For copied source, result should be close to 1 bit : %.4f\"\u001b[0m \u001b[0;34m%\u001b[0m \u001b[0mteCalc\u001b[0m\u001b[0;34m.\u001b[0m\u001b[0mcomputeAverageLocalOfObservations\u001b[0m\u001b[0;34m(\u001b[0m\u001b[0;34m)\u001b[0m\u001b[0;34m)\u001b[0m\u001b[0;34m\u001b[0m\u001b[0;34m\u001b[0m\u001b[0m\n",
      "\u001b[0;31mTypeError\u001b[0m: object of type 'numpy.int64' has no len()"
     ]
    }
   ],
   "metadata": {}
  },
  {
   "cell_type": "code",
   "execution_count": null,
   "source": [
    "jp.shutdownJVM()"
   ],
   "outputs": [],
   "metadata": {}
  }
 ],
 "metadata": {
  "interpreter": {
   "hash": "98b0a9b7b4eaaa670588a142fd0a9b87eaafe866f1db4228be72b4211d12040f"
  },
  "kernelspec": {
   "display_name": "Python 3 (ipykernel)",
   "language": "python",
   "name": "python3"
  },
  "language_info": {
   "codemirror_mode": {
    "name": "ipython",
    "version": 3
   },
   "file_extension": ".py",
   "mimetype": "text/x-python",
   "name": "python",
   "nbconvert_exporter": "python",
   "pygments_lexer": "ipython3",
   "version": "3.9.6"
  }
 },
 "nbformat": 4,
 "nbformat_minor": 4
}