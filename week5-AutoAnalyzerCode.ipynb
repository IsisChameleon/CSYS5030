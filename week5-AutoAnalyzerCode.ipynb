{
 "metadata": {
  "language_info": {
   "codemirror_mode": {
    "name": "ipython",
    "version": 3
   },
   "file_extension": ".py",
   "mimetype": "text/x-python",
   "name": "python",
   "nbconvert_exporter": "python",
   "pygments_lexer": "ipython3",
   "version": "3.9.6"
  },
  "orig_nbformat": 4,
  "kernelspec": {
   "name": "python3",
   "display_name": "Python 3.9.6 64-bit ('base': conda)"
  },
  "interpreter": {
   "hash": "98b0a9b7b4eaaa670588a142fd0a9b87eaafe866f1db4228be72b4211d12040f"
  }
 },
 "nbformat": 4,
 "nbformat_minor": 2,
 "cells": [
  {
   "cell_type": "markdown",
   "source": [
    "#  Auto Analyser generated code (1)"
   ],
   "metadata": {}
  },
  {
   "cell_type": "code",
   "execution_count": 1,
   "source": [
    "from jpype import startJVM, getDefaultJVMPath, JArray, JInt, JPackage, shutdownJVM\n",
    "import numpy\n",
    "import sys\n",
    "# Our python data file readers are a bit of a hack, python users will do better on this:\n",
    "sys.path.append(\"/home/jovyan/notebooks/jidt/demos/python\")\n",
    "import readIntsFile\n",
    "\n",
    "# Add JIDT jar library to the path\n",
    "jarLocation = \"/home/jovyan/notebooks/jidt/infodynamics.jar\"\n",
    "# Start the JVM (add the \"-Xmx\" option with say 1024M if you get crashes due to not enough memory space)\n",
    "startJVM(getDefaultJVMPath(), \"-ea\", \"-Djava.class.path=\" + jarLocation)"
   ],
   "outputs": [],
   "metadata": {}
  },
  {
   "cell_type": "code",
   "execution_count": 2,
   "source": [
    "# 0. Load/prepare the data:\n",
    "dataRaw = readIntsFile.readIntsFile(\"/home/jovyan/notebooks/jidt/demos/data/2coupledDiscreteCols-1.txt\")\n",
    "# As numpy array:\n",
    "data = numpy.array(dataRaw)\n",
    "source = JArray(JInt, 1)(data[:,0].tolist())\n",
    "destination = JArray(JInt, 1)(data[:,1].tolist())\n",
    "\n"
   ],
   "outputs": [
    {
     "output_type": "stream",
     "name": "stdout",
     "text": [
      "MI_Discrete(col_0 -> col_1) = 0.0007 bits\n"
     ]
    }
   ],
   "metadata": {}
  },
  {
   "cell_type": "code",
   "execution_count": 20,
   "source": [],
   "outputs": [],
   "metadata": {}
  },
  {
   "cell_type": "code",
   "execution_count": 29,
   "source": [
    "\n",
    "def doitagain():\n",
    "    # Load some other data\n",
    "\n",
    "    source_p = numpy.random.randint(0,2,10)\n",
    "    source = JArray(JInt, 1)(source_p.tolist())\n",
    "\n",
    "    destination = source\n",
    "    # 1. Construct the calculator:\n",
    "    calcClass = JPackage(\"infodynamics.measures.discrete\").MutualInformationCalculatorDiscrete\n",
    "    calc = calcClass(4, 4, 0)\n",
    "    # 2. No other properties to set for discrete calculators.\n",
    "    # 3. Initialise the calculator for (re-)use:\n",
    "    calc.initialise()\n",
    "    # 4. Supply the sample data:\n",
    "    calc.addObservations(source, destination)\n",
    "    # 5. Compute the estimate:\n",
    "    result = calc.computeAverageLocalOfObservations()\n",
    "\n",
    "\n",
    "    #print(\"MI_Discrete(col_0 -> col_1) = %.4f bits\" %\n",
    "    #   (result))\n",
    "    return result"
   ],
   "outputs": [],
   "metadata": {}
  },
  {
   "cell_type": "markdown",
   "source": [
    "Weirdly the Mutual Information is not 1 bit as expected \n",
    "\n",
    "Maybe it is due to the parameters (alphabet, lag?)\n",
    "\n",
    "results = [1, 0.8813, 1, 0.9710,  ]"
   ],
   "metadata": {}
  },
  {
   "cell_type": "code",
   "execution_count": 30,
   "source": [
    "results=[]\n",
    "for i in range(10):\n",
    "    results.append(doitagain())\n",
    "\n",
    "print(results)"
   ],
   "outputs": [
    {
     "output_type": "stream",
     "name": "stdout",
     "text": [
      "[0.8812908992306926, 0.9709505944546686, 0.8812908992306926, 0.9709505944546686, 0.9709505944546686, 1.0, 0.7219280948873621, 0.9709505944546686, 0.7219280948873621, 0.8812908992306926]\n"
     ]
    }
   ],
   "metadata": {}
  },
  {
   "cell_type": "code",
   "execution_count": 31,
   "source": [
    "import numpy as np\n",
    "np.average(results)\n"
   ],
   "outputs": [
    {
     "output_type": "execute_result",
     "data": {
      "text/plain": [
       "0.09722355612912735"
      ]
     },
     "metadata": {},
     "execution_count": 31
    }
   ],
   "metadata": {}
  },
  {
   "cell_type": "markdown",
   "source": [
    "In the lecture we noted that MI is typically biased upwards, which referred to situations where variables don't actually share any information;  \n",
    " where variables do indeed share information, the MI can be biased downwards as is the case here.   \n",
    " Also try to increase the number of samples (e.g. upwards from 10 random bits to 100) and see how the bias and variance change."
   ],
   "metadata": {}
  },
  {
   "cell_type": "code",
   "execution_count": 33,
   "source": [
    "results=[]\n",
    "for i in range(100):\n",
    "    results.append(doitagain())\n",
    "\n",
    "print('Average of 100 samples: {}'.format(np.average(results)))\n",
    "print('Std of 100 samples: {}'.format(np.std(results)))\n"
   ],
   "outputs": [
    {
     "output_type": "stream",
     "name": "stdout",
     "text": [
      "Average of 100 samples: 0.9089688257212785\n",
      "Std of 100 samples: 0.13143825707580506\n"
     ]
    }
   ],
   "metadata": {}
  },
  {
   "cell_type": "code",
   "execution_count": 34,
   "source": [
    "results=[]\n",
    "for i in range(1000):\n",
    "    results.append(doitagain())\n",
    "\n",
    "print('Average of 1000 samples: {}'.format(np.average(results)))\n",
    "print('Std of 1000 samples: {}'.format(np.std(results)))"
   ],
   "outputs": [
    {
     "output_type": "stream",
     "name": "stdout",
     "text": [
      "Average of 1000 samples: 0.9168574510625004\n",
      "Std of 1000 samples: 0.123326990440028\n"
     ]
    }
   ],
   "metadata": {}
  }
 ]
}