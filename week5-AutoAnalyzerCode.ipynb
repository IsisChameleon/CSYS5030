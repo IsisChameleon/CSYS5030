{
 "metadata": {
  "language_info": {
   "codemirror_mode": {
    "name": "ipython",
    "version": 3
   },
   "file_extension": ".py",
   "mimetype": "text/x-python",
   "name": "python",
   "nbconvert_exporter": "python",
   "pygments_lexer": "ipython3",
   "version": "3.9.6"
  },
  "orig_nbformat": 4,
  "kernelspec": {
   "name": "python3",
   "display_name": "Python 3.9.6 64-bit ('base': conda)"
  },
  "interpreter": {
   "hash": "98b0a9b7b4eaaa670588a142fd0a9b87eaafe866f1db4228be72b4211d12040f"
  }
 },
 "nbformat": 4,
 "nbformat_minor": 2,
 "cells": [
  {
   "cell_type": "markdown",
   "source": [
    "#  Auto Analyser generated code (1)"
   ],
   "metadata": {}
  },
  {
   "cell_type": "code",
   "execution_count": 3,
   "source": [
    "from jpype import startJVM, getDefaultJVMPath, JArray, JInt, JPackage, shutdownJVM, isJVMStarted\n",
    "import numpy as np\n",
    "import sys\n",
    "# Our python data file readers are a bit of a hack, python users will do better on this:\n",
    "sys.path.append(\"/home/jovyan/notebooks/jidt/demos/python\")\n",
    "import readIntsFile\n",
    "\n",
    "# Add JIDT jar library to the path\n",
    "jarLocation = \"/home/jovyan/notebooks/jidt/infodynamics.jar\"\n",
    "# Start the JVM (add the \"-Xmx\" option with say 1024M if you get crashes due to not enough memory space)\n",
    "if (not isJVMStarted()):\n",
    "    startJVM(getDefaultJVMPath(), \"-ea\", \"-Djava.class.path=\" + jarLocation)"
   ],
   "outputs": [],
   "metadata": {}
  },
  {
   "cell_type": "code",
   "execution_count": 4,
   "source": [
    "# 0. Load/prepare the data:\n",
    "dataRaw = readIntsFile.readIntsFile(\"/home/jovyan/notebooks/jidt/demos/data/2coupledDiscreteCols-1.txt\")\n",
    "# As numpy array:\n",
    "data = numpy.array(dataRaw)\n",
    "source = JArray(JInt, 1)(data[:,0].tolist())\n",
    "destination = JArray(JInt, 1)(data[:,1].tolist())\n",
    "\n"
   ],
   "outputs": [],
   "metadata": {}
  },
  {
   "cell_type": "code",
   "execution_count": 20,
   "source": [],
   "outputs": [],
   "metadata": {}
  },
  {
   "cell_type": "code",
   "execution_count": 47,
   "source": [
    "\n",
    "def doitagain(sampleSize):\n",
    "    # Load some other data\n",
    "\n",
    "    source_p = numpy.random.randint(0,2,sampleSize)\n",
    "    source = JArray(JInt, 1)(source_p.tolist())\n",
    "\n",
    "    destination = source\n",
    "    # 1. Construct the calculator:\n",
    "    calcClass = JPackage(\"infodynamics.measures.discrete\").MutualInformationCalculatorDiscrete\n",
    "    calc = calcClass(2, 2, 0)\n",
    "    # 2. No other properties to set for discrete calculators.\n",
    "    # 3. Initialise the calculator for (re-)use:\n",
    "    calc.initialise()\n",
    "    # 4. Supply the sample data:\n",
    "    calc.addObservations(source, destination)\n",
    "    # 5. Compute the estimate:\n",
    "    result = calc.computeAverageLocalOfObservations()\n",
    "\n",
    "\n",
    "    #print(\"MI_Discrete(col_0 -> col_1) = %.4f bits\" %\n",
    "    #   (result))\n",
    "    return result"
   ],
   "outputs": [],
   "metadata": {}
  },
  {
   "cell_type": "markdown",
   "source": [
    "Weirdly the Mutual Information is not 1 bit as expected \n",
    "\n",
    "Maybe it is due to the parameters (alphabet, lag?)\n",
    "\n",
    "results = [1, 0.8813, 1, 0.9710,  ]"
   ],
   "metadata": {}
  },
  {
   "cell_type": "code",
   "execution_count": 49,
   "source": [
    "results=[]\n",
    "for i in range(10):\n",
    "    results.append(doitagain(1000))\n",
    "\n",
    "print('Average results: {}'.format(np.average(results)))\n",
    "print('Std results: {}'.format(np.std(results)))"
   ],
   "outputs": [
    {
     "output_type": "stream",
     "name": "stdout",
     "text": [
      "Average results: 0.9996455996250022\n",
      "Std results: 0.00044349519460530515\n"
     ]
    }
   ],
   "metadata": {}
  },
  {
   "cell_type": "markdown",
   "source": [
    "In the lecture we noted that MI is typically biased upwards, which referred to situations where variables don't actually share any information;  \n",
    " where variables do indeed share information, the MI can be biased downwards as is the case here.   \n",
    " Also try to increase the number of samples (e.g. upwards from 10 random bits to 100) and see how the bias and variance change."
   ],
   "metadata": {}
  },
  {
   "cell_type": "code",
   "execution_count": 35,
   "source": [
    "from jpype import isJVMStarted"
   ],
   "outputs": [],
   "metadata": {}
  },
  {
   "cell_type": "code",
   "execution_count": 36,
   "source": [
    "isJVMStarted()"
   ],
   "outputs": [
    {
     "output_type": "execute_result",
     "data": {
      "text/plain": [
       "True"
      ]
     },
     "metadata": {},
     "execution_count": 36
    }
   ],
   "metadata": {}
  },
  {
   "cell_type": "code",
   "execution_count": null,
   "source": [],
   "outputs": [],
   "metadata": {}
  }
 ]
}