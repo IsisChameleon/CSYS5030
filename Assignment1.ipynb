{
 "cells": [
  {
   "cell_type": "code",
   "execution_count": 5,
   "id": "9077230b-5fee-4c91-b325-f7d8943db6b7",
   "metadata": {},
   "outputs": [],
   "source": [
    "from week1 import infocontent, entropy\n"
   ]
  },
  {
   "cell_type": "code",
   "execution_count": 4,
   "id": "b9232390-790a-4dfe-ac8e-7b31865b903b",
   "metadata": {},
   "outputs": [
    {
     "data": {
      "text/plain": [
       "3.584962500721156"
      ]
     },
     "execution_count": 4,
     "metadata": {},
     "output_type": "execute_result"
    }
   ],
   "source": [
    "infocontent(1/12)"
   ]
  },
  {
   "cell_type": "code",
   "execution_count": 6,
   "id": "feac7bbd-9174-45aa-af5c-028d2b256b93",
   "metadata": {},
   "outputs": [
    {
     "data": {
      "text/plain": [
       "0.6500224216483541"
      ]
     },
     "execution_count": 6,
     "metadata": {},
     "output_type": "execute_result"
    }
   ],
   "source": [
    "entropy([5/6, 1/6])"
   ]
  },
  {
   "cell_type": "code",
   "execution_count": 7,
   "id": "ed19d9b0-f76f-4a53-b7f7-24f44d305360",
   "metadata": {},
   "outputs": [
    {
     "data": {
      "text/plain": [
       "0.9798687566511528"
      ]
     },
     "execution_count": 7,
     "metadata": {},
     "output_type": "execute_result"
    }
   ],
   "source": [
    "entropy([7/12, 5/12])"
   ]
  },
  {
   "cell_type": "code",
   "execution_count": 14,
   "id": "ca22cead-a872-46d8-b09e-fcd7ada54b67",
   "metadata": {},
   "outputs": [],
   "source": [
    "import numpy as np\n",
    "p=np.array([[1/2, 1/12],[1/3, 1/12]])"
   ]
  },
  {
   "cell_type": "code",
   "execution_count": 26,
   "id": "9f0e3709-431a-4072-93f2-e96438e81ba7",
   "metadata": {},
   "outputs": [],
   "source": [
    "from week1 import marginalX, marginalY, jointEntropyEmpirical, jointEntropy"
   ]
  },
  {
   "cell_type": "code",
   "execution_count": 17,
   "id": "3ecb7d05-c87e-4b05-9d68-f279cc0437cd",
   "metadata": {},
   "outputs": [],
   "source": [
    "X=marginalX(p)\n",
    "Y=marginalY(p)"
   ]
  },
  {
   "cell_type": "code",
   "execution_count": 27,
   "id": "9f8827ef-18c2-4c1f-a9f1-96da1be40136",
   "metadata": {},
   "outputs": [],
   "source": [
    "Hxy = jointEntropy(p)"
   ]
  },
  {
   "cell_type": "code",
   "execution_count": 28,
   "id": "ef339a28-77de-4f1f-87e2-964ab62a4073",
   "metadata": {},
   "outputs": [
    {
     "data": {
      "text/plain": [
       "1.6258145836939115"
      ]
     },
     "execution_count": 28,
     "metadata": {},
     "output_type": "execute_result"
    }
   ],
   "source": [
    "Hxy\n"
   ]
  },
  {
   "cell_type": "code",
   "execution_count": 22,
   "id": "bf3d396a-c46a-4395-bcf8-8eabed726db9",
   "metadata": {},
   "outputs": [
    {
     "data": {
      "text/plain": [
       "array([[0.5       , 0.08333333],\n",
       "       [0.33333333, 0.08333333]])"
      ]
     },
     "execution_count": 22,
     "metadata": {},
     "output_type": "execute_result"
    }
   ],
   "source": [
    "p"
   ]
  },
  {
   "cell_type": "code",
   "execution_count": 23,
   "id": "c9c37699-dee3-4a32-9720-d6f6b56632d8",
   "metadata": {},
   "outputs": [
    {
     "data": {
      "text/plain": [
       "0.08333333333333333"
      ]
     },
     "execution_count": 23,
     "metadata": {},
     "output_type": "execute_result"
    }
   ],
   "source": [
    "1/12"
   ]
  },
  {
   "cell_type": "code",
   "execution_count": 24,
   "id": "8ab72027-8908-4df7-8870-ccf38015cb6f",
   "metadata": {},
   "outputs": [
    {
     "data": {
      "text/plain": [
       "1.6258145836939115"
      ]
     },
     "execution_count": 24,
     "metadata": {},
     "output_type": "execute_result"
    }
   ],
   "source": [
    "-0.5*np.log2(0.5)-(1/3)*np.log2(1/3)-2*(1/12)*np.log2(1/12)"
   ]
  },
  {
   "cell_type": "code",
   "execution_count": 29,
   "id": "cd8a1ac3-a773-43e0-879f-ad23cf28446d",
   "metadata": {},
   "outputs": [
    {
     "data": {
      "text/plain": [
       "1.5849625007211563"
      ]
     },
     "execution_count": 29,
     "metadata": {},
     "output_type": "execute_result"
    }
   ],
   "source": [
    "-np.log2(1/3)"
   ]
  },
  {
   "cell_type": "code",
   "execution_count": 31,
   "id": "20a03287-2d9c-4e3f-8d43-ddc70d9a02c1",
   "metadata": {},
   "outputs": [
    {
     "data": {
      "text/plain": [
       "0.32200000000000006"
      ]
     },
     "execution_count": 31,
     "metadata": {},
     "output_type": "execute_result"
    }
   ],
   "source": [
    "1.5850 -1.2630"
   ]
  },
  {
   "cell_type": "code",
   "execution_count": 32,
   "id": "c2f36a81-6655-4a34-b7ed-c5b6a1c3743a",
   "metadata": {},
   "outputs": [
    {
     "data": {
      "text/plain": [
       "-0.05900000000000016"
      ]
     },
     "execution_count": 32,
     "metadata": {},
     "output_type": "execute_result"
    }
   ],
   "source": [
    "0.2630 + 1.2630 -1.5850"
   ]
  },
  {
   "cell_type": "code",
   "execution_count": 33,
   "id": "ca76cd1d-de09-4e03-b2b1-56bfd7389e98",
   "metadata": {},
   "outputs": [
    {
     "data": {
      "text/plain": [
       "-0.05900000000000016"
      ]
     },
     "execution_count": 33,
     "metadata": {},
     "output_type": "execute_result"
    }
   ],
   "source": [
    "1.2630 - 1.322"
   ]
  },
  {
   "cell_type": "code",
   "execution_count": 34,
   "id": "4e436d56-ef99-4c0d-824d-c3aa28d69f24",
   "metadata": {},
   "outputs": [
    {
     "data": {
      "text/plain": [
       "-0.059"
      ]
     },
     "execution_count": 34,
     "metadata": {},
     "output_type": "execute_result"
    }
   ],
   "source": [
    "0.2630 - 0.322"
   ]
  },
  {
   "cell_type": "code",
   "execution_count": 35,
   "id": "ca0c4c6a-d7d7-4726-9cfa-0a49500b1e4d",
   "metadata": {},
   "outputs": [
    {
     "data": {
      "text/plain": [
       "0.004100000000000215"
      ]
     },
     "execution_count": 35,
     "metadata": {},
     "output_type": "execute_result"
    }
   ],
   "source": [
    "0.65 + 0.9799 - 1.6258"
   ]
  },
  {
   "cell_type": "markdown",
   "id": "40894d06-c5c8-4c9d-8f1c-c10032a4000e",
   "metadata": {},
   "source": [
    "# Question 2"
   ]
  },
  {
   "cell_type": "code",
   "execution_count": 36,
   "id": "d70106bd-7cf2-4c41-bfbb-81917782e8f5",
   "metadata": {},
   "outputs": [
    {
     "data": {
      "text/plain": [
       "4.584962500721156"
      ]
     },
     "execution_count": 36,
     "metadata": {},
     "output_type": "execute_result"
    }
   ],
   "source": [
    "-np.log2(1/24)"
   ]
  },
  {
   "cell_type": "code",
   "execution_count": 37,
   "id": "01c7a76e-3bf0-44fd-bac2-ebcf344a3ae8",
   "metadata": {},
   "outputs": [
    {
     "data": {
      "text/plain": [
       "3.0"
      ]
     },
     "execution_count": 37,
     "metadata": {},
     "output_type": "execute_result"
    }
   ],
   "source": [
    "-np.log2(1/8)"
   ]
  },
  {
   "cell_type": "code",
   "execution_count": 38,
   "id": "644f9769-6e01-4a08-bf05-25119b0b3911",
   "metadata": {},
   "outputs": [
    {
     "data": {
      "text/plain": [
       "0.7382848661434506"
      ]
     },
     "execution_count": 38,
     "metadata": {},
     "output_type": "execute_result"
    }
   ],
   "source": [
    "entropy([5/24, 19/24])"
   ]
  },
  {
   "cell_type": "code",
   "execution_count": 39,
   "id": "1c2b3730-461f-4823-b40b-538be796ce39",
   "metadata": {},
   "outputs": [
    {
     "data": {
      "text/plain": [
       "0.7382848661434506"
      ]
     },
     "execution_count": 39,
     "metadata": {},
     "output_type": "execute_result"
    }
   ],
   "source": [
    "-(5/24)*np.log2(5/24)-(19/24)*np.log2(19/24)"
   ]
  },
  {
   "cell_type": "code",
   "execution_count": 40,
   "id": "c5a0f814-fe83-4816-b901-dbcb853b4a4b",
   "metadata": {},
   "outputs": [
    {
     "data": {
      "text/plain": [
       "1.438721875540867"
      ]
     },
     "execution_count": 40,
     "metadata": {},
     "output_type": "execute_result"
    }
   ],
   "source": [
    "-(1/12)*np.log2(1/12) - 2*(1/8)*np.log2(1/8) - (2/3)*np.log2(2/3)"
   ]
  },
  {
   "cell_type": "code",
   "execution_count": 41,
   "id": "8ab156e1-d8d1-4cf4-8ba5-1c5c840f1929",
   "metadata": {},
   "outputs": [],
   "source": [
    "p=[ [1/12, 1/8 ],                  [1/8, 2/3 ] ]\n"
   ]
  },
  {
   "cell_type": "code",
   "execution_count": 42,
   "id": "be6ca809-6d01-4883-9e30-94dd1bd0d05b",
   "metadata": {},
   "outputs": [
    {
     "data": {
      "text/plain": [
       "1.438721875540867"
      ]
     },
     "execution_count": 42,
     "metadata": {},
     "output_type": "execute_result"
    }
   ],
   "source": [
    "jointEntropy(p)"
   ]
  },
  {
   "cell_type": "code",
   "execution_count": 43,
   "id": "aded5913-5f06-4005-8c69-f8ff7da533ca",
   "metadata": {},
   "outputs": [
    {
     "data": {
      "text/plain": [
       "0.03789999999999982"
      ]
     },
     "execution_count": 43,
     "metadata": {},
     "output_type": "execute_result"
    }
   ],
   "source": [
    "0.7383*2 - 1.4387"
   ]
  },
  {
   "cell_type": "code",
   "execution_count": 44,
   "id": "1742469d-2bd4-4b47-b91d-7f8d48408045",
   "metadata": {},
   "outputs": [],
   "source": [
    "from week1 import mutualInformation"
   ]
  },
  {
   "cell_type": "code",
   "execution_count": 45,
   "id": "6e657044-37ee-4cd0-8bd2-cac082e1d705",
   "metadata": {},
   "outputs": [
    {
     "data": {
      "text/plain": [
       "0.03784785674603386"
      ]
     },
     "execution_count": 45,
     "metadata": {},
     "output_type": "execute_result"
    }
   ],
   "source": [
    "mutualInformation(p)"
   ]
  },
  {
   "cell_type": "code",
   "execution_count": 46,
   "id": "d533b8ca-2f99-4faf-941e-ddd7861c9fbb",
   "metadata": {},
   "outputs": [
    {
     "data": {
      "text/plain": [
       "0.7382848661434506"
      ]
     },
     "execution_count": 46,
     "metadata": {},
     "output_type": "execute_result"
    }
   ],
   "source": [
    "entropy([5/24, 19/24])"
   ]
  },
  {
   "cell_type": "code",
   "execution_count": 47,
   "id": "8777bf93-5736-407c-86c2-e92820723522",
   "metadata": {},
   "outputs": [
    {
     "data": {
      "text/plain": [
       "0.03784785674603408"
      ]
     },
     "execution_count": 47,
     "metadata": {},
     "output_type": "execute_result"
    }
   ],
   "source": [
    "entropy([5/24, 19/24])*2 - jointEntropy(p)"
   ]
  },
  {
   "cell_type": "code",
   "execution_count": 48,
   "id": "d1b924a6-5d9a-43ab-a90d-4a6f78599b0d",
   "metadata": {},
   "outputs": [
    {
     "data": {
      "text/plain": [
       "0.9182958340544896"
      ]
     },
     "execution_count": 48,
     "metadata": {},
     "output_type": "execute_result"
    }
   ],
   "source": [
    "-(2/3)*np.log2(2/3) - (1/3)*np.log2(1/3)"
   ]
  },
  {
   "cell_type": "markdown",
   "id": "3d10ac3a-a605-478e-834f-8311b3069c61",
   "metadata": {},
   "source": [
    "Question 4."
   ]
  },
  {
   "cell_type": "code",
   "execution_count": 50,
   "id": "0668a5a5-4501-4f22-b004-cc20047d0449",
   "metadata": {},
   "outputs": [
    {
     "name": "stderr",
     "output_type": "stream",
     "text": [
      "No handles with labels found to put in legend.\n"
     ]
    },
    {
     "data": {
      "image/png": "[encoded data removed]",
      "text/plain": [
       "<Figure size 648x432 with 1 Axes>"
      ]
     },
     "metadata": {
      "needs_background": "light"
     },
     "output_type": "display_data"
    }
   ],
   "source": [
    "import matplotlib.pyplot as plt\n",
    "from week1 import entropy, mutualInformation, marginalX, marginalY\n",
    "\n",
    "def getJointProbabilities(a):\n",
    "    # !! X = in rows\n",
    "    #    Y = in columns\n",
    "    # !! using the transpose of the exercise matrix:\n",
    "    #  1-a , 0, a/12\n",
    "    #  a/3, a/12, 0\n",
    "    #  0,   a/3, a/6\n",
    "    return np.array([[1-a, 0, a/12],[a/3, a/12, 0],[0, a/3, a/6]])\n",
    "\n",
    "As = np.linspace(0, 1, num=101)\n",
    "\n",
    "ps = [ getJointProbabilities(a) for a in As ]\n",
    "\n",
    "Hxs = [entropy(marginalX(p)) for p in ps]\n",
    "Hys = [entropy(marginalY(p)) for p in ps]\n",
    "Ixy = [mutualInformation(p)  for p in ps]\n",
    "\n",
    "fig, axs = plt.subplots(1, 1, figsize=(9, 6))  \n",
    "axs.plot(As, Hxs, 'ro')\n",
    "axs.plot(As, Hys, 'ro')\n",
    "axs.plot(As, Ixy, 'ro')\n",
    "axs.set_title('Hx Hy Ixy as a function of a')\n",
    "axs.set_xlabel('a')\n",
    "plt.legend()\n",
    "plt.show()"
   ]
  },
  {
   "cell_type": "code",
   "execution_count": null,
   "id": "49891ea3-13d9-4939-8ad1-9080180f3c65",
   "metadata": {},
   "outputs": [],
   "source": []
  }
 ],
 "metadata": {
  "kernelspec": {
   "display_name": "Python 3",
   "language": "python",
   "name": "python3"
  },
  "language_info": {
   "codemirror_mode": {
    "name": "ipython",
    "version": 3
   },
   "file_extension": ".py",
   "mimetype": "text/x-python",
   "name": "python",
   "nbconvert_exporter": "python",
   "pygments_lexer": "ipython3",
   "version": "3.9.2"
  }
 },
 "nbformat": 4,
 "nbformat_minor": 5
}
