{
 "cells": [
  {
   "cell_type": "code",
   "execution_count": 9,
   "id": "b5e18d0a",
   "metadata": {},
   "outputs": [],
   "source": [
    "from week1 import infocontent, entropy, jointEntropy, marginalX, marginalY\n",
    "import numpy as np"
   ]
  },
  {
   "cell_type": "code",
   "execution_count": 10,
   "id": "e835a7d9-786c-4c9e-a419-c8ee132b844f",
   "metadata": {},
   "outputs": [],
   "source": [
    "p = np.array([[0.5, 1/3],[1/12,1/12]])"
   ]
  },
  {
   "cell_type": "code",
   "execution_count": 11,
   "id": "f0de21ab-3f55-4f72-8ddf-d74e1437e669",
   "metadata": {},
   "outputs": [
    {
     "name": "stdout",
     "output_type": "stream",
     "text": [
      "px:  [0.83333333 0.16666667]\n",
      "py:  [0.58333333 0.41666667]\n"
     ]
    }
   ],
   "source": [
    "px = marginalX(p)\n",
    "py= marginalY(p)\n",
    "print('px: ', px)\n",
    "print('py: ', py)"
   ]
  },
  {
   "cell_type": "code",
   "execution_count": 17,
   "id": "b0344fa0-808b-4ae2-9da5-fa105fee5832",
   "metadata": {},
   "outputs": [
    {
     "data": {
      "text/plain": [
       "0.4166666666666667"
      ]
     },
     "execution_count": 17,
     "metadata": {},
     "output_type": "execute_result"
    }
   ],
   "source": [
    "5"
   ]
  },
  {
   "cell_type": "code",
   "execution_count": 14,
   "id": "6d4d5dd2-6f56-4b76-b8b5-c817097ea5da",
   "metadata": {},
   "outputs": [],
   "source": [
    "# Question a"
   ]
  },
  {
   "cell_type": "code",
   "execution_count": 12,
   "id": "0e27b1b6-c10c-4964-8d5a-c3df8746f5d3",
   "metadata": {},
   "outputs": [
    {
     "data": {
      "text/plain": [
       "0.26303440583379395"
      ]
     },
     "execution_count": 12,
     "metadata": {},
     "output_type": "execute_result"
    }
   ],
   "source": [
    "infocontent(px[0])"
   ]
  },
  {
   "cell_type": "code",
   "execution_count": 13,
   "id": "be2df4d7-fdc0-4355-bfa7-92dd627d9abb",
   "metadata": {},
   "outputs": [
    {
     "data": {
      "text/plain": [
       "2.584962500721156"
      ]
     },
     "execution_count": 13,
     "metadata": {},
     "output_type": "execute_result"
    }
   ],
   "source": [
    "infocontent(px[1])"
   ]
  },
  {
   "cell_type": "code",
   "execution_count": 15,
   "id": "64bcb5b3-5c6f-470f-b6d2-cfdb0d38caf3",
   "metadata": {},
   "outputs": [
    {
     "data": {
      "text/plain": [
       "3.584962500721156"
      ]
     },
     "execution_count": 15,
     "metadata": {},
     "output_type": "execute_result"
    }
   ],
   "source": [
    "# question b\n",
    "-np.log2(p[1][1])"
   ]
  },
  {
   "cell_type": "code",
   "execution_count": 18,
   "id": "cb3261fc-17c4-43cf-aa10-2a1fa9b1f76c",
   "metadata": {},
   "outputs": [
    {
     "data": {
      "text/plain": [
       "0.6500224216483543"
      ]
     },
     "execution_count": 18,
     "metadata": {},
     "output_type": "execute_result"
    }
   ],
   "source": [
    "# question d\n",
    "entropy(px)"
   ]
  },
  {
   "cell_type": "code",
   "execution_count": 19,
   "id": "910bd31a-8059-4e25-962a-1f3987a12070",
   "metadata": {},
   "outputs": [
    {
     "data": {
      "text/plain": [
       "0.9798687566511528"
      ]
     },
     "execution_count": 19,
     "metadata": {},
     "output_type": "execute_result"
    }
   ],
   "source": [
    "entropy(py)"
   ]
  },
  {
   "cell_type": "code",
   "execution_count": 20,
   "id": "0a043068-ed4b-44a2-a9b1-1c48e65fc845",
   "metadata": {},
   "outputs": [
    {
     "data": {
      "text/plain": [
       "1.6258145836939115"
      ]
     },
     "execution_count": 20,
     "metadata": {},
     "output_type": "execute_result"
    }
   ],
   "source": [
    "#question 1.e\n",
    "jointEntropy(p)"
   ]
  },
  {
   "cell_type": "code",
   "execution_count": 22,
   "id": "6cc63f38",
   "metadata": {},
   "outputs": [
    {
     "data": {
      "text/plain": [
       "0.9757921620455571"
      ]
     },
     "execution_count": 22,
     "metadata": {},
     "output_type": "execute_result"
    }
   ],
   "source": [
    "from week1 import conditionalEntropy\n",
    "conditionalEntropy(np.transpose(p))"
   ]
  },
  {
   "cell_type": "code",
   "execution_count": 6,
   "id": "0fd55d7e",
   "metadata": {},
   "outputs": [
    {
     "data": {
      "text/plain": [
       "0.6500224216483541"
      ]
     },
     "execution_count": 6,
     "metadata": {},
     "output_type": "execute_result"
    }
   ],
   "source": [
    "entropy([5/6, 1/6])"
   ]
  },
  {
   "cell_type": "code",
   "execution_count": 7,
   "id": "e1ed8df4",
   "metadata": {},
   "outputs": [
    {
     "data": {
      "text/plain": [
       "0.9798687566511528"
      ]
     },
     "execution_count": 7,
     "metadata": {},
     "output_type": "execute_result"
    }
   ],
   "source": [
    "entropy([7/12, 5/12])"
   ]
  },
  {
   "cell_type": "code",
   "execution_count": 14,
   "id": "bda9b1dd",
   "metadata": {},
   "outputs": [],
   "source": [
    "import numpy as np\n",
    "p=np.array([[1/2, 1/12],[1/3, 1/12]])"
   ]
  },
  {
   "cell_type": "code",
   "execution_count": 26,
   "id": "29a147da",
   "metadata": {},
   "outputs": [],
   "source": [
    "from week1 import marginalX, marginalY, jointEntropyEmpirical, jointEntropy"
   ]
  },
  {
   "cell_type": "code",
   "execution_count": 17,
   "id": "fe0c87b2",
   "metadata": {},
   "outputs": [],
   "source": [
    "X=marginalX(p)\n",
    "Y=marginalY(p)"
   ]
  },
  {
   "cell_type": "code",
   "execution_count": 27,
   "id": "f652ce84",
   "metadata": {},
   "outputs": [],
   "source": [
    "Hxy = jointEntropy(p)"
   ]
  },
  {
   "cell_type": "code",
   "execution_count": 28,
   "id": "9141c036",
   "metadata": {},
   "outputs": [
    {
     "data": {
      "text/plain": [
       "1.6258145836939115"
      ]
     },
     "execution_count": 28,
     "metadata": {},
     "output_type": "execute_result"
    }
   ],
   "source": [
    "Hxy\n"
   ]
  },
  {
   "cell_type": "code",
   "execution_count": 22,
   "id": "7ad82bc0",
   "metadata": {},
   "outputs": [
    {
     "data": {
      "text/plain": [
       "array([[0.5       , 0.08333333],\n",
       "       [0.33333333, 0.08333333]])"
      ]
     },
     "execution_count": 22,
     "metadata": {},
     "output_type": "execute_result"
    }
   ],
   "source": [
    "p"
   ]
  },
  {
   "cell_type": "code",
   "execution_count": 23,
   "id": "ca2af0b3",
   "metadata": {},
   "outputs": [
    {
     "data": {
      "text/plain": [
       "0.08333333333333333"
      ]
     },
     "execution_count": 23,
     "metadata": {},
     "output_type": "execute_result"
    }
   ],
   "source": [
    "1/12"
   ]
  },
  {
   "cell_type": "code",
   "execution_count": 24,
   "id": "7fbad842",
   "metadata": {},
   "outputs": [
    {
     "data": {
      "text/plain": [
       "1.6258145836939115"
      ]
     },
     "execution_count": 24,
     "metadata": {},
     "output_type": "execute_result"
    }
   ],
   "source": [
    "-0.5*np.log2(0.5)-(1/3)*np.log2(1/3)-2*(1/12)*np.log2(1/12)"
   ]
  },
  {
   "cell_type": "code",
   "execution_count": 29,
   "id": "14fddc28",
   "metadata": {},
   "outputs": [
    {
     "data": {
      "text/plain": [
       "1.5849625007211563"
      ]
     },
     "execution_count": 29,
     "metadata": {},
     "output_type": "execute_result"
    }
   ],
   "source": [
    "-np.log2(1/3)"
   ]
  },
  {
   "cell_type": "code",
   "execution_count": 31,
   "id": "beea73f0",
   "metadata": {},
   "outputs": [
    {
     "data": {
      "text/plain": [
       "0.32200000000000006"
      ]
     },
     "execution_count": 31,
     "metadata": {},
     "output_type": "execute_result"
    }
   ],
   "source": [
    "1.5850 -1.2630"
   ]
  },
  {
   "cell_type": "code",
   "execution_count": 32,
   "id": "5d78d7da",
   "metadata": {},
   "outputs": [
    {
     "data": {
      "text/plain": [
       "-0.05900000000000016"
      ]
     },
     "execution_count": 32,
     "metadata": {},
     "output_type": "execute_result"
    }
   ],
   "source": [
    "0.2630 + 1.2630 -1.5850"
   ]
  },
  {
   "cell_type": "code",
   "execution_count": 33,
   "id": "0ca695f9",
   "metadata": {},
   "outputs": [
    {
     "data": {
      "text/plain": [
       "-0.05900000000000016"
      ]
     },
     "execution_count": 33,
     "metadata": {},
     "output_type": "execute_result"
    }
   ],
   "source": [
    "1.2630 - 1.322"
   ]
  },
  {
   "cell_type": "code",
   "execution_count": 34,
   "id": "5bde3204",
   "metadata": {},
   "outputs": [
    {
     "data": {
      "text/plain": [
       "-0.059"
      ]
     },
     "execution_count": 34,
     "metadata": {},
     "output_type": "execute_result"
    }
   ],
   "source": [
    "0.2630 - 0.322"
   ]
  },
  {
   "cell_type": "code",
   "execution_count": 35,
   "id": "cd30cd26",
   "metadata": {},
   "outputs": [
    {
     "data": {
      "text/plain": [
       "0.004100000000000215"
      ]
     },
     "execution_count": 35,
     "metadata": {},
     "output_type": "execute_result"
    }
   ],
   "source": [
    "0.65 + 0.9799 - 1.6258"
   ]
  },
  {
   "cell_type": "markdown",
   "id": "2c41aa3e",
   "metadata": {},
   "source": [
    "# Question 2"
   ]
  },
  {
   "cell_type": "code",
   "execution_count": 36,
   "id": "6f58eb0c",
   "metadata": {},
   "outputs": [
    {
     "data": {
      "text/plain": [
       "4.584962500721156"
      ]
     },
     "execution_count": 36,
     "metadata": {},
     "output_type": "execute_result"
    }
   ],
   "source": [
    "-np.log2(1/24)"
   ]
  },
  {
   "cell_type": "code",
   "execution_count": 37,
   "id": "87feadd8",
   "metadata": {},
   "outputs": [
    {
     "data": {
      "text/plain": [
       "3.0"
      ]
     },
     "execution_count": 37,
     "metadata": {},
     "output_type": "execute_result"
    }
   ],
   "source": [
    "-np.log2(1/8)"
   ]
  },
  {
   "cell_type": "code",
   "execution_count": 38,
   "id": "41f61c00",
   "metadata": {},
   "outputs": [
    {
     "data": {
      "text/plain": [
       "0.7382848661434506"
      ]
     },
     "execution_count": 38,
     "metadata": {},
     "output_type": "execute_result"
    }
   ],
   "source": [
    "entropy([5/24, 19/24])"
   ]
  },
  {
   "cell_type": "code",
   "execution_count": 39,
   "id": "ac83d698",
   "metadata": {},
   "outputs": [
    {
     "data": {
      "text/plain": [
       "0.7382848661434506"
      ]
     },
     "execution_count": 39,
     "metadata": {},
     "output_type": "execute_result"
    }
   ],
   "source": [
    "-(5/24)*np.log2(5/24)-(19/24)*np.log2(19/24)"
   ]
  },
  {
   "cell_type": "code",
   "execution_count": 40,
   "id": "054f5f31",
   "metadata": {},
   "outputs": [
    {
     "data": {
      "text/plain": [
       "1.438721875540867"
      ]
     },
     "execution_count": 40,
     "metadata": {},
     "output_type": "execute_result"
    }
   ],
   "source": [
    "-(1/12)*np.log2(1/12) - 2*(1/8)*np.log2(1/8) - (2/3)*np.log2(2/3)"
   ]
  },
  {
   "cell_type": "code",
   "execution_count": 41,
   "id": "5ec44467",
   "metadata": {},
   "outputs": [],
   "source": [
    "p=[ [1/12, 1/8 ],                  [1/8, 2/3 ] ]\n"
   ]
  },
  {
   "cell_type": "code",
   "execution_count": 42,
   "id": "8e93228e",
   "metadata": {},
   "outputs": [
    {
     "data": {
      "text/plain": [
       "1.438721875540867"
      ]
     },
     "execution_count": 42,
     "metadata": {},
     "output_type": "execute_result"
    }
   ],
   "source": [
    "jointEntropy(p)"
   ]
  },
  {
   "cell_type": "code",
   "execution_count": 43,
   "id": "ab714cfa",
   "metadata": {},
   "outputs": [
    {
     "data": {
      "text/plain": [
       "0.03789999999999982"
      ]
     },
     "execution_count": 43,
     "metadata": {},
     "output_type": "execute_result"
    }
   ],
   "source": [
    "0.7383*2 - 1.4387"
   ]
  },
  {
   "cell_type": "code",
   "execution_count": 44,
   "id": "23ab0b5e",
   "metadata": {},
   "outputs": [],
   "source": [
    "from week1 import mutualInformation"
   ]
  },
  {
   "cell_type": "code",
   "execution_count": 45,
   "id": "6d1209b9",
   "metadata": {},
   "outputs": [
    {
     "data": {
      "text/plain": [
       "0.03784785674603386"
      ]
     },
     "execution_count": 45,
     "metadata": {},
     "output_type": "execute_result"
    }
   ],
   "source": [
    "mutualInformation(p)"
   ]
  },
  {
   "cell_type": "code",
   "execution_count": 46,
   "id": "51162bae",
   "metadata": {},
   "outputs": [
    {
     "data": {
      "text/plain": [
       "0.7382848661434506"
      ]
     },
     "execution_count": 46,
     "metadata": {},
     "output_type": "execute_result"
    }
   ],
   "source": [
    "entropy([5/24, 19/24])"
   ]
  },
  {
   "cell_type": "code",
   "execution_count": 47,
   "id": "3cb0ea61",
   "metadata": {},
   "outputs": [
    {
     "data": {
      "text/plain": [
       "0.03784785674603408"
      ]
     },
     "execution_count": 47,
     "metadata": {},
     "output_type": "execute_result"
    }
   ],
   "source": [
    "entropy([5/24, 19/24])*2 - jointEntropy(p)"
   ]
  },
  {
   "cell_type": "code",
   "execution_count": 48,
   "id": "ec177432",
   "metadata": {},
   "outputs": [
    {
     "data": {
      "text/plain": [
       "0.9182958340544896"
      ]
     },
     "execution_count": 48,
     "metadata": {},
     "output_type": "execute_result"
    }
   ],
   "source": [
    "-(2/3)*np.log2(2/3) - (1/3)*np.log2(1/3)"
   ]
  },
  {
   "cell_type": "markdown",
   "id": "c5a884c8",
   "metadata": {},
   "source": [
    "Question 4."
   ]
  },
  {
   "cell_type": "code",
   "execution_count": 25,
   "id": "139dc08b",
   "metadata": {},
   "outputs": [
    {
     "data": {
      "image/png": "[encoded data removed]",
      "text/plain": [
       "<Figure size 648x432 with 1 Axes>"
      ]
     },
     "metadata": {
      "needs_background": "light"
     },
     "output_type": "display_data"
    }
   ],
   "source": [
    "import matplotlib.pyplot as plt\n",
    "import numpy as np\n",
    "from week1 import entropy, mutualInformation, marginalX, marginalY, jointEntropy\n",
    "\n",
    "def getJointProbabilities(a):\n",
    "    # !! X = in rows\n",
    "    #    Y = in columns\n",
    "    # !! using the transpose of the exercise matrix:\n",
    "    #  1-a , 0, a/12\n",
    "    #  a/3, a/12, 0\n",
    "    #  0,   a/3, a/6\n",
    "    return np.array([[1-a, 0, a/12],[a/3, a/12, 0],[0, a/3, a/6]])\n",
    "\n",
    "As = np.linspace(0, 1, num=101)\n",
    "\n",
    "ps = [ getJointProbabilities(a) for a in As ]\n",
    "\n",
    "Hxs = [entropy(marginalX(p)) for p in ps]\n",
    "Hys = [entropy(marginalY(p)) for p in ps]\n",
    "Ixys = [mutualInformation(p)  for p in ps]\n",
    "Hxys = [jointEntropy(p) for p in ps]\n",
    "\n",
    "fig, axs = plt.subplots(1, 1, figsize=(9, 6))  \n",
    "axs.plot(As, Hxs, label='H(x) in bits')\n",
    "axs.plot(As, Hys, label='H(y) in bits')\n",
    "axs.plot(As, Ixys, label='I(x;y) in bits')\n",
    "#axs.plot(As, Hxys, label='H(x,y) in bits')\n",
    "#axs.plot(As, list(np.array(Hxs) + np.array(Hys)), label='H(x) + H(y) in bits')\n",
    "#axs.plot(As, list(np.array(Hxs) + np.array(Hys) - np.array(Hxys)), label='H(x) + H(y) - H(x,y) in bits')\n",
    "axs.set_title('Entropy and Mutual Information as a function of joint probability distribution parameter a')\n",
    "axs.set_xlabel('a')\n",
    "axs.set_ylabel('Entropy and Mutual Info in bits')\n",
    "plt.legend()\n",
    "plt.show()"
   ]
  },
  {
   "cell_type": "code",
   "execution_count": 65,
   "id": "c95602d5",
   "metadata": {},
   "outputs": [
    {
     "data": {
      "text/plain": [
       "[array([1., 0., 0.]),\n",
       " array([0.90833333, 0.04166667, 0.05      ]),\n",
       " array([0.81666667, 0.08333333, 0.1       ]),\n",
       " array([0.725, 0.125, 0.15 ]),\n",
       " array([0.63333333, 0.16666667, 0.2       ]),\n",
       " array([0.54166667, 0.20833333, 0.25      ]),\n",
       " array([0.45, 0.25, 0.3 ]),\n",
       " array([0.35833333, 0.29166667, 0.35      ]),\n",
       " array([0.26666667, 0.33333333, 0.4       ]),\n",
       " array([0.175, 0.375, 0.45 ]),\n",
       " array([0.08333333, 0.41666667, 0.5       ])]"
      ]
     },
     "execution_count": 65,
     "metadata": {},
     "output_type": "execute_result"
    }
   ],
   "source": [
    "[marginalY(p) for p in ps[slice(0, None, 10)]]"
   ]
  },
  {
   "cell_type": "code",
   "execution_count": 69,
   "id": "237ce477",
   "metadata": {},
   "outputs": [
    {
     "data": {
      "text/plain": [
       "[array([1., 0., 0.]),\n",
       " array([0.93333333, 0.04166667, 0.025     ]),\n",
       " array([0.86666667, 0.08333333, 0.05      ]),\n",
       " array([0.8  , 0.125, 0.075]),\n",
       " array([0.73333333, 0.16666667, 0.1       ]),\n",
       " array([0.66666667, 0.20833333, 0.125     ]),\n",
       " array([0.6 , 0.25, 0.15]),\n",
       " array([0.53333333, 0.29166667, 0.175     ]),\n",
       " array([0.46666667, 0.33333333, 0.2       ]),\n",
       " array([0.4  , 0.375, 0.225]),\n",
       " array([0.33333333, 0.41666667, 0.25      ])]"
      ]
     },
     "execution_count": 69,
     "metadata": {},
     "output_type": "execute_result"
    }
   ],
   "source": [
    "[marginalX(p) for p in ps[slice(0, None, 10)]]"
   ]
  },
  {
   "cell_type": "markdown",
   "id": "34c4d38c",
   "metadata": {},
   "source": [
    "# Question 5."
   ]
  },
  {
   "cell_type": "code",
   "execution_count": 76,
   "id": "3d444341",
   "metadata": {},
   "outputs": [
    {
     "data": {
      "image/png": "[encoded data removed]",
      "text/plain": [
       "<Figure size 648x432 with 1 Axes>"
      ]
     },
     "metadata": {
      "needs_background": "light"
     },
     "output_type": "display_data"
    }
   ],
   "source": [
    "# a : number of coins on one side of the scale (==> total coins on the scale = 2*a)\n",
    "# b : number of coins on the side (i.e. not on the scale)\n",
    "# 2*a + b = 12, total number of coins\n",
    "\n",
    "As = [1,2,3,4,5,6]\n",
    "\n",
    "def getP(a):\n",
    "    b = 12 - (2 * a)\n",
    "    return [a/12, a/12, b/12]\n",
    "\n",
    "ps = [ getP(a) for a in As ]\n",
    "\n",
    "Hxs = [entropy(p) for p in ps]\n",
    "\n",
    "fig, axs = plt.subplots(1, 1, figsize=(9, 6))  \n",
    "axs.plot(As, Hxs, label='H(x) in bits')\n",
    "\n",
    "axs.set_xlabel('a')\n",
    "axs.set_ylabel('bits')\n",
    "plt.legend()\n",
    "plt.show()   "
   ]
  },
  {
   "cell_type": "code",
   "execution_count": 26,
   "id": "8fabce70",
   "metadata": {},
   "outputs": [
    {
     "data": {
      "text/plain": [
       "4.584962500721156"
      ]
     },
     "execution_count": 26,
     "metadata": {},
     "output_type": "execute_result"
    }
   ],
   "source": [
    "-24*(1/24)*np.log2(1/24)"
   ]
  },
  {
   "cell_type": "code",
   "execution_count": 27,
   "id": "260596aa-97c0-4210-9ba2-b3ee0bd6a216",
   "metadata": {},
   "outputs": [
    {
     "data": {
      "text/plain": [
       "4.700439718141092"
      ]
     },
     "execution_count": 27,
     "metadata": {},
     "output_type": "execute_result"
    }
   ],
   "source": [
    "-26*(1/26)*np.log2(1/26)"
   ]
  },
  {
   "cell_type": "code",
   "execution_count": 28,
   "id": "99a73198-0814-43a4-9d8b-c92f3091fece",
   "metadata": {},
   "outputs": [
    {
     "data": {
      "text/plain": [
       "3.700439718141092"
      ]
     },
     "execution_count": 28,
     "metadata": {},
     "output_type": "execute_result"
    }
   ],
   "source": [
    "-13*1/13*np.log2(1/13) "
   ]
  },
  {
   "cell_type": "code",
   "execution_count": null,
   "id": "e774b406-4094-494b-84e0-4de3fcf529ee",
   "metadata": {},
   "outputs": [],
   "source": []
  }
 ],
 "metadata": {
  "interpreter": {
   "hash": "98b0a9b7b4eaaa670588a142fd0a9b87eaafe866f1db4228be72b4211d12040f"
  },
  "kernelspec": {
   "display_name": "Python 3",
   "language": "python",
   "name": "python3"
  },
  "language_info": {
   "codemirror_mode": {
    "name": "ipython",
    "version": 3
   },
   "file_extension": ".py",
   "mimetype": "text/x-python",
   "name": "python",
   "nbconvert_exporter": "python",
   "pygments_lexer": "ipython3",
   "version": "3.9.2"
  }
 },
 "nbformat": 4,
 "nbformat_minor": 5
}
