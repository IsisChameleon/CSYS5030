{
 "cells": [
  {
   "cell_type": "code",
   "execution_count": 5,
   "source": [
    "from week1 import infocontent, entropy\n"
   ],
   "outputs": [],
   "metadata": {}
  },
  {
   "cell_type": "code",
   "execution_count": 4,
   "source": [
    "infocontent(1/12)"
   ],
   "outputs": [
    {
     "output_type": "execute_result",
     "data": {
      "text/plain": [
       "3.584962500721156"
      ]
     },
     "metadata": {},
     "execution_count": 4
    }
   ],
   "metadata": {}
  },
  {
   "cell_type": "code",
   "execution_count": 6,
   "source": [
    "entropy([5/6, 1/6])"
   ],
   "outputs": [
    {
     "output_type": "execute_result",
     "data": {
      "text/plain": [
       "0.6500224216483541"
      ]
     },
     "metadata": {},
     "execution_count": 6
    }
   ],
   "metadata": {}
  },
  {
   "cell_type": "code",
   "execution_count": 7,
   "source": [
    "entropy([7/12, 5/12])"
   ],
   "outputs": [
    {
     "output_type": "execute_result",
     "data": {
      "text/plain": [
       "0.9798687566511528"
      ]
     },
     "metadata": {},
     "execution_count": 7
    }
   ],
   "metadata": {}
  },
  {
   "cell_type": "code",
   "execution_count": 14,
   "source": [
    "import numpy as np\n",
    "p=np.array([[1/2, 1/12],[1/3, 1/12]])"
   ],
   "outputs": [],
   "metadata": {}
  },
  {
   "cell_type": "code",
   "execution_count": 26,
   "source": [
    "from week1 import marginalX, marginalY, jointEntropyEmpirical, jointEntropy"
   ],
   "outputs": [],
   "metadata": {}
  },
  {
   "cell_type": "code",
   "execution_count": 17,
   "source": [
    "X=marginalX(p)\n",
    "Y=marginalY(p)"
   ],
   "outputs": [],
   "metadata": {}
  },
  {
   "cell_type": "code",
   "execution_count": 27,
   "source": [
    "Hxy = jointEntropy(p)"
   ],
   "outputs": [],
   "metadata": {}
  },
  {
   "cell_type": "code",
   "execution_count": 28,
   "source": [
    "Hxy\n"
   ],
   "outputs": [
    {
     "output_type": "execute_result",
     "data": {
      "text/plain": [
       "1.6258145836939115"
      ]
     },
     "metadata": {},
     "execution_count": 28
    }
   ],
   "metadata": {}
  },
  {
   "cell_type": "code",
   "execution_count": 22,
   "source": [
    "p"
   ],
   "outputs": [
    {
     "output_type": "execute_result",
     "data": {
      "text/plain": [
       "array([[0.5       , 0.08333333],\n",
       "       [0.33333333, 0.08333333]])"
      ]
     },
     "metadata": {},
     "execution_count": 22
    }
   ],
   "metadata": {}
  },
  {
   "cell_type": "code",
   "execution_count": 23,
   "source": [
    "1/12"
   ],
   "outputs": [
    {
     "output_type": "execute_result",
     "data": {
      "text/plain": [
       "0.08333333333333333"
      ]
     },
     "metadata": {},
     "execution_count": 23
    }
   ],
   "metadata": {}
  },
  {
   "cell_type": "code",
   "execution_count": 24,
   "source": [
    "-0.5*np.log2(0.5)-(1/3)*np.log2(1/3)-2*(1/12)*np.log2(1/12)"
   ],
   "outputs": [
    {
     "output_type": "execute_result",
     "data": {
      "text/plain": [
       "1.6258145836939115"
      ]
     },
     "metadata": {},
     "execution_count": 24
    }
   ],
   "metadata": {}
  },
  {
   "cell_type": "code",
   "execution_count": 29,
   "source": [
    "-np.log2(1/3)"
   ],
   "outputs": [
    {
     "output_type": "execute_result",
     "data": {
      "text/plain": [
       "1.5849625007211563"
      ]
     },
     "metadata": {},
     "execution_count": 29
    }
   ],
   "metadata": {}
  },
  {
   "cell_type": "code",
   "execution_count": 31,
   "source": [
    "1.5850 -1.2630"
   ],
   "outputs": [
    {
     "output_type": "execute_result",
     "data": {
      "text/plain": [
       "0.32200000000000006"
      ]
     },
     "metadata": {},
     "execution_count": 31
    }
   ],
   "metadata": {}
  },
  {
   "cell_type": "code",
   "execution_count": 32,
   "source": [
    "0.2630 + 1.2630 -1.5850"
   ],
   "outputs": [
    {
     "output_type": "execute_result",
     "data": {
      "text/plain": [
       "-0.05900000000000016"
      ]
     },
     "metadata": {},
     "execution_count": 32
    }
   ],
   "metadata": {}
  },
  {
   "cell_type": "code",
   "execution_count": 33,
   "source": [
    "1.2630 - 1.322"
   ],
   "outputs": [
    {
     "output_type": "execute_result",
     "data": {
      "text/plain": [
       "-0.05900000000000016"
      ]
     },
     "metadata": {},
     "execution_count": 33
    }
   ],
   "metadata": {}
  },
  {
   "cell_type": "code",
   "execution_count": 34,
   "source": [
    "0.2630 - 0.322"
   ],
   "outputs": [
    {
     "output_type": "execute_result",
     "data": {
      "text/plain": [
       "-0.059"
      ]
     },
     "metadata": {},
     "execution_count": 34
    }
   ],
   "metadata": {}
  },
  {
   "cell_type": "code",
   "execution_count": 35,
   "source": [
    "0.65 + 0.9799 - 1.6258"
   ],
   "outputs": [
    {
     "output_type": "execute_result",
     "data": {
      "text/plain": [
       "0.004100000000000215"
      ]
     },
     "metadata": {},
     "execution_count": 35
    }
   ],
   "metadata": {}
  },
  {
   "cell_type": "markdown",
   "source": [
    "# Question 2"
   ],
   "metadata": {}
  },
  {
   "cell_type": "code",
   "execution_count": 36,
   "source": [
    "-np.log2(1/24)"
   ],
   "outputs": [
    {
     "output_type": "execute_result",
     "data": {
      "text/plain": [
       "4.584962500721156"
      ]
     },
     "metadata": {},
     "execution_count": 36
    }
   ],
   "metadata": {}
  },
  {
   "cell_type": "code",
   "execution_count": 37,
   "source": [
    "-np.log2(1/8)"
   ],
   "outputs": [
    {
     "output_type": "execute_result",
     "data": {
      "text/plain": [
       "3.0"
      ]
     },
     "metadata": {},
     "execution_count": 37
    }
   ],
   "metadata": {}
  },
  {
   "cell_type": "code",
   "execution_count": 38,
   "source": [
    "entropy([5/24, 19/24])"
   ],
   "outputs": [
    {
     "output_type": "execute_result",
     "data": {
      "text/plain": [
       "0.7382848661434506"
      ]
     },
     "metadata": {},
     "execution_count": 38
    }
   ],
   "metadata": {}
  },
  {
   "cell_type": "code",
   "execution_count": 39,
   "source": [
    "-(5/24)*np.log2(5/24)-(19/24)*np.log2(19/24)"
   ],
   "outputs": [
    {
     "output_type": "execute_result",
     "data": {
      "text/plain": [
       "0.7382848661434506"
      ]
     },
     "metadata": {},
     "execution_count": 39
    }
   ],
   "metadata": {}
  },
  {
   "cell_type": "code",
   "execution_count": 40,
   "source": [
    "-(1/12)*np.log2(1/12) - 2*(1/8)*np.log2(1/8) - (2/3)*np.log2(2/3)"
   ],
   "outputs": [
    {
     "output_type": "execute_result",
     "data": {
      "text/plain": [
       "1.438721875540867"
      ]
     },
     "metadata": {},
     "execution_count": 40
    }
   ],
   "metadata": {}
  },
  {
   "cell_type": "code",
   "execution_count": 41,
   "source": [
    "p=[ [1/12, 1/8 ],                  [1/8, 2/3 ] ]\n"
   ],
   "outputs": [],
   "metadata": {}
  },
  {
   "cell_type": "code",
   "execution_count": 42,
   "source": [
    "jointEntropy(p)"
   ],
   "outputs": [
    {
     "output_type": "execute_result",
     "data": {
      "text/plain": [
       "1.438721875540867"
      ]
     },
     "metadata": {},
     "execution_count": 42
    }
   ],
   "metadata": {}
  },
  {
   "cell_type": "code",
   "execution_count": 43,
   "source": [
    "0.7383*2 - 1.4387"
   ],
   "outputs": [
    {
     "output_type": "execute_result",
     "data": {
      "text/plain": [
       "0.03789999999999982"
      ]
     },
     "metadata": {},
     "execution_count": 43
    }
   ],
   "metadata": {}
  },
  {
   "cell_type": "code",
   "execution_count": 44,
   "source": [
    "from week1 import mutualInformation"
   ],
   "outputs": [],
   "metadata": {}
  },
  {
   "cell_type": "code",
   "execution_count": 45,
   "source": [
    "mutualInformation(p)"
   ],
   "outputs": [
    {
     "output_type": "execute_result",
     "data": {
      "text/plain": [
       "0.03784785674603386"
      ]
     },
     "metadata": {},
     "execution_count": 45
    }
   ],
   "metadata": {}
  },
  {
   "cell_type": "code",
   "execution_count": 46,
   "source": [
    "entropy([5/24, 19/24])"
   ],
   "outputs": [
    {
     "output_type": "execute_result",
     "data": {
      "text/plain": [
       "0.7382848661434506"
      ]
     },
     "metadata": {},
     "execution_count": 46
    }
   ],
   "metadata": {}
  },
  {
   "cell_type": "code",
   "execution_count": 47,
   "source": [
    "entropy([5/24, 19/24])*2 - jointEntropy(p)"
   ],
   "outputs": [
    {
     "output_type": "execute_result",
     "data": {
      "text/plain": [
       "0.03784785674603408"
      ]
     },
     "metadata": {},
     "execution_count": 47
    }
   ],
   "metadata": {}
  },
  {
   "cell_type": "code",
   "execution_count": 48,
   "source": [
    "-(2/3)*np.log2(2/3) - (1/3)*np.log2(1/3)"
   ],
   "outputs": [
    {
     "output_type": "execute_result",
     "data": {
      "text/plain": [
       "0.9182958340544896"
      ]
     },
     "metadata": {},
     "execution_count": 48
    }
   ],
   "metadata": {}
  },
  {
   "cell_type": "markdown",
   "source": [
    "Question 4."
   ],
   "metadata": {}
  },
  {
   "cell_type": "code",
   "execution_count": 4,
   "source": [
    "import matplotlib.pyplot as plt\n",
    "import numpy as np\n",
    "from week1 import entropy, mutualInformation, marginalX, marginalY, jointEntropy\n",
    "\n",
    "def getJointProbabilities(a):\n",
    "    # !! X = in rows\n",
    "    #    Y = in columns\n",
    "    # !! using the transpose of the exercise matrix:\n",
    "    #  1-a , 0, a/12\n",
    "    #  a/3, a/12, 0\n",
    "    #  0,   a/3, a/6\n",
    "    return np.array([[1-a, 0, a/12],[a/3, a/12, 0],[0, a/3, a/6]])\n",
    "\n",
    "As = np.linspace(0, 1, num=101)\n",
    "\n",
    "ps = [ getJointProbabilities(a) for a in As ]\n",
    "\n",
    "Hxs = [entropy(marginalX(p)) for p in ps]\n",
    "Hys = [entropy(marginalY(p)) for p in ps]\n",
    "Ixys = [mutualInformation(p)  for p in ps]\n",
    "Hxys = [jointEntropy(p) for p in ps]\n",
    "\n",
    "fig, axs = plt.subplots(1, 1, figsize=(9, 6))  \n",
    "axs.plot(As, Hxs, label='H(x) in bits')\n",
    "axs.plot(As, Hys, label='H(y) in bits')\n",
    "axs.plot(As, Ixys, label='I(x;y) in bits')\n",
    "#axs.plot(As, Hxys, label='H(x,y) in bits')\n",
    "#axs.plot(As, list(np.array(Hxs) + np.array(Hys)), label='H(x) + H(y) in bits')\n",
    "#axs.plot(As, list(np.array(Hxs) + np.array(Hys) - np.array(Hxys)), label='H(x) + H(y) - H(x,y) in bits')\n",
    "axs.set_title('Entropy and Mutual Information as a function of joint probability distribution parameter a')\n",
    "axs.set_xlabel('a')\n",
    "axs.set_ylabel('bits')\n",
    "plt.legend()\n",
    "plt.show()"
   ],
   "outputs": [
    {
     "output_type": "display_data",
     "data": {
      "text/plain": [
       "<Figure size 648x432 with 1 Axes>"
      ],
      "image/svg+xml": "<?xml version=\"1.0\" encoding=\"utf-8\" standalone=\"no\"?>\n<!DOCTYPE svg PUBLIC \"-//W3C//DTD SVG 1.1//EN\"\n  \"http://www.w3.org/Graphics/SVG/1.1/DTD/svg11.dtd\">\n<svg height=\"386.034375pt\" version=\"1.1\" viewBox=\"0 0 570.257812 386.034375\" width=\"570.257812pt\" xmlns=\"http://www.w3.org/2000/svg\" xmlns:xlink=\"http://www.w3.org/1999/xlink\">\n <metadata>\n  <rdf:RDF xmlns:cc=\"http://creativecommons.org/ns#\" xmlns:dc=\"http://purl.org/dc/elements/1.1/\" xmlns:rdf=\"http://www.w3.org/1999/02/22-rdf-syntax-ns#\">\n   <cc:Work>\n    <dc:type rdf:resource=\"http://purl.org/dc/dcmitype/StillImage\"/>\n    <dc:date>2021-09-08T09:55:47.741946</dc:date>\n    <dc:format>image/svg+xml</dc:format>\n    <dc:creator>\n     <cc:Agent>\n      <dc:title>Matplotlib v3.4.3, https://matplotlib.org/</dc:title>\n     </cc:Agent>\n    </dc:creator>\n   </cc:Work>\n  </rdf:RDF>\n </metadata>\n <defs>\n  <style type=\"text/css\">*{stroke-linecap:butt;stroke-linejoin:round;}</style>\n </defs>\n <g id=\"figure_1\">\n  <g id=\"patch_1\">\n   <path d=\"M 0 386.034375 \nL 570.257812 386.034375 \nL 570.257812 0 \nL 0 0 \nz\n\" style=\"fill:none;\"/>\n  </g>\n  <g id=\"axes_1\">\n   <g id=\"patch_2\">\n    <path d=\"M 43.78125 348.478125 \nL 545.98125 348.478125 \nL 545.98125 22.318125 \nL 43.78125 22.318125 \nz\n\" style=\"fill:#ffffff;\"/>\n   </g>\n   <g id=\"matplotlib.axis_1\">\n    <g id=\"xtick_1\">\n     <g id=\"line2d_1\">\n      <defs>\n       <path d=\"M 0 0 \nL 0 3.5 \n\" id=\"m336f41b2ba\" style=\"stroke:#000000;stroke-width:0.8;\"/>\n      </defs>\n      <g>\n       <use style=\"stroke:#000000;stroke-width:0.8;\" x=\"66.608523\" xlink:href=\"#m336f41b2ba\" y=\"348.478125\"/>\n      </g>\n     </g>\n     <g id=\"text_1\">\n      <!-- 0.0 -->\n      <g transform=\"translate(58.65696 363.076562)scale(0.1 -0.1)\">\n       <defs>\n        <path d=\"M 2034 4250 \nQ 1547 4250 1301 3770 \nQ 1056 3291 1056 2328 \nQ 1056 1369 1301 889 \nQ 1547 409 2034 409 \nQ 2525 409 2770 889 \nQ 3016 1369 3016 2328 \nQ 3016 3291 2770 3770 \nQ 2525 4250 2034 4250 \nz\nM 2034 4750 \nQ 2819 4750 3233 4129 \nQ 3647 3509 3647 2328 \nQ 3647 1150 3233 529 \nQ 2819 -91 2034 -91 \nQ 1250 -91 836 529 \nQ 422 1150 422 2328 \nQ 422 3509 836 4129 \nQ 1250 4750 2034 4750 \nz\n\" id=\"DejaVuSans-30\" transform=\"scale(0.015625)\"/>\n        <path d=\"M 684 794 \nL 1344 794 \nL 1344 0 \nL 684 0 \nL 684 794 \nz\n\" id=\"DejaVuSans-2e\" transform=\"scale(0.015625)\"/>\n       </defs>\n       <use xlink:href=\"#DejaVuSans-30\"/>\n       <use x=\"63.623047\" xlink:href=\"#DejaVuSans-2e\"/>\n       <use x=\"95.410156\" xlink:href=\"#DejaVuSans-30\"/>\n      </g>\n     </g>\n    </g>\n    <g id=\"xtick_2\">\n     <g id=\"line2d_2\">\n      <g>\n       <use style=\"stroke:#000000;stroke-width:0.8;\" x=\"157.917614\" xlink:href=\"#m336f41b2ba\" y=\"348.478125\"/>\n      </g>\n     </g>\n     <g id=\"text_2\">\n      <!-- 0.2 -->\n      <g transform=\"translate(149.966051 363.076562)scale(0.1 -0.1)\">\n       <defs>\n        <path d=\"M 1228 531 \nL 3431 531 \nL 3431 0 \nL 469 0 \nL 469 531 \nQ 828 903 1448 1529 \nQ 2069 2156 2228 2338 \nQ 2531 2678 2651 2914 \nQ 2772 3150 2772 3378 \nQ 2772 3750 2511 3984 \nQ 2250 4219 1831 4219 \nQ 1534 4219 1204 4116 \nQ 875 4013 500 3803 \nL 500 4441 \nQ 881 4594 1212 4672 \nQ 1544 4750 1819 4750 \nQ 2544 4750 2975 4387 \nQ 3406 4025 3406 3419 \nQ 3406 3131 3298 2873 \nQ 3191 2616 2906 2266 \nQ 2828 2175 2409 1742 \nQ 1991 1309 1228 531 \nz\n\" id=\"DejaVuSans-32\" transform=\"scale(0.015625)\"/>\n       </defs>\n       <use xlink:href=\"#DejaVuSans-30\"/>\n       <use x=\"63.623047\" xlink:href=\"#DejaVuSans-2e\"/>\n       <use x=\"95.410156\" xlink:href=\"#DejaVuSans-32\"/>\n      </g>\n     </g>\n    </g>\n    <g id=\"xtick_3\">\n     <g id=\"line2d_3\">\n      <g>\n       <use style=\"stroke:#000000;stroke-width:0.8;\" x=\"249.226705\" xlink:href=\"#m336f41b2ba\" y=\"348.478125\"/>\n      </g>\n     </g>\n     <g id=\"text_3\">\n      <!-- 0.4 -->\n      <g transform=\"translate(241.275142 363.076562)scale(0.1 -0.1)\">\n       <defs>\n        <path d=\"M 2419 4116 \nL 825 1625 \nL 2419 1625 \nL 2419 4116 \nz\nM 2253 4666 \nL 3047 4666 \nL 3047 1625 \nL 3713 1625 \nL 3713 1100 \nL 3047 1100 \nL 3047 0 \nL 2419 0 \nL 2419 1100 \nL 313 1100 \nL 313 1709 \nL 2253 4666 \nz\n\" id=\"DejaVuSans-34\" transform=\"scale(0.015625)\"/>\n       </defs>\n       <use xlink:href=\"#DejaVuSans-30\"/>\n       <use x=\"63.623047\" xlink:href=\"#DejaVuSans-2e\"/>\n       <use x=\"95.410156\" xlink:href=\"#DejaVuSans-34\"/>\n      </g>\n     </g>\n    </g>\n    <g id=\"xtick_4\">\n     <g id=\"line2d_4\">\n      <g>\n       <use style=\"stroke:#000000;stroke-width:0.8;\" x=\"340.535795\" xlink:href=\"#m336f41b2ba\" y=\"348.478125\"/>\n      </g>\n     </g>\n     <g id=\"text_4\">\n      <!-- 0.6 -->\n      <g transform=\"translate(332.584233 363.076562)scale(0.1 -0.1)\">\n       <defs>\n        <path d=\"M 2113 2584 \nQ 1688 2584 1439 2293 \nQ 1191 2003 1191 1497 \nQ 1191 994 1439 701 \nQ 1688 409 2113 409 \nQ 2538 409 2786 701 \nQ 3034 994 3034 1497 \nQ 3034 2003 2786 2293 \nQ 2538 2584 2113 2584 \nz\nM 3366 4563 \nL 3366 3988 \nQ 3128 4100 2886 4159 \nQ 2644 4219 2406 4219 \nQ 1781 4219 1451 3797 \nQ 1122 3375 1075 2522 \nQ 1259 2794 1537 2939 \nQ 1816 3084 2150 3084 \nQ 2853 3084 3261 2657 \nQ 3669 2231 3669 1497 \nQ 3669 778 3244 343 \nQ 2819 -91 2113 -91 \nQ 1303 -91 875 529 \nQ 447 1150 447 2328 \nQ 447 3434 972 4092 \nQ 1497 4750 2381 4750 \nQ 2619 4750 2861 4703 \nQ 3103 4656 3366 4563 \nz\n\" id=\"DejaVuSans-36\" transform=\"scale(0.015625)\"/>\n       </defs>\n       <use xlink:href=\"#DejaVuSans-30\"/>\n       <use x=\"63.623047\" xlink:href=\"#DejaVuSans-2e\"/>\n       <use x=\"95.410156\" xlink:href=\"#DejaVuSans-36\"/>\n      </g>\n     </g>\n    </g>\n    <g id=\"xtick_5\">\n     <g id=\"line2d_5\">\n      <g>\n       <use style=\"stroke:#000000;stroke-width:0.8;\" x=\"431.844886\" xlink:href=\"#m336f41b2ba\" y=\"348.478125\"/>\n      </g>\n     </g>\n     <g id=\"text_5\">\n      <!-- 0.8 -->\n      <g transform=\"translate(423.893324 363.076562)scale(0.1 -0.1)\">\n       <defs>\n        <path d=\"M 2034 2216 \nQ 1584 2216 1326 1975 \nQ 1069 1734 1069 1313 \nQ 1069 891 1326 650 \nQ 1584 409 2034 409 \nQ 2484 409 2743 651 \nQ 3003 894 3003 1313 \nQ 3003 1734 2745 1975 \nQ 2488 2216 2034 2216 \nz\nM 1403 2484 \nQ 997 2584 770 2862 \nQ 544 3141 544 3541 \nQ 544 4100 942 4425 \nQ 1341 4750 2034 4750 \nQ 2731 4750 3128 4425 \nQ 3525 4100 3525 3541 \nQ 3525 3141 3298 2862 \nQ 3072 2584 2669 2484 \nQ 3125 2378 3379 2068 \nQ 3634 1759 3634 1313 \nQ 3634 634 3220 271 \nQ 2806 -91 2034 -91 \nQ 1263 -91 848 271 \nQ 434 634 434 1313 \nQ 434 1759 690 2068 \nQ 947 2378 1403 2484 \nz\nM 1172 3481 \nQ 1172 3119 1398 2916 \nQ 1625 2713 2034 2713 \nQ 2441 2713 2670 2916 \nQ 2900 3119 2900 3481 \nQ 2900 3844 2670 4047 \nQ 2441 4250 2034 4250 \nQ 1625 4250 1398 4047 \nQ 1172 3844 1172 3481 \nz\n\" id=\"DejaVuSans-38\" transform=\"scale(0.015625)\"/>\n       </defs>\n       <use xlink:href=\"#DejaVuSans-30\"/>\n       <use x=\"63.623047\" xlink:href=\"#DejaVuSans-2e\"/>\n       <use x=\"95.410156\" xlink:href=\"#DejaVuSans-38\"/>\n      </g>\n     </g>\n    </g>\n    <g id=\"xtick_6\">\n     <g id=\"line2d_6\">\n      <g>\n       <use style=\"stroke:#000000;stroke-width:0.8;\" x=\"523.153977\" xlink:href=\"#m336f41b2ba\" y=\"348.478125\"/>\n      </g>\n     </g>\n     <g id=\"text_6\">\n      <!-- 1.0 -->\n      <g transform=\"translate(515.202415 363.076562)scale(0.1 -0.1)\">\n       <defs>\n        <path d=\"M 794 531 \nL 1825 531 \nL 1825 4091 \nL 703 3866 \nL 703 4441 \nL 1819 4666 \nL 2450 4666 \nL 2450 531 \nL 3481 531 \nL 3481 0 \nL 794 0 \nL 794 531 \nz\n\" id=\"DejaVuSans-31\" transform=\"scale(0.015625)\"/>\n       </defs>\n       <use xlink:href=\"#DejaVuSans-31\"/>\n       <use x=\"63.623047\" xlink:href=\"#DejaVuSans-2e\"/>\n       <use x=\"95.410156\" xlink:href=\"#DejaVuSans-30\"/>\n      </g>\n     </g>\n    </g>\n    <g id=\"text_7\">\n     <!-- a -->\n     <g transform=\"translate(291.817188 376.754687)scale(0.1 -0.1)\">\n      <defs>\n       <path d=\"M 2194 1759 \nQ 1497 1759 1228 1600 \nQ 959 1441 959 1056 \nQ 959 750 1161 570 \nQ 1363 391 1709 391 \nQ 2188 391 2477 730 \nQ 2766 1069 2766 1631 \nL 2766 1759 \nL 2194 1759 \nz\nM 3341 1997 \nL 3341 0 \nL 2766 0 \nL 2766 531 \nQ 2569 213 2275 61 \nQ 1981 -91 1556 -91 \nQ 1019 -91 701 211 \nQ 384 513 384 1019 \nQ 384 1609 779 1909 \nQ 1175 2209 1959 2209 \nL 2766 2209 \nL 2766 2266 \nQ 2766 2663 2505 2880 \nQ 2244 3097 1772 3097 \nQ 1472 3097 1187 3025 \nQ 903 2953 641 2809 \nL 641 3341 \nQ 956 3463 1253 3523 \nQ 1550 3584 1831 3584 \nQ 2591 3584 2966 3190 \nQ 3341 2797 3341 1997 \nz\n\" id=\"DejaVuSans-61\" transform=\"scale(0.015625)\"/>\n      </defs>\n      <use xlink:href=\"#DejaVuSans-61\"/>\n     </g>\n    </g>\n   </g>\n   <g id=\"matplotlib.axis_2\">\n    <g id=\"ytick_1\">\n     <g id=\"line2d_7\">\n      <defs>\n       <path d=\"M 0 0 \nL -3.5 0 \n\" id=\"m463a02dd5a\" style=\"stroke:#000000;stroke-width:0.8;\"/>\n      </defs>\n      <g>\n       <use style=\"stroke:#000000;stroke-width:0.8;\" x=\"43.78125\" xlink:href=\"#m463a02dd5a\" y=\"333.65267\"/>\n      </g>\n     </g>\n     <g id=\"text_8\">\n      <!-- 0.0 -->\n      <g transform=\"translate(20.878125 337.451889)scale(0.1 -0.1)\">\n       <use xlink:href=\"#DejaVuSans-30\"/>\n       <use x=\"63.623047\" xlink:href=\"#DejaVuSans-2e\"/>\n       <use x=\"95.410156\" xlink:href=\"#DejaVuSans-30\"/>\n      </g>\n     </g>\n    </g>\n    <g id=\"ytick_2\">\n     <g id=\"line2d_8\">\n      <g>\n       <use style=\"stroke:#000000;stroke-width:0.8;\" x=\"43.78125\" xlink:href=\"#m463a02dd5a\" y=\"296.142366\"/>\n      </g>\n     </g>\n     <g id=\"text_9\">\n      <!-- 0.2 -->\n      <g transform=\"translate(20.878125 299.941585)scale(0.1 -0.1)\">\n       <use xlink:href=\"#DejaVuSans-30\"/>\n       <use x=\"63.623047\" xlink:href=\"#DejaVuSans-2e\"/>\n       <use x=\"95.410156\" xlink:href=\"#DejaVuSans-32\"/>\n      </g>\n     </g>\n    </g>\n    <g id=\"ytick_3\">\n     <g id=\"line2d_9\">\n      <g>\n       <use style=\"stroke:#000000;stroke-width:0.8;\" x=\"43.78125\" xlink:href=\"#m463a02dd5a\" y=\"258.632062\"/>\n      </g>\n     </g>\n     <g id=\"text_10\">\n      <!-- 0.4 -->\n      <g transform=\"translate(20.878125 262.431281)scale(0.1 -0.1)\">\n       <use xlink:href=\"#DejaVuSans-30\"/>\n       <use x=\"63.623047\" xlink:href=\"#DejaVuSans-2e\"/>\n       <use x=\"95.410156\" xlink:href=\"#DejaVuSans-34\"/>\n      </g>\n     </g>\n    </g>\n    <g id=\"ytick_4\">\n     <g id=\"line2d_10\">\n      <g>\n       <use style=\"stroke:#000000;stroke-width:0.8;\" x=\"43.78125\" xlink:href=\"#m463a02dd5a\" y=\"221.121758\"/>\n      </g>\n     </g>\n     <g id=\"text_11\">\n      <!-- 0.6 -->\n      <g transform=\"translate(20.878125 224.920976)scale(0.1 -0.1)\">\n       <use xlink:href=\"#DejaVuSans-30\"/>\n       <use x=\"63.623047\" xlink:href=\"#DejaVuSans-2e\"/>\n       <use x=\"95.410156\" xlink:href=\"#DejaVuSans-36\"/>\n      </g>\n     </g>\n    </g>\n    <g id=\"ytick_5\">\n     <g id=\"line2d_11\">\n      <g>\n       <use style=\"stroke:#000000;stroke-width:0.8;\" x=\"43.78125\" xlink:href=\"#m463a02dd5a\" y=\"183.611453\"/>\n      </g>\n     </g>\n     <g id=\"text_12\">\n      <!-- 0.8 -->\n      <g transform=\"translate(20.878125 187.410672)scale(0.1 -0.1)\">\n       <use xlink:href=\"#DejaVuSans-30\"/>\n       <use x=\"63.623047\" xlink:href=\"#DejaVuSans-2e\"/>\n       <use x=\"95.410156\" xlink:href=\"#DejaVuSans-38\"/>\n      </g>\n     </g>\n    </g>\n    <g id=\"ytick_6\">\n     <g id=\"line2d_12\">\n      <g>\n       <use style=\"stroke:#000000;stroke-width:0.8;\" x=\"43.78125\" xlink:href=\"#m463a02dd5a\" y=\"146.101149\"/>\n      </g>\n     </g>\n     <g id=\"text_13\">\n      <!-- 1.0 -->\n      <g transform=\"translate(20.878125 149.900368)scale(0.1 -0.1)\">\n       <use xlink:href=\"#DejaVuSans-31\"/>\n       <use x=\"63.623047\" xlink:href=\"#DejaVuSans-2e\"/>\n       <use x=\"95.410156\" xlink:href=\"#DejaVuSans-30\"/>\n      </g>\n     </g>\n    </g>\n    <g id=\"ytick_7\">\n     <g id=\"line2d_13\">\n      <g>\n       <use style=\"stroke:#000000;stroke-width:0.8;\" x=\"43.78125\" xlink:href=\"#m463a02dd5a\" y=\"108.590845\"/>\n      </g>\n     </g>\n     <g id=\"text_14\">\n      <!-- 1.2 -->\n      <g transform=\"translate(20.878125 112.390063)scale(0.1 -0.1)\">\n       <use xlink:href=\"#DejaVuSans-31\"/>\n       <use x=\"63.623047\" xlink:href=\"#DejaVuSans-2e\"/>\n       <use x=\"95.410156\" xlink:href=\"#DejaVuSans-32\"/>\n      </g>\n     </g>\n    </g>\n    <g id=\"ytick_8\">\n     <g id=\"line2d_14\">\n      <g>\n       <use style=\"stroke:#000000;stroke-width:0.8;\" x=\"43.78125\" xlink:href=\"#m463a02dd5a\" y=\"71.08054\"/>\n      </g>\n     </g>\n     <g id=\"text_15\">\n      <!-- 1.4 -->\n      <g transform=\"translate(20.878125 74.879759)scale(0.1 -0.1)\">\n       <use xlink:href=\"#DejaVuSans-31\"/>\n       <use x=\"63.623047\" xlink:href=\"#DejaVuSans-2e\"/>\n       <use x=\"95.410156\" xlink:href=\"#DejaVuSans-34\"/>\n      </g>\n     </g>\n    </g>\n    <g id=\"ytick_9\">\n     <g id=\"line2d_15\">\n      <g>\n       <use style=\"stroke:#000000;stroke-width:0.8;\" x=\"43.78125\" xlink:href=\"#m463a02dd5a\" y=\"33.570236\"/>\n      </g>\n     </g>\n     <g id=\"text_16\">\n      <!-- 1.6 -->\n      <g transform=\"translate(20.878125 37.369455)scale(0.1 -0.1)\">\n       <use xlink:href=\"#DejaVuSans-31\"/>\n       <use x=\"63.623047\" xlink:href=\"#DejaVuSans-2e\"/>\n       <use x=\"95.410156\" xlink:href=\"#DejaVuSans-36\"/>\n      </g>\n     </g>\n    </g>\n    <g id=\"text_17\">\n     <!-- bits -->\n     <g transform=\"translate(14.798438 194.52625)rotate(-90)scale(0.1 -0.1)\">\n      <defs>\n       <path d=\"M 3116 1747 \nQ 3116 2381 2855 2742 \nQ 2594 3103 2138 3103 \nQ 1681 3103 1420 2742 \nQ 1159 2381 1159 1747 \nQ 1159 1113 1420 752 \nQ 1681 391 2138 391 \nQ 2594 391 2855 752 \nQ 3116 1113 3116 1747 \nz\nM 1159 2969 \nQ 1341 3281 1617 3432 \nQ 1894 3584 2278 3584 \nQ 2916 3584 3314 3078 \nQ 3713 2572 3713 1747 \nQ 3713 922 3314 415 \nQ 2916 -91 2278 -91 \nQ 1894 -91 1617 61 \nQ 1341 213 1159 525 \nL 1159 0 \nL 581 0 \nL 581 4863 \nL 1159 4863 \nL 1159 2969 \nz\n\" id=\"DejaVuSans-62\" transform=\"scale(0.015625)\"/>\n       <path d=\"M 603 3500 \nL 1178 3500 \nL 1178 0 \nL 603 0 \nL 603 3500 \nz\nM 603 4863 \nL 1178 4863 \nL 1178 4134 \nL 603 4134 \nL 603 4863 \nz\n\" id=\"DejaVuSans-69\" transform=\"scale(0.015625)\"/>\n       <path d=\"M 1172 4494 \nL 1172 3500 \nL 2356 3500 \nL 2356 3053 \nL 1172 3053 \nL 1172 1153 \nQ 1172 725 1289 603 \nQ 1406 481 1766 481 \nL 2356 481 \nL 2356 0 \nL 1766 0 \nQ 1100 0 847 248 \nQ 594 497 594 1153 \nL 594 3053 \nL 172 3053 \nL 172 3500 \nL 594 3500 \nL 594 4494 \nL 1172 4494 \nz\n\" id=\"DejaVuSans-74\" transform=\"scale(0.015625)\"/>\n       <path d=\"M 2834 3397 \nL 2834 2853 \nQ 2591 2978 2328 3040 \nQ 2066 3103 1784 3103 \nQ 1356 3103 1142 2972 \nQ 928 2841 928 2578 \nQ 928 2378 1081 2264 \nQ 1234 2150 1697 2047 \nL 1894 2003 \nQ 2506 1872 2764 1633 \nQ 3022 1394 3022 966 \nQ 3022 478 2636 193 \nQ 2250 -91 1575 -91 \nQ 1294 -91 989 -36 \nQ 684 19 347 128 \nL 347 722 \nQ 666 556 975 473 \nQ 1284 391 1588 391 \nQ 1994 391 2212 530 \nQ 2431 669 2431 922 \nQ 2431 1156 2273 1281 \nQ 2116 1406 1581 1522 \nL 1381 1569 \nQ 847 1681 609 1914 \nQ 372 2147 372 2553 \nQ 372 3047 722 3315 \nQ 1072 3584 1716 3584 \nQ 2034 3584 2315 3537 \nQ 2597 3491 2834 3397 \nz\n\" id=\"DejaVuSans-73\" transform=\"scale(0.015625)\"/>\n      </defs>\n      <use xlink:href=\"#DejaVuSans-62\"/>\n      <use x=\"63.476562\" xlink:href=\"#DejaVuSans-69\"/>\n      <use x=\"91.259766\" xlink:href=\"#DejaVuSans-74\"/>\n      <use x=\"130.46875\" xlink:href=\"#DejaVuSans-73\"/>\n     </g>\n    </g>\n   </g>\n   <g id=\"line2d_16\">\n    <path clip-path=\"url(#p3652eeed5d)\" d=\"M 66.608523 333.65267 \nL 71.173977 317.83672 \nL 75.739432 305.482161 \nL 80.304886 294.448583 \nL 84.870341 284.281189 \nL 89.435795 274.764103 \nL 94.00125 265.770269 \nL 98.566705 257.215816 \nL 103.132159 249.041203 \nL 107.697614 241.201979 \nL 112.263068 233.663696 \nL 116.828523 226.39889 \nL 121.393977 219.385165 \nL 125.959432 212.60392 \nL 130.524886 206.039469 \nL 135.090341 199.678419 \nL 139.655795 193.509206 \nL 144.22125 187.521759 \nL 148.786705 181.707231 \nL 153.352159 176.057799 \nL 157.917614 170.566501 \nL 162.483068 165.227112 \nL 167.048523 160.034035 \nL 171.613977 154.982218 \nL 176.179432 150.067085 \nL 180.744886 145.284479 \nL 185.310341 140.630608 \nL 189.875795 136.102009 \nL 194.44125 131.695509 \nL 199.006705 127.408198 \nL 203.572159 123.237402 \nL 208.137614 119.180659 \nL 212.703068 115.235703 \nL 217.268523 111.400444 \nL 221.833977 107.672956 \nL 226.399432 104.05146 \nL 230.964886 100.534317 \nL 235.530341 97.120017 \nL 240.095795 93.807167 \nL 244.66125 90.594486 \nL 249.226705 87.480798 \nL 253.792159 84.465025 \nL 258.357614 81.546181 \nL 262.923068 78.723369 \nL 267.488523 75.995774 \nL 272.053977 73.362661 \nL 276.619432 70.823373 \nL 281.184886 68.377323 \nL 285.750341 66.023999 \nL 290.315795 63.762953 \nL 294.88125 61.593808 \nL 299.446705 59.516248 \nL 304.012159 57.530025 \nL 308.577614 55.63495 \nL 313.143068 53.830898 \nL 317.708523 52.117805 \nL 322.273977 50.495669 \nL 326.839432 48.964547 \nL 331.404886 47.524559 \nL 335.970341 46.175888 \nL 340.535795 44.918778 \nL 345.10125 43.753536 \nL 349.666705 42.680537 \nL 354.232159 41.700219 \nL 358.797614 40.81309 \nL 363.363068 40.019729 \nL 367.928523 39.320788 \nL 372.493977 38.716994 \nL 377.059432 38.209154 \nL 381.624886 37.798158 \nL 386.190341 37.484984 \nL 390.755795 37.270701 \nL 395.32125 37.156475 \nL 399.886705 37.14358 \nL 404.452159 37.233394 \nL 409.017614 37.42742 \nL 413.583068 37.727284 \nL 418.148523 38.134751 \nL 422.713977 38.651732 \nL 427.279432 39.280304 \nL 431.844886 40.022715 \nL 436.410341 40.881409 \nL 440.975795 41.859039 \nL 445.54125 42.958494 \nL 450.106705 44.18292 \nL 454.672159 45.535754 \nL 459.237614 47.020755 \nL 463.803068 48.642046 \nL 468.368523 50.404162 \nL 472.933977 52.31211 \nL 477.499432 54.371433 \nL 482.064886 56.588296 \nL 486.630341 58.969588 \nL 491.195795 61.523049 \nL 495.76125 64.257423 \nL 500.326705 67.182663 \nL 504.892159 70.310182 \nL 509.457614 73.653191 \nL 514.023068 77.227144 \nL 518.588523 81.050345 \nL 523.153977 85.144802 \n\" style=\"fill:none;stroke:#1f77b4;stroke-linecap:square;stroke-width:1.5;\"/>\n   </g>\n   <g id=\"line2d_17\">\n    <path clip-path=\"url(#p3652eeed5d)\" d=\"M 66.608523 333.65267 \nL 71.173977 321.622956 \nL 75.739432 312.106035 \nL 80.304886 303.545171 \nL 84.870341 295.609527 \nL 89.435795 288.142025 \nL 94.00125 281.05018 \nL 98.566705 274.272914 \nL 103.132159 267.76684 \nL 107.697614 261.499545 \nL 112.263068 255.445886 \nL 116.828523 249.585801 \nL 121.393977 243.902907 \nL 125.959432 238.383582 \nL 130.524886 233.01632 \nL 135.090341 227.791278 \nL 139.655795 222.699946 \nL 144.22125 217.73489 \nL 148.786705 212.889569 \nL 153.352159 208.158179 \nL 157.917614 203.535544 \nL 162.483068 199.017016 \nL 167.048523 194.598401 \nL 171.613977 190.275902 \nL 176.179432 186.046061 \nL 180.744886 181.905718 \nL 185.310341 177.851981 \nL 189.875795 173.882187 \nL 194.44125 169.993884 \nL 199.006705 166.184805 \nL 203.572159 162.452848 \nL 208.137614 158.796064 \nL 212.703068 155.212637 \nL 217.268523 151.700878 \nL 221.833977 148.259207 \nL 226.399432 144.88615 \nL 230.964886 141.580325 \nL 235.530341 138.340437 \nL 240.095795 135.165271 \nL 244.66125 132.053688 \nL 249.226705 129.004613 \nL 253.792159 126.017039 \nL 258.357614 123.090016 \nL 262.923068 120.222648 \nL 267.488523 117.414093 \nL 272.053977 114.663557 \nL 276.619432 111.970289 \nL 281.184886 109.333585 \nL 285.750341 106.752776 \nL 290.315795 104.227237 \nL 294.88125 101.756373 \nL 299.446705 99.339628 \nL 304.012159 96.976477 \nL 308.577614 94.666425 \nL 313.143068 92.409006 \nL 317.708523 90.203785 \nL 322.273977 88.050352 \nL 326.839432 85.948323 \nL 331.404886 83.897339 \nL 335.970341 81.897065 \nL 340.535795 79.947189 \nL 345.10125 78.047423 \nL 349.666705 76.197499 \nL 354.232159 74.397168 \nL 358.797614 72.646207 \nL 363.363068 70.944408 \nL 367.928523 69.291584 \nL 372.493977 67.687567 \nL 377.059432 66.132208 \nL 381.624886 64.625377 \nL 386.190341 63.16696 \nL 390.755795 61.756863 \nL 395.32125 60.395007 \nL 399.886705 59.081332 \nL 404.452159 57.815797 \nL 409.017614 56.598374 \nL 413.583068 55.429056 \nL 418.148523 54.307851 \nL 422.713977 53.234785 \nL 427.279432 52.2099 \nL 431.844886 51.233257 \nL 436.410341 50.304933 \nL 440.975795 49.425024 \nL 445.54125 48.593642 \nL 450.106705 47.810918 \nL 454.672159 47.077001 \nL 459.237614 46.39206 \nL 463.803068 45.756281 \nL 468.368523 45.16987 \nL 472.933977 44.633054 \nL 477.499432 44.14608 \nL 482.064886 43.709214 \nL 486.630341 43.322748 \nL 491.195795 42.986991 \nL 495.76125 42.70228 \nL 500.326705 42.468972 \nL 504.892159 42.287452 \nL 509.457614 42.15813 \nL 514.023068 42.081442 \nL 518.588523 42.057853 \nL 523.153977 42.087857 \n\" style=\"fill:none;stroke:#ff7f0e;stroke-linecap:square;stroke-width:1.5;\"/>\n   </g>\n   <g id=\"line2d_18\">\n    <path clip-path=\"url(#p3652eeed5d)\" d=\"M 66.608523 333.65267 \nL 71.173977 324.87026 \nL 75.739432 318.283672 \nL 80.304886 312.530708 \nL 84.870341 307.321831 \nL 89.435795 302.519536 \nL 94.00125 298.042844 \nL 98.566705 293.838248 \nL 103.132159 289.867724 \nL 107.697614 286.102842 \nL 112.263068 282.521538 \nL 116.828523 279.106187 \nL 121.393977 275.842385 \nL 125.959432 272.718137 \nL 130.524886 269.723301 \nL 135.090341 266.849187 \nL 139.655795 264.088266 \nL 144.22125 261.433953 \nL 148.786705 258.880434 \nL 153.352159 256.422546 \nL 157.917614 254.055665 \nL 162.483068 251.77563 \nL 167.048523 249.578673 \nL 171.613977 247.461368 \nL 176.179432 245.420583 \nL 180.744886 243.453446 \nL 185.310341 241.55731 \nL 189.875795 239.729728 \nL 194.44125 237.968433 \nL 199.006705 236.271312 \nL 203.572159 234.636395 \nL 208.137614 233.061839 \nL 212.703068 231.545913 \nL 217.268523 230.086989 \nL 221.833977 228.68353 \nL 226.399432 227.334086 \nL 230.964886 226.037278 \nL 235.530341 224.791799 \nL 240.095795 223.596404 \nL 244.66125 222.449903 \nL 249.226705 221.351158 \nL 253.792159 220.299077 \nL 258.357614 219.292611 \nL 262.923068 218.330749 \nL 267.488523 217.412513 \nL 272.053977 216.536957 \nL 276.619432 215.703161 \nL 281.184886 214.910231 \nL 285.750341 214.157291 \nL 290.315795 213.443487 \nL 294.88125 212.767977 \nL 299.446705 212.129932 \nL 304.012159 211.528534 \nL 308.577614 210.962971 \nL 313.143068 210.432435 \nL 317.708523 209.936119 \nL 322.273977 209.473214 \nL 326.839432 209.042906 \nL 331.404886 208.644375 \nL 335.970341 208.276786 \nL 340.535795 207.939292 \nL 345.10125 207.631025 \nL 349.666705 207.351095 \nL 354.232159 207.098584 \nL 358.797614 206.872542 \nL 363.363068 206.671979 \nL 367.928523 206.495863 \nL 372.493977 206.34311 \nL 377.059432 206.212575 \nL 381.624886 206.10305 \nL 386.190341 206.013245 \nL 390.755795 205.941786 \nL 395.32125 205.887193 \nL 399.886705 205.847873 \nL 404.452159 205.822099 \nL 409.017614 205.807987 \nL 413.583068 205.80348 \nL 418.148523 205.80631 \nL 422.713977 205.813972 \nL 427.279432 205.823682 \nL 431.844886 205.832326 \nL 436.410341 205.836402 \nL 440.975795 205.831946 \nL 445.54125 205.814445 \nL 450.106705 205.778716 \nL 454.672159 205.718767 \nL 459.237614 205.627607 \nL 463.803068 205.496999 \nL 468.368523 205.31714 \nL 472.933977 205.076214 \nL 477.499432 204.759779 \nL 482.064886 204.349897 \nL 486.630341 203.823842 \nL 491.195795 203.152144 \nL 495.76125 202.295441 \nL 500.326705 201.199144 \nL 504.892159 199.783606 \nL 509.457614 197.923892 \nL 514.023068 195.400436 \nL 518.588523 191.735914 \nL 523.153977 184.617877 \n\" style=\"fill:none;stroke:#2ca02c;stroke-linecap:square;stroke-width:1.5;\"/>\n   </g>\n   <g id=\"patch_3\">\n    <path d=\"M 43.78125 348.478125 \nL 43.78125 22.318125 \n\" style=\"fill:none;stroke:#000000;stroke-linecap:square;stroke-linejoin:miter;stroke-width:0.8;\"/>\n   </g>\n   <g id=\"patch_4\">\n    <path d=\"M 545.98125 348.478125 \nL 545.98125 22.318125 \n\" style=\"fill:none;stroke:#000000;stroke-linecap:square;stroke-linejoin:miter;stroke-width:0.8;\"/>\n   </g>\n   <g id=\"patch_5\">\n    <path d=\"M 43.78125 348.478125 \nL 545.98125 348.478125 \n\" style=\"fill:none;stroke:#000000;stroke-linecap:square;stroke-linejoin:miter;stroke-width:0.8;\"/>\n   </g>\n   <g id=\"patch_6\">\n    <path d=\"M 43.78125 22.318125 \nL 545.98125 22.318125 \n\" style=\"fill:none;stroke:#000000;stroke-linecap:square;stroke-linejoin:miter;stroke-width:0.8;\"/>\n   </g>\n   <g id=\"text_18\">\n    <!-- Entropy and Mutual Information as a function of joint probability distribution parameter a -->\n    <g transform=\"translate(26.704688 16.318125)scale(0.12 -0.12)\">\n     <defs>\n      <path d=\"M 628 4666 \nL 3578 4666 \nL 3578 4134 \nL 1259 4134 \nL 1259 2753 \nL 3481 2753 \nL 3481 2222 \nL 1259 2222 \nL 1259 531 \nL 3634 531 \nL 3634 0 \nL 628 0 \nL 628 4666 \nz\n\" id=\"DejaVuSans-45\" transform=\"scale(0.015625)\"/>\n      <path d=\"M 3513 2113 \nL 3513 0 \nL 2938 0 \nL 2938 2094 \nQ 2938 2591 2744 2837 \nQ 2550 3084 2163 3084 \nQ 1697 3084 1428 2787 \nQ 1159 2491 1159 1978 \nL 1159 0 \nL 581 0 \nL 581 3500 \nL 1159 3500 \nL 1159 2956 \nQ 1366 3272 1645 3428 \nQ 1925 3584 2291 3584 \nQ 2894 3584 3203 3211 \nQ 3513 2838 3513 2113 \nz\n\" id=\"DejaVuSans-6e\" transform=\"scale(0.015625)\"/>\n      <path d=\"M 2631 2963 \nQ 2534 3019 2420 3045 \nQ 2306 3072 2169 3072 \nQ 1681 3072 1420 2755 \nQ 1159 2438 1159 1844 \nL 1159 0 \nL 581 0 \nL 581 3500 \nL 1159 3500 \nL 1159 2956 \nQ 1341 3275 1631 3429 \nQ 1922 3584 2338 3584 \nQ 2397 3584 2469 3576 \nQ 2541 3569 2628 3553 \nL 2631 2963 \nz\n\" id=\"DejaVuSans-72\" transform=\"scale(0.015625)\"/>\n      <path d=\"M 1959 3097 \nQ 1497 3097 1228 2736 \nQ 959 2375 959 1747 \nQ 959 1119 1226 758 \nQ 1494 397 1959 397 \nQ 2419 397 2687 759 \nQ 2956 1122 2956 1747 \nQ 2956 2369 2687 2733 \nQ 2419 3097 1959 3097 \nz\nM 1959 3584 \nQ 2709 3584 3137 3096 \nQ 3566 2609 3566 1747 \nQ 3566 888 3137 398 \nQ 2709 -91 1959 -91 \nQ 1206 -91 779 398 \nQ 353 888 353 1747 \nQ 353 2609 779 3096 \nQ 1206 3584 1959 3584 \nz\n\" id=\"DejaVuSans-6f\" transform=\"scale(0.015625)\"/>\n      <path d=\"M 1159 525 \nL 1159 -1331 \nL 581 -1331 \nL 581 3500 \nL 1159 3500 \nL 1159 2969 \nQ 1341 3281 1617 3432 \nQ 1894 3584 2278 3584 \nQ 2916 3584 3314 3078 \nQ 3713 2572 3713 1747 \nQ 3713 922 3314 415 \nQ 2916 -91 2278 -91 \nQ 1894 -91 1617 61 \nQ 1341 213 1159 525 \nz\nM 3116 1747 \nQ 3116 2381 2855 2742 \nQ 2594 3103 2138 3103 \nQ 1681 3103 1420 2742 \nQ 1159 2381 1159 1747 \nQ 1159 1113 1420 752 \nQ 1681 391 2138 391 \nQ 2594 391 2855 752 \nQ 3116 1113 3116 1747 \nz\n\" id=\"DejaVuSans-70\" transform=\"scale(0.015625)\"/>\n      <path d=\"M 2059 -325 \nQ 1816 -950 1584 -1140 \nQ 1353 -1331 966 -1331 \nL 506 -1331 \nL 506 -850 \nL 844 -850 \nQ 1081 -850 1212 -737 \nQ 1344 -625 1503 -206 \nL 1606 56 \nL 191 3500 \nL 800 3500 \nL 1894 763 \nL 2988 3500 \nL 3597 3500 \nL 2059 -325 \nz\n\" id=\"DejaVuSans-79\" transform=\"scale(0.015625)\"/>\n      <path id=\"DejaVuSans-20\" transform=\"scale(0.015625)\"/>\n      <path d=\"M 2906 2969 \nL 2906 4863 \nL 3481 4863 \nL 3481 0 \nL 2906 0 \nL 2906 525 \nQ 2725 213 2448 61 \nQ 2172 -91 1784 -91 \nQ 1150 -91 751 415 \nQ 353 922 353 1747 \nQ 353 2572 751 3078 \nQ 1150 3584 1784 3584 \nQ 2172 3584 2448 3432 \nQ 2725 3281 2906 2969 \nz\nM 947 1747 \nQ 947 1113 1208 752 \nQ 1469 391 1925 391 \nQ 2381 391 2643 752 \nQ 2906 1113 2906 1747 \nQ 2906 2381 2643 2742 \nQ 2381 3103 1925 3103 \nQ 1469 3103 1208 2742 \nQ 947 2381 947 1747 \nz\n\" id=\"DejaVuSans-64\" transform=\"scale(0.015625)\"/>\n      <path d=\"M 628 4666 \nL 1569 4666 \nL 2759 1491 \nL 3956 4666 \nL 4897 4666 \nL 4897 0 \nL 4281 0 \nL 4281 4097 \nL 3078 897 \nL 2444 897 \nL 1241 4097 \nL 1241 0 \nL 628 0 \nL 628 4666 \nz\n\" id=\"DejaVuSans-4d\" transform=\"scale(0.015625)\"/>\n      <path d=\"M 544 1381 \nL 544 3500 \nL 1119 3500 \nL 1119 1403 \nQ 1119 906 1312 657 \nQ 1506 409 1894 409 \nQ 2359 409 2629 706 \nQ 2900 1003 2900 1516 \nL 2900 3500 \nL 3475 3500 \nL 3475 0 \nL 2900 0 \nL 2900 538 \nQ 2691 219 2414 64 \nQ 2138 -91 1772 -91 \nQ 1169 -91 856 284 \nQ 544 659 544 1381 \nz\nM 1991 3584 \nL 1991 3584 \nz\n\" id=\"DejaVuSans-75\" transform=\"scale(0.015625)\"/>\n      <path d=\"M 603 4863 \nL 1178 4863 \nL 1178 0 \nL 603 0 \nL 603 4863 \nz\n\" id=\"DejaVuSans-6c\" transform=\"scale(0.015625)\"/>\n      <path d=\"M 628 4666 \nL 1259 4666 \nL 1259 0 \nL 628 0 \nL 628 4666 \nz\n\" id=\"DejaVuSans-49\" transform=\"scale(0.015625)\"/>\n      <path d=\"M 2375 4863 \nL 2375 4384 \nL 1825 4384 \nQ 1516 4384 1395 4259 \nQ 1275 4134 1275 3809 \nL 1275 3500 \nL 2222 3500 \nL 2222 3053 \nL 1275 3053 \nL 1275 0 \nL 697 0 \nL 697 3053 \nL 147 3053 \nL 147 3500 \nL 697 3500 \nL 697 3744 \nQ 697 4328 969 4595 \nQ 1241 4863 1831 4863 \nL 2375 4863 \nz\n\" id=\"DejaVuSans-66\" transform=\"scale(0.015625)\"/>\n      <path d=\"M 3328 2828 \nQ 3544 3216 3844 3400 \nQ 4144 3584 4550 3584 \nQ 5097 3584 5394 3201 \nQ 5691 2819 5691 2113 \nL 5691 0 \nL 5113 0 \nL 5113 2094 \nQ 5113 2597 4934 2840 \nQ 4756 3084 4391 3084 \nQ 3944 3084 3684 2787 \nQ 3425 2491 3425 1978 \nL 3425 0 \nL 2847 0 \nL 2847 2094 \nQ 2847 2600 2669 2842 \nQ 2491 3084 2119 3084 \nQ 1678 3084 1418 2786 \nQ 1159 2488 1159 1978 \nL 1159 0 \nL 581 0 \nL 581 3500 \nL 1159 3500 \nL 1159 2956 \nQ 1356 3278 1631 3431 \nQ 1906 3584 2284 3584 \nQ 2666 3584 2933 3390 \nQ 3200 3197 3328 2828 \nz\n\" id=\"DejaVuSans-6d\" transform=\"scale(0.015625)\"/>\n      <path d=\"M 3122 3366 \nL 3122 2828 \nQ 2878 2963 2633 3030 \nQ 2388 3097 2138 3097 \nQ 1578 3097 1268 2742 \nQ 959 2388 959 1747 \nQ 959 1106 1268 751 \nQ 1578 397 2138 397 \nQ 2388 397 2633 464 \nQ 2878 531 3122 666 \nL 3122 134 \nQ 2881 22 2623 -34 \nQ 2366 -91 2075 -91 \nQ 1284 -91 818 406 \nQ 353 903 353 1747 \nQ 353 2603 823 3093 \nQ 1294 3584 2113 3584 \nQ 2378 3584 2631 3529 \nQ 2884 3475 3122 3366 \nz\n\" id=\"DejaVuSans-63\" transform=\"scale(0.015625)\"/>\n      <path d=\"M 603 3500 \nL 1178 3500 \nL 1178 -63 \nQ 1178 -731 923 -1031 \nQ 669 -1331 103 -1331 \nL -116 -1331 \nL -116 -844 \nL 38 -844 \nQ 366 -844 484 -692 \nQ 603 -541 603 -63 \nL 603 3500 \nz\nM 603 4863 \nL 1178 4863 \nL 1178 4134 \nL 603 4134 \nL 603 4863 \nz\n\" id=\"DejaVuSans-6a\" transform=\"scale(0.015625)\"/>\n      <path d=\"M 3597 1894 \nL 3597 1613 \nL 953 1613 \nQ 991 1019 1311 708 \nQ 1631 397 2203 397 \nQ 2534 397 2845 478 \nQ 3156 559 3463 722 \nL 3463 178 \nQ 3153 47 2828 -22 \nQ 2503 -91 2169 -91 \nQ 1331 -91 842 396 \nQ 353 884 353 1716 \nQ 353 2575 817 3079 \nQ 1281 3584 2069 3584 \nQ 2775 3584 3186 3129 \nQ 3597 2675 3597 1894 \nz\nM 3022 2063 \nQ 3016 2534 2758 2815 \nQ 2500 3097 2075 3097 \nQ 1594 3097 1305 2825 \nQ 1016 2553 972 2059 \nL 3022 2063 \nz\n\" id=\"DejaVuSans-65\" transform=\"scale(0.015625)\"/>\n     </defs>\n     <use xlink:href=\"#DejaVuSans-45\"/>\n     <use x=\"63.183594\" xlink:href=\"#DejaVuSans-6e\"/>\n     <use x=\"126.5625\" xlink:href=\"#DejaVuSans-74\"/>\n     <use x=\"165.771484\" xlink:href=\"#DejaVuSans-72\"/>\n     <use x=\"204.634766\" xlink:href=\"#DejaVuSans-6f\"/>\n     <use x=\"265.816406\" xlink:href=\"#DejaVuSans-70\"/>\n     <use x=\"329.292969\" xlink:href=\"#DejaVuSans-79\"/>\n     <use x=\"388.472656\" xlink:href=\"#DejaVuSans-20\"/>\n     <use x=\"420.259766\" xlink:href=\"#DejaVuSans-61\"/>\n     <use x=\"481.539062\" xlink:href=\"#DejaVuSans-6e\"/>\n     <use x=\"544.917969\" xlink:href=\"#DejaVuSans-64\"/>\n     <use x=\"608.394531\" xlink:href=\"#DejaVuSans-20\"/>\n     <use x=\"640.181641\" xlink:href=\"#DejaVuSans-4d\"/>\n     <use x=\"726.460938\" xlink:href=\"#DejaVuSans-75\"/>\n     <use x=\"789.839844\" xlink:href=\"#DejaVuSans-74\"/>\n     <use x=\"829.048828\" xlink:href=\"#DejaVuSans-75\"/>\n     <use x=\"892.427734\" xlink:href=\"#DejaVuSans-61\"/>\n     <use x=\"953.707031\" xlink:href=\"#DejaVuSans-6c\"/>\n     <use x=\"981.490234\" xlink:href=\"#DejaVuSans-20\"/>\n     <use x=\"1013.277344\" xlink:href=\"#DejaVuSans-49\"/>\n     <use x=\"1042.769531\" xlink:href=\"#DejaVuSans-6e\"/>\n     <use x=\"1106.148438\" xlink:href=\"#DejaVuSans-66\"/>\n     <use x=\"1141.353516\" xlink:href=\"#DejaVuSans-6f\"/>\n     <use x=\"1202.535156\" xlink:href=\"#DejaVuSans-72\"/>\n     <use x=\"1241.898438\" xlink:href=\"#DejaVuSans-6d\"/>\n     <use x=\"1339.310547\" xlink:href=\"#DejaVuSans-61\"/>\n     <use x=\"1400.589844\" xlink:href=\"#DejaVuSans-74\"/>\n     <use x=\"1439.798828\" xlink:href=\"#DejaVuSans-69\"/>\n     <use x=\"1467.582031\" xlink:href=\"#DejaVuSans-6f\"/>\n     <use x=\"1528.763672\" xlink:href=\"#DejaVuSans-6e\"/>\n     <use x=\"1592.142578\" xlink:href=\"#DejaVuSans-20\"/>\n     <use x=\"1623.929688\" xlink:href=\"#DejaVuSans-61\"/>\n     <use x=\"1685.208984\" xlink:href=\"#DejaVuSans-73\"/>\n     <use x=\"1737.308594\" xlink:href=\"#DejaVuSans-20\"/>\n     <use x=\"1769.095703\" xlink:href=\"#DejaVuSans-61\"/>\n     <use x=\"1830.375\" xlink:href=\"#DejaVuSans-20\"/>\n     <use x=\"1862.162109\" xlink:href=\"#DejaVuSans-66\"/>\n     <use x=\"1897.367188\" xlink:href=\"#DejaVuSans-75\"/>\n     <use x=\"1960.746094\" xlink:href=\"#DejaVuSans-6e\"/>\n     <use x=\"2024.125\" xlink:href=\"#DejaVuSans-63\"/>\n     <use x=\"2079.105469\" xlink:href=\"#DejaVuSans-74\"/>\n     <use x=\"2118.314453\" xlink:href=\"#DejaVuSans-69\"/>\n     <use x=\"2146.097656\" xlink:href=\"#DejaVuSans-6f\"/>\n     <use x=\"2207.279297\" xlink:href=\"#DejaVuSans-6e\"/>\n     <use x=\"2270.658203\" xlink:href=\"#DejaVuSans-20\"/>\n     <use x=\"2302.445312\" xlink:href=\"#DejaVuSans-6f\"/>\n     <use x=\"2363.626953\" xlink:href=\"#DejaVuSans-66\"/>\n     <use x=\"2398.832031\" xlink:href=\"#DejaVuSans-20\"/>\n     <use x=\"2430.619141\" xlink:href=\"#DejaVuSans-6a\"/>\n     <use x=\"2458.402344\" xlink:href=\"#DejaVuSans-6f\"/>\n     <use x=\"2519.583984\" xlink:href=\"#DejaVuSans-69\"/>\n     <use x=\"2547.367188\" xlink:href=\"#DejaVuSans-6e\"/>\n     <use x=\"2610.746094\" xlink:href=\"#DejaVuSans-74\"/>\n     <use x=\"2649.955078\" xlink:href=\"#DejaVuSans-20\"/>\n     <use x=\"2681.742188\" xlink:href=\"#DejaVuSans-70\"/>\n     <use x=\"2745.21875\" xlink:href=\"#DejaVuSans-72\"/>\n     <use x=\"2784.082031\" xlink:href=\"#DejaVuSans-6f\"/>\n     <use x=\"2845.263672\" xlink:href=\"#DejaVuSans-62\"/>\n     <use x=\"2908.740234\" xlink:href=\"#DejaVuSans-61\"/>\n     <use x=\"2970.019531\" xlink:href=\"#DejaVuSans-62\"/>\n     <use x=\"3033.496094\" xlink:href=\"#DejaVuSans-69\"/>\n     <use x=\"3061.279297\" xlink:href=\"#DejaVuSans-6c\"/>\n     <use x=\"3089.0625\" xlink:href=\"#DejaVuSans-69\"/>\n     <use x=\"3116.845703\" xlink:href=\"#DejaVuSans-74\"/>\n     <use x=\"3156.054688\" xlink:href=\"#DejaVuSans-79\"/>\n     <use x=\"3215.234375\" xlink:href=\"#DejaVuSans-20\"/>\n     <use x=\"3247.021484\" xlink:href=\"#DejaVuSans-64\"/>\n     <use x=\"3310.498047\" xlink:href=\"#DejaVuSans-69\"/>\n     <use x=\"3338.28125\" xlink:href=\"#DejaVuSans-73\"/>\n     <use x=\"3390.380859\" xlink:href=\"#DejaVuSans-74\"/>\n     <use x=\"3429.589844\" xlink:href=\"#DejaVuSans-72\"/>\n     <use x=\"3470.703125\" xlink:href=\"#DejaVuSans-69\"/>\n     <use x=\"3498.486328\" xlink:href=\"#DejaVuSans-62\"/>\n     <use x=\"3561.962891\" xlink:href=\"#DejaVuSans-75\"/>\n     <use x=\"3625.341797\" xlink:href=\"#DejaVuSans-74\"/>\n     <use x=\"3664.550781\" xlink:href=\"#DejaVuSans-69\"/>\n     <use x=\"3692.333984\" xlink:href=\"#DejaVuSans-6f\"/>\n     <use x=\"3753.515625\" xlink:href=\"#DejaVuSans-6e\"/>\n     <use x=\"3816.894531\" xlink:href=\"#DejaVuSans-20\"/>\n     <use x=\"3848.681641\" xlink:href=\"#DejaVuSans-70\"/>\n     <use x=\"3912.158203\" xlink:href=\"#DejaVuSans-61\"/>\n     <use x=\"3973.4375\" xlink:href=\"#DejaVuSans-72\"/>\n     <use x=\"4014.550781\" xlink:href=\"#DejaVuSans-61\"/>\n     <use x=\"4075.830078\" xlink:href=\"#DejaVuSans-6d\"/>\n     <use x=\"4173.242188\" xlink:href=\"#DejaVuSans-65\"/>\n     <use x=\"4234.765625\" xlink:href=\"#DejaVuSans-74\"/>\n     <use x=\"4273.974609\" xlink:href=\"#DejaVuSans-65\"/>\n     <use x=\"4335.498047\" xlink:href=\"#DejaVuSans-72\"/>\n     <use x=\"4376.611328\" xlink:href=\"#DejaVuSans-20\"/>\n     <use x=\"4408.398438\" xlink:href=\"#DejaVuSans-61\"/>\n    </g>\n   </g>\n   <g id=\"legend_1\">\n    <g id=\"patch_7\">\n     <path d=\"M 50.78125 74.3525 \nL 142.46875 74.3525 \nQ 144.46875 74.3525 144.46875 72.3525 \nL 144.46875 29.318125 \nQ 144.46875 27.318125 142.46875 27.318125 \nL 50.78125 27.318125 \nQ 48.78125 27.318125 48.78125 29.318125 \nL 48.78125 72.3525 \nQ 48.78125 74.3525 50.78125 74.3525 \nz\n\" style=\"fill:#ffffff;opacity:0.8;stroke:#cccccc;stroke-linejoin:miter;\"/>\n    </g>\n    <g id=\"line2d_19\">\n     <path d=\"M 52.78125 35.416562 \nL 72.78125 35.416562 \n\" style=\"fill:none;stroke:#1f77b4;stroke-linecap:square;stroke-width:1.5;\"/>\n    </g>\n    <g id=\"line2d_20\"/>\n    <g id=\"text_19\">\n     <!-- H(x) in bits -->\n     <g transform=\"translate(80.78125 38.916562)scale(0.1 -0.1)\">\n      <defs>\n       <path d=\"M 628 4666 \nL 1259 4666 \nL 1259 2753 \nL 3553 2753 \nL 3553 4666 \nL 4184 4666 \nL 4184 0 \nL 3553 0 \nL 3553 2222 \nL 1259 2222 \nL 1259 0 \nL 628 0 \nL 628 4666 \nz\n\" id=\"DejaVuSans-48\" transform=\"scale(0.015625)\"/>\n       <path d=\"M 1984 4856 \nQ 1566 4138 1362 3434 \nQ 1159 2731 1159 2009 \nQ 1159 1288 1364 580 \nQ 1569 -128 1984 -844 \nL 1484 -844 \nQ 1016 -109 783 600 \nQ 550 1309 550 2009 \nQ 550 2706 781 3412 \nQ 1013 4119 1484 4856 \nL 1984 4856 \nz\n\" id=\"DejaVuSans-28\" transform=\"scale(0.015625)\"/>\n       <path d=\"M 3513 3500 \nL 2247 1797 \nL 3578 0 \nL 2900 0 \nL 1881 1375 \nL 863 0 \nL 184 0 \nL 1544 1831 \nL 300 3500 \nL 978 3500 \nL 1906 2253 \nL 2834 3500 \nL 3513 3500 \nz\n\" id=\"DejaVuSans-78\" transform=\"scale(0.015625)\"/>\n       <path d=\"M 513 4856 \nL 1013 4856 \nQ 1481 4119 1714 3412 \nQ 1947 2706 1947 2009 \nQ 1947 1309 1714 600 \nQ 1481 -109 1013 -844 \nL 513 -844 \nQ 928 -128 1133 580 \nQ 1338 1288 1338 2009 \nQ 1338 2731 1133 3434 \nQ 928 4138 513 4856 \nz\n\" id=\"DejaVuSans-29\" transform=\"scale(0.015625)\"/>\n      </defs>\n      <use xlink:href=\"#DejaVuSans-48\"/>\n      <use x=\"75.195312\" xlink:href=\"#DejaVuSans-28\"/>\n      <use x=\"114.208984\" xlink:href=\"#DejaVuSans-78\"/>\n      <use x=\"173.388672\" xlink:href=\"#DejaVuSans-29\"/>\n      <use x=\"212.402344\" xlink:href=\"#DejaVuSans-20\"/>\n      <use x=\"244.189453\" xlink:href=\"#DejaVuSans-69\"/>\n      <use x=\"271.972656\" xlink:href=\"#DejaVuSans-6e\"/>\n      <use x=\"335.351562\" xlink:href=\"#DejaVuSans-20\"/>\n      <use x=\"367.138672\" xlink:href=\"#DejaVuSans-62\"/>\n      <use x=\"430.615234\" xlink:href=\"#DejaVuSans-69\"/>\n      <use x=\"458.398438\" xlink:href=\"#DejaVuSans-74\"/>\n      <use x=\"497.607422\" xlink:href=\"#DejaVuSans-73\"/>\n     </g>\n    </g>\n    <g id=\"line2d_21\">\n     <path d=\"M 52.78125 50.094687 \nL 72.78125 50.094687 \n\" style=\"fill:none;stroke:#ff7f0e;stroke-linecap:square;stroke-width:1.5;\"/>\n    </g>\n    <g id=\"line2d_22\"/>\n    <g id=\"text_20\">\n     <!-- H(y) in bits -->\n     <g transform=\"translate(80.78125 53.594687)scale(0.1 -0.1)\">\n      <use xlink:href=\"#DejaVuSans-48\"/>\n      <use x=\"75.195312\" xlink:href=\"#DejaVuSans-28\"/>\n      <use x=\"114.208984\" xlink:href=\"#DejaVuSans-79\"/>\n      <use x=\"173.388672\" xlink:href=\"#DejaVuSans-29\"/>\n      <use x=\"212.402344\" xlink:href=\"#DejaVuSans-20\"/>\n      <use x=\"244.189453\" xlink:href=\"#DejaVuSans-69\"/>\n      <use x=\"271.972656\" xlink:href=\"#DejaVuSans-6e\"/>\n      <use x=\"335.351562\" xlink:href=\"#DejaVuSans-20\"/>\n      <use x=\"367.138672\" xlink:href=\"#DejaVuSans-62\"/>\n      <use x=\"430.615234\" xlink:href=\"#DejaVuSans-69\"/>\n      <use x=\"458.398438\" xlink:href=\"#DejaVuSans-74\"/>\n      <use x=\"497.607422\" xlink:href=\"#DejaVuSans-73\"/>\n     </g>\n    </g>\n    <g id=\"line2d_23\">\n     <path d=\"M 52.78125 64.772812 \nL 72.78125 64.772812 \n\" style=\"fill:none;stroke:#2ca02c;stroke-linecap:square;stroke-width:1.5;\"/>\n    </g>\n    <g id=\"line2d_24\"/>\n    <g id=\"text_21\">\n     <!-- I(x;y) in bits -->\n     <g transform=\"translate(80.78125 68.272812)scale(0.1 -0.1)\">\n      <defs>\n       <path d=\"M 750 3309 \nL 1409 3309 \nL 1409 2516 \nL 750 2516 \nL 750 3309 \nz\nM 750 794 \nL 1409 794 \nL 1409 256 \nL 897 -744 \nL 494 -744 \nL 750 256 \nL 750 794 \nz\n\" id=\"DejaVuSans-3b\" transform=\"scale(0.015625)\"/>\n      </defs>\n      <use xlink:href=\"#DejaVuSans-49\"/>\n      <use x=\"29.492188\" xlink:href=\"#DejaVuSans-28\"/>\n      <use x=\"68.505859\" xlink:href=\"#DejaVuSans-78\"/>\n      <use x=\"127.685547\" xlink:href=\"#DejaVuSans-3b\"/>\n      <use x=\"161.376953\" xlink:href=\"#DejaVuSans-79\"/>\n      <use x=\"220.556641\" xlink:href=\"#DejaVuSans-29\"/>\n      <use x=\"259.570312\" xlink:href=\"#DejaVuSans-20\"/>\n      <use x=\"291.357422\" xlink:href=\"#DejaVuSans-69\"/>\n      <use x=\"319.140625\" xlink:href=\"#DejaVuSans-6e\"/>\n      <use x=\"382.519531\" xlink:href=\"#DejaVuSans-20\"/>\n      <use x=\"414.306641\" xlink:href=\"#DejaVuSans-62\"/>\n      <use x=\"477.783203\" xlink:href=\"#DejaVuSans-69\"/>\n      <use x=\"505.566406\" xlink:href=\"#DejaVuSans-74\"/>\n      <use x=\"544.775391\" xlink:href=\"#DejaVuSans-73\"/>\n     </g>\n    </g>\n   </g>\n  </g>\n </g>\n <defs>\n  <clipPath id=\"p3652eeed5d\">\n   <rect height=\"326.16\" width=\"502.2\" x=\"43.78125\" y=\"22.318125\"/>\n  </clipPath>\n </defs>\n</svg>\n",
      "image/png": "[encoded data removed]"
     },
     "metadata": {
      "needs_background": "light"
     }
    }
   ],
   "metadata": {}
  },
  {
   "cell_type": "code",
   "execution_count": 65,
   "source": [
    "[marginalY(p) for p in ps[slice(0, None, 10)]]"
   ],
   "outputs": [
    {
     "output_type": "execute_result",
     "data": {
      "text/plain": [
       "[array([1., 0., 0.]),\n",
       " array([0.90833333, 0.04166667, 0.05      ]),\n",
       " array([0.81666667, 0.08333333, 0.1       ]),\n",
       " array([0.725, 0.125, 0.15 ]),\n",
       " array([0.63333333, 0.16666667, 0.2       ]),\n",
       " array([0.54166667, 0.20833333, 0.25      ]),\n",
       " array([0.45, 0.25, 0.3 ]),\n",
       " array([0.35833333, 0.29166667, 0.35      ]),\n",
       " array([0.26666667, 0.33333333, 0.4       ]),\n",
       " array([0.175, 0.375, 0.45 ]),\n",
       " array([0.08333333, 0.41666667, 0.5       ])]"
      ]
     },
     "metadata": {},
     "execution_count": 65
    }
   ],
   "metadata": {}
  },
  {
   "cell_type": "code",
   "execution_count": 69,
   "source": [
    "[marginalX(p) for p in ps[slice(0, None, 10)]]"
   ],
   "outputs": [
    {
     "output_type": "execute_result",
     "data": {
      "text/plain": [
       "[array([1., 0., 0.]),\n",
       " array([0.93333333, 0.04166667, 0.025     ]),\n",
       " array([0.86666667, 0.08333333, 0.05      ]),\n",
       " array([0.8  , 0.125, 0.075]),\n",
       " array([0.73333333, 0.16666667, 0.1       ]),\n",
       " array([0.66666667, 0.20833333, 0.125     ]),\n",
       " array([0.6 , 0.25, 0.15]),\n",
       " array([0.53333333, 0.29166667, 0.175     ]),\n",
       " array([0.46666667, 0.33333333, 0.2       ]),\n",
       " array([0.4  , 0.375, 0.225]),\n",
       " array([0.33333333, 0.41666667, 0.25      ])]"
      ]
     },
     "metadata": {},
     "execution_count": 69
    }
   ],
   "metadata": {}
  },
  {
   "cell_type": "markdown",
   "source": [
    "# Question 5."
   ],
   "metadata": {}
  },
  {
   "cell_type": "code",
   "execution_count": 76,
   "source": [
    "# a : number of coins on one side of the scale (==> total coins on the scale = 2*a)\n",
    "# b : number of coins on the side (i.e. not on the scale)\n",
    "# 2*a + b = 12, total number of coins\n",
    "\n",
    "As = [1,2,3,4,5,6]\n",
    "\n",
    "def getP(a):\n",
    "    b = 12 - (2 * a)\n",
    "    return [a/12, a/12, b/12]\n",
    "\n",
    "ps = [ getP(a) for a in As ]\n",
    "\n",
    "Hxs = [entropy(p) for p in ps]\n",
    "\n",
    "fig, axs = plt.subplots(1, 1, figsize=(9, 6))  \n",
    "axs.plot(As, Hxs, label='H(x) in bits')\n",
    "\n",
    "axs.set_xlabel('a')\n",
    "axs.set_ylabel('bits')\n",
    "plt.legend()\n",
    "plt.show()   "
   ],
   "outputs": [
    {
     "output_type": "display_data",
     "data": {
      "text/plain": [
       "<Figure size 648x432 with 1 Axes>"
      ],
      "image/png": "[encoded data removed]"
     },
     "metadata": {
      "needs_background": "light"
     }
    }
   ],
   "metadata": {}
  },
  {
   "cell_type": "code",
   "execution_count": null,
   "source": [],
   "outputs": [],
   "metadata": {}
  }
 ],
 "metadata": {
  "kernelspec": {
   "name": "python3",
   "display_name": "Python 3.9.6 64-bit ('base': conda)"
  },
  "language_info": {
   "codemirror_mode": {
    "name": "ipython",
    "version": 3
   },
   "file_extension": ".py",
   "mimetype": "text/x-python",
   "name": "python",
   "nbconvert_exporter": "python",
   "pygments_lexer": "ipython3",
   "version": "3.9.6"
  },
  "interpreter": {
   "hash": "98b0a9b7b4eaaa670588a142fd0a9b87eaafe866f1db4228be72b4211d12040f"
  }
 },
 "nbformat": 4,
 "nbformat_minor": 5
}