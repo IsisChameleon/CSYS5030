{
 "cells": [
  {
   "cell_type": "markdown",
   "metadata": {},
   "source": [
    "# WEEK3 INFORMATION\n",
    "# 1. Scissors rock paper analysis\n"
   ]
  },
  {
   "cell_type": "code",
   "execution_count": 1,
   "metadata": {},
   "outputs": [],
   "source": [
    "#------------------------------------------------------------\n",
    "# WHEN RUNNING LOCALLY UPDATE THIS CELL TO SET UP DATASET LOCATION\n",
    "#------------------------------------------------------------\n",
    "BASEURITXT='/home/jovyan/notebooks/CSYS5030/data/SPR'"
   ]
  },
  {
   "cell_type": "code",
   "execution_count": 2,
   "metadata": {},
   "outputs": [],
   "source": [
    "#------------------------------------------------------------\n",
    "# LOAD GAMES FROM TEXT FILES\n",
    "#------------------------------------------------------------\n",
    "\n",
    "import re\n",
    "from pathlib import Path\n",
    "\n",
    "# moves = { 'scissors':0, 'paper':1, 'rock':2}\n",
    "def getResult(game1: int, game2: int):\n",
    "    results = [[0,1, -1], [-1, 0, 1], [1,-1,0]]\n",
    "    result=results[game1][game2]\n",
    "    return result\n",
    "\n",
    "def loadGames(baseUriStr: str):\n",
    "\n",
    "    player1Regex = re.compile('(?<=Player1:\\s).*(?=;)')\n",
    "    player2Regex = re.compile('(?<=Player2:\\s).*(?=$)')\n",
    "    game1Regex = re.compile('(?<=^)[012](?=\\s)')\n",
    "    game2Regex = re.compile('(?<=\\s)[012](?=$)')\n",
    "\n",
    "    baseUri=Path(baseUriStr)\n",
    "    txtFiles=[x for x in baseUri.glob('**/*.txt')]\n",
    "\n",
    "    # game = [game#, player1, player2, moveplayer1, moveplayer2]\n",
    "    filenum=0\n",
    "    games=list()\n",
    "    for tf in txtFiles:\n",
    "        with open(tf, 'rt') as f:\n",
    "            lines = f.readlines()\n",
    "    \n",
    "        for i, line in enumerate(lines):\n",
    "            if (i == 0):\n",
    "                player1 = re.findall(player1Regex, line)[0].lower()\n",
    "                player2 = re.findall(player2Regex, line)[0].lower()\n",
    "            else:\n",
    "                game1 =  int(re.findall(game1Regex, line)[0])\n",
    "                game2 =  int(re.findall(game2Regex, line)[0])\n",
    "                result = getResult(game1, game2)\n",
    "                result2 = getResult(game2, game1)\n",
    "                games.append([filenum, player1, player2, game1, game2, result, result2])\n",
    "\n",
    "        filenum+=1\n",
    "\n",
    "    return games\n",
    "\n",
    "            \n"
   ]
  },
  {
   "cell_type": "code",
   "execution_count": 3,
   "metadata": {},
   "outputs": [],
   "source": [
    "games = loadGames(BASEURITXT)\n",
    "\n",
    "\n",
    "\n"
   ]
  },
  {
   "cell_type": "code",
   "execution_count": 4,
   "metadata": {},
   "outputs": [],
   "source": [
    "#------------------------------------------------------------\n",
    "# LIST PLAYERS\n",
    "#------------------------------------------------------------\n",
    "\n",
    "import numpy as np\n",
    "\n",
    "def listPlayers(games: list):\n",
    "    listPs = list()\n",
    "    listPs += [ [game[1], game[2]] for game in games]\n",
    "    listPs = np.array(listPs).flatten()\n",
    "    Ps=list(set(listPs))\n",
    "    return Ps"
   ]
  },
  {
   "cell_type": "code",
   "execution_count": 5,
   "metadata": {},
   "outputs": [
    {
     "name": "stdout",
     "output_type": "stream",
     "text": [
      "['clover', 'yizhi', 'm-sizzle', 'isabelle', 'kc', 'stuart', 'sebastian']\n",
      "clover\n"
     ]
    }
   ],
   "source": [
    "players = listPlayers(games)\n",
    "print(players)\n",
    "print(players[0])\n"
   ]
  },
  {
   "cell_type": "code",
   "execution_count": 6,
   "metadata": {},
   "outputs": [
    {
     "name": "stdout",
     "output_type": "stream",
     "text": [
      "[-1, -1, -1, 1, 0, 0, 1, 1, 1, 1, -1, -1, -1, 0, 0, -1, 1, 0, -1, -1, -1, -1, -1, 0, 1, 0, 1, -1, -1, -1, 1, -1, 0, 0, 0, 1, 1, 0, -1, 0, 0, 0, 1, 1]\n",
      "[1, 2, 1, 1, 0, 1, 2, 1, 2, 1, 0, 1, 0, 1, 0, 1, 2, 0, 1, 2, 0, 2, 1, 0, 2, 0, 1, 1, 2, 1, 1, 0, 1, 0, 1, 2, 0, 2, 0, 1, 0, 1, 0, 2]\n",
      "44\n",
      "44\n"
     ]
    }
   ],
   "source": [
    "#------------------------------------------------------------\n",
    "#   GET 1 PLAYER MOVES AND RESULTS ACCROSS ALL GAMES\n",
    "#------------------------------------------------------------\n",
    "\n",
    "import pandas as pd\n",
    "\n",
    "def getPlayerAllMovesAndGains(playerName: str, games: np.array):\n",
    "    playerName = playerName.lower()\n",
    "    df_games = pd.DataFrame(games, columns = ['Game#', 'Player1', 'Player2', 'Move1', 'Move2', 'Result1', 'Result2' ])\n",
    "    d1 = df_games.loc[ df_games.Player1 == playerName]\n",
    "    moveWhen1 = list(d1.Move1)\n",
    "    winWhen1 = list(d1.Result1)\n",
    "    d2 = df_games.loc[ df_games.Player2 == playerName]\n",
    "    moveWhen2 = list(d2.Move2)\n",
    "    winWhen2 = list(d2.Result2)\n",
    "\n",
    "    return moveWhen1 + moveWhen2, winWhen1 + winWhen2\n",
    "\n",
    "moves, gains = getPlayerAllMovesAndGains('Isabelle', games)\n",
    "\n",
    "print(gains)\n",
    "print(moves)\n",
    "\n",
    "print(len(gains))\n",
    "print(len(moves))\n",
    "\n",
    "\n"
   ]
  },
  {
   "cell_type": "code",
   "execution_count": 7,
   "metadata": {},
   "outputs": [
    {
     "data": {
      "text/plain": [
       "1.5488102670635504"
      ]
     },
     "execution_count": 7,
     "metadata": {},
     "output_type": "execute_result"
    }
   ],
   "source": [
    "from week1 import entropyEmpirical\n",
    "entropyEmpirical(moves)"
   ]
  },
  {
   "cell_type": "code",
   "execution_count": 8,
   "metadata": {},
   "outputs": [],
   "source": [
    "players=listPlayers(games)"
   ]
  },
  {
   "cell_type": "code",
   "execution_count": 9,
   "metadata": {},
   "outputs": [],
   "source": [
    "#------------------------------------------------------------\n",
    "#   GET 1 PLAYER MOVES AND RESULTS ACCROSS ALL GAMES\n",
    "#------------------------------------------------------------\n",
    "\n",
    "playersGameEntropy=dict()\n",
    "for player in players:\n",
    "    playersGameEntropy[player]=None\n"
   ]
  },
  {
   "cell_type": "code",
   "execution_count": 10,
   "metadata": {},
   "outputs": [
    {
     "name": "stdout",
     "output_type": "stream",
     "text": [
      "clover plays with entropy 1.516147658077609 and in average a score of -3\n",
      "winRatio 0.16, lossRatio 0.28\n",
      "yizhi plays with entropy 1.4987512731845576 and in average a score of 3\n",
      "winRatio 0.38235294117647056, lossRatio 0.29411764705882354\n",
      "m-sizzle plays with entropy 1.5602518646164185 and in average a score of 1\n",
      "winRatio 0.4, lossRatio 0.37777777777777777\n",
      "isabelle plays with entropy 1.5488102670635504 and in average a score of -4\n",
      "winRatio 0.29545454545454547, lossRatio 0.38636363636363635\n",
      "kc plays with entropy 1.565596230357602 and in average a score of 3\n",
      "winRatio 0.4, lossRatio 0.3\n",
      "stuart plays with entropy 1.4839123015466111 and in average a score of -3\n",
      "winRatio 0.2857142857142857, lossRatio 0.37142857142857144\n",
      "sebastian plays with entropy 1.4396275363413569 and in average a score of 3\n",
      "winRatio 0.28, lossRatio 0.16\n"
     ]
    }
   ],
   "source": [
    "from week1 import entropyEmpirical\n",
    "\n",
    "scores=list()\n",
    "entropies=list()\n",
    "lossRatios=list()\n",
    "winRatios=list()\n",
    "for player in players:\n",
    "    moves, gains = getPlayerAllMovesAndGains(player, games)\n",
    "    playersGameEntropy[player] = entropyEmpirical(moves)\n",
    "    gains=np.array(gains)\n",
    "    score=np.sum(gains)\n",
    "    winRatio=len(list(gains[gains==1]))/len(list(gains))\n",
    "    lossRatio=len(list(gains[gains==-1]))/len(list(gains))\n",
    "    winRatios.append(winRatio)\n",
    "    lossRatios.append(lossRatio)\n",
    "    scores.append(score)\n",
    "    entropies.append(playersGameEntropy[player])\n",
    "    print('{} plays with entropy {} and in average a score of {}'.format(player, playersGameEntropy[player], score))\n",
    "    print('winRatio {}, lossRatio {}'.format(winRatio, lossRatio))\n",
    "\n"
   ]
  },
  {
   "cell_type": "code",
   "execution_count": 11,
   "metadata": {},
   "outputs": [
    {
     "name": "stderr",
     "output_type": "stream",
     "text": [
      "No handles with labels found to put in legend.\n"
     ]
    },
    {
     "data": {
      "image/png": "[encoded data removed]",
      "text/plain": [
       "<Figure size 648x432 with 1 Axes>"
      ]
     },
     "metadata": {
      "needs_background": "light"
     },
     "output_type": "display_data"
    }
   ],
   "source": [
    "#------------------------------------------------------------\n",
    "#   PLOT Entropies vs WinRatios\n",
    "#------------------------------------------------------------\n",
    "\n",
    "\n",
    "import matplotlib.pyplot as plt\n",
    "\n",
    "fig, axs = plt.subplots(1, 1, figsize=(9, 6))  \n",
    "axs.plot(entropies, winRatios, 'ro')\n",
    "axs.set_title('WinRatios vs Entropies')\n",
    "axs.set_xlabel('H(x)')\n",
    "plt.legend()\n",
    "plt.show()\n",
    "\n"
   ]
  },
  {
   "cell_type": "code",
   "execution_count": 12,
   "metadata": {},
   "outputs": [
    {
     "name": "stderr",
     "output_type": "stream",
     "text": [
      "No handles with labels found to put in legend.\n"
     ]
    },
    {
     "data": {
      "image/png": "[encoded data removed]",
      "text/plain": [
       "<Figure size 648x432 with 1 Axes>"
      ]
     },
     "metadata": {
      "needs_background": "light"
     },
     "output_type": "display_data"
    }
   ],
   "source": [
    "#------------------------------------------------------------\n",
    "#   PLOT Entropies vs LossRatios\n",
    "#------------------------------------------------------------\n",
    "\n",
    "\n",
    "import matplotlib.pyplot as plt\n",
    "\n",
    "fig, axs = plt.subplots(1, 1, figsize=(9, 6))  \n",
    "axs.plot(entropies, lossRatios, 'ro')\n",
    "axs.set_title('LossRatios vs Entropies')\n",
    "axs.set_xlabel('H(x)')\n",
    "plt.legend()\n",
    "plt.show()\n"
   ]
  },
  {
   "cell_type": "code",
   "execution_count": 13,
   "metadata": {},
   "outputs": [
    {
     "name": "stderr",
     "output_type": "stream",
     "text": [
      "No handles with labels found to put in legend.\n"
     ]
    },
    {
     "data": {
      "image/png": "[encoded data removed]",
      "text/plain": [
       "<Figure size 648x432 with 1 Axes>"
      ]
     },
     "metadata": {
      "needs_background": "light"
     },
     "output_type": "display_data"
    }
   ],
   "source": [
    "#------------------------------------------------------------\n",
    "#   PLOT Entropies vs Scores\n",
    "#------------------------------------------------------------\n",
    "\n",
    "\n",
    "import matplotlib.pyplot as plt\n",
    "\n",
    "fig, axs = plt.subplots(1, 1, figsize=(9, 6))  \n",
    "axs.plot(entropies, scores, 'ro')\n",
    "axs.set_title('Scores vs Entropies')\n",
    "axs.set_xlabel('H(x)')\n",
    "plt.legend()\n",
    "plt.show()\n"
   ]
  },
  {
   "cell_type": "markdown",
   "metadata": {},
   "source": [
    "# 4. mutual information"
   ]
  },
  {
   "cell_type": "code",
   "execution_count": 14,
   "metadata": {},
   "outputs": [
    {
     "data": {
      "text/plain": [
       "0.034851554559677256"
      ]
     },
     "execution_count": 14,
     "metadata": {},
     "output_type": "execute_result"
    }
   ],
   "source": [
    "from week1 import mutualInformation\n",
    "\n",
    "p = [[0.2, 0.3],[0.1, 0.4]]\n",
    "mutualInformation(p)\n",
    "#correct result = 0.034851554559677256"
   ]
  },
  {
   "cell_type": "code",
   "execution_count": 15,
   "metadata": {},
   "outputs": [
    {
     "data": {
      "text/plain": [
       "1.0"
      ]
     },
     "execution_count": 15,
     "metadata": {},
     "output_type": "execute_result"
    }
   ],
   "source": [
    "p=[[0.5,0],[0,0.5]]\n",
    "mutualInformation(p)\n",
    "#correct result = 1"
   ]
  },
  {
   "cell_type": "code",
   "execution_count": 16,
   "metadata": {},
   "outputs": [
    {
     "data": {
      "text/plain": [
       "0.0"
      ]
     },
     "execution_count": 16,
     "metadata": {},
     "output_type": "execute_result"
    }
   ],
   "source": [
    "p=[[0.25,0.25],[0.25,0.25]]\n",
    "mutualInformation(p)\n",
    "#correct result = 0 bits"
   ]
  },
  {
   "cell_type": "code",
   "execution_count": 17,
   "metadata": {},
   "outputs": [
    {
     "data": {
      "text/plain": [
       "0.0"
      ]
     },
     "execution_count": 17,
     "metadata": {},
     "output_type": "execute_result"
    }
   ],
   "source": [
    "from week1 import mutualInformationEmpirical\n",
    "\n",
    "samples = [[0,0],[0,1],[1,0],[1,1]]\n",
    "mutualInformationEmpirical(samples)\n",
    "#correct answer : 0 bits cause knowing about 1 does't give any information about the state of the other"
   ]
  },
  {
   "cell_type": "code",
   "execution_count": 18,
   "metadata": {},
   "outputs": [
    {
     "data": {
      "text/plain": [
       "1.0"
      ]
     },
     "execution_count": 18,
     "metadata": {},
     "output_type": "execute_result"
    }
   ],
   "source": [
    "samples = [[0,0],[0,0],[1,1],[1,1]]\n",
    "mutualInformationEmpirical(samples)\n",
    "#correct answer : 1 bits, cause knowing 1 is knowing the other"
   ]
  },
  {
   "cell_type": "markdown",
   "metadata": {},
   "source": [
    "# Mutual information between successive letters in written English   "
   ]
  },
  {
   "cell_type": "code",
   "execution_count": 19,
   "metadata": {},
   "outputs": [
    {
     "data": {
      "text/plain": [
       "4.093811389530426"
      ]
     },
     "execution_count": 19,
     "metadata": {},
     "output_type": "execute_result"
    }
   ],
   "source": [
    "import re\n",
    "from week1 import entropyEmpirical, mutualInformationEmpirical, conditionalEntropyEmpirical, jointEntropyEmpirical\n",
    "\n",
    "filename = './data/Seinfeld-scripts-textOnly.txt'\n",
    "with open(filename, 'rt') as f:\n",
    "    text = f.read()\n",
    "\n",
    "\n",
    "p = re.compile('[!\"#$%&\\'()*+,-./:;<=>?@[\\\\]^_`{|}~]*')\n",
    "\n",
    "processedStr = p.sub('', ' '.join(text.lower().split()))\n",
    "\n",
    "sample = [ char for char in processedStr]\n",
    "entropyEmpirical(sample)"
   ]
  },
  {
   "cell_type": "code",
   "execution_count": 20,
   "metadata": {},
   "outputs": [
    {
     "name": "stdout",
     "output_type": "stream",
     "text": [
      "do you know what this is all about do you know why were here to be out this is outand out is one of the single most enjoyable experiences of life peopledid you ever hear people talking about we should\n"
     ]
    }
   ],
   "source": [
    "print(processedStr[0:200])"
   ]
  },
  {
   "cell_type": "code",
   "execution_count": 21,
   "metadata": {},
   "outputs": [],
   "source": [
    "samples = [[char1, char2] for char1, char2 in list(zip(processedStr[slice(0, None, 1)], processedStr[slice(1, None, 1)])) ]"
   ]
  },
  {
   "cell_type": "markdown",
   "metadata": {},
   "source": [
    "## Compute this mutual information and compare that to the average entropy of each character computed as per step 5 of the activity in the previous module"
   ]
  },
  {
   "cell_type": "code",
   "execution_count": 22,
   "metadata": {},
   "outputs": [
    {
     "data": {
      "text/plain": [
       "0.7269903009049097"
      ]
     },
     "execution_count": 22,
     "metadata": {},
     "output_type": "execute_result"
    }
   ],
   "source": [
    "mutualInformationEmpirical(samples)"
   ]
  },
  {
   "cell_type": "code",
   "execution_count": 23,
   "metadata": {},
   "outputs": [
    {
     "data": {
      "text/plain": [
       "3.366821110907419"
      ]
     },
     "execution_count": 23,
     "metadata": {},
     "output_type": "execute_result"
    }
   ],
   "source": [
    "conditionalEntropyEmpirical(samples)"
   ]
  },
  {
   "cell_type": "code",
   "execution_count": 24,
   "metadata": {},
   "outputs": [
    {
     "data": {
      "text/plain": [
       "0.7269902786230071"
      ]
     },
     "execution_count": 24,
     "metadata": {},
     "output_type": "execute_result"
    }
   ],
   "source": [
    "4.093811389530425 - 3.366821110907418\n",
    "\n",
    "\n"
   ]
  },
  {
   "cell_type": "markdown",
   "metadata": {},
   "source": [
    "We obtain the\n",
    "H(X) - H(X|Y) = I(X;Y)"
   ]
  },
  {
   "cell_type": "markdown",
   "metadata": {},
   "source": [
    "1. What proportion of our uncertainty about the next character in the written text is reduced by observing the previous character?  \n",
    "\n",
    "We have reduce uncertainty by 0.73 bits\n",
    "\n",
    "1. How much code could we save in communicating a character if our coding scheme took the previous character into account? \n",
    "\n",
    "Instead of having to use 4.0938 bits we could use only 3.3668 bits \n",
    "\n",
    "2. The mutual information computes a measure of the relationship between the consecutive characters here. You're probably familiar with using correlation to measure a relationship between variables -- could correlation be used here? We will see more about how MI and correlation are related in the coming weeks.\n",
    "\n",
    "https://www.statology.org/correlation-in-python/    \n",
    "https://realpython.com/numpy-scipy-pandas-correlation-python/   \n",
    "https://www.geeksforgeeks.org/python-pearson-correlation-test-between-two-variables/    "
   ]
  },
  {
   "cell_type": "markdown",
   "metadata": {},
   "source": [
    "Calculate the correlation between the two arrays   \n",
    "Here the 2 arrays are the 2 arrays containing successive characters\n"
   ]
  },
  {
   "cell_type": "code",
   "execution_count": 25,
   "metadata": {},
   "outputs": [
    {
     "ename": "TypeError",
     "evalue": "list indices must be integers or slices, not tuple",
     "output_type": "error",
     "traceback": [
      "\u001b[0;31m---------------------------------------------------------------------------\u001b[0m",
      "\u001b[0;31mTypeError\u001b[0m                                 Traceback (most recent call last)",
      "\u001b[0;32m/tmp/ipykernel_14444/2673841251.py\u001b[0m in \u001b[0;36m<module>\u001b[0;34m\u001b[0m\n\u001b[1;32m      1\u001b[0m \u001b[0;32mfrom\u001b[0m \u001b[0msklearn\u001b[0m \u001b[0;32mimport\u001b[0m \u001b[0mpreprocessing\u001b[0m\u001b[0;34m\u001b[0m\u001b[0;34m\u001b[0m\u001b[0m\n\u001b[1;32m      2\u001b[0m \u001b[0mlabelEncoder\u001b[0m \u001b[0;34m=\u001b[0m \u001b[0mpreprocessing\u001b[0m\u001b[0;34m.\u001b[0m\u001b[0mLabelEncoder\u001b[0m\u001b[0;34m(\u001b[0m\u001b[0;34m)\u001b[0m\u001b[0;34m\u001b[0m\u001b[0;34m\u001b[0m\u001b[0m\n\u001b[0;32m----> 3\u001b[0;31m \u001b[0mlabelEncoder\u001b[0m\u001b[0;34m.\u001b[0m\u001b[0mfit\u001b[0m\u001b[0;34m(\u001b[0m\u001b[0msamples\u001b[0m\u001b[0;34m[\u001b[0m\u001b[0;34m:\u001b[0m\u001b[0;34m,\u001b[0m\u001b[0;36m0\u001b[0m\u001b[0;34m]\u001b[0m\u001b[0;34m)\u001b[0m\u001b[0;34m\u001b[0m\u001b[0;34m\u001b[0m\u001b[0m\n\u001b[0m\u001b[1;32m      4\u001b[0m \u001b[0mlabelEncoder\u001b[0m\u001b[0;34m.\u001b[0m\u001b[0mfit\u001b[0m\u001b[0;34m(\u001b[0m\u001b[0msamples\u001b[0m\u001b[0;34m[\u001b[0m\u001b[0;34m:\u001b[0m\u001b[0;34m,\u001b[0m\u001b[0;36m1\u001b[0m\u001b[0;34m]\u001b[0m\u001b[0;34m)\u001b[0m\u001b[0;34m\u001b[0m\u001b[0;34m\u001b[0m\u001b[0m\n\u001b[1;32m      5\u001b[0m \u001b[0;34m\u001b[0m\u001b[0m\n",
      "\u001b[0;31mTypeError\u001b[0m: list indices must be integers or slices, not tuple"
     ]
    }
   ],
   "source": [
    "from sklearn import preprocessing \n",
    "labelEncoder = preprocessing.LabelEncoder() \n",
    "labelEncoder.fit(samples[:,0])\n",
    "labelEncoder.fit(samples[:,1])\n",
    " \n",
    "samplex= labelEncoder.transform(samples[:,0]) \n",
    "sampley= labelEncoder.transform(samples[:,1]) \n"
   ]
  },
  {
   "cell_type": "code",
   "execution_count": null,
   "metadata": {},
   "outputs": [],
   "source": [
    "np.corrcoef(samplex, sampley)"
   ]
  },
  {
   "cell_type": "markdown",
   "metadata": {},
   "source": [
    "The above corrcoeff calculates the Pearson corerlation coefficient matrix, which is a measure of linear correlation. It may be otherwise correlated than linear.\n",
    "\n",
    "Also the data is not numerical, it is categorical (list of letters). So doing the trick of encoding it into integers creates an order (a < b < c  etc...depending on which letter is encoded by which integer) that isn't there. So it gives flawed information."
   ]
  },
  {
   "cell_type": "code",
   "execution_count": null,
   "metadata": {},
   "outputs": [],
   "source": [
    "print(samplex)"
   ]
  },
  {
   "cell_type": "code",
   "execution_count": null,
   "metadata": {},
   "outputs": [],
   "source": [
    "print(sampley)"
   ]
  },
  {
   "cell_type": "markdown",
   "metadata": {},
   "source": [
    "## Are there relationships between previous characters and later characters beyond those which are consecutive?\n",
    "0.3 something 2l\n",
    "0.1 something 3l\n",
    "0.05 something 4l"
   ]
  },
  {
   "cell_type": "code",
   "execution_count": null,
   "metadata": {},
   "outputs": [],
   "source": [
    " samples_2l = [[char1, char2] for char1, char2 in list(zip(processedStr[slice(0, None, 2)], processedStr[slice(2, None, 2)])) ] "
   ]
  },
  {
   "cell_type": "code",
   "execution_count": null,
   "metadata": {},
   "outputs": [],
   "source": [
    "mutualInformationEmpirical(samples_2l)"
   ]
  },
  {
   "cell_type": "code",
   "execution_count": null,
   "metadata": {},
   "outputs": [],
   "source": [
    "samples_3l = [[char1, char2] for char1, char2 in list(zip(processedStr[slice(0, None, 3)], processedStr[slice(3, None, 3)])) ] "
   ]
  },
  {
   "cell_type": "code",
   "execution_count": null,
   "metadata": {},
   "outputs": [],
   "source": [
    "mutualInformationEmpirical(samples_3l)"
   ]
  },
  {
   "cell_type": "code",
   "execution_count": null,
   "metadata": {},
   "outputs": [],
   "source": []
  }
 ],
 "metadata": {
  "interpreter": {
   "hash": "98b0a9b7b4eaaa670588a142fd0a9b87eaafe866f1db4228be72b4211d12040f"
  },
  "kernelspec": {
   "display_name": "Python 3 (ipykernel)",
   "language": "python",
   "name": "python3"
  },
  "language_info": {
   "codemirror_mode": {
    "name": "ipython",
    "version": 3
   },
   "file_extension": ".py",
   "mimetype": "text/x-python",
   "name": "python",
   "nbconvert_exporter": "python",
   "pygments_lexer": "ipython3",
   "version": "3.9.7"
  }
 },
 "nbformat": 4,
 "nbformat_minor": 4
}
