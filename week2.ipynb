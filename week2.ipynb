{
 "metadata": {
  "language_info": {
   "codemirror_mode": {
    "name": "ipython",
    "version": 3
   },
   "file_extension": ".py",
   "mimetype": "text/x-python",
   "name": "python",
   "nbconvert_exporter": "python",
   "pygments_lexer": "ipython3",
   "version": "3.9.2"
  },
  "orig_nbformat": 4,
  "kernelspec": {
   "name": "python3",
   "display_name": "Python 3.9.2 64-bit ('base': conda)"
  },
  "interpreter": {
   "hash": "98b0a9b7b4eaaa670588a142fd0a9b87eaafe866f1db4228be72b4211d12040f"
  }
 },
 "nbformat": 4,
 "nbformat_minor": 2,
 "cells": [
  {
   "cell_type": "code",
   "execution_count": 1,
   "metadata": {},
   "outputs": [
    {
     "output_type": "execute_result",
     "data": {
      "text/plain": [
       "1.0"
      ]
     },
     "metadata": {},
     "execution_count": 1
    }
   ],
   "source": [
    "from week1 import calculateDatasetShannonEntropy\n",
    "calculateDatasetShannonEntropy([0,0,1,1])"
   ]
  },
  {
   "source": [
    "# samples from a normal distribution with mu  and sigma using numpy\n",
    "# For random samples from N(\\mu, \\sigma^2), use:\n",
    "\n",
    "# sigma * np.random.randn(...) + mu\n",
    "\n",
    "numpy.random.randint(low, high=None, size=None, dtype='l')\n",
    "Return random integers from low (inclusive) to high (exclusive).\n",
    "\n",
    "Return random integers from the “discrete uniform” distribution of the specified dtype in the “half-open” interval [low, high). If high is None (the default), then results are from [0, low)."
   ],
   "cell_type": "markdown",
   "metadata": {}
  },
  {
   "cell_type": "code",
   "execution_count": 2,
   "metadata": {},
   "outputs": [
    {
     "output_type": "stream",
     "name": "stdout",
     "text": [
      "[0 0 1 0 0 1 1 1 0 0]\n"
     ]
    }
   ],
   "source": [
    "import numpy as np\n",
    "samples = np.random.randint(0,2, 10)\n",
    "print(samples)"
   ]
  },
  {
   "cell_type": "code",
   "execution_count": 3,
   "metadata": {},
   "outputs": [
    {
     "output_type": "stream",
     "name": "stdout",
     "text": [
      "0.9709505944546688\n"
     ]
    }
   ],
   "source": [
    "from week1 import entropy, calculateDatasetShannonEntropy\n",
    "Hs = calculateDatasetShannonEntropy(samples)\n",
    "print(Hs)"
   ]
  },
  {
   "cell_type": "code",
   "execution_count": 4,
   "metadata": {},
   "outputs": [
    {
     "output_type": "stream",
     "name": "stdout",
     "text": [
      "[2 3 2 3 2 2 0 0 1 0 0 2 0 2 0 1 3 2 2 1 1 1 1 2 3 2 1 2 0 2 2 1 3 1 0 1 1\n 0 1 2 3 3 0 3 1 2 0 3 0 3 1 0 2 1 1 0 1 3 0 2 0 2 2 1 1 3 3 1 1 3 3 3 3 3\n 2 3 2 1 0 0 1 3 0 1 1 3 1 2 2 3 2 1 0 1 3 2 1 0 3 2]\n1.9901497155144277\n"
     ]
    }
   ],
   "source": [
    "samples = np.random.randint(0,4, 100)\n",
    "print(samples)\n",
    "Hs = calculateDatasetShannonEntropy(samples)\n",
    "print(Hs)"
   ]
  },
  {
   "source": [
    "# Conditional entropy"
   ],
   "cell_type": "markdown",
   "metadata": {}
  },
  {
   "cell_type": "code",
   "execution_count": 5,
   "metadata": {},
   "outputs": [],
   "source": [
    "def conditionalentropy(p: np.array):\n",
    "    # entropyXGivenY\n",
    "    # H(X|Y)\n",
    "    # 2 dim only for now\n",
    "\n",
    "    # e.g.\n",
    "    # p(x,y)\n",
    "    # coded for Y rows (dim=0) \\X   columns (dim=1)\n",
    "    # =>\n",
    "    # transpose(p)\n",
    "    # p = np.array([[0.125, 0.0625, 0.03125, 0.03125],\n",
    "    #       [0.0625, 0.125, 0.03125, 0.03125],\n",
    "    #       [0.0625, 0.0625, 0.0625, 0.0625],\n",
    "    #       [0.25,0,0,0]])\n",
    "    # Correct answer = 11/8 = 1.375 fro transpose p                    \n",
    "    if (type(p) == list):\n",
    "        p = np.array(p)\n",
    "\n",
    "    p = np.transpose(p)\n",
    "\n",
    "    total = 0\n",
    "    for i in range(p.shape[0]):\n",
    "        pyi = np.sum(p[i])\n",
    "        total+= pyi * entropy(1/pyi * p[i])\n",
    "\n",
    "    return total"
   ]
  },
  {
   "cell_type": "code",
   "execution_count": 6,
   "metadata": {},
   "outputs": [
    {
     "output_type": "stream",
     "name": "stdout",
     "text": [
      "[[0.2 0.3]\n [0.1 0.4]]\n[0.2 0.1]\n"
     ]
    }
   ],
   "source": [
    "p1 = np.array([[0.2, 0.3],[0.1, 0.4]])\n",
    "print(p1)\n",
    "print(p1[:,0])"
   ]
  },
  {
   "cell_type": "code",
   "execution_count": 7,
   "metadata": {},
   "outputs": [],
   "source": [
    "def conditionalentropy2(p: np.array):\n",
    "    # entropyXGivenY\n",
    "    # H(X|Y)\n",
    "    # 2 dim only for now\n",
    "\n",
    "       # X = rows\n",
    "     # Y = columnscoded\n",
    "    if (type(p) == list):\n",
    "        p = np.array(p)\n",
    "\n",
    "    total = 0\n",
    "    for i in range(p.shape[1]):\n",
    "        pxi = np.sum(p[i])\n",
    "        total+= :,pxi * entropy1(1/pxi * p[i])\n",
    "\n",
    "    rturn total:,"
   ]
  },
  {
   "cell_type": "code",
   "execution_count": 8,
   "metadata": {},
   "outputs": [
    {
     "output_type": "stream",
     "name": "stdout",
     "text": [
      "0.9651484454403229\n0.9651484454403229\n"
     ]
    }
   ],
   "source": [
    "print(conditionalentropy(p1))\n",
    "print(conditionalentropy2(p1))"
   ]
  },
  {
   "source": [
    "Test that your code works, e.g. by running:    \n",
    "conditionalentropy([0.2, 0.3; 0.1, 0.4]) and validating that you get the result 0.965 bits.     \n",
    "conditionalentropy([0.5, 0; 0, 0.5]) and validating that you get the result 0 bits.    \n",
    "conditionalentropy([0.25, 0.25; 0.25, 0.25]) and validating that you get the result 1 bit. "
   ],
   "cell_type": "markdown",
   "metadata": {}
  },
  {
   "cell_type": "code",
   "execution_count": 9,
   "metadata": {},
   "outputs": [
    {
     "output_type": "execute_result",
     "data": {
      "text/plain": [
       "0.9651484454403229"
      ]
     },
     "metadata": {},
     "execution_count": 9
    }
   ],
   "source": [
    "from week1 import conditionalEntropy\n",
    "\n",
    "conditionalEntropy([[0.2,0.3],[0.1,0.4]])"
   ]
  },
  {
   "cell_type": "code",
   "execution_count": 10,
   "metadata": {},
   "outputs": [
    {
     "output_type": "execute_result",
     "data": {
      "text/plain": [
       "0.0"
      ]
     },
     "metadata": {},
     "execution_count": 10
    }
   ],
   "source": [
    "conditionalEntropy([[0.5,0],[0,0.5]])"
   ]
  },
  {
   "cell_type": "code",
   "execution_count": 11,
   "metadata": {},
   "outputs": [
    {
     "output_type": "execute_result",
     "data": {
      "text/plain": [
       "1.0"
      ]
     },
     "metadata": {},
     "execution_count": 11
    }
   ],
   "source": [
    "conditionalEntropy([[0.25,0.25],[0.25,0.25]])"
   ]
  },
  {
   "source": [
    "# Joint entropy"
   ],
   "cell_type": "markdown",
   "metadata": {}
  },
  {
   "cell_type": "code",
   "execution_count": 12,
   "metadata": {},
   "outputs": [],
   "source": [
    "from week1 import jointEntropy\n"
   ]
  },
  {
   "cell_type": "code",
   "execution_count": 13,
   "metadata": {},
   "outputs": [
    {
     "output_type": "execute_result",
     "data": {
      "text/plain": [
       "1.8464393446710154"
      ]
     },
     "metadata": {},
     "execution_count": 13
    }
   ],
   "source": [
    "p2 = np.array([[0.2, 0.3],[0.1, 0.4]])\n",
    "jointEntropy(p2)"
   ]
  },
  {
   "cell_type": "code",
   "execution_count": 14,
   "metadata": {},
   "outputs": [
    {
     "output_type": "execute_result",
     "data": {
      "text/plain": [
       "1.0"
      ]
     },
     "metadata": {},
     "execution_count": 14
    }
   ],
   "source": [
    "np.sum(p2)"
   ]
  },
  {
   "cell_type": "code",
   "execution_count": 15,
   "metadata": {},
   "outputs": [],
   "source": [
    "from math import log2, isclose\n",
    "import numpy as np\n",
    "import matplotlib.pyplot as plt\n",
    "from contextlib import suppress\n",
    "import collections\n",
    "import scipy.stats as scips\n",
    "\n",
    "#test:p = np.array([[0.2, 0.3],[0.1, 0.4]])\n",
    "# => jointEntropy : 1.8464393446710154\n",
    "\n",
    "def jointEntropy(p: np.array):\n",
    "\n",
    "    if type(p) == list:\n",
    "        p = np.array(p)\n",
    "\n",
    "    if ( np.sum(p) != 1) :\n",
    "        raise Exception('The sum of the elements of p should be = 1{}'.format(p))\n",
    "\n",
    "    # Perform element-wise p(x,y)*log p(x,y)\n",
    "    plogp = lambda x: - x * np.where(x > 0, np.log2(x), 0)\n",
    "    Hs = np.array([plogp(pij) for pij in p])\n",
    "\n",
    "    return  np.sum(Hs)"
   ]
  },
  {
   "cell_type": "code",
   "execution_count": 16,
   "metadata": {},
   "outputs": [
    {
     "output_type": "execute_result",
     "data": {
      "text/plain": [
       "1.8464393446710154"
      ]
     },
     "metadata": {},
     "execution_count": 16
    }
   ],
   "source": [
    "p2 = np.array([[0.2, 0.3],[0.1, 0.4]])\n",
    "jointEntropy(p2)"
   ]
  },
  {
   "cell_type": "code",
   "execution_count": 17,
   "metadata": {},
   "outputs": [],
   "source": [
    "plogp = lambda p: - p * np.where(p > 0, np.log2(p), 0)\n"
   ]
  },
  {
   "cell_type": "code",
   "execution_count": 18,
   "metadata": {},
   "outputs": [
    {
     "output_type": "execute_result",
     "data": {
      "text/plain": [
       "0.5291737384982911"
      ]
     },
     "metadata": {},
     "execution_count": 18
    }
   ],
   "source": [
    "plogp(0.34)"
   ]
  },
  {
   "cell_type": "code",
   "execution_count": 19,
   "metadata": {},
   "outputs": [
    {
     "output_type": "stream",
     "name": "stderr",
     "text": [
      "<ipython-input-17-f8d1d2e4c4c3>:1: RuntimeWarning: divide by zero encountered in log2\n  plogp = lambda p: - p * np.where(p > 0, np.log2(p), 0)\n"
     ]
    },
    {
     "output_type": "execute_result",
     "data": {
      "text/plain": [
       "0.0"
      ]
     },
     "metadata": {},
     "execution_count": 19
    }
   ],
   "source": [
    "plogp(0)"
   ]
  },
  {
   "cell_type": "code",
   "execution_count": 20,
   "metadata": {},
   "outputs": [
    {
     "output_type": "execute_result",
     "data": {
      "text/plain": [
       "1.8464393446710154"
      ]
     },
     "metadata": {},
     "execution_count": 20
    }
   ],
   "source": [
    "p = np.array([[0.2, 0.3],[0.1, 0.4]])\n",
    "Hs = np.array([plogp(pij) for pij in p])\n",
    "np.sum(Hs)"
   ]
  },
  {
   "source": [
    "# joint entropy in more than 2 dimensions"
   ],
   "cell_type": "markdown",
   "metadata": {}
  },
  {
   "cell_type": "code",
   "execution_count": 21,
   "metadata": {},
   "outputs": [
    {
     "output_type": "stream",
     "name": "stdout",
     "text": [
      "[[[1. 0. 0.]\n  [0. 0. 0.]\n  [0. 0. 0.]]\n\n [[0. 0. 0.]\n  [0. 0. 0.]\n  [0. 0. 0.]]\n\n [[0. 0. 0.]\n  [0. 0. 0.]\n  [0. 0. 0.]]]\n"
     ]
    },
    {
     "output_type": "execute_result",
     "data": {
      "text/plain": [
       "1.0"
      ]
     },
     "metadata": {},
     "execution_count": 21
    }
   ],
   "source": [
    "\n",
    "def jointEntropy(p: np.array):\n",
    "\n",
    "    if type(p) == list:\n",
    "        p = np.array(p)\n",
    "\n",
    "    if not isclose(np.sum(p), 1, rel_tol=1e-6):\n",
    "        raise Exception('The sum of the elements of p should be = 1{}'.format(p))\n",
    "\n",
    "    # Perform element-wise p(x,y)*log p(x,y)\n",
    "    plogp = lambda x: - x * np.where(x > 0, np.log2(x), 0)\n",
    "    Hs = np.array([plogp(pij) for pij in p])\n",
    "\n",
    "    return  np.sum(Hs)\n",
    "\n",
    "p3 = np.zeros((3,3,3))\n",
    "p3[0,0,0] = 1\n",
    "print(p3)\n",
    "np.sum(p3)"
   ]
  },
  {
   "cell_type": "code",
   "execution_count": 22,
   "metadata": {},
   "outputs": [
    {
     "output_type": "stream",
     "name": "stderr",
     "text": [
      "<ipython-input-21-b56250aecc45>:10: RuntimeWarning: divide by zero encountered in log2\n  plogp = lambda x: - x * np.where(x > 0, np.log2(x), 0)\n"
     ]
    },
    {
     "output_type": "execute_result",
     "data": {
      "text/plain": [
       "0.0"
      ]
     },
     "metadata": {},
     "execution_count": 22
    }
   ],
   "source": [
    "jointEntropy(p3)"
   ]
  },
  {
   "cell_type": "code",
   "execution_count": 23,
   "metadata": {},
   "outputs": [
    {
     "output_type": "stream",
     "name": "stdout",
     "text": [
      "[[[0.03703704 0.03703704 0.03703704]\n  [0.03703704 0.03703704 0.03703704]\n  [0.03703704 0.03703704 0.03703704]]\n\n [[0.03703704 0.03703704 0.03703704]\n  [0.03703704 0.03703704 0.03703704]\n  [0.03703704 0.03703704 0.03703704]]\n\n [[0.03703704 0.03703704 0.03703704]\n  [0.03703704 0.03703704 0.03703704]\n  [0.03703704 0.03703704 0.03703704]]]\n"
     ]
    }
   ],
   "source": [
    "p4 = np.array([1/27 for i in range(27)]).reshape((3,3,3))\n",
    "print(p4)"
   ]
  },
  {
   "cell_type": "code",
   "execution_count": 24,
   "metadata": {},
   "outputs": [
    {
     "output_type": "execute_result",
     "data": {
      "text/plain": [
       "4.754887502163469"
      ]
     },
     "metadata": {},
     "execution_count": 24
    }
   ],
   "source": [
    "jointEntropy(p4)"
   ]
  },
  {
   "cell_type": "code",
   "execution_count": 25,
   "metadata": {},
   "outputs": [
    {
     "output_type": "execute_result",
     "data": {
      "text/plain": [
       "0.9999999999999998"
      ]
     },
     "metadata": {},
     "execution_count": 25
    }
   ],
   "source": [
    "np.sum(p4)"
   ]
  },
  {
   "source": [
    "# Coding Joint entropy"
   ],
   "cell_type": "markdown",
   "metadata": {}
  },
  {
   "cell_type": "code",
   "execution_count": 26,
   "metadata": {},
   "outputs": [],
   "source": [
    "def jointEntropy(p: np.array):\n",
    "\n",
    "    if type(p) == list:\n",
    "        p = np.array(p)\n",
    "\n",
    "    if not isclose(np.sum(p), 1, rel_tol=1e-6):\n",
    "        raise Exception('The sum of the elements of p should be = 1{}'.format(p))\n",
    "\n",
    "    # Perform element-wise p(x,y)*log p(x,y)\n",
    "    plogp = lambda x: - x * np.where(x > 0, np.log2(x), 0)\n",
    "    Hs = np.array([plogp(pij) for pij in p])\n",
    "\n",
    "    return  np.sum(Hs)"
   ]
  },
  {
   "source": [
    "Test that your code works, e.g. by running jointentropy([0.2, 0.3; 0.1, 0.4]) and validating that you get the result 1.85 bits"
   ],
   "cell_type": "markdown",
   "metadata": {}
  },
  {
   "cell_type": "code",
   "execution_count": 27,
   "metadata": {},
   "outputs": [
    {
     "output_type": "execute_result",
     "data": {
      "text/plain": [
       "1.8464393446710154"
      ]
     },
     "metadata": {},
     "execution_count": 27
    }
   ],
   "source": [
    "jointEntropy([[0.2, 0.3],[ 0.1, 0.4]])"
   ]
  },
  {
   "source": [
    "## joint entropy in multiple dimensions"
   ],
   "cell_type": "markdown",
   "metadata": {}
  },
  {
   "cell_type": "code",
   "execution_count": 28,
   "metadata": {},
   "outputs": [
    {
     "output_type": "stream",
     "name": "stdout",
     "text": [
      "[[[1. 0. 0.]\n  [0. 0. 0.]\n  [0. 0. 0.]]\n\n [[0. 0. 0.]\n  [0. 0. 0.]\n  [0. 0. 0.]]\n\n [[0. 0. 0.]\n  [0. 0. 0.]\n  [0. 0. 0.]]]\n"
     ]
    },
    {
     "output_type": "execute_result",
     "data": {
      "text/plain": [
       "1.0"
      ]
     },
     "metadata": {},
     "execution_count": 28
    }
   ],
   "source": [
    "p3 = np.zeros((3,3,3))\n",
    "p3[0,0,0] = 1\n",
    "print(p3)\n",
    "np.sum(p3)"
   ]
  },
  {
   "cell_type": "code",
   "execution_count": 29,
   "metadata": {},
   "outputs": [
    {
     "output_type": "stream",
     "name": "stderr",
     "text": [
      "<ipython-input-26-f19df8953227>:10: RuntimeWarning: divide by zero encountered in log2\n  plogp = lambda x: - x * np.where(x > 0, np.log2(x), 0)\n"
     ]
    },
    {
     "output_type": "execute_result",
     "data": {
      "text/plain": [
       "0.0"
      ]
     },
     "metadata": {},
     "execution_count": 29
    }
   ],
   "source": [
    "jointEntropy(p3)"
   ]
  },
  {
   "cell_type": "code",
   "execution_count": 30,
   "metadata": {},
   "outputs": [
    {
     "output_type": "stream",
     "name": "stdout",
     "text": [
      "[[[0.03703704 0.03703704 0.03703704]\n  [0.03703704 0.03703704 0.03703704]\n  [0.03703704 0.03703704 0.03703704]]\n\n [[0.03703704 0.03703704 0.03703704]\n  [0.03703704 0.03703704 0.03703704]\n  [0.03703704 0.03703704 0.03703704]]\n\n [[0.03703704 0.03703704 0.03703704]\n  [0.03703704 0.03703704 0.03703704]\n  [0.03703704 0.03703704 0.03703704]]]\n"
     ]
    }
   ],
   "source": [
    "p4 = np.array([1/27 for i in range(27)]).reshape((3,3,3))\n",
    "print(p4)"
   ]
  },
  {
   "cell_type": "code",
   "execution_count": 31,
   "metadata": {},
   "outputs": [
    {
     "output_type": "execute_result",
     "data": {
      "text/plain": [
       "4.754887502163469"
      ]
     },
     "metadata": {},
     "execution_count": 31
    }
   ],
   "source": [
    "jointEntropy(p4)"
   ]
  },
  {
   "source": [
    "# 8. (Extension) Coding joint entropy for empirical data"
   ],
   "cell_type": "markdown",
   "metadata": {}
  },
  {
   "source": [
    "rows = samples x[i] of X (i=1..N, number of samples)\n",
    "columns = variables/features  \n",
    "here will always be multiple rows (because we always should have many samples), but the number of columns will depend on how many variables we are jointly considering (it could be just one if we have only a single variable)."
   ],
   "cell_type": "markdown",
   "metadata": {}
  },
  {
   "cell_type": "code",
   "execution_count": 32,
   "metadata": {},
   "outputs": [
    {
     "output_type": "stream",
     "name": "stdout",
     "text": [
      "[['foobar' 'acling' 'b']\n ['xbar' 'cling' 'd']\n ['foobar' 'dcling' 'b']\n ['xbar' 'acling' 'd']]\n['foobar' 'acling' 'b' 'xbar' 'cling' 'd' 'foobar' 'dcling' 'b' 'xbar'\n 'acling' 'd']\n['foobar', 'acling', 'b', 'xbar', 'cling', 'd', 'foobar', 'dcling', 'b', 'xbar', 'acling', 'd']\nCounter({'foobar': 2, 'acling': 2, 'b': 2, 'xbar': 2, 'd': 2, 'cling': 1, 'dcling': 1})\n"
     ]
    }
   ],
   "source": [
    "import itertools\n",
    "from collections import Counter\n",
    "\n",
    "some_list = [['foobar', 'acling', 'b'], ['xbar', 'cling', 'd'], ['foobar', 'dcling', 'b'], ['xbar', 'acling', 'd']]\n",
    "# totals = Counter(i for i in list(itertools.chain.from_iterable(some_list)))\n",
    "\n",
    "some_list = np.array(some_list)\n",
    "totals2 = Counter(list(some_list.flatten()))\n",
    "\n",
    "print(some_list)\n",
    "print(some_list.flatten())\n",
    "print(list(some_list.flatten()))\n",
    "print(totals2)\n",
    "\n",
    "def jointEntropyEmpirical(samples: np.array):\n",
    "\n",
    "    # check only 2D\n",
    "\n",
    "    # Each row of item represent a sample with the columns being the random variables or features of interest\n",
    "    # row 0 : X\n",
    "    # row 1 : Y\n",
    "\n",
    "    H, edges = np.histogramdd(samples)\n",
    "\n",
    "    for i in range(p.shape[0]):  #iterate over samples\n",
    "        xiCount = collections.Counter(items[i])\n",
    "\n",
    "\n",
    "def calculateDatasetShannonEntropy(items):\n",
    "    # also called empiricalentropy in course\n",
    "    itemscount = collections.Counter(items)\n",
    "    \n",
    "    # probability = # item x / # total number of items\n",
    "    dist = [x/sum(itemscount.values()) for x in itemscount.values()]\n",
    " \n",
    "    # use scipy to calculate entropy\n",
    "    entropy_value = scips.entropy(dist, base=2)\n",
    " \n",
    "    return entropy_value"
   ]
  },
  {
   "source": [
    "https://stackoverflow.com/questions/20332750/python-joint-distribution-of-n-variables    \n",
    "https://numpy.org/doc/stable/reference/generated/numpy.histogram2d.html#numpy.histogram2d"
   ],
   "cell_type": "markdown",
   "metadata": {}
  },
  {
   "cell_type": "code",
   "execution_count": 33,
   "metadata": {},
   "outputs": [
    {
     "output_type": "stream",
     "name": "stdout",
     "text": [
      "['foobar', 'xbar']\n2\n['cling', 'dcling', 'acling']\n3\n"
     ]
    }
   ],
   "source": [
    "samples = [['foobar', 'cling'], ['xbar', 'cling'], ['foobar', 'dcling'], ['xbar', 'acling']]\n",
    "# totals = Counter(i for i in list(itertools.chain.from_iterable(some_list)))\n",
    "samples = np.array(samples)\n",
    "\n",
    "alphabetX=list(set(samples[:,0]))\n",
    "print(alphabetX)\n",
    "print(len(alphabetX))\n",
    "\n",
    "alphabetY=list(set(samples[:,1]))\n",
    "print(alphabetY)\n",
    "print(len(alphabetY))"
   ]
  },
  {
   "cell_type": "code",
   "execution_count": 34,
   "metadata": {},
   "outputs": [
    {
     "output_type": "stream",
     "name": "stdout",
     "text": [
      "Sample 0 : ['foobar' 'cling']\nSample 1 : ['xbar' 'cling']\nSample 2 : ['foobar' 'dcling']\nSample 3 : ['xbar' 'acling']\n"
     ]
    },
    {
     "output_type": "execute_result",
     "data": {
      "text/plain": [
       "2.0"
      ]
     },
     "metadata": {},
     "execution_count": 34
    }
   ],
   "source": [
    "\n",
    "from week1 import jointEntropy\n",
    "alphabetX=list(set(samples[:,0]))\n",
    "alphabetY=list(set(samples[:,1]))\n",
    "\n",
    "jointProbabilities=np.zeros((len(alphabetX), len(alphabetY)))\n",
    "\n",
    "for i in range(samples.shape[0]):\n",
    "    print('Sample {} : {}'.format(i, samples[i]))\n",
    "    sample=samples[i]\n",
    "    jointProbabilities[alphabetX.index(sample[0]), alphabetY.index(sample[1])]+=1\n",
    "\n",
    "jointProbabilities/=samples.shape[0]\n",
    "\n",
    "jointEntropy(jointProbabilities)\n"
   ]
  },
  {
   "cell_type": "code",
   "execution_count": 35,
   "metadata": {},
   "outputs": [
    {
     "output_type": "stream",
     "name": "stdout",
     "text": [
      "['foobar', 'xbar']\n['cling', 'dcling', 'acling']\n[[0.25 0.25 0.  ]\n [0.25 0.   0.25]]\n"
     ]
    }
   ],
   "source": [
    "print(alphabetX)\n",
    "print(alphabetY)\n",
    "print(jointProbabilities)"
   ]
  },
  {
   "cell_type": "code",
   "execution_count": 36,
   "metadata": {},
   "outputs": [
    {
     "output_type": "execute_result",
     "data": {
      "text/plain": [
       "2.0"
      ]
     },
     "metadata": {},
     "execution_count": 36
    }
   ],
   "source": [
    "jointEntropy(jointProbabilities)"
   ]
  },
  {
   "cell_type": "code",
   "execution_count": 37,
   "metadata": {},
   "outputs": [
    {
     "output_type": "stream",
     "name": "stdout",
     "text": [
      "Sample 0 : [0 0]\nSample 1 : [0 1]\nSample 2 : [1 0]\nSample 3 : [1 1]\n"
     ]
    },
    {
     "output_type": "execute_result",
     "data": {
      "text/plain": [
       "2.0"
      ]
     },
     "metadata": {},
     "execution_count": 37
    }
   ],
   "source": [
    "from week1 import jointEntropyEmpirical\n",
    "\n",
    "testdata2bits = [[0,0],[0,1],[1,0],[1,1]]\n",
    "jointEntropyEmpirical(testdata2bits)"
   ]
  },
  {
   "cell_type": "code",
   "execution_count": 38,
   "metadata": {},
   "outputs": [],
   "source": [
    "from week1 import entropyempirical"
   ]
  },
  {
   "cell_type": "code",
   "execution_count": 39,
   "metadata": {},
   "outputs": [
    {
     "output_type": "execute_result",
     "data": {
      "text/plain": [
       "2.0"
      ]
     },
     "metadata": {},
     "execution_count": 39
    }
   ],
   "source": [
    "entropyempirical(['a','b','c','d'])"
   ]
  },
  {
   "source": [
    "# conditional entropy H(X|Y) for empirical samples   \n",
    "H(X|Y) = H(X,Y) - H(Y)   \n"
   ],
   "cell_type": "markdown",
   "metadata": {}
  },
  {
   "cell_type": "code",
   "execution_count": 40,
   "metadata": {},
   "outputs": [],
   "source": [
    "from week1 import conditionalEntropyEmpirical\n"
   ]
  },
  {
   "source": [
    "Test that your code works by running, e.g.:     \n",
    "conditionalentropyempirical([0,0,1,1],[0,1,0,1]) and validating that you get the result 1 bit.    \n",
    "conditionalentropyempirical([0,0,1,1],[0,0,1,1]) and validating that you get the result 0 bits.       "
   ],
   "cell_type": "markdown",
   "metadata": {}
  },
  {
   "cell_type": "code",
   "execution_count": 41,
   "metadata": {},
   "outputs": [
    {
     "output_type": "stream",
     "name": "stdout",
     "text": [
      "[(0, 0), (0, 1), (1, 0), (1, 1)]\n"
     ]
    }
   ],
   "source": [
    "xn = [0,0,1,1]\n",
    "yn = [0,1,0,1]\n",
    "samples = list(zip(xn, yn))\n",
    "print(samples)\n"
   ]
  },
  {
   "cell_type": "code",
   "execution_count": 42,
   "metadata": {},
   "outputs": [
    {
     "output_type": "stream",
     "name": "stdout",
     "text": [
      "Sample 0 : [0 0]\nSample 1 : [0 1]\nSample 2 : [1 0]\nSample 3 : [1 1]\n"
     ]
    },
    {
     "output_type": "execute_result",
     "data": {
      "text/plain": [
       "1.0"
      ]
     },
     "metadata": {},
     "execution_count": 42
    }
   ],
   "source": [
    "conditionalEntropyEmpirical(samples)"
   ]
  },
  {
   "cell_type": "code",
   "execution_count": 43,
   "metadata": {},
   "outputs": [],
   "source": [
    "xn = [0,0,1,1]\n",
    "yn = xn\n",
    "samples = list(zip(xn, yn))"
   ]
  },
  {
   "cell_type": "code",
   "execution_count": 44,
   "metadata": {},
   "outputs": [
    {
     "output_type": "stream",
     "name": "stdout",
     "text": [
      "Sample 0 : [0 0]\nSample 1 : [0 0]\nSample 2 : [1 1]\nSample 3 : [1 1]\n"
     ]
    },
    {
     "output_type": "execute_result",
     "data": {
      "text/plain": [
       "0.0"
      ]
     },
     "metadata": {},
     "execution_count": 44
    }
   ],
   "source": [
    "conditionalEntropyEmpirical(samples)"
   ]
  },
  {
   "source": [
    "# Plot H(X=a) for alphabet size C vs Probability of a P(X=a) varying between 0 and 1 (a being one of the symbol of the alphabet)\n",
    "make a similar plot for X with alphabet size c, assuming that p(x) for x~=1 is uniform as (1-p(x=1))/(c-1). How is the plot different as a function of c and why?"
   ],
   "cell_type": "markdown",
   "metadata": {}
  },
  {
   "cell_type": "code",
   "execution_count": 45,
   "metadata": {},
   "outputs": [],
   "source": [
    "\n",
    "def probabilityVector(Pa: float, C: int):\n",
    "    # C : number of symbol in the alphabet\n",
    "    # Pa : varying probability of P(X=a)\n",
    "\n",
    "    PRemainingSymbols = round((1 - Pa) / (C-1), 6)\n",
    "\n",
    "    P = [ PRemainingSymbols for i in range(C)]\n",
    "    P[0] = Pa\n",
    "    return P"
   ]
  },
  {
   "cell_type": "code",
   "execution_count": 46,
   "metadata": {},
   "outputs": [
    {
     "output_type": "stream",
     "name": "stdout",
     "text": [
      "[0.4, 0.2, 0.2, 0.2]\n"
     ]
    }
   ],
   "source": [
    "print(probabilityVector(0.4, 4))"
   ]
  },
  {
   "cell_type": "code",
   "execution_count": 47,
   "metadata": {},
   "outputs": [
    {
     "output_type": "execute_result",
     "data": {
      "text/plain": [
       "[<matplotlib.lines.Line2D at 0x7fde6d79a7f0>]"
      ]
     },
     "metadata": {},
     "execution_count": 47
    },
    {
     "output_type": "display_data",
     "data": {
      "text/plain": "<Figure size 432x288 with 1 Axes>",
      "image/svg+xml": "<?xml version=\"1.0\" encoding=\"utf-8\" standalone=\"no\"?>\n<!DOCTYPE svg PUBLIC \"-//W3C//DTD SVG 1.1//EN\"\n  \"http://www.w3.org/Graphics/SVG/1.1/DTD/svg11.dtd\">\n<svg height=\"248.518125pt\" version=\"1.1\" viewBox=\"0 0 362.5625 248.518125\" width=\"362.5625pt\" xmlns=\"http://www.w3.org/2000/svg\" xmlns:xlink=\"http://www.w3.org/1999/xlink\">\n <metadata>\n  <rdf:RDF xmlns:cc=\"http://creativecommons.org/ns#\" xmlns:dc=\"http://purl.org/dc/elements/1.1/\" xmlns:rdf=\"http://www.w3.org/1999/02/22-rdf-syntax-ns#\">\n   <cc:Work>\n    <dc:type rdf:resource=\"http://purl.org/dc/dcmitype/StillImage\"/>\n    <dc:date>2021-08-21T09:02:36.093297</dc:date>\n    <dc:format>image/svg+xml</dc:format>\n    <dc:creator>\n     <cc:Agent>\n      <dc:title>Matplotlib v3.4.2, https://matplotlib.org/</dc:title>\n     </cc:Agent>\n    </dc:creator>\n   </cc:Work>\n  </rdf:RDF>\n </metadata>\n <defs>\n  <style type=\"text/css\">*{stroke-linecap:butt;stroke-linejoin:round;}</style>\n </defs>\n <g id=\"figure_1\">\n  <g id=\"patch_1\">\n   <path d=\"M 0 248.518125 \nL 362.5625 248.518125 \nL 362.5625 0 \nL 0 0 \nz\n\" style=\"fill:none;\"/>\n  </g>\n  <g id=\"axes_1\">\n   <g id=\"patch_2\">\n    <path d=\"M 20.5625 224.64 \nL 355.3625 224.64 \nL 355.3625 7.2 \nL 20.5625 7.2 \nz\n\" style=\"fill:#ffffff;\"/>\n   </g>\n   <g id=\"matplotlib.axis_1\">\n    <g id=\"xtick_1\">\n     <g id=\"line2d_1\">\n      <defs>\n       <path d=\"M 0 0 \nL 0 3.5 \n\" id=\"mab9f0a7daf\" style=\"stroke:#000000;stroke-width:0.8;\"/>\n      </defs>\n      <g>\n       <use style=\"stroke:#000000;stroke-width:0.8;\" x=\"35.780682\" xlink:href=\"#mab9f0a7daf\" y=\"224.64\"/>\n      </g>\n     </g>\n     <g id=\"text_1\">\n      <!-- 0.0 -->\n      <g transform=\"translate(27.829119 239.238437)scale(0.1 -0.1)\">\n       <defs>\n        <path d=\"M 2034 4250 \nQ 1547 4250 1301 3770 \nQ 1056 3291 1056 2328 \nQ 1056 1369 1301 889 \nQ 1547 409 2034 409 \nQ 2525 409 2770 889 \nQ 3016 1369 3016 2328 \nQ 3016 3291 2770 3770 \nQ 2525 4250 2034 4250 \nz\nM 2034 4750 \nQ 2819 4750 3233 4129 \nQ 3647 3509 3647 2328 \nQ 3647 1150 3233 529 \nQ 2819 -91 2034 -91 \nQ 1250 -91 836 529 \nQ 422 1150 422 2328 \nQ 422 3509 836 4129 \nQ 1250 4750 2034 4750 \nz\n\" id=\"DejaVuSans-30\" transform=\"scale(0.015625)\"/>\n        <path d=\"M 684 794 \nL 1344 794 \nL 1344 0 \nL 684 0 \nL 684 794 \nz\n\" id=\"DejaVuSans-2e\" transform=\"scale(0.015625)\"/>\n       </defs>\n       <use xlink:href=\"#DejaVuSans-30\"/>\n       <use x=\"63.623047\" xlink:href=\"#DejaVuSans-2e\"/>\n       <use x=\"95.410156\" xlink:href=\"#DejaVuSans-30\"/>\n      </g>\n     </g>\n    </g>\n    <g id=\"xtick_2\">\n     <g id=\"line2d_2\">\n      <g>\n       <use style=\"stroke:#000000;stroke-width:0.8;\" x=\"96.653409\" xlink:href=\"#mab9f0a7daf\" y=\"224.64\"/>\n      </g>\n     </g>\n     <g id=\"text_2\">\n      <!-- 0.2 -->\n      <g transform=\"translate(88.701847 239.238437)scale(0.1 -0.1)\">\n       <defs>\n        <path d=\"M 1228 531 \nL 3431 531 \nL 3431 0 \nL 469 0 \nL 469 531 \nQ 828 903 1448 1529 \nQ 2069 2156 2228 2338 \nQ 2531 2678 2651 2914 \nQ 2772 3150 2772 3378 \nQ 2772 3750 2511 3984 \nQ 2250 4219 1831 4219 \nQ 1534 4219 1204 4116 \nQ 875 4013 500 3803 \nL 500 4441 \nQ 881 4594 1212 4672 \nQ 1544 4750 1819 4750 \nQ 2544 4750 2975 4387 \nQ 3406 4025 3406 3419 \nQ 3406 3131 3298 2873 \nQ 3191 2616 2906 2266 \nQ 2828 2175 2409 1742 \nQ 1991 1309 1228 531 \nz\n\" id=\"DejaVuSans-32\" transform=\"scale(0.015625)\"/>\n       </defs>\n       <use xlink:href=\"#DejaVuSans-30\"/>\n       <use x=\"63.623047\" xlink:href=\"#DejaVuSans-2e\"/>\n       <use x=\"95.410156\" xlink:href=\"#DejaVuSans-32\"/>\n      </g>\n     </g>\n    </g>\n    <g id=\"xtick_3\">\n     <g id=\"line2d_3\">\n      <g>\n       <use style=\"stroke:#000000;stroke-width:0.8;\" x=\"157.526136\" xlink:href=\"#mab9f0a7daf\" y=\"224.64\"/>\n      </g>\n     </g>\n     <g id=\"text_3\">\n      <!-- 0.4 -->\n      <g transform=\"translate(149.574574 239.238437)scale(0.1 -0.1)\">\n       <defs>\n        <path d=\"M 2419 4116 \nL 825 1625 \nL 2419 1625 \nL 2419 4116 \nz\nM 2253 4666 \nL 3047 4666 \nL 3047 1625 \nL 3713 1625 \nL 3713 1100 \nL 3047 1100 \nL 3047 0 \nL 2419 0 \nL 2419 1100 \nL 313 1100 \nL 313 1709 \nL 2253 4666 \nz\n\" id=\"DejaVuSans-34\" transform=\"scale(0.015625)\"/>\n       </defs>\n       <use xlink:href=\"#DejaVuSans-30\"/>\n       <use x=\"63.623047\" xlink:href=\"#DejaVuSans-2e\"/>\n       <use x=\"95.410156\" xlink:href=\"#DejaVuSans-34\"/>\n      </g>\n     </g>\n    </g>\n    <g id=\"xtick_4\">\n     <g id=\"line2d_4\">\n      <g>\n       <use style=\"stroke:#000000;stroke-width:0.8;\" x=\"218.398864\" xlink:href=\"#mab9f0a7daf\" y=\"224.64\"/>\n      </g>\n     </g>\n     <g id=\"text_4\">\n      <!-- 0.6 -->\n      <g transform=\"translate(210.447301 239.238437)scale(0.1 -0.1)\">\n       <defs>\n        <path d=\"M 2113 2584 \nQ 1688 2584 1439 2293 \nQ 1191 2003 1191 1497 \nQ 1191 994 1439 701 \nQ 1688 409 2113 409 \nQ 2538 409 2786 701 \nQ 3034 994 3034 1497 \nQ 3034 2003 2786 2293 \nQ 2538 2584 2113 2584 \nz\nM 3366 4563 \nL 3366 3988 \nQ 3128 4100 2886 4159 \nQ 2644 4219 2406 4219 \nQ 1781 4219 1451 3797 \nQ 1122 3375 1075 2522 \nQ 1259 2794 1537 2939 \nQ 1816 3084 2150 3084 \nQ 2853 3084 3261 2657 \nQ 3669 2231 3669 1497 \nQ 3669 778 3244 343 \nQ 2819 -91 2113 -91 \nQ 1303 -91 875 529 \nQ 447 1150 447 2328 \nQ 447 3434 972 4092 \nQ 1497 4750 2381 4750 \nQ 2619 4750 2861 4703 \nQ 3103 4656 3366 4563 \nz\n\" id=\"DejaVuSans-36\" transform=\"scale(0.015625)\"/>\n       </defs>\n       <use xlink:href=\"#DejaVuSans-30\"/>\n       <use x=\"63.623047\" xlink:href=\"#DejaVuSans-2e\"/>\n       <use x=\"95.410156\" xlink:href=\"#DejaVuSans-36\"/>\n      </g>\n     </g>\n    </g>\n    <g id=\"xtick_5\">\n     <g id=\"line2d_5\">\n      <g>\n       <use style=\"stroke:#000000;stroke-width:0.8;\" x=\"279.271591\" xlink:href=\"#mab9f0a7daf\" y=\"224.64\"/>\n      </g>\n     </g>\n     <g id=\"text_5\">\n      <!-- 0.8 -->\n      <g transform=\"translate(271.320028 239.238437)scale(0.1 -0.1)\">\n       <defs>\n        <path d=\"M 2034 2216 \nQ 1584 2216 1326 1975 \nQ 1069 1734 1069 1313 \nQ 1069 891 1326 650 \nQ 1584 409 2034 409 \nQ 2484 409 2743 651 \nQ 3003 894 3003 1313 \nQ 3003 1734 2745 1975 \nQ 2488 2216 2034 2216 \nz\nM 1403 2484 \nQ 997 2584 770 2862 \nQ 544 3141 544 3541 \nQ 544 4100 942 4425 \nQ 1341 4750 2034 4750 \nQ 2731 4750 3128 4425 \nQ 3525 4100 3525 3541 \nQ 3525 3141 3298 2862 \nQ 3072 2584 2669 2484 \nQ 3125 2378 3379 2068 \nQ 3634 1759 3634 1313 \nQ 3634 634 3220 271 \nQ 2806 -91 2034 -91 \nQ 1263 -91 848 271 \nQ 434 634 434 1313 \nQ 434 1759 690 2068 \nQ 947 2378 1403 2484 \nz\nM 1172 3481 \nQ 1172 3119 1398 2916 \nQ 1625 2713 2034 2713 \nQ 2441 2713 2670 2916 \nQ 2900 3119 2900 3481 \nQ 2900 3844 2670 4047 \nQ 2441 4250 2034 4250 \nQ 1625 4250 1398 4047 \nQ 1172 3844 1172 3481 \nz\n\" id=\"DejaVuSans-38\" transform=\"scale(0.015625)\"/>\n       </defs>\n       <use xlink:href=\"#DejaVuSans-30\"/>\n       <use x=\"63.623047\" xlink:href=\"#DejaVuSans-2e\"/>\n       <use x=\"95.410156\" xlink:href=\"#DejaVuSans-38\"/>\n      </g>\n     </g>\n    </g>\n    <g id=\"xtick_6\">\n     <g id=\"line2d_6\">\n      <g>\n       <use style=\"stroke:#000000;stroke-width:0.8;\" x=\"340.144318\" xlink:href=\"#mab9f0a7daf\" y=\"224.64\"/>\n      </g>\n     </g>\n     <g id=\"text_6\">\n      <!-- 1.0 -->\n      <g transform=\"translate(332.192756 239.238437)scale(0.1 -0.1)\">\n       <defs>\n        <path d=\"M 794 531 \nL 1825 531 \nL 1825 4091 \nL 703 3866 \nL 703 4441 \nL 1819 4666 \nL 2450 4666 \nL 2450 531 \nL 3481 531 \nL 3481 0 \nL 794 0 \nL 794 531 \nz\n\" id=\"DejaVuSans-31\" transform=\"scale(0.015625)\"/>\n       </defs>\n       <use xlink:href=\"#DejaVuSans-31\"/>\n       <use x=\"63.623047\" xlink:href=\"#DejaVuSans-2e\"/>\n       <use x=\"95.410156\" xlink:href=\"#DejaVuSans-30\"/>\n      </g>\n     </g>\n    </g>\n   </g>\n   <g id=\"matplotlib.axis_2\">\n    <g id=\"ytick_1\">\n     <g id=\"line2d_7\">\n      <defs>\n       <path d=\"M 0 0 \nL -3.5 0 \n\" id=\"m74ccf44e60\" style=\"stroke:#000000;stroke-width:0.8;\"/>\n      </defs>\n      <g>\n       <use style=\"stroke:#000000;stroke-width:0.8;\" x=\"20.5625\" xlink:href=\"#m74ccf44e60\" y=\"214.756364\"/>\n      </g>\n     </g>\n     <g id=\"text_7\">\n      <!-- 0 -->\n      <g transform=\"translate(7.2 218.555582)scale(0.1 -0.1)\">\n       <use xlink:href=\"#DejaVuSans-30\"/>\n      </g>\n     </g>\n    </g>\n    <g id=\"ytick_2\">\n     <g id=\"line2d_8\">\n      <g>\n       <use style=\"stroke:#000000;stroke-width:0.8;\" x=\"20.5625\" xlink:href=\"#m74ccf44e60\" y=\"172.701863\"/>\n      </g>\n     </g>\n     <g id=\"text_8\">\n      <!-- 1 -->\n      <g transform=\"translate(7.2 176.501082)scale(0.1 -0.1)\">\n       <use xlink:href=\"#DejaVuSans-31\"/>\n      </g>\n     </g>\n    </g>\n    <g id=\"ytick_3\">\n     <g id=\"line2d_9\">\n      <g>\n       <use style=\"stroke:#000000;stroke-width:0.8;\" x=\"20.5625\" xlink:href=\"#m74ccf44e60\" y=\"130.647363\"/>\n      </g>\n     </g>\n     <g id=\"text_9\">\n      <!-- 2 -->\n      <g transform=\"translate(7.2 134.446581)scale(0.1 -0.1)\">\n       <use xlink:href=\"#DejaVuSans-32\"/>\n      </g>\n     </g>\n    </g>\n    <g id=\"ytick_4\">\n     <g id=\"line2d_10\">\n      <g>\n       <use style=\"stroke:#000000;stroke-width:0.8;\" x=\"20.5625\" xlink:href=\"#m74ccf44e60\" y=\"88.592862\"/>\n      </g>\n     </g>\n     <g id=\"text_10\">\n      <!-- 3 -->\n      <g transform=\"translate(7.2 92.392081)scale(0.1 -0.1)\">\n       <defs>\n        <path d=\"M 2597 2516 \nQ 3050 2419 3304 2112 \nQ 3559 1806 3559 1356 \nQ 3559 666 3084 287 \nQ 2609 -91 1734 -91 \nQ 1441 -91 1130 -33 \nQ 819 25 488 141 \nL 488 750 \nQ 750 597 1062 519 \nQ 1375 441 1716 441 \nQ 2309 441 2620 675 \nQ 2931 909 2931 1356 \nQ 2931 1769 2642 2001 \nQ 2353 2234 1838 2234 \nL 1294 2234 \nL 1294 2753 \nL 1863 2753 \nQ 2328 2753 2575 2939 \nQ 2822 3125 2822 3475 \nQ 2822 3834 2567 4026 \nQ 2313 4219 1838 4219 \nQ 1578 4219 1281 4162 \nQ 984 4106 628 3988 \nL 628 4550 \nQ 988 4650 1302 4700 \nQ 1616 4750 1894 4750 \nQ 2613 4750 3031 4423 \nQ 3450 4097 3450 3541 \nQ 3450 3153 3228 2886 \nQ 3006 2619 2597 2516 \nz\n\" id=\"DejaVuSans-33\" transform=\"scale(0.015625)\"/>\n       </defs>\n       <use xlink:href=\"#DejaVuSans-33\"/>\n      </g>\n     </g>\n    </g>\n    <g id=\"ytick_5\">\n     <g id=\"line2d_11\">\n      <g>\n       <use style=\"stroke:#000000;stroke-width:0.8;\" x=\"20.5625\" xlink:href=\"#m74ccf44e60\" y=\"46.538362\"/>\n      </g>\n     </g>\n     <g id=\"text_11\">\n      <!-- 4 -->\n      <g transform=\"translate(7.2 50.33758)scale(0.1 -0.1)\">\n       <use xlink:href=\"#DejaVuSans-34\"/>\n      </g>\n     </g>\n    </g>\n   </g>\n   <g id=\"line2d_12\">\n    <path clip-path=\"url(#p538d20e271)\" d=\"M 35.780682 19.461311 \nL 41.867955 17.419001 \nL 47.955227 17.083636 \nL 54.0425 17.408482 \nL 60.129773 18.17147 \nL 66.217045 19.267441 \nL 72.304318 20.634711 \nL 78.391591 22.232747 \nL 84.478864 24.032948 \nL 90.566136 26.01412 \nL 96.653409 28.159996 \nL 102.740682 30.457758 \nL 108.827955 32.897102 \nL 114.915227 35.469619 \nL 121.0025 38.168369 \nL 127.089773 40.987578 \nL 133.177045 43.922418 \nL 139.264318 46.96884 \nL 145.351591 50.123459 \nL 151.438864 53.383452 \nL 157.526136 56.74649 \nL 163.613409 60.21068 \nL 169.700682 63.774525 \nL 175.787955 67.436892 \nL 181.875227 71.196986 \nL 187.9625 75.054337 \nL 194.049773 79.008788 \nL 200.137045 83.060497 \nL 206.224318 87.209932 \nL 212.311591 91.457888 \nL 218.398864 95.8055 \nL 224.486136 100.254265 \nL 230.573409 104.806074 \nL 236.660682 109.463257 \nL 242.747955 114.228636 \nL 248.835227 119.105599 \nL 254.9225 124.098192 \nL 261.009773 129.211244 \nL 267.097045 134.450529 \nL 273.184318 139.822987 \nL 279.271591 145.337028 \nL 285.358864 151.002954 \nL 291.446136 156.833584 \nL 297.533409 162.845185 \nL 303.620682 169.058951 \nL 309.707955 175.503483 \nL 315.795227 182.219314 \nL 321.8825 189.268128 \nL 327.969773 196.755085 \nL 334.057045 204.902251 \nL 340.144318 214.756364 \n\" style=\"fill:none;stroke:#1f77b4;stroke-linecap:square;stroke-width:1.5;\"/>\n   </g>\n   <g id=\"patch_3\">\n    <path d=\"M 20.5625 224.64 \nL 20.5625 7.2 \n\" style=\"fill:none;stroke:#000000;stroke-linecap:square;stroke-linejoin:miter;stroke-width:0.8;\"/>\n   </g>\n   <g id=\"patch_4\">\n    <path d=\"M 355.3625 224.64 \nL 355.3625 7.2 \n\" style=\"fill:none;stroke:#000000;stroke-linecap:square;stroke-linejoin:miter;stroke-width:0.8;\"/>\n   </g>\n   <g id=\"patch_5\">\n    <path d=\"M 20.5625 224.64 \nL 355.3625 224.64 \n\" style=\"fill:none;stroke:#000000;stroke-linecap:square;stroke-linejoin:miter;stroke-width:0.8;\"/>\n   </g>\n   <g id=\"patch_6\">\n    <path d=\"M 20.5625 7.2 \nL 355.3625 7.2 \n\" style=\"fill:none;stroke:#000000;stroke-linecap:square;stroke-linejoin:miter;stroke-width:0.8;\"/>\n   </g>\n  </g>\n </g>\n <defs>\n  <clipPath id=\"p538d20e271\">\n   <rect height=\"217.44\" width=\"334.8\" x=\"20.5625\" y=\"7.2\"/>\n  </clipPath>\n </defs>\n</svg>\n",
      "image/png": "[encoded data removed]"
     },
     "metadata": {
      "needs_background": "light"
     }
    }
   ],
   "source": [
    "import numpy as np\n",
    "import matplotlib.pyplot as plt\n",
    "from week1 import entropy\n",
    "\n",
    "Pas=np.linspace(0, 1, num=51)\n",
    "\n",
    "C = 26\n",
    "\n",
    "plt.plot(Pas, [ entropy(probabilityVector(pa, C)) for pa in Pas])\n"
   ]
  },
  {
   "cell_type": "code",
   "execution_count": 48,
   "metadata": {},
   "outputs": [
    {
     "output_type": "execute_result",
     "data": {
      "text/plain": [
       "[<matplotlib.lines.Line2D at 0x7fde6d6b05e0>]"
      ]
     },
     "metadata": {},
     "execution_count": 48
    },
    {
     "output_type": "display_data",
     "data": {
      "text/plain": "<Figure size 432x288 with 1 Axes>",
      "image/svg+xml": "<?xml version=\"1.0\" encoding=\"utf-8\" standalone=\"no\"?>\n<!DOCTYPE svg PUBLIC \"-//W3C//DTD SVG 1.1//EN\"\n  \"http://www.w3.org/Graphics/SVG/1.1/DTD/svg11.dtd\">\n<svg height=\"248.518125pt\" version=\"1.1\" viewBox=\"0 0 372.103125 248.518125\" width=\"372.103125pt\" xmlns=\"http://www.w3.org/2000/svg\" xmlns:xlink=\"http://www.w3.org/1999/xlink\">\n <metadata>\n  <rdf:RDF xmlns:cc=\"http://creativecommons.org/ns#\" xmlns:dc=\"http://purl.org/dc/elements/1.1/\" xmlns:rdf=\"http://www.w3.org/1999/02/22-rdf-syntax-ns#\">\n   <cc:Work>\n    <dc:type rdf:resource=\"http://purl.org/dc/dcmitype/StillImage\"/>\n    <dc:date>2021-08-21T09:02:36.271215</dc:date>\n    <dc:format>image/svg+xml</dc:format>\n    <dc:creator>\n     <cc:Agent>\n      <dc:title>Matplotlib v3.4.2, https://matplotlib.org/</dc:title>\n     </cc:Agent>\n    </dc:creator>\n   </cc:Work>\n  </rdf:RDF>\n </metadata>\n <defs>\n  <style type=\"text/css\">*{stroke-linecap:butt;stroke-linejoin:round;}</style>\n </defs>\n <g id=\"figure_1\">\n  <g id=\"patch_1\">\n   <path d=\"M 0 248.518125 \nL 372.103125 248.518125 \nL 372.103125 0 \nL 0 0 \nz\n\" style=\"fill:none;\"/>\n  </g>\n  <g id=\"axes_1\">\n   <g id=\"patch_2\">\n    <path d=\"M 30.103125 224.64 \nL 364.903125 224.64 \nL 364.903125 7.2 \nL 30.103125 7.2 \nz\n\" style=\"fill:#ffffff;\"/>\n   </g>\n   <g id=\"matplotlib.axis_1\">\n    <g id=\"xtick_1\">\n     <g id=\"line2d_1\">\n      <defs>\n       <path d=\"M 0 0 \nL 0 3.5 \n\" id=\"m3b6d614a97\" style=\"stroke:#000000;stroke-width:0.8;\"/>\n      </defs>\n      <g>\n       <use style=\"stroke:#000000;stroke-width:0.8;\" x=\"45.321307\" xlink:href=\"#m3b6d614a97\" y=\"224.64\"/>\n      </g>\n     </g>\n     <g id=\"text_1\">\n      <!-- 0.0 -->\n      <g transform=\"translate(37.369744 239.238437)scale(0.1 -0.1)\">\n       <defs>\n        <path d=\"M 2034 4250 \nQ 1547 4250 1301 3770 \nQ 1056 3291 1056 2328 \nQ 1056 1369 1301 889 \nQ 1547 409 2034 409 \nQ 2525 409 2770 889 \nQ 3016 1369 3016 2328 \nQ 3016 3291 2770 3770 \nQ 2525 4250 2034 4250 \nz\nM 2034 4750 \nQ 2819 4750 3233 4129 \nQ 3647 3509 3647 2328 \nQ 3647 1150 3233 529 \nQ 2819 -91 2034 -91 \nQ 1250 -91 836 529 \nQ 422 1150 422 2328 \nQ 422 3509 836 4129 \nQ 1250 4750 2034 4750 \nz\n\" id=\"DejaVuSans-30\" transform=\"scale(0.015625)\"/>\n        <path d=\"M 684 794 \nL 1344 794 \nL 1344 0 \nL 684 0 \nL 684 794 \nz\n\" id=\"DejaVuSans-2e\" transform=\"scale(0.015625)\"/>\n       </defs>\n       <use xlink:href=\"#DejaVuSans-30\"/>\n       <use x=\"63.623047\" xlink:href=\"#DejaVuSans-2e\"/>\n       <use x=\"95.410156\" xlink:href=\"#DejaVuSans-30\"/>\n      </g>\n     </g>\n    </g>\n    <g id=\"xtick_2\">\n     <g id=\"line2d_2\">\n      <g>\n       <use style=\"stroke:#000000;stroke-width:0.8;\" x=\"106.194034\" xlink:href=\"#m3b6d614a97\" y=\"224.64\"/>\n      </g>\n     </g>\n     <g id=\"text_2\">\n      <!-- 0.2 -->\n      <g transform=\"translate(98.242472 239.238437)scale(0.1 -0.1)\">\n       <defs>\n        <path d=\"M 1228 531 \nL 3431 531 \nL 3431 0 \nL 469 0 \nL 469 531 \nQ 828 903 1448 1529 \nQ 2069 2156 2228 2338 \nQ 2531 2678 2651 2914 \nQ 2772 3150 2772 3378 \nQ 2772 3750 2511 3984 \nQ 2250 4219 1831 4219 \nQ 1534 4219 1204 4116 \nQ 875 4013 500 3803 \nL 500 4441 \nQ 881 4594 1212 4672 \nQ 1544 4750 1819 4750 \nQ 2544 4750 2975 4387 \nQ 3406 4025 3406 3419 \nQ 3406 3131 3298 2873 \nQ 3191 2616 2906 2266 \nQ 2828 2175 2409 1742 \nQ 1991 1309 1228 531 \nz\n\" id=\"DejaVuSans-32\" transform=\"scale(0.015625)\"/>\n       </defs>\n       <use xlink:href=\"#DejaVuSans-30\"/>\n       <use x=\"63.623047\" xlink:href=\"#DejaVuSans-2e\"/>\n       <use x=\"95.410156\" xlink:href=\"#DejaVuSans-32\"/>\n      </g>\n     </g>\n    </g>\n    <g id=\"xtick_3\">\n     <g id=\"line2d_3\">\n      <g>\n       <use style=\"stroke:#000000;stroke-width:0.8;\" x=\"167.066761\" xlink:href=\"#m3b6d614a97\" y=\"224.64\"/>\n      </g>\n     </g>\n     <g id=\"text_3\">\n      <!-- 0.4 -->\n      <g transform=\"translate(159.115199 239.238437)scale(0.1 -0.1)\">\n       <defs>\n        <path d=\"M 2419 4116 \nL 825 1625 \nL 2419 1625 \nL 2419 4116 \nz\nM 2253 4666 \nL 3047 4666 \nL 3047 1625 \nL 3713 1625 \nL 3713 1100 \nL 3047 1100 \nL 3047 0 \nL 2419 0 \nL 2419 1100 \nL 313 1100 \nL 313 1709 \nL 2253 4666 \nz\n\" id=\"DejaVuSans-34\" transform=\"scale(0.015625)\"/>\n       </defs>\n       <use xlink:href=\"#DejaVuSans-30\"/>\n       <use x=\"63.623047\" xlink:href=\"#DejaVuSans-2e\"/>\n       <use x=\"95.410156\" xlink:href=\"#DejaVuSans-34\"/>\n      </g>\n     </g>\n    </g>\n    <g id=\"xtick_4\">\n     <g id=\"line2d_4\">\n      <g>\n       <use style=\"stroke:#000000;stroke-width:0.8;\" x=\"227.939489\" xlink:href=\"#m3b6d614a97\" y=\"224.64\"/>\n      </g>\n     </g>\n     <g id=\"text_4\">\n      <!-- 0.6 -->\n      <g transform=\"translate(219.987926 239.238437)scale(0.1 -0.1)\">\n       <defs>\n        <path d=\"M 2113 2584 \nQ 1688 2584 1439 2293 \nQ 1191 2003 1191 1497 \nQ 1191 994 1439 701 \nQ 1688 409 2113 409 \nQ 2538 409 2786 701 \nQ 3034 994 3034 1497 \nQ 3034 2003 2786 2293 \nQ 2538 2584 2113 2584 \nz\nM 3366 4563 \nL 3366 3988 \nQ 3128 4100 2886 4159 \nQ 2644 4219 2406 4219 \nQ 1781 4219 1451 3797 \nQ 1122 3375 1075 2522 \nQ 1259 2794 1537 2939 \nQ 1816 3084 2150 3084 \nQ 2853 3084 3261 2657 \nQ 3669 2231 3669 1497 \nQ 3669 778 3244 343 \nQ 2819 -91 2113 -91 \nQ 1303 -91 875 529 \nQ 447 1150 447 2328 \nQ 447 3434 972 4092 \nQ 1497 4750 2381 4750 \nQ 2619 4750 2861 4703 \nQ 3103 4656 3366 4563 \nz\n\" id=\"DejaVuSans-36\" transform=\"scale(0.015625)\"/>\n       </defs>\n       <use xlink:href=\"#DejaVuSans-30\"/>\n       <use x=\"63.623047\" xlink:href=\"#DejaVuSans-2e\"/>\n       <use x=\"95.410156\" xlink:href=\"#DejaVuSans-36\"/>\n      </g>\n     </g>\n    </g>\n    <g id=\"xtick_5\">\n     <g id=\"line2d_5\">\n      <g>\n       <use style=\"stroke:#000000;stroke-width:0.8;\" x=\"288.812216\" xlink:href=\"#m3b6d614a97\" y=\"224.64\"/>\n      </g>\n     </g>\n     <g id=\"text_5\">\n      <!-- 0.8 -->\n      <g transform=\"translate(280.860653 239.238437)scale(0.1 -0.1)\">\n       <defs>\n        <path d=\"M 2034 2216 \nQ 1584 2216 1326 1975 \nQ 1069 1734 1069 1313 \nQ 1069 891 1326 650 \nQ 1584 409 2034 409 \nQ 2484 409 2743 651 \nQ 3003 894 3003 1313 \nQ 3003 1734 2745 1975 \nQ 2488 2216 2034 2216 \nz\nM 1403 2484 \nQ 997 2584 770 2862 \nQ 544 3141 544 3541 \nQ 544 4100 942 4425 \nQ 1341 4750 2034 4750 \nQ 2731 4750 3128 4425 \nQ 3525 4100 3525 3541 \nQ 3525 3141 3298 2862 \nQ 3072 2584 2669 2484 \nQ 3125 2378 3379 2068 \nQ 3634 1759 3634 1313 \nQ 3634 634 3220 271 \nQ 2806 -91 2034 -91 \nQ 1263 -91 848 271 \nQ 434 634 434 1313 \nQ 434 1759 690 2068 \nQ 947 2378 1403 2484 \nz\nM 1172 3481 \nQ 1172 3119 1398 2916 \nQ 1625 2713 2034 2713 \nQ 2441 2713 2670 2916 \nQ 2900 3119 2900 3481 \nQ 2900 3844 2670 4047 \nQ 2441 4250 2034 4250 \nQ 1625 4250 1398 4047 \nQ 1172 3844 1172 3481 \nz\n\" id=\"DejaVuSans-38\" transform=\"scale(0.015625)\"/>\n       </defs>\n       <use xlink:href=\"#DejaVuSans-30\"/>\n       <use x=\"63.623047\" xlink:href=\"#DejaVuSans-2e\"/>\n       <use x=\"95.410156\" xlink:href=\"#DejaVuSans-38\"/>\n      </g>\n     </g>\n    </g>\n    <g id=\"xtick_6\">\n     <g id=\"line2d_6\">\n      <g>\n       <use style=\"stroke:#000000;stroke-width:0.8;\" x=\"349.684943\" xlink:href=\"#m3b6d614a97\" y=\"224.64\"/>\n      </g>\n     </g>\n     <g id=\"text_6\">\n      <!-- 1.0 -->\n      <g transform=\"translate(341.733381 239.238437)scale(0.1 -0.1)\">\n       <defs>\n        <path d=\"M 794 531 \nL 1825 531 \nL 1825 4091 \nL 703 3866 \nL 703 4441 \nL 1819 4666 \nL 2450 4666 \nL 2450 531 \nL 3481 531 \nL 3481 0 \nL 794 0 \nL 794 531 \nz\n\" id=\"DejaVuSans-31\" transform=\"scale(0.015625)\"/>\n       </defs>\n       <use xlink:href=\"#DejaVuSans-31\"/>\n       <use x=\"63.623047\" xlink:href=\"#DejaVuSans-2e\"/>\n       <use x=\"95.410156\" xlink:href=\"#DejaVuSans-30\"/>\n      </g>\n     </g>\n    </g>\n   </g>\n   <g id=\"matplotlib.axis_2\">\n    <g id=\"ytick_1\">\n     <g id=\"line2d_7\">\n      <defs>\n       <path d=\"M 0 0 \nL -3.5 0 \n\" id=\"m876f6410cf\" style=\"stroke:#000000;stroke-width:0.8;\"/>\n      </defs>\n      <g>\n       <use style=\"stroke:#000000;stroke-width:0.8;\" x=\"30.103125\" xlink:href=\"#m876f6410cf\" y=\"214.756364\"/>\n      </g>\n     </g>\n     <g id=\"text_7\">\n      <!-- 0.0 -->\n      <g transform=\"translate(7.2 218.555582)scale(0.1 -0.1)\">\n       <use xlink:href=\"#DejaVuSans-30\"/>\n       <use x=\"63.623047\" xlink:href=\"#DejaVuSans-2e\"/>\n       <use x=\"95.410156\" xlink:href=\"#DejaVuSans-30\"/>\n      </g>\n     </g>\n    </g>\n    <g id=\"ytick_2\">\n     <g id=\"line2d_8\">\n      <g>\n       <use style=\"stroke:#000000;stroke-width:0.8;\" x=\"30.103125\" xlink:href=\"#m876f6410cf\" y=\"175.221818\"/>\n      </g>\n     </g>\n     <g id=\"text_8\">\n      <!-- 0.2 -->\n      <g transform=\"translate(7.2 179.021037)scale(0.1 -0.1)\">\n       <use xlink:href=\"#DejaVuSans-30\"/>\n       <use x=\"63.623047\" xlink:href=\"#DejaVuSans-2e\"/>\n       <use x=\"95.410156\" xlink:href=\"#DejaVuSans-32\"/>\n      </g>\n     </g>\n    </g>\n    <g id=\"ytick_3\">\n     <g id=\"line2d_9\">\n      <g>\n       <use style=\"stroke:#000000;stroke-width:0.8;\" x=\"30.103125\" xlink:href=\"#m876f6410cf\" y=\"135.687273\"/>\n      </g>\n     </g>\n     <g id=\"text_9\">\n      <!-- 0.4 -->\n      <g transform=\"translate(7.2 139.486491)scale(0.1 -0.1)\">\n       <use xlink:href=\"#DejaVuSans-30\"/>\n       <use x=\"63.623047\" xlink:href=\"#DejaVuSans-2e\"/>\n       <use x=\"95.410156\" xlink:href=\"#DejaVuSans-34\"/>\n      </g>\n     </g>\n    </g>\n    <g id=\"ytick_4\">\n     <g id=\"line2d_10\">\n      <g>\n       <use style=\"stroke:#000000;stroke-width:0.8;\" x=\"30.103125\" xlink:href=\"#m876f6410cf\" y=\"96.152727\"/>\n      </g>\n     </g>\n     <g id=\"text_10\">\n      <!-- 0.6 -->\n      <g transform=\"translate(7.2 99.951946)scale(0.1 -0.1)\">\n       <use xlink:href=\"#DejaVuSans-30\"/>\n       <use x=\"63.623047\" xlink:href=\"#DejaVuSans-2e\"/>\n       <use x=\"95.410156\" xlink:href=\"#DejaVuSans-36\"/>\n      </g>\n     </g>\n    </g>\n    <g id=\"ytick_5\">\n     <g id=\"line2d_11\">\n      <g>\n       <use style=\"stroke:#000000;stroke-width:0.8;\" x=\"30.103125\" xlink:href=\"#m876f6410cf\" y=\"56.618182\"/>\n      </g>\n     </g>\n     <g id=\"text_11\">\n      <!-- 0.8 -->\n      <g transform=\"translate(7.2 60.417401)scale(0.1 -0.1)\">\n       <use xlink:href=\"#DejaVuSans-30\"/>\n       <use x=\"63.623047\" xlink:href=\"#DejaVuSans-2e\"/>\n       <use x=\"95.410156\" xlink:href=\"#DejaVuSans-38\"/>\n      </g>\n     </g>\n    </g>\n    <g id=\"ytick_6\">\n     <g id=\"line2d_12\">\n      <g>\n       <use style=\"stroke:#000000;stroke-width:0.8;\" x=\"30.103125\" xlink:href=\"#m876f6410cf\" y=\"17.083636\"/>\n      </g>\n     </g>\n     <g id=\"text_12\">\n      <!-- 1.0 -->\n      <g transform=\"translate(7.2 20.882855)scale(0.1 -0.1)\">\n       <use xlink:href=\"#DejaVuSans-31\"/>\n       <use x=\"63.623047\" xlink:href=\"#DejaVuSans-2e\"/>\n       <use x=\"95.410156\" xlink:href=\"#DejaVuSans-30\"/>\n      </g>\n     </g>\n    </g>\n   </g>\n   <g id=\"line2d_13\">\n    <path clip-path=\"url(#p334ae8e02d)\" d=\"M 45.321307 214.756364 \nL 51.40858 186.797426 \nL 57.495852 166.861806 \nL 63.583125 150.029433 \nL 69.670398 135.256506 \nL 75.75767 122.048726 \nL 81.844943 110.116158 \nL 87.932216 99.268284 \nL 94.019489 89.370664 \nL 100.106761 80.323679 \nL 106.194034 72.050868 \nL 112.281307 64.49198 \nL 118.36858 57.598583 \nL 124.455852 51.331153 \nL 130.543125 45.657069 \nL 136.630398 40.549188 \nL 142.71767 35.984814 \nL 148.804943 31.944928 \nL 154.892216 28.413607 \nL 160.979489 25.377584 \nL 167.066761 22.825912 \nL 173.154034 20.749696 \nL 179.241307 19.141899 \nL 185.32858 17.997193 \nL 191.415852 17.311842 \nL 197.503125 17.083636 \nL 203.590398 17.311842 \nL 209.67767 17.997193 \nL 215.764943 19.141899 \nL 221.852216 20.749696 \nL 227.939489 22.825912 \nL 234.026761 25.377584 \nL 240.114034 28.413607 \nL 246.201307 31.944928 \nL 252.28858 35.984814 \nL 258.375852 40.549188 \nL 264.463125 45.657069 \nL 270.550398 51.331153 \nL 276.63767 57.598583 \nL 282.724943 64.49198 \nL 288.812216 72.050868 \nL 294.899489 80.323679 \nL 300.986761 89.370664 \nL 307.074034 99.268284 \nL 313.161307 110.116158 \nL 319.24858 122.048726 \nL 325.335852 135.256506 \nL 331.423125 150.029433 \nL 337.510398 166.861806 \nL 343.59767 186.797426 \nL 349.684943 214.756364 \n\" style=\"fill:none;stroke:#1f77b4;stroke-linecap:square;stroke-width:1.5;\"/>\n   </g>\n   <g id=\"patch_3\">\n    <path d=\"M 30.103125 224.64 \nL 30.103125 7.2 \n\" style=\"fill:none;stroke:#000000;stroke-linecap:square;stroke-linejoin:miter;stroke-width:0.8;\"/>\n   </g>\n   <g id=\"patch_4\">\n    <path d=\"M 364.903125 224.64 \nL 364.903125 7.2 \n\" style=\"fill:none;stroke:#000000;stroke-linecap:square;stroke-linejoin:miter;stroke-width:0.8;\"/>\n   </g>\n   <g id=\"patch_5\">\n    <path d=\"M 30.103125 224.64 \nL 364.903125 224.64 \n\" style=\"fill:none;stroke:#000000;stroke-linecap:square;stroke-linejoin:miter;stroke-width:0.8;\"/>\n   </g>\n   <g id=\"patch_6\">\n    <path d=\"M 30.103125 7.2 \nL 364.903125 7.2 \n\" style=\"fill:none;stroke:#000000;stroke-linecap:square;stroke-linejoin:miter;stroke-width:0.8;\"/>\n   </g>\n  </g>\n </g>\n <defs>\n  <clipPath id=\"p334ae8e02d\">\n   <rect height=\"217.44\" width=\"334.8\" x=\"30.103125\" y=\"7.2\"/>\n  </clipPath>\n </defs>\n</svg>\n",
      "image/png": "[encoded data removed]"
     },
     "metadata": {
      "needs_background": "light"
     }
    }
   ],
   "source": [
    "C = 26\n",
    "\n",
    "plt.plot(Pas, [ entropy(probabilityVector(pa, 2)) for pa in Pas])"
   ]
  },
  {
   "cell_type": "code",
   "execution_count": 49,
   "metadata": {},
   "outputs": [
    {
     "output_type": "stream",
     "name": "stderr",
     "text": [
      "No handles with labels found to put in legend.\n"
     ]
    },
    {
     "output_type": "display_data",
     "data": {
      "text/plain": "<Figure size 648x432 with 1 Axes>",
      "image/svg+xml": "<?xml version=\"1.0\" encoding=\"utf-8\" standalone=\"no\"?>\n<!DOCTYPE svg PUBLIC \"-//W3C//DTD SVG 1.1//EN\"\n  \"http://www.w3.org/Graphics/SVG/1.1/DTD/svg11.dtd\">\n<svg height=\"386.034375pt\" version=\"1.1\" viewBox=\"0 0 529.9625 386.034375\" width=\"529.9625pt\" xmlns=\"http://www.w3.org/2000/svg\" xmlns:xlink=\"http://www.w3.org/1999/xlink\">\n <metadata>\n  <rdf:RDF xmlns:cc=\"http://creativecommons.org/ns#\" xmlns:dc=\"http://purl.org/dc/elements/1.1/\" xmlns:rdf=\"http://www.w3.org/1999/02/22-rdf-syntax-ns#\">\n   <cc:Work>\n    <dc:type rdf:resource=\"http://purl.org/dc/dcmitype/StillImage\"/>\n    <dc:date>2021-08-21T09:02:36.518014</dc:date>\n    <dc:format>image/svg+xml</dc:format>\n    <dc:creator>\n     <cc:Agent>\n      <dc:title>Matplotlib v3.4.2, https://matplotlib.org/</dc:title>\n     </cc:Agent>\n    </dc:creator>\n   </cc:Work>\n  </rdf:RDF>\n </metadata>\n <defs>\n  <style type=\"text/css\">*{stroke-linecap:butt;stroke-linejoin:round;}</style>\n </defs>\n <g id=\"figure_1\">\n  <g id=\"patch_1\">\n   <path d=\"M 0 386.034375 \nL 529.9625 386.034375 \nL 529.9625 0 \nL 0 0 \nz\n\" style=\"fill:none;\"/>\n  </g>\n  <g id=\"axes_1\">\n   <g id=\"patch_2\">\n    <path d=\"M 20.5625 348.478125 \nL 522.7625 348.478125 \nL 522.7625 22.318125 \nL 20.5625 22.318125 \nz\n\" style=\"fill:#ffffff;\"/>\n   </g>\n   <g id=\"matplotlib.axis_1\">\n    <g id=\"xtick_1\">\n     <g id=\"line2d_1\">\n      <path clip-path=\"url(#pd02edd6b2d)\" d=\"M 43.389773 348.478125 \nL 43.389773 22.318125 \n\" style=\"fill:none;stroke:#b0b0b0;stroke-linecap:square;stroke-width:0.5;\"/>\n     </g>\n     <g id=\"line2d_2\">\n      <defs>\n       <path d=\"M 0 0 \nL 0 3.5 \n\" id=\"m78f6202d19\" style=\"stroke:#000000;stroke-width:0.8;\"/>\n      </defs>\n      <g>\n       <use style=\"stroke:#000000;stroke-width:0.8;\" x=\"43.389773\" xlink:href=\"#m78f6202d19\" y=\"348.478125\"/>\n      </g>\n     </g>\n     <g id=\"text_1\">\n      <!-- 0.00 -->\n      <g transform=\"translate(32.25696 363.076562)scale(0.1 -0.1)\">\n       <defs>\n        <path d=\"M 2034 4250 \nQ 1547 4250 1301 3770 \nQ 1056 3291 1056 2328 \nQ 1056 1369 1301 889 \nQ 1547 409 2034 409 \nQ 2525 409 2770 889 \nQ 3016 1369 3016 2328 \nQ 3016 3291 2770 3770 \nQ 2525 4250 2034 4250 \nz\nM 2034 4750 \nQ 2819 4750 3233 4129 \nQ 3647 3509 3647 2328 \nQ 3647 1150 3233 529 \nQ 2819 -91 2034 -91 \nQ 1250 -91 836 529 \nQ 422 1150 422 2328 \nQ 422 3509 836 4129 \nQ 1250 4750 2034 4750 \nz\n\" id=\"DejaVuSans-30\" transform=\"scale(0.015625)\"/>\n        <path d=\"M 684 794 \nL 1344 794 \nL 1344 0 \nL 684 0 \nL 684 794 \nz\n\" id=\"DejaVuSans-2e\" transform=\"scale(0.015625)\"/>\n       </defs>\n       <use xlink:href=\"#DejaVuSans-30\"/>\n       <use x=\"63.623047\" xlink:href=\"#DejaVuSans-2e\"/>\n       <use x=\"95.410156\" xlink:href=\"#DejaVuSans-30\"/>\n       <use x=\"159.033203\" xlink:href=\"#DejaVuSans-30\"/>\n      </g>\n     </g>\n    </g>\n    <g id=\"xtick_2\">\n     <g id=\"line2d_3\">\n      <path clip-path=\"url(#pd02edd6b2d)\" d=\"M 66.217045 348.478125 \nL 66.217045 22.318125 \n\" style=\"fill:none;stroke:#b0b0b0;stroke-linecap:square;stroke-width:0.5;\"/>\n     </g>\n     <g id=\"line2d_4\">\n      <g>\n       <use style=\"stroke:#000000;stroke-width:0.8;\" x=\"66.217045\" xlink:href=\"#m78f6202d19\" y=\"348.478125\"/>\n      </g>\n     </g>\n     <g id=\"text_2\">\n      <!-- 0.05 -->\n      <g transform=\"translate(55.084233 363.076562)scale(0.1 -0.1)\">\n       <defs>\n        <path d=\"M 691 4666 \nL 3169 4666 \nL 3169 4134 \nL 1269 4134 \nL 1269 2991 \nQ 1406 3038 1543 3061 \nQ 1681 3084 1819 3084 \nQ 2600 3084 3056 2656 \nQ 3513 2228 3513 1497 \nQ 3513 744 3044 326 \nQ 2575 -91 1722 -91 \nQ 1428 -91 1123 -41 \nQ 819 9 494 109 \nL 494 744 \nQ 775 591 1075 516 \nQ 1375 441 1709 441 \nQ 2250 441 2565 725 \nQ 2881 1009 2881 1497 \nQ 2881 1984 2565 2268 \nQ 2250 2553 1709 2553 \nQ 1456 2553 1204 2497 \nQ 953 2441 691 2322 \nL 691 4666 \nz\n\" id=\"DejaVuSans-35\" transform=\"scale(0.015625)\"/>\n       </defs>\n       <use xlink:href=\"#DejaVuSans-30\"/>\n       <use x=\"63.623047\" xlink:href=\"#DejaVuSans-2e\"/>\n       <use x=\"95.410156\" xlink:href=\"#DejaVuSans-30\"/>\n       <use x=\"159.033203\" xlink:href=\"#DejaVuSans-35\"/>\n      </g>\n     </g>\n    </g>\n    <g id=\"xtick_3\">\n     <g id=\"line2d_5\">\n      <path clip-path=\"url(#pd02edd6b2d)\" d=\"M 89.044318 348.478125 \nL 89.044318 22.318125 \n\" style=\"fill:none;stroke:#b0b0b0;stroke-linecap:square;stroke-width:0.5;\"/>\n     </g>\n     <g id=\"line2d_6\">\n      <g>\n       <use style=\"stroke:#000000;stroke-width:0.8;\" x=\"89.044318\" xlink:href=\"#m78f6202d19\" y=\"348.478125\"/>\n      </g>\n     </g>\n     <g id=\"text_3\">\n      <!-- 0.10 -->\n      <g transform=\"translate(77.911506 363.076562)scale(0.1 -0.1)\">\n       <defs>\n        <path d=\"M 794 531 \nL 1825 531 \nL 1825 4091 \nL 703 3866 \nL 703 4441 \nL 1819 4666 \nL 2450 4666 \nL 2450 531 \nL 3481 531 \nL 3481 0 \nL 794 0 \nL 794 531 \nz\n\" id=\"DejaVuSans-31\" transform=\"scale(0.015625)\"/>\n       </defs>\n       <use xlink:href=\"#DejaVuSans-30\"/>\n       <use x=\"63.623047\" xlink:href=\"#DejaVuSans-2e\"/>\n       <use x=\"95.410156\" xlink:href=\"#DejaVuSans-31\"/>\n       <use x=\"159.033203\" xlink:href=\"#DejaVuSans-30\"/>\n      </g>\n     </g>\n    </g>\n    <g id=\"xtick_4\">\n     <g id=\"line2d_7\">\n      <path clip-path=\"url(#pd02edd6b2d)\" d=\"M 111.871591 348.478125 \nL 111.871591 22.318125 \n\" style=\"fill:none;stroke:#b0b0b0;stroke-linecap:square;stroke-width:0.5;\"/>\n     </g>\n     <g id=\"line2d_8\">\n      <g>\n       <use style=\"stroke:#000000;stroke-width:0.8;\" x=\"111.871591\" xlink:href=\"#m78f6202d19\" y=\"348.478125\"/>\n      </g>\n     </g>\n     <g id=\"text_4\">\n      <!-- 0.15 -->\n      <g transform=\"translate(100.738778 363.076562)scale(0.1 -0.1)\">\n       <use xlink:href=\"#DejaVuSans-30\"/>\n       <use x=\"63.623047\" xlink:href=\"#DejaVuSans-2e\"/>\n       <use x=\"95.410156\" xlink:href=\"#DejaVuSans-31\"/>\n       <use x=\"159.033203\" xlink:href=\"#DejaVuSans-35\"/>\n      </g>\n     </g>\n    </g>\n    <g id=\"xtick_5\">\n     <g id=\"line2d_9\">\n      <path clip-path=\"url(#pd02edd6b2d)\" d=\"M 134.698864 348.478125 \nL 134.698864 22.318125 \n\" style=\"fill:none;stroke:#b0b0b0;stroke-linecap:square;stroke-width:0.5;\"/>\n     </g>\n     <g id=\"line2d_10\">\n      <g>\n       <use style=\"stroke:#000000;stroke-width:0.8;\" x=\"134.698864\" xlink:href=\"#m78f6202d19\" y=\"348.478125\"/>\n      </g>\n     </g>\n     <g id=\"text_5\">\n      <!-- 0.20 -->\n      <g transform=\"translate(123.566051 363.076562)scale(0.1 -0.1)\">\n       <defs>\n        <path d=\"M 1228 531 \nL 3431 531 \nL 3431 0 \nL 469 0 \nL 469 531 \nQ 828 903 1448 1529 \nQ 2069 2156 2228 2338 \nQ 2531 2678 2651 2914 \nQ 2772 3150 2772 3378 \nQ 2772 3750 2511 3984 \nQ 2250 4219 1831 4219 \nQ 1534 4219 1204 4116 \nQ 875 4013 500 3803 \nL 500 4441 \nQ 881 4594 1212 4672 \nQ 1544 4750 1819 4750 \nQ 2544 4750 2975 4387 \nQ 3406 4025 3406 3419 \nQ 3406 3131 3298 2873 \nQ 3191 2616 2906 2266 \nQ 2828 2175 2409 1742 \nQ 1991 1309 1228 531 \nz\n\" id=\"DejaVuSans-32\" transform=\"scale(0.015625)\"/>\n       </defs>\n       <use xlink:href=\"#DejaVuSans-30\"/>\n       <use x=\"63.623047\" xlink:href=\"#DejaVuSans-2e\"/>\n       <use x=\"95.410156\" xlink:href=\"#DejaVuSans-32\"/>\n       <use x=\"159.033203\" xlink:href=\"#DejaVuSans-30\"/>\n      </g>\n     </g>\n    </g>\n    <g id=\"xtick_6\">\n     <g id=\"line2d_11\">\n      <path clip-path=\"url(#pd02edd6b2d)\" d=\"M 157.526136 348.478125 \nL 157.526136 22.318125 \n\" style=\"fill:none;stroke:#b0b0b0;stroke-linecap:square;stroke-width:0.5;\"/>\n     </g>\n     <g id=\"line2d_12\">\n      <g>\n       <use style=\"stroke:#000000;stroke-width:0.8;\" x=\"157.526136\" xlink:href=\"#m78f6202d19\" y=\"348.478125\"/>\n      </g>\n     </g>\n     <g id=\"text_6\">\n      <!-- 0.25 -->\n      <g transform=\"translate(146.393324 363.076562)scale(0.1 -0.1)\">\n       <use xlink:href=\"#DejaVuSans-30\"/>\n       <use x=\"63.623047\" xlink:href=\"#DejaVuSans-2e\"/>\n       <use x=\"95.410156\" xlink:href=\"#DejaVuSans-32\"/>\n       <use x=\"159.033203\" xlink:href=\"#DejaVuSans-35\"/>\n      </g>\n     </g>\n    </g>\n    <g id=\"xtick_7\">\n     <g id=\"line2d_13\">\n      <path clip-path=\"url(#pd02edd6b2d)\" d=\"M 180.353409 348.478125 \nL 180.353409 22.318125 \n\" style=\"fill:none;stroke:#b0b0b0;stroke-linecap:square;stroke-width:0.5;\"/>\n     </g>\n     <g id=\"line2d_14\">\n      <g>\n       <use style=\"stroke:#000000;stroke-width:0.8;\" x=\"180.353409\" xlink:href=\"#m78f6202d19\" y=\"348.478125\"/>\n      </g>\n     </g>\n     <g id=\"text_7\">\n      <!-- 0.30 -->\n      <g transform=\"translate(169.220597 363.076562)scale(0.1 -0.1)\">\n       <defs>\n        <path d=\"M 2597 2516 \nQ 3050 2419 3304 2112 \nQ 3559 1806 3559 1356 \nQ 3559 666 3084 287 \nQ 2609 -91 1734 -91 \nQ 1441 -91 1130 -33 \nQ 819 25 488 141 \nL 488 750 \nQ 750 597 1062 519 \nQ 1375 441 1716 441 \nQ 2309 441 2620 675 \nQ 2931 909 2931 1356 \nQ 2931 1769 2642 2001 \nQ 2353 2234 1838 2234 \nL 1294 2234 \nL 1294 2753 \nL 1863 2753 \nQ 2328 2753 2575 2939 \nQ 2822 3125 2822 3475 \nQ 2822 3834 2567 4026 \nQ 2313 4219 1838 4219 \nQ 1578 4219 1281 4162 \nQ 984 4106 628 3988 \nL 628 4550 \nQ 988 4650 1302 4700 \nQ 1616 4750 1894 4750 \nQ 2613 4750 3031 4423 \nQ 3450 4097 3450 3541 \nQ 3450 3153 3228 2886 \nQ 3006 2619 2597 2516 \nz\n\" id=\"DejaVuSans-33\" transform=\"scale(0.015625)\"/>\n       </defs>\n       <use xlink:href=\"#DejaVuSans-30\"/>\n       <use x=\"63.623047\" xlink:href=\"#DejaVuSans-2e\"/>\n       <use x=\"95.410156\" xlink:href=\"#DejaVuSans-33\"/>\n       <use x=\"159.033203\" xlink:href=\"#DejaVuSans-30\"/>\n      </g>\n     </g>\n    </g>\n    <g id=\"xtick_8\">\n     <g id=\"line2d_15\">\n      <path clip-path=\"url(#pd02edd6b2d)\" d=\"M 203.180682 348.478125 \nL 203.180682 22.318125 \n\" style=\"fill:none;stroke:#b0b0b0;stroke-linecap:square;stroke-width:0.5;\"/>\n     </g>\n     <g id=\"line2d_16\">\n      <g>\n       <use style=\"stroke:#000000;stroke-width:0.8;\" x=\"203.180682\" xlink:href=\"#m78f6202d19\" y=\"348.478125\"/>\n      </g>\n     </g>\n     <g id=\"text_8\">\n      <!-- 0.35 -->\n      <g transform=\"translate(192.047869 363.076562)scale(0.1 -0.1)\">\n       <use xlink:href=\"#DejaVuSans-30\"/>\n       <use x=\"63.623047\" xlink:href=\"#DejaVuSans-2e\"/>\n       <use x=\"95.410156\" xlink:href=\"#DejaVuSans-33\"/>\n       <use x=\"159.033203\" xlink:href=\"#DejaVuSans-35\"/>\n      </g>\n     </g>\n    </g>\n    <g id=\"xtick_9\">\n     <g id=\"line2d_17\">\n      <path clip-path=\"url(#pd02edd6b2d)\" d=\"M 226.007955 348.478125 \nL 226.007955 22.318125 \n\" style=\"fill:none;stroke:#b0b0b0;stroke-linecap:square;stroke-width:0.5;\"/>\n     </g>\n     <g id=\"line2d_18\">\n      <g>\n       <use style=\"stroke:#000000;stroke-width:0.8;\" x=\"226.007955\" xlink:href=\"#m78f6202d19\" y=\"348.478125\"/>\n      </g>\n     </g>\n     <g id=\"text_9\">\n      <!-- 0.40 -->\n      <g transform=\"translate(214.875142 363.076562)scale(0.1 -0.1)\">\n       <defs>\n        <path d=\"M 2419 4116 \nL 825 1625 \nL 2419 1625 \nL 2419 4116 \nz\nM 2253 4666 \nL 3047 4666 \nL 3047 1625 \nL 3713 1625 \nL 3713 1100 \nL 3047 1100 \nL 3047 0 \nL 2419 0 \nL 2419 1100 \nL 313 1100 \nL 313 1709 \nL 2253 4666 \nz\n\" id=\"DejaVuSans-34\" transform=\"scale(0.015625)\"/>\n       </defs>\n       <use xlink:href=\"#DejaVuSans-30\"/>\n       <use x=\"63.623047\" xlink:href=\"#DejaVuSans-2e\"/>\n       <use x=\"95.410156\" xlink:href=\"#DejaVuSans-34\"/>\n       <use x=\"159.033203\" xlink:href=\"#DejaVuSans-30\"/>\n      </g>\n     </g>\n    </g>\n    <g id=\"xtick_10\">\n     <g id=\"line2d_19\">\n      <path clip-path=\"url(#pd02edd6b2d)\" d=\"M 248.835227 348.478125 \nL 248.835227 22.318125 \n\" style=\"fill:none;stroke:#b0b0b0;stroke-linecap:square;stroke-width:0.5;\"/>\n     </g>\n     <g id=\"line2d_20\">\n      <g>\n       <use style=\"stroke:#000000;stroke-width:0.8;\" x=\"248.835227\" xlink:href=\"#m78f6202d19\" y=\"348.478125\"/>\n      </g>\n     </g>\n     <g id=\"text_10\">\n      <!-- 0.45 -->\n      <g transform=\"translate(237.702415 363.076562)scale(0.1 -0.1)\">\n       <use xlink:href=\"#DejaVuSans-30\"/>\n       <use x=\"63.623047\" xlink:href=\"#DejaVuSans-2e\"/>\n       <use x=\"95.410156\" xlink:href=\"#DejaVuSans-34\"/>\n       <use x=\"159.033203\" xlink:href=\"#DejaVuSans-35\"/>\n      </g>\n     </g>\n    </g>\n    <g id=\"xtick_11\">\n     <g id=\"line2d_21\">\n      <path clip-path=\"url(#pd02edd6b2d)\" d=\"M 271.6625 348.478125 \nL 271.6625 22.318125 \n\" style=\"fill:none;stroke:#b0b0b0;stroke-linecap:square;stroke-width:0.5;\"/>\n     </g>\n     <g id=\"line2d_22\">\n      <g>\n       <use style=\"stroke:#000000;stroke-width:0.8;\" x=\"271.6625\" xlink:href=\"#m78f6202d19\" y=\"348.478125\"/>\n      </g>\n     </g>\n     <g id=\"text_11\">\n      <!-- 0.50 -->\n      <g transform=\"translate(260.529688 363.076562)scale(0.1 -0.1)\">\n       <use xlink:href=\"#DejaVuSans-30\"/>\n       <use x=\"63.623047\" xlink:href=\"#DejaVuSans-2e\"/>\n       <use x=\"95.410156\" xlink:href=\"#DejaVuSans-35\"/>\n       <use x=\"159.033203\" xlink:href=\"#DejaVuSans-30\"/>\n      </g>\n     </g>\n    </g>\n    <g id=\"xtick_12\">\n     <g id=\"line2d_23\">\n      <path clip-path=\"url(#pd02edd6b2d)\" d=\"M 294.489773 348.478125 \nL 294.489773 22.318125 \n\" style=\"fill:none;stroke:#b0b0b0;stroke-linecap:square;stroke-width:0.5;\"/>\n     </g>\n     <g id=\"line2d_24\">\n      <g>\n       <use style=\"stroke:#000000;stroke-width:0.8;\" x=\"294.489773\" xlink:href=\"#m78f6202d19\" y=\"348.478125\"/>\n      </g>\n     </g>\n     <g id=\"text_12\">\n      <!-- 0.55 -->\n      <g transform=\"translate(283.35696 363.076562)scale(0.1 -0.1)\">\n       <use xlink:href=\"#DejaVuSans-30\"/>\n       <use x=\"63.623047\" xlink:href=\"#DejaVuSans-2e\"/>\n       <use x=\"95.410156\" xlink:href=\"#DejaVuSans-35\"/>\n       <use x=\"159.033203\" xlink:href=\"#DejaVuSans-35\"/>\n      </g>\n     </g>\n    </g>\n    <g id=\"xtick_13\">\n     <g id=\"line2d_25\">\n      <path clip-path=\"url(#pd02edd6b2d)\" d=\"M 317.317045 348.478125 \nL 317.317045 22.318125 \n\" style=\"fill:none;stroke:#b0b0b0;stroke-linecap:square;stroke-width:0.5;\"/>\n     </g>\n     <g id=\"line2d_26\">\n      <g>\n       <use style=\"stroke:#000000;stroke-width:0.8;\" x=\"317.317045\" xlink:href=\"#m78f6202d19\" y=\"348.478125\"/>\n      </g>\n     </g>\n     <g id=\"text_13\">\n      <!-- 0.60 -->\n      <g transform=\"translate(306.184233 363.076562)scale(0.1 -0.1)\">\n       <defs>\n        <path d=\"M 2113 2584 \nQ 1688 2584 1439 2293 \nQ 1191 2003 1191 1497 \nQ 1191 994 1439 701 \nQ 1688 409 2113 409 \nQ 2538 409 2786 701 \nQ 3034 994 3034 1497 \nQ 3034 2003 2786 2293 \nQ 2538 2584 2113 2584 \nz\nM 3366 4563 \nL 3366 3988 \nQ 3128 4100 2886 4159 \nQ 2644 4219 2406 4219 \nQ 1781 4219 1451 3797 \nQ 1122 3375 1075 2522 \nQ 1259 2794 1537 2939 \nQ 1816 3084 2150 3084 \nQ 2853 3084 3261 2657 \nQ 3669 2231 3669 1497 \nQ 3669 778 3244 343 \nQ 2819 -91 2113 -91 \nQ 1303 -91 875 529 \nQ 447 1150 447 2328 \nQ 447 3434 972 4092 \nQ 1497 4750 2381 4750 \nQ 2619 4750 2861 4703 \nQ 3103 4656 3366 4563 \nz\n\" id=\"DejaVuSans-36\" transform=\"scale(0.015625)\"/>\n       </defs>\n       <use xlink:href=\"#DejaVuSans-30\"/>\n       <use x=\"63.623047\" xlink:href=\"#DejaVuSans-2e\"/>\n       <use x=\"95.410156\" xlink:href=\"#DejaVuSans-36\"/>\n       <use x=\"159.033203\" xlink:href=\"#DejaVuSans-30\"/>\n      </g>\n     </g>\n    </g>\n    <g id=\"xtick_14\">\n     <g id=\"line2d_27\">\n      <path clip-path=\"url(#pd02edd6b2d)\" d=\"M 340.144318 348.478125 \nL 340.144318 22.318125 \n\" style=\"fill:none;stroke:#b0b0b0;stroke-linecap:square;stroke-width:0.5;\"/>\n     </g>\n     <g id=\"line2d_28\">\n      <g>\n       <use style=\"stroke:#000000;stroke-width:0.8;\" x=\"340.144318\" xlink:href=\"#m78f6202d19\" y=\"348.478125\"/>\n      </g>\n     </g>\n     <g id=\"text_14\">\n      <!-- 0.65 -->\n      <g transform=\"translate(329.011506 363.076562)scale(0.1 -0.1)\">\n       <use xlink:href=\"#DejaVuSans-30\"/>\n       <use x=\"63.623047\" xlink:href=\"#DejaVuSans-2e\"/>\n       <use x=\"95.410156\" xlink:href=\"#DejaVuSans-36\"/>\n       <use x=\"159.033203\" xlink:href=\"#DejaVuSans-35\"/>\n      </g>\n     </g>\n    </g>\n    <g id=\"xtick_15\">\n     <g id=\"line2d_29\">\n      <path clip-path=\"url(#pd02edd6b2d)\" d=\"M 362.971591 348.478125 \nL 362.971591 22.318125 \n\" style=\"fill:none;stroke:#b0b0b0;stroke-linecap:square;stroke-width:0.5;\"/>\n     </g>\n     <g id=\"line2d_30\">\n      <g>\n       <use style=\"stroke:#000000;stroke-width:0.8;\" x=\"362.971591\" xlink:href=\"#m78f6202d19\" y=\"348.478125\"/>\n      </g>\n     </g>\n     <g id=\"text_15\">\n      <!-- 0.70 -->\n      <g transform=\"translate(351.838778 363.076562)scale(0.1 -0.1)\">\n       <defs>\n        <path d=\"M 525 4666 \nL 3525 4666 \nL 3525 4397 \nL 1831 0 \nL 1172 0 \nL 2766 4134 \nL 525 4134 \nL 525 4666 \nz\n\" id=\"DejaVuSans-37\" transform=\"scale(0.015625)\"/>\n       </defs>\n       <use xlink:href=\"#DejaVuSans-30\"/>\n       <use x=\"63.623047\" xlink:href=\"#DejaVuSans-2e\"/>\n       <use x=\"95.410156\" xlink:href=\"#DejaVuSans-37\"/>\n       <use x=\"159.033203\" xlink:href=\"#DejaVuSans-30\"/>\n      </g>\n     </g>\n    </g>\n    <g id=\"xtick_16\">\n     <g id=\"line2d_31\">\n      <path clip-path=\"url(#pd02edd6b2d)\" d=\"M 385.798864 348.478125 \nL 385.798864 22.318125 \n\" style=\"fill:none;stroke:#b0b0b0;stroke-linecap:square;stroke-width:0.5;\"/>\n     </g>\n     <g id=\"line2d_32\">\n      <g>\n       <use style=\"stroke:#000000;stroke-width:0.8;\" x=\"385.798864\" xlink:href=\"#m78f6202d19\" y=\"348.478125\"/>\n      </g>\n     </g>\n     <g id=\"text_16\">\n      <!-- 0.75 -->\n      <g transform=\"translate(374.666051 363.076562)scale(0.1 -0.1)\">\n       <use xlink:href=\"#DejaVuSans-30\"/>\n       <use x=\"63.623047\" xlink:href=\"#DejaVuSans-2e\"/>\n       <use x=\"95.410156\" xlink:href=\"#DejaVuSans-37\"/>\n       <use x=\"159.033203\" xlink:href=\"#DejaVuSans-35\"/>\n      </g>\n     </g>\n    </g>\n    <g id=\"xtick_17\">\n     <g id=\"line2d_33\">\n      <path clip-path=\"url(#pd02edd6b2d)\" d=\"M 408.626136 348.478125 \nL 408.626136 22.318125 \n\" style=\"fill:none;stroke:#b0b0b0;stroke-linecap:square;stroke-width:0.5;\"/>\n     </g>\n     <g id=\"line2d_34\">\n      <g>\n       <use style=\"stroke:#000000;stroke-width:0.8;\" x=\"408.626136\" xlink:href=\"#m78f6202d19\" y=\"348.478125\"/>\n      </g>\n     </g>\n     <g id=\"text_17\">\n      <!-- 0.80 -->\n      <g transform=\"translate(397.493324 363.076562)scale(0.1 -0.1)\">\n       <defs>\n        <path d=\"M 2034 2216 \nQ 1584 2216 1326 1975 \nQ 1069 1734 1069 1313 \nQ 1069 891 1326 650 \nQ 1584 409 2034 409 \nQ 2484 409 2743 651 \nQ 3003 894 3003 1313 \nQ 3003 1734 2745 1975 \nQ 2488 2216 2034 2216 \nz\nM 1403 2484 \nQ 997 2584 770 2862 \nQ 544 3141 544 3541 \nQ 544 4100 942 4425 \nQ 1341 4750 2034 4750 \nQ 2731 4750 3128 4425 \nQ 3525 4100 3525 3541 \nQ 3525 3141 3298 2862 \nQ 3072 2584 2669 2484 \nQ 3125 2378 3379 2068 \nQ 3634 1759 3634 1313 \nQ 3634 634 3220 271 \nQ 2806 -91 2034 -91 \nQ 1263 -91 848 271 \nQ 434 634 434 1313 \nQ 434 1759 690 2068 \nQ 947 2378 1403 2484 \nz\nM 1172 3481 \nQ 1172 3119 1398 2916 \nQ 1625 2713 2034 2713 \nQ 2441 2713 2670 2916 \nQ 2900 3119 2900 3481 \nQ 2900 3844 2670 4047 \nQ 2441 4250 2034 4250 \nQ 1625 4250 1398 4047 \nQ 1172 3844 1172 3481 \nz\n\" id=\"DejaVuSans-38\" transform=\"scale(0.015625)\"/>\n       </defs>\n       <use xlink:href=\"#DejaVuSans-30\"/>\n       <use x=\"63.623047\" xlink:href=\"#DejaVuSans-2e\"/>\n       <use x=\"95.410156\" xlink:href=\"#DejaVuSans-38\"/>\n       <use x=\"159.033203\" xlink:href=\"#DejaVuSans-30\"/>\n      </g>\n     </g>\n    </g>\n    <g id=\"xtick_18\">\n     <g id=\"line2d_35\">\n      <path clip-path=\"url(#pd02edd6b2d)\" d=\"M 431.453409 348.478125 \nL 431.453409 22.318125 \n\" style=\"fill:none;stroke:#b0b0b0;stroke-linecap:square;stroke-width:0.5;\"/>\n     </g>\n     <g id=\"line2d_36\">\n      <g>\n       <use style=\"stroke:#000000;stroke-width:0.8;\" x=\"431.453409\" xlink:href=\"#m78f6202d19\" y=\"348.478125\"/>\n      </g>\n     </g>\n     <g id=\"text_18\">\n      <!-- 0.85 -->\n      <g transform=\"translate(420.320597 363.076562)scale(0.1 -0.1)\">\n       <use xlink:href=\"#DejaVuSans-30\"/>\n       <use x=\"63.623047\" xlink:href=\"#DejaVuSans-2e\"/>\n       <use x=\"95.410156\" xlink:href=\"#DejaVuSans-38\"/>\n       <use x=\"159.033203\" xlink:href=\"#DejaVuSans-35\"/>\n      </g>\n     </g>\n    </g>\n    <g id=\"xtick_19\">\n     <g id=\"line2d_37\">\n      <path clip-path=\"url(#pd02edd6b2d)\" d=\"M 454.280682 348.478125 \nL 454.280682 22.318125 \n\" style=\"fill:none;stroke:#b0b0b0;stroke-linecap:square;stroke-width:0.5;\"/>\n     </g>\n     <g id=\"line2d_38\">\n      <g>\n       <use style=\"stroke:#000000;stroke-width:0.8;\" x=\"454.280682\" xlink:href=\"#m78f6202d19\" y=\"348.478125\"/>\n      </g>\n     </g>\n     <g id=\"text_19\">\n      <!-- 0.90 -->\n      <g transform=\"translate(443.147869 363.076562)scale(0.1 -0.1)\">\n       <defs>\n        <path d=\"M 703 97 \nL 703 672 \nQ 941 559 1184 500 \nQ 1428 441 1663 441 \nQ 2288 441 2617 861 \nQ 2947 1281 2994 2138 \nQ 2813 1869 2534 1725 \nQ 2256 1581 1919 1581 \nQ 1219 1581 811 2004 \nQ 403 2428 403 3163 \nQ 403 3881 828 4315 \nQ 1253 4750 1959 4750 \nQ 2769 4750 3195 4129 \nQ 3622 3509 3622 2328 \nQ 3622 1225 3098 567 \nQ 2575 -91 1691 -91 \nQ 1453 -91 1209 -44 \nQ 966 3 703 97 \nz\nM 1959 2075 \nQ 2384 2075 2632 2365 \nQ 2881 2656 2881 3163 \nQ 2881 3666 2632 3958 \nQ 2384 4250 1959 4250 \nQ 1534 4250 1286 3958 \nQ 1038 3666 1038 3163 \nQ 1038 2656 1286 2365 \nQ 1534 2075 1959 2075 \nz\n\" id=\"DejaVuSans-39\" transform=\"scale(0.015625)\"/>\n       </defs>\n       <use xlink:href=\"#DejaVuSans-30\"/>\n       <use x=\"63.623047\" xlink:href=\"#DejaVuSans-2e\"/>\n       <use x=\"95.410156\" xlink:href=\"#DejaVuSans-39\"/>\n       <use x=\"159.033203\" xlink:href=\"#DejaVuSans-30\"/>\n      </g>\n     </g>\n    </g>\n    <g id=\"xtick_20\">\n     <g id=\"line2d_39\">\n      <path clip-path=\"url(#pd02edd6b2d)\" d=\"M 477.107955 348.478125 \nL 477.107955 22.318125 \n\" style=\"fill:none;stroke:#b0b0b0;stroke-linecap:square;stroke-width:0.5;\"/>\n     </g>\n     <g id=\"line2d_40\">\n      <g>\n       <use style=\"stroke:#000000;stroke-width:0.8;\" x=\"477.107955\" xlink:href=\"#m78f6202d19\" y=\"348.478125\"/>\n      </g>\n     </g>\n     <g id=\"text_20\">\n      <!-- 0.95 -->\n      <g transform=\"translate(465.975142 363.076562)scale(0.1 -0.1)\">\n       <use xlink:href=\"#DejaVuSans-30\"/>\n       <use x=\"63.623047\" xlink:href=\"#DejaVuSans-2e\"/>\n       <use x=\"95.410156\" xlink:href=\"#DejaVuSans-39\"/>\n       <use x=\"159.033203\" xlink:href=\"#DejaVuSans-35\"/>\n      </g>\n     </g>\n    </g>\n    <g id=\"text_21\">\n     <!-- P(a) -->\n     <g transform=\"translate(261.682031 376.754687)scale(0.1 -0.1)\">\n      <defs>\n       <path d=\"M 1259 4147 \nL 1259 2394 \nL 2053 2394 \nQ 2494 2394 2734 2622 \nQ 2975 2850 2975 3272 \nQ 2975 3691 2734 3919 \nQ 2494 4147 2053 4147 \nL 1259 4147 \nz\nM 628 4666 \nL 2053 4666 \nQ 2838 4666 3239 4311 \nQ 3641 3956 3641 3272 \nQ 3641 2581 3239 2228 \nQ 2838 1875 2053 1875 \nL 1259 1875 \nL 1259 0 \nL 628 0 \nL 628 4666 \nz\n\" id=\"DejaVuSans-50\" transform=\"scale(0.015625)\"/>\n       <path d=\"M 1984 4856 \nQ 1566 4138 1362 3434 \nQ 1159 2731 1159 2009 \nQ 1159 1288 1364 580 \nQ 1569 -128 1984 -844 \nL 1484 -844 \nQ 1016 -109 783 600 \nQ 550 1309 550 2009 \nQ 550 2706 781 3412 \nQ 1013 4119 1484 4856 \nL 1984 4856 \nz\n\" id=\"DejaVuSans-28\" transform=\"scale(0.015625)\"/>\n       <path d=\"M 2194 1759 \nQ 1497 1759 1228 1600 \nQ 959 1441 959 1056 \nQ 959 750 1161 570 \nQ 1363 391 1709 391 \nQ 2188 391 2477 730 \nQ 2766 1069 2766 1631 \nL 2766 1759 \nL 2194 1759 \nz\nM 3341 1997 \nL 3341 0 \nL 2766 0 \nL 2766 531 \nQ 2569 213 2275 61 \nQ 1981 -91 1556 -91 \nQ 1019 -91 701 211 \nQ 384 513 384 1019 \nQ 384 1609 779 1909 \nQ 1175 2209 1959 2209 \nL 2766 2209 \nL 2766 2266 \nQ 2766 2663 2505 2880 \nQ 2244 3097 1772 3097 \nQ 1472 3097 1187 3025 \nQ 903 2953 641 2809 \nL 641 3341 \nQ 956 3463 1253 3523 \nQ 1550 3584 1831 3584 \nQ 2591 3584 2966 3190 \nQ 3341 2797 3341 1997 \nz\n\" id=\"DejaVuSans-61\" transform=\"scale(0.015625)\"/>\n       <path d=\"M 513 4856 \nL 1013 4856 \nQ 1481 4119 1714 3412 \nQ 1947 2706 1947 2009 \nQ 1947 1309 1714 600 \nQ 1481 -109 1013 -844 \nL 513 -844 \nQ 928 -128 1133 580 \nQ 1338 1288 1338 2009 \nQ 1338 2731 1133 3434 \nQ 928 4138 513 4856 \nz\n\" id=\"DejaVuSans-29\" transform=\"scale(0.015625)\"/>\n      </defs>\n      <use xlink:href=\"#DejaVuSans-50\"/>\n      <use x=\"60.302734\" xlink:href=\"#DejaVuSans-28\"/>\n      <use x=\"99.316406\" xlink:href=\"#DejaVuSans-61\"/>\n      <use x=\"160.595703\" xlink:href=\"#DejaVuSans-29\"/>\n     </g>\n    </g>\n   </g>\n   <g id=\"matplotlib.axis_2\">\n    <g id=\"ytick_1\">\n     <g id=\"line2d_41\">\n      <path clip-path=\"url(#pd02edd6b2d)\" d=\"M 20.5625 333.65267 \nL 522.7625 333.65267 \n\" style=\"fill:none;stroke:#b0b0b0;stroke-linecap:square;stroke-width:0.5;\"/>\n     </g>\n     <g id=\"line2d_42\">\n      <defs>\n       <path d=\"M 0 0 \nL -3.5 0 \n\" id=\"mf1fea63782\" style=\"stroke:#000000;stroke-width:0.8;\"/>\n      </defs>\n      <g>\n       <use style=\"stroke:#000000;stroke-width:0.8;\" x=\"20.5625\" xlink:href=\"#mf1fea63782\" y=\"333.65267\"/>\n      </g>\n     </g>\n     <g id=\"text_22\">\n      <!-- 0 -->\n      <g transform=\"translate(7.2 337.451889)scale(0.1 -0.1)\">\n       <use xlink:href=\"#DejaVuSans-30\"/>\n      </g>\n     </g>\n    </g>\n    <g id=\"ytick_2\">\n     <g id=\"line2d_43\">\n      <path clip-path=\"url(#pd02edd6b2d)\" d=\"M 20.5625 268.981915 \nL 522.7625 268.981915 \n\" style=\"fill:none;stroke:#b0b0b0;stroke-linecap:square;stroke-width:0.5;\"/>\n     </g>\n     <g id=\"line2d_44\">\n      <g>\n       <use style=\"stroke:#000000;stroke-width:0.8;\" x=\"20.5625\" xlink:href=\"#mf1fea63782\" y=\"268.981915\"/>\n      </g>\n     </g>\n     <g id=\"text_23\">\n      <!-- 1 -->\n      <g transform=\"translate(7.2 272.781134)scale(0.1 -0.1)\">\n       <use xlink:href=\"#DejaVuSans-31\"/>\n      </g>\n     </g>\n    </g>\n    <g id=\"ytick_3\">\n     <g id=\"line2d_45\">\n      <path clip-path=\"url(#pd02edd6b2d)\" d=\"M 20.5625 204.31116 \nL 522.7625 204.31116 \n\" style=\"fill:none;stroke:#b0b0b0;stroke-linecap:square;stroke-width:0.5;\"/>\n     </g>\n     <g id=\"line2d_46\">\n      <g>\n       <use style=\"stroke:#000000;stroke-width:0.8;\" x=\"20.5625\" xlink:href=\"#mf1fea63782\" y=\"204.31116\"/>\n      </g>\n     </g>\n     <g id=\"text_24\">\n      <!-- 2 -->\n      <g transform=\"translate(7.2 208.110379)scale(0.1 -0.1)\">\n       <use xlink:href=\"#DejaVuSans-32\"/>\n      </g>\n     </g>\n    </g>\n    <g id=\"ytick_4\">\n     <g id=\"line2d_47\">\n      <path clip-path=\"url(#pd02edd6b2d)\" d=\"M 20.5625 139.640405 \nL 522.7625 139.640405 \n\" style=\"fill:none;stroke:#b0b0b0;stroke-linecap:square;stroke-width:0.5;\"/>\n     </g>\n     <g id=\"line2d_48\">\n      <g>\n       <use style=\"stroke:#000000;stroke-width:0.8;\" x=\"20.5625\" xlink:href=\"#mf1fea63782\" y=\"139.640405\"/>\n      </g>\n     </g>\n     <g id=\"text_25\">\n      <!-- 3 -->\n      <g transform=\"translate(7.2 143.439624)scale(0.1 -0.1)\">\n       <use xlink:href=\"#DejaVuSans-33\"/>\n      </g>\n     </g>\n    </g>\n    <g id=\"ytick_5\">\n     <g id=\"line2d_49\">\n      <path clip-path=\"url(#pd02edd6b2d)\" d=\"M 20.5625 74.96965 \nL 522.7625 74.96965 \n\" style=\"fill:none;stroke:#b0b0b0;stroke-linecap:square;stroke-width:0.5;\"/>\n     </g>\n     <g id=\"line2d_50\">\n      <g>\n       <use style=\"stroke:#000000;stroke-width:0.8;\" x=\"20.5625\" xlink:href=\"#mf1fea63782\" y=\"74.96965\"/>\n      </g>\n     </g>\n     <g id=\"text_26\">\n      <!-- 4 -->\n      <g transform=\"translate(7.2 78.768868)scale(0.1 -0.1)\">\n       <use xlink:href=\"#DejaVuSans-34\"/>\n      </g>\n     </g>\n    </g>\n   </g>\n   <g id=\"line2d_51\">\n    <path clip-path=\"url(#pd02edd6b2d)\" d=\"M 43.389773 333.65267 \nL 52.520682 324.505604 \nL 61.651591 317.983452 \nL 70.7825 312.47656 \nL 79.913409 307.643438 \nL 89.044318 303.322371 \nL 98.175227 299.418504 \nL 107.306136 295.869505 \nL 116.437045 292.631393 \nL 125.567955 289.671574 \nL 134.698864 286.965035 \nL 143.829773 284.492064 \nL 152.960682 282.236815 \nL 162.091591 280.186358 \nL 171.2225 278.33002 \nL 180.353409 276.658922 \nL 189.484318 275.165639 \nL 198.615227 273.843946 \nL 207.746136 272.688637 \nL 216.877045 271.695369 \nL 226.007955 270.860562 \nL 235.138864 270.181306 \nL 244.269773 269.655298 \nL 253.400682 269.280795 \nL 262.531591 269.056575 \nL 271.6625 268.981915 \nL 280.793409 269.056575 \nL 289.924318 269.280795 \nL 299.055227 269.655298 \nL 308.186136 270.181306 \nL 317.317045 270.860562 \nL 326.447955 271.695369 \nL 335.578864 272.688637 \nL 344.709773 273.843946 \nL 353.840682 275.165639 \nL 362.971591 276.658922 \nL 372.1025 278.33002 \nL 381.233409 280.186358 \nL 390.364318 282.236815 \nL 399.495227 284.492064 \nL 408.626136 286.965035 \nL 417.757045 289.671574 \nL 426.887955 292.631393 \nL 436.018864 295.869505 \nL 445.149773 299.418504 \nL 454.280682 303.322371 \nL 463.411591 307.643438 \nL 472.5425 312.47656 \nL 481.673409 317.983452 \nL 490.804318 324.505604 \nL 499.935227 333.65267 \n\" style=\"fill:none;stroke:#1f77b4;stroke-linecap:square;stroke-width:1.5;\"/>\n   </g>\n   <g id=\"line2d_52\">\n    <path clip-path=\"url(#pd02edd6b2d)\" d=\"M 43.389773 231.151958 \nL 52.520682 224.054885 \nL 61.651591 219.582759 \nL 70.7825 216.125897 \nL 79.913409 213.342757 \nL 89.044318 211.071722 \nL 98.175227 209.217889 \nL 107.306136 207.718861 \nL 116.437045 206.530786 \nL 125.567955 205.62101 \nL 134.698864 204.964428 \nL 143.829773 204.541501 \nL 152.960682 204.336301 \nL 162.091591 204.335787 \nL 171.2225 204.529501 \nL 180.353409 204.90846 \nL 189.484318 205.465103 \nL 198.615227 206.19347 \nL 207.746136 207.088226 \nL 216.877045 208.144868 \nL 226.007955 209.360129 \nL 235.138864 210.730947 \nL 244.269773 212.254831 \nL 253.400682 213.930405 \nL 262.531591 215.75627 \nL 271.6625 217.73148 \nL 280.793409 219.856229 \nL 289.924318 222.130545 \nL 299.055227 224.554895 \nL 308.186136 227.131003 \nL 317.317045 229.860368 \nL 326.447955 232.744996 \nL 335.578864 235.788377 \nL 344.709773 238.993811 \nL 353.840682 242.365292 \nL 362.971591 245.908706 \nL 372.1025 249.629946 \nL 381.233409 253.536036 \nL 390.364318 257.636642 \nL 399.495227 261.942056 \nL 408.626136 266.464732 \nL 417.757045 271.221444 \nL 426.887955 276.231457 \nL 436.018864 281.519212 \nL 445.149773 287.118417 \nL 454.280682 293.072523 \nL 463.411591 299.443136 \nL 472.5425 306.326517 \nL 481.673409 313.883732 \nL 490.804318 322.455215 \nL 499.935227 333.65267 \n\" style=\"fill:none;stroke:#ff7f0e;stroke-linecap:square;stroke-width:1.5;\"/>\n   </g>\n   <g id=\"line2d_53\">\n    <path clip-path=\"url(#pd02edd6b2d)\" d=\"M 43.389773 183.491827 \nL 52.520682 177.347977 \nL 61.651591 173.829042 \nL 70.7825 171.325367 \nL 79.913409 169.495463 \nL 89.044318 168.177612 \nL 98.175227 167.276961 \nL 107.306136 166.73118 \nL 116.437045 166.496284 \nL 125.567955 166.539683 \nL 134.698864 166.836361 \nL 143.829773 167.366606 \nL 152.960682 168.114574 \nL 162.091591 169.067334 \nL 171.2225 170.214213 \nL 180.353409 171.546332 \nL 189.484318 173.056265 \nL 198.615227 174.73779 \nL 207.746136 176.585697 \nL 216.877045 178.595646 \nL 226.007955 180.764056 \nL 235.138864 183.088017 \nL 244.269773 185.565226 \nL 253.400682 188.19394 \nL 262.531591 190.972937 \nL 271.6625 193.901494 \nL 280.793409 196.97937 \nL 289.924318 200.206807 \nL 299.055227 203.584527 \nL 308.186136 207.113752 \nL 317.317045 210.796225 \nL 326.447955 214.634249 \nL 335.578864 218.630733 \nL 344.709773 222.78926 \nL 353.840682 227.114169 \nL 362.971591 231.610669 \nL 372.1025 236.284984 \nL 381.233409 241.144539 \nL 390.364318 246.198213 \nL 399.495227 251.456678 \nL 408.626136 256.932867 \nL 417.757045 262.642622 \nL 426.887955 268.605658 \nL 436.018864 274.846987 \nL 445.149773 281.399202 \nL 454.280682 288.306287 \nL 463.411591 295.630571 \nL 472.5425 303.46691 \nL 481.673409 311.977018 \nL 490.804318 321.502387 \nL 499.935227 333.65267 \n\" style=\"fill:none;stroke:#2ca02c;stroke-linecap:square;stroke-width:1.5;\"/>\n   </g>\n   <g id=\"line2d_54\">\n    <path clip-path=\"url(#pd02edd6b2d)\" d=\"M 43.389773 152.098996 \nL 52.520682 146.582916 \nL 61.651591 143.691747 \nL 70.7825 141.815835 \nL 79.913409 140.613688 \nL 89.044318 139.924279 \nL 98.175227 139.651392 \nL 107.306136 139.733371 \nL 116.437045 140.126232 \nL 125.567955 140.797382 \nL 134.698864 141.721807 \nL 143.829773 142.879795 \nL 152.960682 144.256297 \nL 162.091591 145.836806 \nL 171.2225 147.61143 \nL 180.353409 149.571288 \nL 189.484318 151.708956 \nL 198.615227 154.018209 \nL 207.746136 156.493839 \nL 216.877045 159.132435 \nL 226.007955 161.928576 \nL 235.138864 164.880262 \nL 244.269773 167.985191 \nL 253.400682 171.241617 \nL 262.531591 174.64832 \nL 271.6625 178.204575 \nL 280.793409 181.911239 \nL 289.924318 185.766386 \nL 299.055227 189.771807 \nL 308.186136 193.928725 \nL 317.317045 198.238883 \nL 326.447955 202.704582 \nL 335.578864 207.328731 \nL 344.709773 212.116234 \nL 353.840682 217.068824 \nL 362.971591 222.192994 \nL 372.1025 227.494967 \nL 381.233409 232.982166 \nL 390.364318 238.663469 \nL 399.495227 244.549548 \nL 408.626136 250.654998 \nL 417.757045 256.992393 \nL 426.887955 263.58305 \nL 436.018864 270.451978 \nL 445.149773 277.631766 \nL 454.280682 285.166389 \nL 463.411591 293.118166 \nL 472.5425 301.584387 \nL 481.673409 310.722078 \nL 490.804318 320.874982 \nL 499.935227 333.65267 \n\" style=\"fill:none;stroke:#d62728;stroke-linecap:square;stroke-width:1.5;\"/>\n   </g>\n   <g id=\"line2d_55\">\n    <path clip-path=\"url(#pd02edd6b2d)\" d=\"M 43.389773 128.651338 \nL 52.520682 123.604075 \nL 61.651591 121.181719 \nL 70.7825 119.775673 \nL 79.913409 119.042349 \nL 89.044318 118.821072 \nL 98.175227 119.016986 \nL 107.306136 119.567761 \nL 116.437045 120.430564 \nL 125.567955 121.570521 \nL 134.698864 122.963748 \nL 143.829773 124.590533 \nL 152.960682 126.436267 \nL 162.091591 128.485569 \nL 171.2225 130.728981 \nL 180.353409 133.157622 \nL 189.484318 135.764066 \nL 198.615227 138.543445 \nL 207.746136 141.487866 \nL 216.877045 144.594318 \nL 226.007955 147.859218 \nL 235.138864 151.281119 \nL 244.269773 154.854821 \nL 253.400682 158.580015 \nL 262.531591 162.455479 \nL 271.6625 166.480488 \nL 280.793409 170.656423 \nL 289.924318 174.980315 \nL 299.055227 179.454475 \nL 308.186136 184.080122 \nL 317.317045 188.860773 \nL 326.447955 193.795225 \nL 335.578864 198.888117 \nL 344.709773 204.143031 \nL 353.840682 209.564305 \nL 362.971591 215.159161 \nL 372.1025 220.929847 \nL 381.233409 226.885745 \nL 390.364318 233.035734 \nL 399.495227 239.392758 \nL 408.626136 245.96527 \nL 417.757045 252.771314 \nL 426.887955 259.830596 \nL 436.018864 267.168123 \nL 445.149773 274.819259 \nL 454.280682 282.822553 \nL 463.411591 291.242976 \nL 472.5425 300.175351 \nL 481.673409 309.785042 \nL 490.804318 320.406528 \nL 499.935227 333.65267 \n\" style=\"fill:none;stroke:#9467bd;stroke-linecap:square;stroke-width:1.5;\"/>\n   </g>\n   <g id=\"line2d_56\">\n    <path clip-path=\"url(#pd02edd6b2d)\" d=\"M 43.389773 109.928746 \nL 52.520682 105.255897 \nL 61.651591 103.207956 \nL 70.7825 102.175267 \nL 79.913409 101.81786 \nL 89.044318 101.971002 \nL 98.175227 102.541335 \nL 107.306136 103.466529 \nL 116.437045 104.702599 \nL 125.567955 106.218594 \nL 134.698864 107.986245 \nL 143.829773 109.987454 \nL 152.960682 112.206377 \nL 162.091591 114.630082 \nL 171.2225 117.247895 \nL 180.353409 120.052738 \nL 189.484318 123.033614 \nL 198.615227 126.18607 \nL 207.746136 129.504897 \nL 216.877045 132.985755 \nL 226.007955 136.627019 \nL 235.138864 140.421897 \nL 244.269773 144.370012 \nL 253.400682 148.469617 \nL 262.531591 152.719492 \nL 271.6625 157.118912 \nL 280.793409 161.669824 \nL 289.924318 166.368135 \nL 299.055227 171.216714 \nL 308.186136 176.21678 \nL 317.317045 181.370076 \nL 326.447955 186.681332 \nL 335.578864 192.148654 \nL 344.709773 197.777999 \nL 353.840682 203.573704 \nL 362.971591 209.540978 \nL 372.1025 215.686039 \nL 381.233409 222.019128 \nL 390.364318 228.543569 \nL 399.495227 235.272772 \nL 408.626136 242.219663 \nL 417.757045 249.400083 \nL 426.887955 256.837051 \nL 436.018864 264.549079 \nL 445.149773 272.571945 \nL 454.280682 280.94962 \nL 463.411591 289.744416 \nL 472.5425 299.051152 \nL 481.673409 309.036212 \nL 490.804318 320.032113 \nL 499.935227 333.65267 \n\" style=\"fill:none;stroke:#8c564b;stroke-linecap:square;stroke-width:1.5;\"/>\n   </g>\n   <g id=\"line2d_57\">\n    <path clip-path=\"url(#pd02edd6b2d)\" d=\"M 43.389773 94.342585 \nL 52.520682 89.980838 \nL 61.651591 88.245929 \nL 70.7825 87.524336 \nL 79.913409 87.478487 \nL 89.044318 87.942696 \nL 98.175227 88.826132 \nL 107.306136 90.062386 \nL 116.437045 91.61161 \nL 125.567955 93.43702 \nL 134.698864 95.517851 \nL 143.829773 97.830084 \nL 152.960682 100.36001 \nL 162.091591 103.096961 \nL 171.2225 106.025771 \nL 180.353409 109.142119 \nL 189.484318 112.433953 \nL 198.615227 115.899748 \nL 207.746136 119.529526 \nL 216.877045 123.323788 \nL 226.007955 127.274036 \nL 235.138864 131.382356 \nL 244.269773 135.641369 \nL 253.400682 140.054491 \nL 262.531591 144.615255 \nL 271.6625 149.325536 \nL 280.793409 154.187879 \nL 289.924318 159.196996 \nL 299.055227 164.359242 \nL 308.186136 169.670101 \nL 317.317045 175.137164 \nL 326.447955 180.756773 \nL 335.578864 186.537919 \nL 344.709773 192.477974 \nL 353.840682 198.587626 \nL 362.971591 204.865595 \nL 372.1025 211.324744 \nL 381.233409 217.965698 \nL 390.364318 224.800685 \nL 399.495227 231.8441 \nL 408.626136 239.101508 \nL 417.757045 246.596345 \nL 426.887955 254.340488 \nL 436.018864 262.367061 \nL 445.149773 270.700244 \nL 454.280682 279.392791 \nL 463.411591 288.497857 \nL 472.5425 298.119989 \nL 481.673409 308.410596 \nL 490.804318 319.722465 \nL 499.935227 333.65267 \n\" style=\"fill:none;stroke:#e377c2;stroke-linecap:square;stroke-width:1.5;\"/>\n   </g>\n   <g id=\"line2d_58\">\n    <path clip-path=\"url(#pd02edd6b2d)\" d=\"M 43.389773 80.990308 \nL 52.520682 76.898076 \nL 61.651591 75.428349 \nL 70.7825 74.973863 \nL 79.913409 75.195634 \nL 89.044318 75.926962 \nL 98.175227 77.07547 \nL 107.306136 78.581426 \nL 116.437045 80.395678 \nL 125.567955 82.488201 \nL 134.698864 84.836684 \nL 143.829773 87.416043 \nL 152.960682 90.213101 \nL 162.091591 93.217737 \nL 171.2225 96.413693 \nL 180.353409 99.794864 \nL 189.484318 103.356751 \nL 198.615227 107.087313 \nL 207.746136 110.98423 \nL 216.877045 115.046219 \nL 226.007955 119.263623 \nL 235.138864 123.636547 \nL 244.269773 128.165889 \nL 253.400682 132.84355 \nL 262.531591 137.671459 \nL 271.6625 142.652253 \nL 280.793409 147.779024 \nL 289.924318 153.055316 \nL 299.055227 158.485389 \nL 308.186136 164.063448 \nL 317.317045 169.794712 \nL 326.447955 175.685223 \nL 335.578864 181.730473 \nL 344.709773 187.937714 \nL 353.840682 194.315266 \nL 362.971591 200.860453 \nL 372.1025 207.583392 \nL 381.233409 214.495776 \nL 390.364318 221.598039 \nL 399.495227 228.905016 \nL 408.626136 236.43427 \nL 417.757045 244.192493 \nL 426.887955 252.20389 \nL 436.018864 260.4986 \nL 445.149773 269.099116 \nL 454.280682 278.054344 \nL 463.411591 287.432488 \nL 472.5425 297.316866 \nL 481.673409 307.874691 \nL 490.804318 319.454994 \nL 499.935227 333.65267 \n\" style=\"fill:none;stroke:#7f7f7f;stroke-linecap:square;stroke-width:1.5;\"/>\n   </g>\n   <g id=\"line2d_59\">\n    <path clip-path=\"url(#pd02edd6b2d)\" d=\"M 43.389773 69.311993 \nL 52.520682 65.453254 \nL 61.651591 64.216491 \nL 70.7825 63.997964 \nL 79.913409 64.450201 \nL 89.044318 65.417536 \nL 98.175227 66.798997 \nL 107.306136 68.53844 \nL 116.437045 70.585624 \nL 125.567955 72.914289 \nL 134.698864 75.493013 \nL 143.829773 78.308568 \nL 152.960682 81.338547 \nL 162.091591 84.576664 \nL 171.2225 88.005516 \nL 180.353409 91.623041 \nL 189.484318 95.414909 \nL 198.615227 99.378324 \nL 207.746136 103.511692 \nL 216.877045 107.803488 \nL 226.007955 112.257414 \nL 235.138864 116.863176 \nL 244.269773 121.625961 \nL 253.400682 126.536426 \nL 262.531591 131.601063 \nL 271.6625 136.811318 \nL 280.793409 142.174905 \nL 289.924318 147.683983 \nL 299.055227 153.347488 \nL 308.186136 159.158292 \nL 317.317045 165.126634 \nL 326.447955 171.246171 \nL 335.578864 177.528616 \nL 344.709773 183.968581 \nL 353.840682 190.574841 \nL 362.971591 197.357413 \nL 372.1025 204.312985 \nL 381.233409 211.458731 \nL 390.364318 218.793556 \nL 399.495227 226.338353 \nL 408.626136 234.095568 \nL 417.757045 242.091823 \nL 426.887955 250.335735 \nL 436.018864 258.863774 \nL 445.149773 267.69668 \nL 454.280682 276.890756 \nL 463.411591 286.49548 \nL 472.5425 296.619236 \nL 481.673409 307.409408 \nL 490.804318 319.223106 \nL 499.935227 333.65267 \n\" style=\"fill:none;stroke:#bcbd22;stroke-linecap:square;stroke-width:1.5;\"/>\n   </g>\n   <g id=\"line2d_60\">\n    <path clip-path=\"url(#pd02edd6b2d)\" d=\"M 43.389773 58.934539 \nL 52.520682 55.283074 \nL 61.651591 54.25655 \nL 70.7825 54.241758 \nL 79.913409 54.904282 \nL 89.044318 56.078889 \nL 98.175227 57.667051 \nL 107.306136 59.613747 \nL 116.437045 61.867602 \nL 125.567955 64.403497 \nL 134.698864 67.192702 \nL 143.829773 70.211621 \nL 152.960682 73.452138 \nL 162.091591 76.897481 \nL 171.2225 80.53295 \nL 180.353409 84.357676 \nL 189.484318 88.360253 \nL 198.615227 92.530277 \nL 207.746136 96.870853 \nL 216.877045 101.369219 \nL 226.007955 106.030325 \nL 235.138864 110.847025 \nL 244.269773 115.812544 \nL 253.400682 120.934027 \nL 262.531591 126.205841 \nL 271.6625 131.622591 \nL 280.793409 137.193318 \nL 289.924318 142.908837 \nL 299.055227 148.779443 \nL 308.186136 154.801612 \nL 317.317045 160.972022 \nL 326.447955 167.303031 \nL 335.578864 173.792569 \nL 344.709773 180.438865 \nL 353.840682 187.256876 \nL 362.971591 194.246562 \nL 372.1025 201.408449 \nL 381.233409 208.76125 \nL 390.364318 216.302295 \nL 399.495227 224.054072 \nL 408.626136 232.023689 \nL 417.757045 240.220523 \nL 426.887955 248.677076 \nL 436.018864 257.412089 \nL 445.149773 266.450985 \nL 454.280682 275.851892 \nL 463.411591 285.662351 \nL 472.5425 295.992672 \nL 481.673409 306.997193 \nL 490.804318 319.007445 \nL 499.935227 333.65267 \n\" style=\"fill:none;stroke:#17becf;stroke-linecap:square;stroke-width:1.5;\"/>\n   </g>\n   <g id=\"line2d_61\">\n    <path clip-path=\"url(#pd02edd6b2d)\" d=\"M 43.389773 49.598376 \nL 52.520682 46.13086 \nL 61.651591 45.292314 \nL 70.7825 45.464951 \nL 79.913409 46.311327 \nL 89.044318 47.673937 \nL 98.175227 49.449543 \nL 107.306136 51.584287 \nL 116.437045 54.025625 \nL 125.567955 56.745223 \nL 134.698864 59.722505 \nL 143.829773 62.928924 \nL 152.960682 66.35757 \nL 162.091591 69.986477 \nL 171.2225 73.809463 \nL 180.353409 77.822351 \nL 189.484318 82.008362 \nL 198.615227 86.365921 \nL 207.746136 90.894696 \nL 216.877045 95.580647 \nL 226.007955 100.430017 \nL 235.138864 105.429946 \nL 244.269773 110.583073 \nL 253.400682 115.892863 \nL 262.531591 121.34774 \nL 271.6625 126.952119 \nL 280.793409 132.7112 \nL 289.924318 138.614416 \nL 299.055227 144.673464 \nL 308.186136 150.878422 \nL 317.317045 157.236558 \nL 326.447955 163.75607 \nL 335.578864 170.428164 \nL 344.709773 177.268336 \nL 353.840682 184.268798 \nL 362.971591 191.440758 \nL 372.1025 198.796931 \nL 381.233409 206.331876 \nL 390.364318 214.060824 \nL 399.495227 222.001405 \nL 408.626136 230.152775 \nL 417.757045 238.544924 \nL 426.887955 247.183037 \nL 436.018864 256.099258 \nL 445.149773 265.334297 \nL 454.280682 274.916112 \nL 463.411591 284.914816 \nL 472.5425 295.434651 \nL 481.673409 306.618817 \nL 490.804318 318.82896 \nL 499.935227 333.65267 \n\" style=\"fill:none;stroke:#1f77b4;stroke-linecap:square;stroke-width:1.5;\"/>\n   </g>\n   <g id=\"line2d_62\">\n    <path clip-path=\"url(#pd02edd6b2d)\" d=\"M 43.389773 41.111698 \nL 52.520682 37.812871 \nL 61.651591 37.14358 \nL 70.7825 37.484872 \nL 79.913409 38.504644 \nL 89.044318 40.036511 \nL 98.175227 41.980762 \nL 107.306136 44.284734 \nL 116.437045 46.894678 \nL 125.567955 49.787868 \nL 134.698864 52.92932 \nL 143.829773 56.309395 \nL 152.960682 59.907241 \nL 162.091591 63.704699 \nL 171.2225 67.701499 \nL 180.353409 71.878242 \nL 189.484318 76.238141 \nL 198.615227 80.764211 \nL 207.746136 85.462131 \nL 216.877045 90.316543 \nL 226.007955 95.335015 \nL 235.138864 100.509099 \nL 244.269773 105.830671 \nL 253.400682 111.309565 \nL 262.531591 116.932826 \nL 271.6625 122.711623 \nL 280.793409 128.633657 \nL 289.924318 134.711398 \nL 299.055227 140.939503 \nL 308.186136 147.312755 \nL 317.317045 153.845688 \nL 326.447955 160.527608 \nL 335.578864 167.374634 \nL 344.709773 174.37691 \nL 353.840682 181.55245 \nL 362.971591 188.899699 \nL 372.1025 196.417577 \nL 381.233409 204.127994 \nL 390.364318 212.025033 \nL 399.495227 220.13449 \nL 408.626136 228.453807 \nL 417.757045 237.014703 \nL 426.887955 245.820573 \nL 436.018864 254.913219 \nL 445.149773 264.317017 \nL 454.280682 274.066498 \nL 463.411591 284.242674 \nL 472.5425 294.920798 \nL 481.673409 306.283264 \nL 490.804318 318.649118 \nL 499.935227 333.65267 \n\" style=\"fill:none;stroke:#ff7f0e;stroke-linecap:square;stroke-width:1.5;\"/>\n   </g>\n   <g id=\"patch_3\">\n    <path d=\"M 20.5625 348.478125 \nL 20.5625 22.318125 \n\" style=\"fill:none;stroke:#000000;stroke-linecap:square;stroke-linejoin:miter;stroke-width:0.8;\"/>\n   </g>\n   <g id=\"patch_4\">\n    <path d=\"M 522.7625 348.478125 \nL 522.7625 22.318125 \n\" style=\"fill:none;stroke:#000000;stroke-linecap:square;stroke-linejoin:miter;stroke-width:0.8;\"/>\n   </g>\n   <g id=\"patch_5\">\n    <path d=\"M 20.5625 348.478125 \nL 522.7625 348.478125 \n\" style=\"fill:none;stroke:#000000;stroke-linecap:square;stroke-linejoin:miter;stroke-width:0.8;\"/>\n   </g>\n   <g id=\"patch_6\">\n    <path d=\"M 20.5625 22.318125 \nL 522.7625 22.318125 \n\" style=\"fill:none;stroke:#000000;stroke-linecap:square;stroke-linejoin:miter;stroke-width:0.8;\"/>\n   </g>\n   <g id=\"text_27\">\n    <!-- H(P) vs P(a) -->\n    <g transform=\"translate(236.383438 16.318125)scale(0.12 -0.12)\">\n     <defs>\n      <path d=\"M 628 4666 \nL 1259 4666 \nL 1259 2753 \nL 3553 2753 \nL 3553 4666 \nL 4184 4666 \nL 4184 0 \nL 3553 0 \nL 3553 2222 \nL 1259 2222 \nL 1259 0 \nL 628 0 \nL 628 4666 \nz\n\" id=\"DejaVuSans-48\" transform=\"scale(0.015625)\"/>\n      <path id=\"DejaVuSans-20\" transform=\"scale(0.015625)\"/>\n      <path d=\"M 191 3500 \nL 800 3500 \nL 1894 563 \nL 2988 3500 \nL 3597 3500 \nL 2284 0 \nL 1503 0 \nL 191 3500 \nz\n\" id=\"DejaVuSans-76\" transform=\"scale(0.015625)\"/>\n      <path d=\"M 2834 3397 \nL 2834 2853 \nQ 2591 2978 2328 3040 \nQ 2066 3103 1784 3103 \nQ 1356 3103 1142 2972 \nQ 928 2841 928 2578 \nQ 928 2378 1081 2264 \nQ 1234 2150 1697 2047 \nL 1894 2003 \nQ 2506 1872 2764 1633 \nQ 3022 1394 3022 966 \nQ 3022 478 2636 193 \nQ 2250 -91 1575 -91 \nQ 1294 -91 989 -36 \nQ 684 19 347 128 \nL 347 722 \nQ 666 556 975 473 \nQ 1284 391 1588 391 \nQ 1994 391 2212 530 \nQ 2431 669 2431 922 \nQ 2431 1156 2273 1281 \nQ 2116 1406 1581 1522 \nL 1381 1569 \nQ 847 1681 609 1914 \nQ 372 2147 372 2553 \nQ 372 3047 722 3315 \nQ 1072 3584 1716 3584 \nQ 2034 3584 2315 3537 \nQ 2597 3491 2834 3397 \nz\n\" id=\"DejaVuSans-73\" transform=\"scale(0.015625)\"/>\n     </defs>\n     <use xlink:href=\"#DejaVuSans-48\"/>\n     <use x=\"75.195312\" xlink:href=\"#DejaVuSans-28\"/>\n     <use x=\"114.208984\" xlink:href=\"#DejaVuSans-50\"/>\n     <use x=\"174.511719\" xlink:href=\"#DejaVuSans-29\"/>\n     <use x=\"213.525391\" xlink:href=\"#DejaVuSans-20\"/>\n     <use x=\"245.3125\" xlink:href=\"#DejaVuSans-76\"/>\n     <use x=\"304.492188\" xlink:href=\"#DejaVuSans-73\"/>\n     <use x=\"356.591797\" xlink:href=\"#DejaVuSans-20\"/>\n     <use x=\"388.378906\" xlink:href=\"#DejaVuSans-50\"/>\n     <use x=\"448.681641\" xlink:href=\"#DejaVuSans-28\"/>\n     <use x=\"487.695312\" xlink:href=\"#DejaVuSans-61\"/>\n     <use x=\"548.974609\" xlink:href=\"#DejaVuSans-29\"/>\n    </g>\n   </g>\n   <g id=\"legend_1\">\n    <g id=\"patch_7\">\n     <path d=\"M 511.7625 35.318125 \nL 515.7625 35.318125 \nQ 517.7625 35.318125 517.7625 33.318125 \nL 517.7625 29.318125 \nQ 517.7625 27.318125 515.7625 27.318125 \nL 511.7625 27.318125 \nQ 509.7625 27.318125 509.7625 29.318125 \nL 509.7625 33.318125 \nQ 509.7625 35.318125 511.7625 35.318125 \nz\n\" style=\"fill:#ffffff;opacity:0.8;stroke:#cccccc;stroke-linejoin:miter;\"/>\n    </g>\n   </g>\n  </g>\n </g>\n <defs>\n  <clipPath id=\"pd02edd6b2d\">\n   <rect height=\"326.16\" width=\"502.2\" x=\"20.5625\" y=\"22.318125\"/>\n  </clipPath>\n </defs>\n</svg>\n",
      "image/png": "[encoded data removed]"
     },
     "metadata": {
      "needs_background": "light"
     }
    }
   ],
   "source": [
    "fig, axs = plt.subplots(1, 1, figsize=(9, 6))  \n",
    "axs.grid(linestyle='-', linewidth=0.5)\n",
    "for c in range(2,26,2):\n",
    "    axs.plot(Pas, [ entropy(probabilityVector(pa, c)) for pa in Pas])\n",
    "axs.set_title('H(P) vs P(a)')\n",
    "axs.set_xticks(np.arange(0, 1, 0.05))\n",
    "axs.set_xlabel('P(a)')\n",
    "plt.legend()\n",
    "plt.show()\n"
   ]
  },
  {
   "source": [
    "# Week1 Challenge - Probability distribution of letter in a text\n",
    "Take a look at the probability distribution of each letter of the alphabet (plus a space) gleaned from a sample text as displayed in Figure 2.1 (section 2.1) of Mackay"
   ],
   "cell_type": "markdown",
   "metadata": {}
  },
  {
   "cell_type": "code",
   "execution_count": 4,
   "metadata": {},
   "outputs": [],
   "source": [
    "alphabet = ['a',\n",
    "'b',\n",
    "'c',\n",
    "'d',\n",
    "'e',\n",
    "'f',\n",
    "'g',\n",
    "'h',\n",
    "'i',\n",
    "'j',\n",
    "'k',\n",
    "'l',\n",
    "'m',\n",
    "'n',\n",
    "'o',\n",
    "'p',\n",
    "'q',\n",
    "'r',\n",
    "'s',\n",
    "'t',\n",
    "'u',\n",
    "'v',\n",
    "'w',\n",
    "'x',\n",
    "'y',\n",
    "'z',\n",
    "'_']\n",
    "pSymbol = [0.0575,\n",
    "0.0128,\n",
    "0.0263,\n",
    "0.0285,\n",
    "0.0913,\n",
    "0.0173,\n",
    "0.0133,\n",
    "0.0313,\n",
    "0.0599,\n",
    "0.0006,\n",
    "0.0084,\n",
    "0.0335,\n",
    "0.0235,\n",
    "0.0596,\n",
    "0.0689,\n",
    "0.0192,\n",
    "0.0008,\n",
    "0.0508,\n",
    "0.0567,\n",
    "0.0706,\n",
    "0.0334,\n",
    "0.0069,\n",
    "0.0119,\n",
    "0.0073,\n",
    "0.0164,\n",
    "0.0007,\n",
    "0.192]"
   ]
  },
  {
   "cell_type": "code",
   "execution_count": 51,
   "metadata": {},
   "outputs": [
    {
     "output_type": "stream",
     "name": "stdout",
     "text": [
      "[0.0575, 0.0128, 0.0263, 0.0285, 0.0913, 0.0173, 0.0133, 0.0313, 0.0599, 0.0006, 0.0084, 0.0335, 0.0235, 0.0596, 0.0689, 0.0192, 0.0008, 0.0508, 0.0567, 0.0706, 0.0334, 0.0069, 0.0119, 0.0073, 0.0164, 0.0007, 0.192]\n"
     ]
    }
   ],
   "source": [
    "print(pSymbol)"
   ]
  },
  {
   "source": [
    "## Calculate and display the Shannon information content for each letter (and space)."
   ],
   "cell_type": "markdown",
   "metadata": {}
  },
  {
   "cell_type": "code",
   "execution_count": 13,
   "metadata": {},
   "outputs": [],
   "source": [
    "from week1  import infocontent, entropy\n",
    "import numpy as np"
   ]
  },
  {
   "cell_type": "code",
   "execution_count": 9,
   "metadata": {},
   "outputs": [],
   "source": [
    "infocontentAlphabet = [infocontent(p) for p in pSymbol]"
   ]
  },
  {
   "cell_type": "code",
   "execution_count": 10,
   "metadata": {},
   "outputs": [
    {
     "output_type": "stream",
     "name": "stdout",
     "text": [
      "[4.120294233717712, 6.28771237954945, 5.248793390257147, 5.132894270497346, 3.4532413295652273, 5.853084151912725, 6.23242994404826, 4.997693532616831, 4.061300186760664, 10.702749878828293, 6.895394956770689, 4.899695094204315, 5.411195432984449, 4.0685438590872876, 3.859352206845158, 5.7027498788282935, 10.287712379549449, 4.299027692777283, 4.140507454607221, 3.8241880062782694, 4.904008087075397, 7.1791879227712805, 6.392894616241506, 7.097887820669432, 5.930160374931366, 10.480357457491845, 2.380821783940931]\n"
     ]
    }
   ],
   "source": [
    "print(infocontentAlphabet)"
   ]
  },
  {
   "source": [
    "## What is the entropy of the letters (and spaces) - can you validate this is the weighted average of the Shannon information contents you computed?"
   ],
   "cell_type": "markdown",
   "metadata": {}
  },
  {
   "cell_type": "code",
   "execution_count": 11,
   "metadata": {},
   "outputs": [],
   "source": [
    "entropyRecalc = np.sum(np.array([ a*b for (a,b) in zip(infocontentAlphabet,pSymbol) ]))"
   ]
  },
  {
   "cell_type": "code",
   "execution_count": 14,
   "metadata": {},
   "outputs": [],
   "source": [
    "entropyWithFunction = entropy(pSymbol)"
   ]
  },
  {
   "cell_type": "code",
   "execution_count": 57,
   "metadata": {},
   "outputs": [
    {
     "output_type": "stream",
     "name": "stdout",
     "text": [
      "4.108698089924512\n"
     ]
    }
   ],
   "source": [
    "print(entropyRecalc)"
   ]
  },
  {
   "cell_type": "code",
   "execution_count": 58,
   "metadata": {},
   "outputs": [
    {
     "output_type": "stream",
     "name": "stdout",
     "text": [
      "4.108698089924511\n"
     ]
    }
   ],
   "source": [
    "print(entropyWithFunction)"
   ]
  },
  {
   "source": [
    "## What does this mean about how many (good) questions you would need to ask on average in order to guess a letter sampled from this distribution?\n",
    "\n",
    "We need to ask on average 4.1 yes/no questions"
   ],
   "cell_type": "markdown",
   "metadata": {}
  },
  {
   "cell_type": "code",
   "execution_count": 15,
   "metadata": {},
   "outputs": [],
   "source": [
    "filename = './data/Seinfeld-scripts-textOnly.txt'\n",
    "with open(filename, 'rt') as f:\n",
    "    text = f.read()"
   ]
  },
  {
   "cell_type": "code",
   "execution_count": 18,
   "metadata": {},
   "outputs": [
    {
     "output_type": "execute_result",
     "data": {
      "text/plain": [
       "'do you know what this is all about? do you know, why were here? to be out, this is out...and out is one of the single most enjoyable experiences of life. people...did you ever hear people talking abou'"
      ]
     },
     "metadata": {},
     "execution_count": 18
    }
   ],
   "source": [
    "text.lower()[0:200]"
   ]
  },
  {
   "cell_type": "code",
   "execution_count": 20,
   "metadata": {
    "tags": []
   },
   "outputs": [],
   "source": [
    "import string\n",
    "string.punctuation\n",
    "\n",
    "words = ' '.join(text.lower().split())"
   ]
  },
  {
   "cell_type": "code",
   "execution_count": 21,
   "metadata": {},
   "outputs": [],
   "source": [
    "import re\n",
    "p = re.compile('[!\"#$%&\\'()*+,-./:;<=>?@[\\\\]^_`{|}~]*')"
   ]
  },
  {
   "cell_type": "code",
   "execution_count": 22,
   "metadata": {},
   "outputs": [],
   "source": [
    "processedStr = p.sub('', ' '.join(text.lower().split()))"
   ]
  },
  {
   "cell_type": "code",
   "execution_count": 24,
   "metadata": {},
   "outputs": [
    {
     "output_type": "stream",
     "name": "stdout",
     "text": [
      "['o', ' ', 'y', 'o', 'u', ' ', 'k', 'n', 'o', 'w', ' ', 'w', 'h', 'a', 't', ' ', 't', 'h', 'i', 's', ' ', 'i', 's', ' ', 'a', 'l', 'l', ' ', 'a', 'b', 'o', 'u', 't', ' ', 'd', 'o', ' ', 'y', 'o', 'u', ' ', 'k', 'n', 'o', 'w', ' ', 'w', 'h', 'y']\n"
     ]
    }
   ],
   "source": [
    "sample = [ char for char in processedStr]\n",
    "print(sample[1:50])"
   ]
  },
  {
   "cell_type": "code",
   "execution_count": 25,
   "metadata": {},
   "outputs": [
    {
     "output_type": "execute_result",
     "data": {
      "text/plain": [
       "4.093811389530425"
      ]
     },
     "metadata": {},
     "execution_count": 25
    }
   ],
   "source": [
    "from week1 import entropyEmpirical\n",
    "entropyEmpirical(sample)"
   ]
  },
  {
   "source": [
    "## How does this compare to the stated value from Mackay (Links to an external site.) in Table 2.9 (sec 2.3; or see slide 26 of our lecture) as estimated from \"The Frequently Asked Questions Manual for Linux\"? Did you expect it to be the same, and why or why not?  \n",
    "\n",
    "Just about the same. (4.09 vs 4.1)\n",
    "\n"
   ],
   "cell_type": "markdown",
   "metadata": {}
  },
  {
   "source": [
    "## compute the Shannon information content of each character, and again compare these to those quoted by Mackay."
   ],
   "cell_type": "markdown",
   "metadata": {}
  },
  {
   "cell_type": "code",
   "execution_count": 104,
   "metadata": {},
   "outputs": [
    {
     "output_type": "stream",
     "name": "stdout",
     "text": [
      "d : 5.292690965532893\no : 3.8181331980923665\n  : 2.313054319761679\ny : 5.170064270906951\nu : 5.109043330368412\nk : 6.321946167264879\nn : 4.282538482944213\nw : 5.547531382010156\nh : 4.306855110538613\na : 4.033329919090657\nt : 3.7510350193328637\ni : 4.138407207319335\ns : 4.478873846055354\nl : 4.915160521031396\nb : 6.443388992787079\ne : 3.4366741024724847\nr : 4.64353411419372\nf : 6.412679048608646\ng : 5.496655012783871\nm : 5.583832895010305\nj : 8.34955120852561\nx : 9.974952605744832\np : 6.407841805710297\nc : 5.947204431182949\nv : 7.135106582404378\nz : 10.514111416852863\nq : 11.229985354677886\n4 : 13.904486861897437\n8 : 13.929148916131707\n3 : 13.671652693839343\n0 : 12.374912931042815\n1 : 12.925009185770783\n2 : 13.44135507441755\n9 : 13.840710951464123\n5 : 13.333173422688134\n6 : 14.848530455923422\n7 : 14.590732698455776\n\\ : 21.372092411980436\n"
     ]
    }
   ],
   "source": [
    "import collections\n",
    "itemscount = collections.Counter(sample)\n",
    "\n",
    "# probability = # item x / # total number of items\n",
    "dist = [x/sum(itemscount.values()) for x in itemscount.values()]\n",
    "shannonInfoContent = [infocontent(x/sum(itemscount.values())) for x in itemscount.values()]\n",
    "for i, j in zip(itemscount.keys(), shannonInfoContent):\n",
    "    print(\"{} : {}\".format(i, j))\n"
   ]
  },
  {
   "cell_type": "code",
   "execution_count": 1,
   "metadata": {
    "tags": []
   },
   "outputs": [],
   "source": [
    "import string\n",
    "import re\n",
    "\n",
    "filename = './data/Seinfeld-scripts-textOnly.txt'\n",
    "with open(filename, 'rt') as f:\n",
    "    text = f.read()\n",
    "        \n",
    "p = re.compile('[!\"#\\$%&\\'\\(\\)\\*\\+\\,-\\.\\/:;<=>\\?@[\\\\\\^_`{\\|}~0-9]*')\n",
    "processedStr = p.sub('', ' '.join(text.lower().split()))\n",
    "#print(processedStr)"
   ]
  },
  {
   "cell_type": "code",
   "execution_count": 2,
   "metadata": {},
   "outputs": [],
   "source": [
    "samples = [[char1, char2] for char1, char2 in list(zip(processedStr[slice(0, None, 1)], processedStr[slice(1, None, 1)])) ]"
   ]
  },
  {
   "cell_type": "code",
   "execution_count": 3,
   "metadata": {
    "tags": []
   },
   "outputs": [
    {
     "output_type": "execute_result",
     "data": {
      "text/plain": [
       "7.453543202601456"
      ]
     },
     "metadata": {},
     "execution_count": 3
    }
   ],
   "source": [
    "from week1 import jointEntropyEmpirical\n",
    "jointEntropyEmpirical(samples)"
   ]
  },
  {
   "cell_type": "code",
   "execution_count": 5,
   "metadata": {},
   "outputs": [
    {
     "output_type": "execute_result",
     "data": {
      "text/plain": [
       "3.3665982758754547"
      ]
     },
     "metadata": {},
     "execution_count": 5
    }
   ],
   "source": [
    "from week1 import conditionalEntropyEmpirical\n",
    "conditionalEntropyEmpirical(samples)"
   ]
  },
  {
   "cell_type": "code",
   "execution_count": null,
   "metadata": {},
   "outputs": [],
   "source": []
  }
 ]
}