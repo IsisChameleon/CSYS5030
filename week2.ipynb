{
 "cells": [
  {
   "cell_type": "code",
   "execution_count": 62,
   "metadata": {},
   "outputs": [
    {
     "data": {
      "text/plain": [
       "1.0"
      ]
     },
     "execution_count": 62,
     "metadata": {},
     "output_type": "execute_result"
    }
   ],
   "source": [
    "from week1 import entropyEmpirical\n",
    "entropyEmpirical([0,0,1,1])"
   ]
  },
  {
   "cell_type": "code",
   "execution_count": 63,
   "metadata": {},
   "outputs": [
    {
     "name": "stdout",
     "output_type": "stream",
     "text": [
      "[1 1 1 0 1 1 1 0 1 0]\n"
     ]
    }
   ],
   "source": [
    "import numpy as np\n",
    "samples = np.random.randint(0,2, 10)\n",
    "print(samples)"
   ]
  },
  {
   "cell_type": "code",
   "execution_count": 64,
   "metadata": {},
   "outputs": [
    {
     "name": "stdout",
     "output_type": "stream",
     "text": [
      "0.8812908992306927\n"
     ]
    }
   ],
   "source": [
    "from week1 import entropy, entropyEmpirical\n",
    "Hs = entropyEmpirical(samples)\n",
    "print(Hs)"
   ]
  },
  {
   "cell_type": "code",
   "execution_count": 65,
   "metadata": {},
   "outputs": [
    {
     "name": "stdout",
     "output_type": "stream",
     "text": [
      "[3 1 1 1 2 1 0 1 1 0 3 0 3 0 0 0 1 0 0 2 1 0 3 2 3 2 3 3 1 0 1 0 2 3 1 3 2\n",
      " 1 3 1 3 0 0 3 1 1 1 3 3 2 0 1 1 0 2 1 1 1 0 2 1 2 0 0 0 2 1 1 1 2 2 2 3 1\n",
      " 1 2 3 3 0 2 1 0 1 2 1 0 3 3 1 0 0 2 2 2 0 0 1 0 3 3]\n",
      "1.973264286429576\n"
     ]
    }
   ],
   "source": [
    "samples = np.random.randint(0,4, 100)\n",
    "print(samples)\n",
    "Hs = entropyEmpirical(samples)\n",
    "print(Hs)"
   ]
  },
  {
   "cell_type": "markdown",
   "metadata": {},
   "source": [
    "# Conditional entropy"
   ]
  },
  {
   "cell_type": "code",
   "execution_count": 66,
   "metadata": {},
   "outputs": [
    {
     "name": "stdout",
     "output_type": "stream",
     "text": [
      "[[0.2 0.3]\n",
      " [0.1 0.4]]\n",
      "[0.2 0.1]\n"
     ]
    }
   ],
   "source": [
    "p1 = np.array([[0.2, 0.3],[0.1, 0.4]])\n",
    "print(p1)\n",
    "print(p1[:,0])"
   ]
  },
  {
   "cell_type": "code",
   "execution_count": 67,
   "metadata": {},
   "outputs": [],
   "source": [
    "# final version\n",
    "\n",
    "def conditionalEntropy(p: np.array):\n",
    "    # entropyXGivenY\n",
    "    # H(X|Y)\n",
    "    # 2 dim only for now\n",
    "    # X = rows\n",
    "    # Y = columns\n",
    "                  \n",
    "    if (type(p) == list):\n",
    "        p = np.array(p)\n",
    "\n",
    "    total = 0\n",
    "    for i in range(p.shape[1]):\n",
    "        pxi = np.sum(p[:,i])\n",
    "        total+= pxi * entropy(1/pxi * p[:,i])\n",
    "\n",
    "    return total"
   ]
  },
  {
   "cell_type": "code",
   "execution_count": 68,
   "metadata": {},
   "outputs": [
    {
     "name": "stdout",
     "output_type": "stream",
     "text": [
      "0.9651484454403229\n"
     ]
    }
   ],
   "source": [
    "print(conditionalentropy(p1))\n"
   ]
  },
  {
   "cell_type": "markdown",
   "metadata": {},
   "source": [
    "Test that your code works, e.g. by running:    \n",
    "conditionalentropy([0.2, 0.3; 0.1, 0.4]) and validating that you get the result 0.965 bits.     \n",
    "conditionalentropy([0.5, 0; 0, 0.5]) and validating that you get the result 0 bits.    \n",
    "conditionalentropy([0.25, 0.25; 0.25, 0.25]) and validating that you get the result 1 bit. "
   ]
  },
  {
   "cell_type": "code",
   "execution_count": 69,
   "metadata": {},
   "outputs": [
    {
     "data": {
      "text/plain": [
       "0.9651484454403229"
      ]
     },
     "execution_count": 69,
     "metadata": {},
     "output_type": "execute_result"
    }
   ],
   "source": [
    "from week1 import conditionalEntropy\n",
    "\n",
    "conditionalEntropy([[0.2,0.3],[0.1,0.4]])"
   ]
  },
  {
   "cell_type": "code",
   "execution_count": 70,
   "metadata": {},
   "outputs": [
    {
     "data": {
      "text/plain": [
       "0.0"
      ]
     },
     "execution_count": 70,
     "metadata": {},
     "output_type": "execute_result"
    }
   ],
   "source": [
    "conditionalEntropy([[0.5,0],[0,0.5]])"
   ]
  },
  {
   "cell_type": "code",
   "execution_count": 71,
   "metadata": {},
   "outputs": [
    {
     "data": {
      "text/plain": [
       "1.0"
      ]
     },
     "execution_count": 71,
     "metadata": {},
     "output_type": "execute_result"
    }
   ],
   "source": [
    "conditionalEntropy([[0.25,0.25],[0.25,0.25]])"
   ]
  },
  {
   "cell_type": "markdown",
   "metadata": {},
   "source": [
    "# Joint entropy"
   ]
  },
  {
   "cell_type": "code",
   "execution_count": 72,
   "metadata": {},
   "outputs": [],
   "source": [
    "from week1 import jointEntropy\n"
   ]
  },
  {
   "cell_type": "code",
   "execution_count": 73,
   "metadata": {},
   "outputs": [
    {
     "data": {
      "text/plain": [
       "1.8464393446710154"
      ]
     },
     "execution_count": 73,
     "metadata": {},
     "output_type": "execute_result"
    }
   ],
   "source": [
    "p2 = np.array([[0.2, 0.3],[0.1, 0.4]])\n",
    "jointEntropy(p2)"
   ]
  },
  {
   "cell_type": "code",
   "execution_count": 74,
   "metadata": {},
   "outputs": [
    {
     "data": {
      "text/plain": [
       "1.0"
      ]
     },
     "execution_count": 74,
     "metadata": {},
     "output_type": "execute_result"
    }
   ],
   "source": [
    "np.sum(p2)"
   ]
  },
  {
   "cell_type": "code",
   "execution_count": 75,
   "metadata": {},
   "outputs": [
    {
     "data": {
      "text/plain": [
       "1.8464393446710154"
      ]
     },
     "execution_count": 75,
     "metadata": {},
     "output_type": "execute_result"
    }
   ],
   "source": [
    "p2 = np.array([[0.2, 0.3],[0.1, 0.4]])\n",
    "jointEntropy(p2)"
   ]
  },
  {
   "cell_type": "code",
   "execution_count": 76,
   "metadata": {},
   "outputs": [],
   "source": [
    "plogp = lambda p: - p * np.where(p > 0, np.log2(p), 0)\n"
   ]
  },
  {
   "cell_type": "code",
   "execution_count": 77,
   "metadata": {},
   "outputs": [
    {
     "data": {
      "text/plain": [
       "0.5291737384982911"
      ]
     },
     "execution_count": 77,
     "metadata": {},
     "output_type": "execute_result"
    }
   ],
   "source": [
    "plogp(0.34)"
   ]
  },
  {
   "cell_type": "code",
   "execution_count": 78,
   "metadata": {},
   "outputs": [
    {
     "name": "stderr",
     "output_type": "stream",
     "text": [
      "/tmp/ipykernel_14403/2888716889.py:1: RuntimeWarning: divide by zero encountered in log2\n",
      "  plogp = lambda p: - p * np.where(p > 0, np.log2(p), 0)\n"
     ]
    },
    {
     "data": {
      "text/plain": [
       "0.0"
      ]
     },
     "execution_count": 78,
     "metadata": {},
     "output_type": "execute_result"
    }
   ],
   "source": [
    "plogp(0)"
   ]
  },
  {
   "cell_type": "code",
   "execution_count": 79,
   "metadata": {},
   "outputs": [
    {
     "data": {
      "text/plain": [
       "1.8464393446710154"
      ]
     },
     "execution_count": 79,
     "metadata": {},
     "output_type": "execute_result"
    }
   ],
   "source": [
    "p = np.array([[0.2, 0.3],[0.1, 0.4]])\n",
    "Hs = np.array([plogp(pij) for pij in p])\n",
    "np.sum(Hs)"
   ]
  },
  {
   "cell_type": "markdown",
   "metadata": {},
   "source": [
    "# joint entropy in more than 2 dimensions"
   ]
  },
  {
   "cell_type": "code",
   "execution_count": 80,
   "metadata": {},
   "outputs": [
    {
     "name": "stdout",
     "output_type": "stream",
     "text": [
      "[[[1. 0. 0.]\n",
      "  [0. 0. 0.]\n",
      "  [0. 0. 0.]]\n",
      "\n",
      " [[0. 0. 0.]\n",
      "  [0. 0. 0.]\n",
      "  [0. 0. 0.]]\n",
      "\n",
      " [[0. 0. 0.]\n",
      "  [0. 0. 0.]\n",
      "  [0. 0. 0.]]]\n"
     ]
    },
    {
     "data": {
      "text/plain": [
       "0.0"
      ]
     },
     "execution_count": 80,
     "metadata": {},
     "output_type": "execute_result"
    }
   ],
   "source": [
    "p3 = np.zeros((3,3,3))\n",
    "p3[0,0,0] = 1\n",
    "print(p3)\n",
    "np.sum(p3)\n",
    "\n",
    "jointEntropy(p3)"
   ]
  },
  {
   "cell_type": "code",
   "execution_count": 81,
   "metadata": {},
   "outputs": [
    {
     "name": "stdout",
     "output_type": "stream",
     "text": [
      "[[[0.03703704 0.03703704 0.03703704]\n",
      "  [0.03703704 0.03703704 0.03703704]\n",
      "  [0.03703704 0.03703704 0.03703704]]\n",
      "\n",
      " [[0.03703704 0.03703704 0.03703704]\n",
      "  [0.03703704 0.03703704 0.03703704]\n",
      "  [0.03703704 0.03703704 0.03703704]]\n",
      "\n",
      " [[0.03703704 0.03703704 0.03703704]\n",
      "  [0.03703704 0.03703704 0.03703704]\n",
      "  [0.03703704 0.03703704 0.03703704]]]\n"
     ]
    }
   ],
   "source": [
    "p4 = np.array([1/27 for i in range(27)]).reshape((3,3,3))\n",
    "print(p4)"
   ]
  },
  {
   "cell_type": "code",
   "execution_count": 82,
   "metadata": {},
   "outputs": [
    {
     "data": {
      "text/plain": [
       "4.754887502163469"
      ]
     },
     "execution_count": 82,
     "metadata": {},
     "output_type": "execute_result"
    }
   ],
   "source": [
    "jointEntropy(p4)"
   ]
  },
  {
   "cell_type": "code",
   "execution_count": 83,
   "metadata": {},
   "outputs": [
    {
     "data": {
      "text/plain": [
       "0.9999999999999998"
      ]
     },
     "execution_count": 83,
     "metadata": {},
     "output_type": "execute_result"
    }
   ],
   "source": [
    "np.sum(p4)"
   ]
  },
  {
   "cell_type": "markdown",
   "metadata": {},
   "source": [
    "Test that your code works, e.g. by running jointentropy([0.2, 0.3; 0.1, 0.4]) and validating that you get the result 1.85 bits"
   ]
  },
  {
   "cell_type": "code",
   "execution_count": 84,
   "metadata": {},
   "outputs": [
    {
     "data": {
      "text/plain": [
       "1.8464393446710154"
      ]
     },
     "execution_count": 84,
     "metadata": {},
     "output_type": "execute_result"
    }
   ],
   "source": [
    "jointEntropy([[0.2, 0.3],[ 0.1, 0.4]])"
   ]
  },
  {
   "cell_type": "markdown",
   "metadata": {},
   "source": [
    "# 8. (Extension) Coding joint entropy for empirical data"
   ]
  },
  {
   "cell_type": "markdown",
   "metadata": {},
   "source": [
    "rows = samples x[i] of X (i=1..N, number of samples)\n",
    "columns = variables/features  \n",
    "here will always be multiple rows (because we always should have many samples), but the number of columns will depend on how many variables we are jointly considering (it could be just one if we have only a single variable)."
   ]
  },
  {
   "cell_type": "code",
   "execution_count": 85,
   "metadata": {},
   "outputs": [
    {
     "name": "stdout",
     "output_type": "stream",
     "text": [
      "[['foobar' 'acling' 'b']\n",
      " ['xbar' 'cling' 'd']\n",
      " ['foobar' 'dcling' 'b']\n",
      " ['xbar' 'acling' 'd']]\n",
      "['foobar' 'acling' 'b' 'xbar' 'cling' 'd' 'foobar' 'dcling' 'b' 'xbar'\n",
      " 'acling' 'd']\n",
      "['foobar', 'acling', 'b', 'xbar', 'cling', 'd', 'foobar', 'dcling', 'b', 'xbar', 'acling', 'd']\n",
      "Counter({'foobar': 2, 'acling': 2, 'b': 2, 'xbar': 2, 'd': 2, 'cling': 1, 'dcling': 1})\n"
     ]
    }
   ],
   "source": [
    "import itertools\n",
    "from collections import Counter\n",
    "\n",
    "some_list = [['foobar', 'acling', 'b'], ['xbar', 'cling', 'd'], ['foobar', 'dcling', 'b'], ['xbar', 'acling', 'd']]\n",
    "# totals = Counter(i for i in list(itertools.chain.from_iterable(some_list)))\n",
    "\n",
    "some_list = np.array(some_list)\n",
    "totals2 = Counter(list(some_list.flatten()))\n",
    "\n",
    "print(some_list)\n",
    "print(some_list.flatten())\n",
    "print(list(some_list.flatten()))\n",
    "print(totals2)\n",
    "\n",
    "def jointEntropyEmpirical(samples: np.array):\n",
    "\n",
    "    # check only 2D\n",
    "\n",
    "    # Each row of item represent a sample with the columns being the random variables or features of interest\n",
    "    # row 0 : X\n",
    "    # row 1 : Y\n",
    "\n",
    "    H, edges = np.histogramdd(samples)\n",
    "\n",
    "    for i in range(p.shape[0]):  #iterate over samples\n",
    "        xiCount = collections.Counter(items[i])\n",
    "\n",
    "\n",
    "def calculateDatasetShannonEntropy(items):\n",
    "    # also called empiricalentropy in course\n",
    "    itemscount = collections.Counter(items)\n",
    "    \n",
    "    # probability = # item x / # total number of items\n",
    "    dist = [x/sum(itemscount.values()) for x in itemscount.values()]\n",
    " \n",
    "    # use scipy to calculate entropy\n",
    "    entropy_value = scips.entropy(dist, base=2)\n",
    " \n",
    "    return entropy_value"
   ]
  },
  {
   "cell_type": "markdown",
   "metadata": {},
   "source": [
    "https://stackoverflow.com/questions/20332750/python-joint-distribution-of-n-variables    \n",
    "https://numpy.org/doc/stable/reference/generated/numpy.histogram2d.html#numpy.histogram2d"
   ]
  },
  {
   "cell_type": "code",
   "execution_count": 86,
   "metadata": {},
   "outputs": [
    {
     "name": "stdout",
     "output_type": "stream",
     "text": [
      "['foobar', 'xbar']\n",
      "2\n",
      "['dcling', 'acling', 'cling']\n",
      "3\n"
     ]
    }
   ],
   "source": [
    "samples = [['foobar', 'cling'], ['xbar', 'cling'], ['foobar', 'dcling'], ['xbar', 'acling']]\n",
    "# totals = Counter(i for i in list(itertools.chain.from_iterable(some_list)))\n",
    "samples = np.array(samples)\n",
    "\n",
    "alphabetX=list(set(samples[:,0]))\n",
    "print(alphabetX)\n",
    "print(len(alphabetX))\n",
    "\n",
    "alphabetY=list(set(samples[:,1]))\n",
    "print(alphabetY)\n",
    "print(len(alphabetY))"
   ]
  },
  {
   "cell_type": "code",
   "execution_count": 87,
   "metadata": {},
   "outputs": [
    {
     "name": "stdout",
     "output_type": "stream",
     "text": [
      "Sample 0 : ['foobar' 'cling']\n",
      "Sample 1 : ['xbar' 'cling']\n",
      "Sample 2 : ['foobar' 'dcling']\n",
      "Sample 3 : ['xbar' 'acling']\n"
     ]
    },
    {
     "data": {
      "text/plain": [
       "2.0"
      ]
     },
     "execution_count": 87,
     "metadata": {},
     "output_type": "execute_result"
    }
   ],
   "source": [
    "\n",
    "from week1 import jointEntropy\n",
    "alphabetX=list(set(samples[:,0]))\n",
    "alphabetY=list(set(samples[:,1]))\n",
    "\n",
    "jointProbabilities=np.zeros((len(alphabetX), len(alphabetY)))\n",
    "\n",
    "for i in range(samples.shape[0]):\n",
    "    print('Sample {} : {}'.format(i, samples[i]))\n",
    "    sample=samples[i]\n",
    "    jointProbabilities[alphabetX.index(sample[0]), alphabetY.index(sample[1])]+=1\n",
    "\n",
    "jointProbabilities/=samples.shape[0]\n",
    "\n",
    "jointEntropy(jointProbabilities)\n"
   ]
  },
  {
   "cell_type": "code",
   "execution_count": 88,
   "metadata": {},
   "outputs": [
    {
     "name": "stdout",
     "output_type": "stream",
     "text": [
      "['foobar', 'xbar']\n",
      "['dcling', 'acling', 'cling']\n",
      "[[0.25 0.   0.25]\n",
      " [0.   0.25 0.25]]\n"
     ]
    }
   ],
   "source": [
    "print(alphabetX)\n",
    "print(alphabetY)\n",
    "print(jointProbabilities)"
   ]
  },
  {
   "cell_type": "code",
   "execution_count": 89,
   "metadata": {},
   "outputs": [
    {
     "data": {
      "text/plain": [
       "2.0"
      ]
     },
     "execution_count": 89,
     "metadata": {},
     "output_type": "execute_result"
    }
   ],
   "source": [
    "jointEntropy(jointProbabilities)"
   ]
  },
  {
   "cell_type": "code",
   "execution_count": 90,
   "metadata": {},
   "outputs": [
    {
     "data": {
      "text/plain": [
       "2.0"
      ]
     },
     "execution_count": 90,
     "metadata": {},
     "output_type": "execute_result"
    }
   ],
   "source": [
    "from week1 import jointEntropyEmpirical\n",
    "\n",
    "testdata2bits = [[0,0],[0,1],[1,0],[1,1]]\n",
    "jointEntropyEmpirical(testdata2bits)"
   ]
  },
  {
   "cell_type": "code",
   "execution_count": 91,
   "metadata": {},
   "outputs": [],
   "source": [
    "from week1 import entropyEmpirical"
   ]
  },
  {
   "cell_type": "code",
   "execution_count": 92,
   "metadata": {},
   "outputs": [
    {
     "data": {
      "text/plain": [
       "2.0"
      ]
     },
     "execution_count": 92,
     "metadata": {},
     "output_type": "execute_result"
    }
   ],
   "source": [
    "entropyEmpirical(['a','b','c','d'])"
   ]
  },
  {
   "cell_type": "markdown",
   "metadata": {},
   "source": [
    "# conditional entropy H(X|Y) for empirical samples   \n",
    "H(X|Y) = H(X,Y) - H(Y)   \n"
   ]
  },
  {
   "cell_type": "code",
   "execution_count": 93,
   "metadata": {},
   "outputs": [],
   "source": [
    "from week1 import conditionalEntropyEmpirical\n"
   ]
  },
  {
   "cell_type": "markdown",
   "metadata": {},
   "source": [
    "Test that your code works by running, e.g.:     \n",
    "conditionalentropyempirical([0,0,1,1],[0,1,0,1]) and validating that you get the result 1 bit.    \n",
    "conditionalentropyempirical([0,0,1,1],[0,0,1,1]) and validating that you get the result 0 bits.       "
   ]
  },
  {
   "cell_type": "code",
   "execution_count": 94,
   "metadata": {},
   "outputs": [
    {
     "name": "stdout",
     "output_type": "stream",
     "text": [
      "[(0, 0), (0, 1), (1, 0), (1, 1)]\n"
     ]
    }
   ],
   "source": [
    "xn = [0,0,1,1]\n",
    "yn = [0,1,0,1]\n",
    "samples = list(zip(xn, yn))\n",
    "print(samples)\n"
   ]
  },
  {
   "cell_type": "code",
   "execution_count": 95,
   "metadata": {},
   "outputs": [
    {
     "data": {
      "text/plain": [
       "1.0"
      ]
     },
     "execution_count": 95,
     "metadata": {},
     "output_type": "execute_result"
    }
   ],
   "source": [
    "conditionalEntropyEmpirical(samples)"
   ]
  },
  {
   "cell_type": "code",
   "execution_count": 96,
   "metadata": {},
   "outputs": [],
   "source": [
    "xn = [0,0,1,1]\n",
    "yn = xn\n",
    "samples = list(zip(xn, yn))"
   ]
  },
  {
   "cell_type": "code",
   "execution_count": 97,
   "metadata": {},
   "outputs": [
    {
     "data": {
      "text/plain": [
       "0.0"
      ]
     },
     "execution_count": 97,
     "metadata": {},
     "output_type": "execute_result"
    }
   ],
   "source": [
    "conditionalEntropyEmpirical(samples)"
   ]
  },
  {
   "cell_type": "markdown",
   "metadata": {},
   "source": [
    "# Plot H(X=a) for alphabet size C vs Probability of a P(X=a) varying between 0 and 1 (a being one of the symbol of the alphabet)\n",
    "make a similar plot for X with alphabet size c, assuming that p(x) for x~=1 is uniform as (1-p(x=1))/(c-1). How is the plot different as a function of c and why?"
   ]
  },
  {
   "cell_type": "code",
   "execution_count": 98,
   "metadata": {},
   "outputs": [],
   "source": [
    "\n",
    "def probabilityVector(Pa: float, C: int):\n",
    "    # C : number of symbol in the alphabet\n",
    "    # Pa : varying probability of P(X=a)\n",
    "\n",
    "    PRemainingSymbols = round((1 - Pa) / (C-1), 6)\n",
    "\n",
    "    P = [ PRemainingSymbols for i in range(C)]\n",
    "    P[0] = Pa\n",
    "    return P"
   ]
  },
  {
   "cell_type": "code",
   "execution_count": 99,
   "metadata": {},
   "outputs": [
    {
     "name": "stdout",
     "output_type": "stream",
     "text": [
      "[0.4, 0.2, 0.2, 0.2]\n"
     ]
    }
   ],
   "source": [
    "print(probabilityVector(0.4, 4))"
   ]
  },
  {
   "cell_type": "code",
   "execution_count": 100,
   "metadata": {},
   "outputs": [
    {
     "data": {
      "text/plain": [
       "[<matplotlib.lines.Line2D at 0x7f16e016e220>]"
      ]
     },
     "execution_count": 100,
     "metadata": {},
     "output_type": "execute_result"
    },
    {
     "data": {
      "image/png": "[encoded data removed]",
      "text/plain": [
       "<Figure size 432x288 with 1 Axes>"
      ]
     },
     "metadata": {
      "needs_background": "light"
     },
     "output_type": "display_data"
    }
   ],
   "source": [
    "import numpy as np\n",
    "import matplotlib.pyplot as plt\n",
    "from week1 import entropy\n",
    "\n",
    "Pas=np.linspace(0, 1, num=51)\n",
    "\n",
    "C = 26\n",
    "\n",
    "plt.plot(Pas, [ entropy(probabilityVector(pa, C)) for pa in Pas])\n"
   ]
  },
  {
   "cell_type": "code",
   "execution_count": 101,
   "metadata": {},
   "outputs": [
    {
     "data": {
      "text/plain": [
       "[<matplotlib.lines.Line2D at 0x7f16e0141dc0>]"
      ]
     },
     "execution_count": 101,
     "metadata": {},
     "output_type": "execute_result"
    },
    {
     "data": {
      "image/png": "[encoded data removed]",
      "text/plain": [
       "<Figure size 432x288 with 1 Axes>"
      ]
     },
     "metadata": {
      "needs_background": "light"
     },
     "output_type": "display_data"
    }
   ],
   "source": [
    "C = 26\n",
    "\n",
    "plt.plot(Pas, [ entropy(probabilityVector(pa, 2)) for pa in Pas])"
   ]
  },
  {
   "cell_type": "code",
   "execution_count": 102,
   "metadata": {},
   "outputs": [
    {
     "ename": "Exception",
     "evalue": "The sum of the elements of p should be = 1: [0.       0.333333 0.333333 0.333333]",
     "output_type": "error",
     "traceback": [
      "\u001b[0;31m---------------------------------------------------------------------------\u001b[0m",
      "\u001b[0;31mException\u001b[0m                                 Traceback (most recent call last)",
      "\u001b[0;32m/tmp/ipykernel_14403/3730718002.py\u001b[0m in \u001b[0;36m<module>\u001b[0;34m\u001b[0m\n\u001b[1;32m      2\u001b[0m \u001b[0maxs\u001b[0m\u001b[0;34m.\u001b[0m\u001b[0mgrid\u001b[0m\u001b[0;34m(\u001b[0m\u001b[0mlinestyle\u001b[0m\u001b[0;34m=\u001b[0m\u001b[0;34m'-'\u001b[0m\u001b[0;34m,\u001b[0m \u001b[0mlinewidth\u001b[0m\u001b[0;34m=\u001b[0m\u001b[0;36m0.5\u001b[0m\u001b[0;34m)\u001b[0m\u001b[0;34m\u001b[0m\u001b[0;34m\u001b[0m\u001b[0m\n\u001b[1;32m      3\u001b[0m \u001b[0;32mfor\u001b[0m \u001b[0mc\u001b[0m \u001b[0;32min\u001b[0m \u001b[0mrange\u001b[0m\u001b[0;34m(\u001b[0m\u001b[0;36m2\u001b[0m\u001b[0;34m,\u001b[0m\u001b[0;36m26\u001b[0m\u001b[0;34m,\u001b[0m\u001b[0;36m2\u001b[0m\u001b[0;34m)\u001b[0m\u001b[0;34m:\u001b[0m\u001b[0;34m\u001b[0m\u001b[0;34m\u001b[0m\u001b[0m\n\u001b[0;32m----> 4\u001b[0;31m     \u001b[0maxs\u001b[0m\u001b[0;34m.\u001b[0m\u001b[0mplot\u001b[0m\u001b[0;34m(\u001b[0m\u001b[0mPas\u001b[0m\u001b[0;34m,\u001b[0m \u001b[0;34m[\u001b[0m \u001b[0mentropy\u001b[0m\u001b[0;34m(\u001b[0m\u001b[0mprobabilityVector\u001b[0m\u001b[0;34m(\u001b[0m\u001b[0mpa\u001b[0m\u001b[0;34m,\u001b[0m \u001b[0mc\u001b[0m\u001b[0;34m)\u001b[0m\u001b[0;34m)\u001b[0m \u001b[0;32mfor\u001b[0m \u001b[0mpa\u001b[0m \u001b[0;32min\u001b[0m \u001b[0mPas\u001b[0m\u001b[0;34m]\u001b[0m\u001b[0;34m)\u001b[0m\u001b[0;34m\u001b[0m\u001b[0;34m\u001b[0m\u001b[0m\n\u001b[0m\u001b[1;32m      5\u001b[0m \u001b[0maxs\u001b[0m\u001b[0;34m.\u001b[0m\u001b[0mset_title\u001b[0m\u001b[0;34m(\u001b[0m\u001b[0;34m'H(P) vs P(a)'\u001b[0m\u001b[0;34m)\u001b[0m\u001b[0;34m\u001b[0m\u001b[0;34m\u001b[0m\u001b[0m\n\u001b[1;32m      6\u001b[0m \u001b[0maxs\u001b[0m\u001b[0;34m.\u001b[0m\u001b[0mset_xticks\u001b[0m\u001b[0;34m(\u001b[0m\u001b[0mnp\u001b[0m\u001b[0;34m.\u001b[0m\u001b[0marange\u001b[0m\u001b[0;34m(\u001b[0m\u001b[0;36m0\u001b[0m\u001b[0;34m,\u001b[0m \u001b[0;36m1\u001b[0m\u001b[0;34m,\u001b[0m \u001b[0;36m0.05\u001b[0m\u001b[0;34m)\u001b[0m\u001b[0;34m)\u001b[0m\u001b[0;34m\u001b[0m\u001b[0;34m\u001b[0m\u001b[0m\n",
      "\u001b[0;32m/tmp/ipykernel_14403/3730718002.py\u001b[0m in \u001b[0;36m<listcomp>\u001b[0;34m(.0)\u001b[0m\n\u001b[1;32m      2\u001b[0m \u001b[0maxs\u001b[0m\u001b[0;34m.\u001b[0m\u001b[0mgrid\u001b[0m\u001b[0;34m(\u001b[0m\u001b[0mlinestyle\u001b[0m\u001b[0;34m=\u001b[0m\u001b[0;34m'-'\u001b[0m\u001b[0;34m,\u001b[0m \u001b[0mlinewidth\u001b[0m\u001b[0;34m=\u001b[0m\u001b[0;36m0.5\u001b[0m\u001b[0;34m)\u001b[0m\u001b[0;34m\u001b[0m\u001b[0;34m\u001b[0m\u001b[0m\n\u001b[1;32m      3\u001b[0m \u001b[0;32mfor\u001b[0m \u001b[0mc\u001b[0m \u001b[0;32min\u001b[0m \u001b[0mrange\u001b[0m\u001b[0;34m(\u001b[0m\u001b[0;36m2\u001b[0m\u001b[0;34m,\u001b[0m\u001b[0;36m26\u001b[0m\u001b[0;34m,\u001b[0m\u001b[0;36m2\u001b[0m\u001b[0;34m)\u001b[0m\u001b[0;34m:\u001b[0m\u001b[0;34m\u001b[0m\u001b[0;34m\u001b[0m\u001b[0m\n\u001b[0;32m----> 4\u001b[0;31m     \u001b[0maxs\u001b[0m\u001b[0;34m.\u001b[0m\u001b[0mplot\u001b[0m\u001b[0;34m(\u001b[0m\u001b[0mPas\u001b[0m\u001b[0;34m,\u001b[0m \u001b[0;34m[\u001b[0m \u001b[0mentropy\u001b[0m\u001b[0;34m(\u001b[0m\u001b[0mprobabilityVector\u001b[0m\u001b[0;34m(\u001b[0m\u001b[0mpa\u001b[0m\u001b[0;34m,\u001b[0m \u001b[0mc\u001b[0m\u001b[0;34m)\u001b[0m\u001b[0;34m)\u001b[0m \u001b[0;32mfor\u001b[0m \u001b[0mpa\u001b[0m \u001b[0;32min\u001b[0m \u001b[0mPas\u001b[0m\u001b[0;34m]\u001b[0m\u001b[0;34m)\u001b[0m\u001b[0;34m\u001b[0m\u001b[0;34m\u001b[0m\u001b[0m\n\u001b[0m\u001b[1;32m      5\u001b[0m \u001b[0maxs\u001b[0m\u001b[0;34m.\u001b[0m\u001b[0mset_title\u001b[0m\u001b[0;34m(\u001b[0m\u001b[0;34m'H(P) vs P(a)'\u001b[0m\u001b[0;34m)\u001b[0m\u001b[0;34m\u001b[0m\u001b[0;34m\u001b[0m\u001b[0m\n\u001b[1;32m      6\u001b[0m \u001b[0maxs\u001b[0m\u001b[0;34m.\u001b[0m\u001b[0mset_xticks\u001b[0m\u001b[0;34m(\u001b[0m\u001b[0mnp\u001b[0m\u001b[0;34m.\u001b[0m\u001b[0marange\u001b[0m\u001b[0;34m(\u001b[0m\u001b[0;36m0\u001b[0m\u001b[0;34m,\u001b[0m \u001b[0;36m1\u001b[0m\u001b[0;34m,\u001b[0m \u001b[0;36m0.05\u001b[0m\u001b[0;34m)\u001b[0m\u001b[0;34m)\u001b[0m\u001b[0;34m\u001b[0m\u001b[0;34m\u001b[0m\u001b[0m\n",
      "\u001b[0;32m~/notebooks/CSYS5030/week1.py\u001b[0m in \u001b[0;36mentropy\u001b[0;34m(p)\u001b[0m\n\u001b[1;32m     28\u001b[0m     \u001b[0;31m# if np.sum(p) != 1:\u001b[0m\u001b[0;34m\u001b[0m\u001b[0;34m\u001b[0m\u001b[0m\n\u001b[1;32m     29\u001b[0m     \u001b[0;32mif\u001b[0m \u001b[0;32mnot\u001b[0m \u001b[0misclose\u001b[0m\u001b[0;34m(\u001b[0m\u001b[0mnp\u001b[0m\u001b[0;34m.\u001b[0m\u001b[0msum\u001b[0m\u001b[0;34m(\u001b[0m\u001b[0mp\u001b[0m\u001b[0;34m)\u001b[0m\u001b[0;34m,\u001b[0m \u001b[0;36m1\u001b[0m\u001b[0;34m,\u001b[0m \u001b[0mrel_tol\u001b[0m\u001b[0;34m=\u001b[0m\u001b[0;36m1e-6\u001b[0m\u001b[0;34m)\u001b[0m\u001b[0;34m:\u001b[0m\u001b[0;34m\u001b[0m\u001b[0;34m\u001b[0m\u001b[0m\n\u001b[0;32m---> 30\u001b[0;31m         \u001b[0;32mraise\u001b[0m \u001b[0mException\u001b[0m\u001b[0;34m(\u001b[0m\u001b[0;34m'The sum of the elements of p should be = 1: {}'\u001b[0m\u001b[0;34m.\u001b[0m\u001b[0mformat\u001b[0m\u001b[0;34m(\u001b[0m\u001b[0mp\u001b[0m\u001b[0;34m)\u001b[0m\u001b[0;34m)\u001b[0m\u001b[0;34m\u001b[0m\u001b[0;34m\u001b[0m\u001b[0m\n\u001b[0m\u001b[1;32m     31\u001b[0m \u001b[0;34m\u001b[0m\u001b[0m\n\u001b[1;32m     32\u001b[0m     \u001b[0;32mwith\u001b[0m \u001b[0mnp\u001b[0m\u001b[0;34m.\u001b[0m\u001b[0merrstate\u001b[0m\u001b[0;34m(\u001b[0m\u001b[0mdivide\u001b[0m\u001b[0;34m=\u001b[0m\u001b[0;34m'ignore'\u001b[0m\u001b[0;34m)\u001b[0m\u001b[0;34m:\u001b[0m\u001b[0;34m\u001b[0m\u001b[0;34m\u001b[0m\u001b[0m\n",
      "\u001b[0;31mException\u001b[0m: The sum of the elements of p should be = 1: [0.       0.333333 0.333333 0.333333]"
     ]
    },
    {
     "data": {
      "image/png": "[encoded data removed]",
      "text/plain": [
       "<Figure size 648x432 with 1 Axes>"
      ]
     },
     "metadata": {
      "needs_background": "light"
     },
     "output_type": "display_data"
    }
   ],
   "source": [
    "fig, axs = plt.subplots(1, 1, figsize=(9, 6))  \n",
    "axs.grid(linestyle='-', linewidth=0.5)\n",
    "for c in range(2,26,2):\n",
    "    axs.plot(Pas, [ entropy(probabilityVector(pa, c)) for pa in Pas])\n",
    "axs.set_title('H(P) vs P(a)')\n",
    "axs.set_xticks(np.arange(0, 1, 0.05))\n",
    "axs.set_xlabel('P(a)')\n",
    "plt.legend()\n",
    "plt.show()\n"
   ]
  },
  {
   "cell_type": "markdown",
   "metadata": {},
   "source": [
    "# Week1 Challenge - Probability distribution of letter in a text\n",
    "Take a look at the probability distribution of each letter of the alphabet (plus a space) gleaned from a sample text as displayed in Figure 2.1 (section 2.1) of Mackay"
   ]
  },
  {
   "cell_type": "code",
   "execution_count": 122,
   "metadata": {},
   "outputs": [],
   "source": [
    "alphabet = ['a',\n",
    "'b',\n",
    "'c',\n",
    "'d',\n",
    "'e',\n",
    "'f',\n",
    "'g',\n",
    "'h',\n",
    "'i',\n",
    "'j',\n",
    "'k',\n",
    "'l',\n",
    "'m',\n",
    "'n',\n",
    "'o',\n",
    "'p',\n",
    "'q',\n",
    "'r',\n",
    "'s',\n",
    "'t',\n",
    "'u',\n",
    "'v',\n",
    "'w',\n",
    "'x',\n",
    "'y',\n",
    "'z',\n",
    "'_']\n",
    "pSymbol = [0.0575,\n",
    "0.0128,\n",
    "0.0263,\n",
    "0.0285,\n",
    "0.0913,\n",
    "0.0173,\n",
    "0.0133,\n",
    "0.0313,\n",
    "0.0599,\n",
    "0.0006,\n",
    "0.0084,\n",
    "0.0335,\n",
    "0.0235,\n",
    "0.0596,\n",
    "0.0689,\n",
    "0.0192,\n",
    "0.0008,\n",
    "0.0508,\n",
    "0.0567,\n",
    "0.0706,\n",
    "0.0334,\n",
    "0.0069,\n",
    "0.0119,\n",
    "0.0073,\n",
    "0.0164,\n",
    "0.0007,\n",
    "0.19259999]"
   ]
  },
  {
   "cell_type": "code",
   "execution_count": 116,
   "metadata": {},
   "outputs": [
    {
     "name": "stdout",
     "output_type": "stream",
     "text": [
      "[0.0575, 0.0128, 0.0263, 0.0285, 0.0913, 0.0173, 0.0133, 0.0313, 0.0599, 0.0006, 0.0084, 0.0335, 0.0235, 0.0596, 0.0689, 0.0192, 0.0008, 0.0508, 0.0567, 0.0706, 0.0334, 0.0069, 0.0119, 0.0073, 0.0164, 0.0007, 0.1925]\n"
     ]
    }
   ],
   "source": [
    "print(pSymbol)"
   ]
  },
  {
   "cell_type": "code",
   "execution_count": 123,
   "metadata": {},
   "outputs": [
    {
     "name": "stdout",
     "output_type": "stream",
     "text": [
      "0.9999999900000001\n"
     ]
    }
   ],
   "source": [
    "print(np.sum(pSymbol))"
   ]
  },
  {
   "cell_type": "markdown",
   "metadata": {},
   "source": [
    "## Calculate and display the Shannon information content for each letter (and space)."
   ]
  },
  {
   "cell_type": "code",
   "execution_count": 105,
   "metadata": {},
   "outputs": [],
   "source": [
    "from week1  import infocontent, entropy\n",
    "import numpy as np"
   ]
  },
  {
   "cell_type": "code",
   "execution_count": 118,
   "metadata": {},
   "outputs": [],
   "source": [
    "infocontentAlphabet = [infocontent(p) for p in pSymbol]"
   ]
  },
  {
   "cell_type": "code",
   "execution_count": 119,
   "metadata": {},
   "outputs": [
    {
     "name": "stdout",
     "output_type": "stream",
     "text": [
      "[4.120294233717712, 6.28771237954945, 5.248793390257147, 5.132894270497346, 3.4532413295652273, 5.853084151912725, 6.23242994404826, 4.997693532616831, 4.061300186760664, 10.702749878828293, 6.895394956770689, 4.899695094204315, 5.411195432984449, 4.0685438590872876, 3.859352206845158, 5.7027498788282935, 10.287712379549449, 4.299027692777283, 4.140507454607221, 3.8241880062782694, 4.904008087075397, 7.1791879227712805, 6.392894616241506, 7.097887820669432, 5.930160374931366, 10.480357457491845, 2.3770696490798233]\n"
     ]
    }
   ],
   "source": [
    "print(infocontentAlphabet)"
   ]
  },
  {
   "cell_type": "markdown",
   "metadata": {},
   "source": [
    "## What is the entropy of the letters (and spaces) - can you validate this is the weighted average of the Shannon information contents you computed?"
   ]
  },
  {
   "cell_type": "code",
   "execution_count": 108,
   "metadata": {},
   "outputs": [],
   "source": [
    "entropyRecalc = np.sum(np.array([ a*b for (a,b) in zip(infocontentAlphabet,pSymbol) ]))"
   ]
  },
  {
   "cell_type": "code",
   "execution_count": 124,
   "metadata": {},
   "outputs": [],
   "source": [
    "entropyWithFunction = entropy(pSymbol)"
   ]
  },
  {
   "cell_type": "code",
   "execution_count": 111,
   "metadata": {},
   "outputs": [
    {
     "name": "stdout",
     "output_type": "stream",
     "text": [
      "4.108698089924512\n"
     ]
    }
   ],
   "source": [
    "print(entropyRecalc)"
   ]
  },
  {
   "cell_type": "code",
   "execution_count": 112,
   "metadata": {},
   "outputs": [
    {
     "name": "stdout",
     "output_type": "stream",
     "text": [
      "4.754887502163468\n"
     ]
    }
   ],
   "source": [
    "print(entropyWithFunction)"
   ]
  },
  {
   "cell_type": "markdown",
   "metadata": {},
   "source": [
    "????"
   ]
  },
  {
   "cell_type": "markdown",
   "metadata": {},
   "source": [
    "## What does this mean about how many (good) questions you would need to ask on average in order to guess a letter sampled from this distribution?\n",
    "\n",
    "We need to ask on average 4.1 yes/no questions"
   ]
  },
  {
   "cell_type": "code",
   "execution_count": null,
   "metadata": {},
   "outputs": [],
   "source": [
    "filename = './data/Seinfeld-scripts-textOnly.txt'\n",
    "with open(filename, 'rt') as f:\n",
    "    text = f.read()"
   ]
  },
  {
   "cell_type": "code",
   "execution_count": null,
   "metadata": {},
   "outputs": [],
   "source": [
    "text.lower()[0:200]"
   ]
  },
  {
   "cell_type": "code",
   "execution_count": null,
   "metadata": {
    "tags": []
   },
   "outputs": [],
   "source": [
    "import string\n",
    "string.punctuation\n",
    "\n",
    "words = ' '.join(text.lower().split())"
   ]
  },
  {
   "cell_type": "code",
   "execution_count": null,
   "metadata": {},
   "outputs": [],
   "source": [
    "import re\n",
    "p = re.compile('[!\"#$%&\\'()*+,-./:;<=>?@[\\\\]^_`{|}~]*')"
   ]
  },
  {
   "cell_type": "code",
   "execution_count": null,
   "metadata": {},
   "outputs": [],
   "source": [
    "processedStr = p.sub('', ' '.join(text.lower().split()))"
   ]
  },
  {
   "cell_type": "code",
   "execution_count": null,
   "metadata": {},
   "outputs": [],
   "source": [
    "sample = [ char for char in processedStr]\n",
    "print(sample[1:50])"
   ]
  },
  {
   "cell_type": "code",
   "execution_count": null,
   "metadata": {},
   "outputs": [],
   "source": [
    "from week1 import entropyEmpirical\n",
    "entropyEmpirical(sample)"
   ]
  },
  {
   "cell_type": "markdown",
   "metadata": {},
   "source": [
    "## How does this compare to the stated value from Mackay (Links to an external site.) in Table 2.9 (sec 2.3; or see slide 26 of our lecture) as estimated from \"The Frequently Asked Questions Manual for Linux\"? Did you expect it to be the same, and why or why not?  \n",
    "\n",
    "Just about the same. (4.09 vs 4.1)\n",
    "\n"
   ]
  },
  {
   "cell_type": "markdown",
   "metadata": {},
   "source": [
    "## compute the Shannon information content of each character, and again compare these to those quoted by Mackay."
   ]
  },
  {
   "cell_type": "code",
   "execution_count": 125,
   "metadata": {},
   "outputs": [
    {
     "name": "stdout",
     "output_type": "stream",
     "text": [
      "xbar : 1.0\n",
      "acling : 1.0\n"
     ]
    }
   ],
   "source": [
    "import collections\n",
    "itemscount = collections.Counter(sample)\n",
    "\n",
    "# probability = # item x / # total number of items\n",
    "dist = [x/sum(itemscount.values()) for x in itemscount.values()]\n",
    "shannonInfoContent = [infocontent(x/sum(itemscount.values())) for x in itemscount.values()]\n",
    "for i, j in zip(itemscount.keys(), shannonInfoContent):\n",
    "    print(\"{} : {}\".format(i, j))\n"
   ]
  },
  {
   "cell_type": "code",
   "execution_count": 126,
   "metadata": {
    "tags": []
   },
   "outputs": [],
   "source": [
    "import string\n",
    "import re\n",
    "\n",
    "filename = './data/Seinfeld-scripts-textOnly.txt'\n",
    "with open(filename, 'rt') as f:\n",
    "    text = f.read()\n",
    "        \n",
    "p = re.compile('[!\"#\\$%&\\'\\(\\)\\*\\+\\,-\\.\\/:;<=>\\?@[\\\\\\^_`{\\|}~0-9]*')\n",
    "processedStr = p.sub('', ' '.join(text.lower().split()))\n",
    "#print(processedStr)"
   ]
  },
  {
   "cell_type": "code",
   "execution_count": 127,
   "metadata": {},
   "outputs": [],
   "source": [
    "samples = [[char1, char2] for char1, char2 in list(zip(processedStr[slice(0, None, 1)], processedStr[slice(1, None, 1)])) ]"
   ]
  },
  {
   "cell_type": "code",
   "execution_count": 128,
   "metadata": {
    "tags": []
   },
   "outputs": [
    {
     "data": {
      "text/plain": [
       "7.453543202601456"
      ]
     },
     "execution_count": 128,
     "metadata": {},
     "output_type": "execute_result"
    }
   ],
   "source": [
    "from week1 import jointEntropyEmpirical\n",
    "jointEntropyEmpirical(samples)"
   ]
  },
  {
   "cell_type": "code",
   "execution_count": 129,
   "metadata": {},
   "outputs": [
    {
     "data": {
      "text/plain": [
       "3.3665982758754556"
      ]
     },
     "execution_count": 129,
     "metadata": {},
     "output_type": "execute_result"
    }
   ],
   "source": [
    "from week1 import conditionalEntropyEmpirical\n",
    "conditionalEntropyEmpirical(samples)"
   ]
  },
  {
   "cell_type": "code",
   "execution_count": null,
   "metadata": {},
   "outputs": [],
   "source": []
  }
 ],
 "metadata": {
  "interpreter": {
   "hash": "98b0a9b7b4eaaa670588a142fd0a9b87eaafe866f1db4228be72b4211d12040f"
  },
  "kernelspec": {
   "display_name": "Python 3 (ipykernel)",
   "language": "python",
   "name": "python3"
  },
  "language_info": {
   "codemirror_mode": {
    "name": "ipython",
    "version": 3
   },
   "file_extension": ".py",
   "mimetype": "text/x-python",
   "name": "python",
   "nbconvert_exporter": "python",
   "pygments_lexer": "ipython3",
   "version": "3.9.7"
  }
 },
 "nbformat": 4,
 "nbformat_minor": 4
}
