{
 "metadata": {
  "language_info": {
   "codemirror_mode": {
    "name": "ipython",
    "version": 3
   },
   "file_extension": ".py",
   "mimetype": "text/x-python",
   "name": "python",
   "nbconvert_exporter": "python",
   "pygments_lexer": "ipython3",
   "version": "3.9.2"
  },
  "orig_nbformat": 4,
  "kernelspec": {
   "name": "python3",
   "display_name": "Python 3.9.2 64-bit ('base': conda)"
  },
  "interpreter": {
   "hash": "98b0a9b7b4eaaa670588a142fd0a9b87eaafe866f1db4228be72b4211d12040f"
  }
 },
 "nbformat": 4,
 "nbformat_minor": 2,
 "cells": [
  {
   "cell_type": "code",
   "execution_count": 2,
   "metadata": {},
   "outputs": [
    {
     "output_type": "execute_result",
     "data": {
      "text/plain": [
       "1.0"
      ]
     },
     "metadata": {},
     "execution_count": 2
    }
   ],
   "source": [
    "from week1 import calculateDatasetShannonEntropy\n",
    "calculateDatasetShannonEntropy([0,0,1,1])"
   ]
  },
  {
   "source": [
    "# samples from a normal distribution with mu  and sigma using numpy\n",
    "# For random samples from N(\\mu, \\sigma^2), use:\n",
    "\n",
    "# sigma * np.random.randn(...) + mu\n",
    "\n",
    "numpy.random.randint(low, high=None, size=None, dtype='l')\n",
    "Return random integers from low (inclusive) to high (exclusive).\n",
    "\n",
    "Return random integers from the “discrete uniform” distribution of the specified dtype in the “half-open” interval [low, high). If high is None (the default), then results are from [0, low)."
   ],
   "cell_type": "markdown",
   "metadata": {}
  },
  {
   "cell_type": "code",
   "execution_count": 4,
   "metadata": {},
   "outputs": [
    {
     "output_type": "stream",
     "name": "stdout",
     "text": [
      "[1 0 1 0 0 1 1 0 0 1]\n"
     ]
    }
   ],
   "source": [
    "import numpy as np\n",
    "samples = np.random.randint(0,2, 10)\n",
    "print(samples)"
   ]
  },
  {
   "cell_type": "code",
   "execution_count": 9,
   "metadata": {},
   "outputs": [
    {
     "output_type": "stream",
     "name": "stdout",
     "text": [
      "1.0\n"
     ]
    }
   ],
   "source": [
    "from week1 import entropy1, calculateDatasetShannonEntropy\n",
    "Hs = calculateDatasetShannonEntropy(samples)\n",
    "print(Hs)"
   ]
  },
  {
   "cell_type": "code",
   "execution_count": 14,
   "metadata": {},
   "outputs": [
    {
     "output_type": "stream",
     "name": "stdout",
     "text": [
      "[3 2 3 0 1 0 2 2 1 0 3 3 0 0 3 0 2 2 3 3 2 1 1 0 1 1 1 0 2 3 0 2 1 0 0 3 1\n 1 1 2 0 0 0 0 0 0 2 1 2 3 3 2 0 3 0 2 2 0 2 3 2 1 1 0 2 2 1 3 2 2 1 0 2 0\n 3 3 1 2 3 0 2 3 1 3 0 3 3 3 1 0 0 2 2 2 0 3 2 2 1 2]\n1.9841774541410144\n"
     ]
    }
   ],
   "source": [
    "samples = np.random.randint(0,4, 100)\n",
    "print(samples)\n",
    "Hs = calculateDatasetShannonEntropy(samples)\n",
    "print(Hs)"
   ]
  },
  {
   "cell_type": "code",
   "execution_count": 78,
   "metadata": {},
   "outputs": [],
   "source": [
    "from math import log2, isclose\n",
    "def entropy1(p: np.array):\n",
    "    if type(p) == list:\n",
    "        p = np.array(p)\n",
    "    # if np.sum(p) != 1:\n",
    "    if not isclose(np.sum(p), 1, rel_tol=1e-):\n",
    "        raise Exception('The sum of the elements of p should be = 1: {}'.format(p))\n",
    "    with suppress(ZeroDivisionError):\n",
    "        H = - np.dot(p, np.where(p > 0, np.log2(p), 0))\n",
    "\n",
    "    return  H"
   ]
  },
  {
   "source": [
    "# Conditional entropy"
   ],
   "cell_type": "markdown",
   "metadata": {}
  },
  {
   "cell_type": "code",
   "execution_count": 79,
   "metadata": {},
   "outputs": [],
   "source": [
    "def conditionalentropy(p: np.array):\n",
    "    # entropyXGivenY\n",
    "    # H(X|Y)\n",
    "    # 2 dim only for now\n",
    "\n",
    "    # e.g.\n",
    "    # p(x,y)\n",
    "    # coded for Y rows (dim=0) \\X   columns (dim=1)\n",
    "    # =>\n",
    "    # transpose(p)\n",
    "    # p = np.array([[0.125, 0.0625, 0.03125, 0.03125],\n",
    "    #       [0.0625, 0.125, 0.03125, 0.03125],\n",
    "    #       [0.0625, 0.0625, 0.0625, 0.0625],\n",
    "    #       [0.25,0,0,0]])\n",
    "    # Correct answer = 11/8 = 1.375 fro transpose p                    \n",
    "    if (type(p) == list):\n",
    "        p = np.array(p)\n",
    "\n",
    "    p = np.transpose(p)\n",
    "\n",
    "    total = 0\n",
    "    for i in range(p.shape[0]):\n",
    "        pyi = np.sum(p[i])\n",
    "        total+= pyi * entropy1(1/pyi * p[i])\n",
    "\n",
    "    return total"
   ]
  },
  {
   "cell_type": "code",
   "execution_count": 76,
   "metadata": {},
   "outputs": [
    {
     "output_type": "stream",
     "name": "stdout",
     "text": [
      "[[0.2 0.3]\n [0.1 0.4]]\n[0.2 0.1]\n"
     ]
    }
   ],
   "source": [
    "p1 = np.array([[0.2, 0.3],[0.1, 0.4]])\n",
    "print(p1)\n",
    "print(p1[:,0])"
   ]
  },
  {
   "cell_type": "code",
   "execution_count": 87,
   "metadata": {},
   "outputs": [],
   "source": [
    "def conditionalentropy2(p: np.array):\n",
    "    # entropyXGivenY\n",
    "    # H(X|Y)\n",
    "    # 2 dim only for now\n",
    "\n",
    "       # X = rows\n",
    "     # Y = columnscoded\n",
    "    if (type(p) == list):\n",
    "        p = np.array(p)\n",
    "\n",
    "    total = 0\n",
    "    for i in range(p.shape[1]):\n",
    "        pxi = np.sum(p[i])\n",
    "        total+= :,pxi * entropy1(1/pxi * p[i])\n",
    "\n",
    "    return total:,"
   ]
  },
  {
   "cell_type": "code",
   "execution_count": 88,
   "metadata": {},
   "outputs": [
    {
     "output_type": "stream",
     "name": "stdout",
     "text": [
      "0.9651484454403229\n0.9651484454403229\n"
     ]
    }
   ],
   "source": [
    "print(conditionalentropy(p1))\n",
    "print(conditionalentropy2(p1))"
   ]
  },
  {
   "source": [
    "# Joint entropy"
   ],
   "cell_type": "markdown",
   "metadata": {}
  },
  {
   "cell_type": "code",
   "execution_count": 31,
   "metadata": {},
   "outputs": [],
   "source": [
    "from week1 import jointEntropy\n"
   ]
  },
  {
   "cell_type": "code",
   "execution_count": 106,
   "metadata": {},
   "outputs": [
    {
     "output_type": "execute_result",
     "data": {
      "text/plain": [
       "1.8464393446710154"
      ]
     },
     "metadata": {},
     "execution_count": 106
    }
   ],
   "source": [
    "p2 = np.array([[0.2, 0.3],[0.1, 0.4]])\n",
    "jointEntropy(p2)"
   ]
  },
  {
   "cell_type": "code",
   "execution_count": 25,
   "metadata": {},
   "outputs": [
    {
     "output_type": "execute_result",
     "data": {
      "text/plain": [
       "1.0"
      ]
     },
     "metadata": {},
     "execution_count": 25
    }
   ],
   "source": [
    "np.sum(p2)"
   ]
  },
  {
   "cell_type": "code",
   "execution_count": 96,
   "metadata": {},
   "outputs": [],
   "source": [
    "from math import log2, isclose\n",
    "import numpy as np\n",
    "import matplotlib.pyplot as plt\n",
    "from contextlib import suppress\n",
    "import collections\n",
    "import scipy.stats as scips\n",
    "\n",
    "#test:p = np.array([[0.2, 0.3],[0.1, 0.4]])\n",
    "# => jointEntropy : 1.8464393446710154\n",
    "\n",
    "def jointEntropy(p: np.array):\n",
    "\n",
    "    if type(p) == list:\n",
    "        p = np.array(p)\n",
    "\n",
    "    if ( np.sum(p) != 1) :\n",
    "        raise Exception('The sum of the elements of p should be = 1{}'.format(p))\n",
    "\n",
    "    # Perform element-wise p(x,y)*log p(x,y)\n",
    "    plogp = lambda x: - x * np.where(x > 0, np.log2(x), 0)\n",
    "    Hs = np.array([plogp(pij) for pij in p])\n",
    "\n",
    "    return  np.sum(Hs)"
   ]
  },
  {
   "cell_type": "code",
   "execution_count": 97,
   "metadata": {},
   "outputs": [
    {
     "output_type": "execute_result",
     "data": {
      "text/plain": [
       "1.8464393446710154"
      ]
     },
     "metadata": {},
     "execution_count": 97
    }
   ],
   "source": [
    "p2 = np.array([[0.2, 0.3],[0.1, 0.4]])\n",
    "jointEntropy(p2)"
   ]
  },
  {
   "cell_type": "code",
   "execution_count": 43,
   "metadata": {},
   "outputs": [],
   "source": [
    "plogp = lambda p: - p * np.where(p > 0, np.log2(p), 0)\n"
   ]
  },
  {
   "cell_type": "code",
   "execution_count": 44,
   "metadata": {},
   "outputs": [
    {
     "output_type": "execute_result",
     "data": {
      "text/plain": [
       "0.5291737384982911"
      ]
     },
     "metadata": {},
     "execution_count": 44
    }
   ],
   "source": [
    "plogp(0.34)"
   ]
  },
  {
   "cell_type": "code",
   "execution_count": 45,
   "metadata": {},
   "outputs": [
    {
     "output_type": "stream",
     "name": "stderr",
     "text": [
      "<ipython-input-43-f8d1d2e4c4c3>:1: RuntimeWarning: divide by zero encountered in log2\n  plogp = lambda p: - p * np.where(p > 0, np.log2(p), 0)\n"
     ]
    },
    {
     "output_type": "execute_result",
     "data": {
      "text/plain": [
       "0.0"
      ]
     },
     "metadata": {},
     "execution_count": 45
    }
   ],
   "source": [
    "plogp(0)"
   ]
  },
  {
   "cell_type": "code",
   "execution_count": 49,
   "metadata": {},
   "outputs": [
    {
     "output_type": "execute_result",
     "data": {
      "text/plain": [
       "1.8464393446710154"
      ]
     },
     "metadata": {},
     "execution_count": 49
    }
   ],
   "source": [
    "p = np.array([[0.2, 0.3],[0.1, 0.4]])\n",
    "Hs = np.array([plogp(pij) for pij in p])\n",
    "np.sum(Hs)"
   ]
  },
  {
   "source": [
    "# joint entropy in more than 2 dimensions"
   ],
   "cell_type": "markdown",
   "metadata": {}
  },
  {
   "cell_type": "code",
   "execution_count": 109,
   "metadata": {},
   "outputs": [
    {
     "output_type": "stream",
     "name": "stdout",
     "text": [
      "[[[1. 0. 0.]\n  [0. 0. 0.]\n  [0. 0. 0.]]\n\n [[0. 0. 0.]\n  [0. 0. 0.]\n  [0. 0. 0.]]\n\n [[0. 0. 0.]\n  [0. 0. 0.]\n  [0. 0. 0.]]]\n"
     ]
    },
    {
     "output_type": "execute_result",
     "data": {
      "text/plain": [
       "1.0"
      ]
     },
     "metadata": {},
     "execution_count": 109
    }
   ],
   "source": [
    "\n",
    "def jointEntropy(p: np.array):\n",
    "\n",
    "    if type(p) == list:\n",
    "        p = np.array(p)\n",
    "\n",
    "    if not isclose(np.sum(p), 1, rel_tol=1e-6):\n",
    "        raise Exception('The sum of the elements of p should be = 1{}'.format(p))\n",
    "\n",
    "    # Perform element-wise p(x,y)*log p(x,y)\n",
    "    plogp = lambda x: - x * np.where(x > 0, np.log2(x), 0)\n",
    "    Hs = np.array([plogp(pij) for pij in p])\n",
    "\n",
    "    return  np.sum(Hs)\n",
    "\n",
    "p3 = np.zeros((3,3,3))\n",
    "p3[0,0,0] = 1\n",
    "print(p3)\n",
    "np.sum(p3)"
   ]
  },
  {
   "cell_type": "code",
   "execution_count": 110,
   "metadata": {},
   "outputs": [
    {
     "output_type": "stream",
     "name": "stderr",
     "text": [
      "<ipython-input-109-b56250aecc45>:10: RuntimeWarning: divide by zero encountered in log2\n  plogp = lambda x: - x * np.where(x > 0, np.log2(x), 0)\n"
     ]
    },
    {
     "output_type": "execute_result",
     "data": {
      "text/plain": [
       "0.0"
      ]
     },
     "metadata": {},
     "execution_count": 110
    }
   ],
   "source": [
    "jointEntropy(p3)"
   ]
  },
  {
   "cell_type": "code",
   "execution_count": 111,
   "metadata": {},
   "outputs": [
    {
     "output_type": "stream",
     "name": "stdout",
     "text": [
      "[[[0.03703704 0.03703704 0.03703704]\n  [0.03703704 0.03703704 0.03703704]\n  [0.03703704 0.03703704 0.03703704]]\n\n [[0.03703704 0.03703704 0.03703704]\n  [0.03703704 0.03703704 0.03703704]\n  [0.03703704 0.03703704 0.03703704]]\n\n [[0.03703704 0.03703704 0.03703704]\n  [0.03703704 0.03703704 0.03703704]\n  [0.03703704 0.03703704 0.03703704]]]\n"
     ]
    }
   ],
   "source": [
    "p4 = np.array([1/27 for i in range(27)]).reshape((3,3,3))\n",
    "print(p4)"
   ]
  },
  {
   "cell_type": "code",
   "execution_count": 112,
   "metadata": {},
   "outputs": [
    {
     "output_type": "execute_result",
     "data": {
      "text/plain": [
       "4.754887502163469"
      ]
     },
     "metadata": {},
     "execution_count": 112
    }
   ],
   "source": [
    "jointEntropy(p4)"
   ]
  },
  {
   "cell_type": "code",
   "execution_count": 102,
   "metadata": {},
   "outputs": [
    {
     "output_type": "execute_result",
     "data": {
      "text/plain": [
       "0.9999999999999998"
      ]
     },
     "metadata": {},
     "execution_count": 102
    }
   ],
   "source": [
    "np.sum(p4)"
   ]
  },
  {
   "source": [
    "# Coding Joint entropy"
   ],
   "cell_type": "markdown",
   "metadata": {}
  },
  {
   "cell_type": "code",
   "execution_count": null,
   "metadata": {},
   "outputs": [],
   "source": [
    "def jointEntropy(p: np.array):\n",
    "\n",
    "    if type(p) == list:\n",
    "        p = np.array(p)\n",
    "\n",
    "    if not isclose(np.sum(p), 1, rel_tol=1e-6):\n",
    "        raise Exception('The sum of the elements of p should be = 1{}'.format(p))\n",
    "\n",
    "    # Perform element-wise p(x,y)*log p(x,y)\n",
    "    plogp = lambda x: - x * np.where(x > 0, np.log2(x), 0)\n",
    "    Hs = np.array([plogp(pij) for pij in p])\n",
    "\n",
    "    return  np.sum(Hs)"
   ]
  },
  {
   "source": [
    "Test that your code works, e.g. by running jointentropy([0.2, 0.3; 0.1, 0.4]) and validating that you get the result 1.85 bits"
   ],
   "cell_type": "markdown",
   "metadata": {}
  },
  {
   "cell_type": "code",
   "execution_count": 115,
   "metadata": {},
   "outputs": [
    {
     "output_type": "execute_result",
     "data": {
      "text/plain": [
       "1.8464393446710154"
      ]
     },
     "metadata": {},
     "execution_count": 115
    }
   ],
   "source": [
    "jointEntropy([[0.2, 0.3],[ 0.1, 0.4]])"
   ]
  },
  {
   "source": [
    "## joint entropy in multiple dimensions"
   ],
   "cell_type": "markdown",
   "metadata": {}
  },
  {
   "cell_type": "code",
   "execution_count": 116,
   "metadata": {},
   "outputs": [
    {
     "output_type": "stream",
     "name": "stdout",
     "text": [
      "[[[1. 0. 0.]\n  [0. 0. 0.]\n  [0. 0. 0.]]\n\n [[0. 0. 0.]\n  [0. 0. 0.]\n  [0. 0. 0.]]\n\n [[0. 0. 0.]\n  [0. 0. 0.]\n  [0. 0. 0.]]]\n"
     ]
    },
    {
     "output_type": "execute_result",
     "data": {
      "text/plain": [
       "1.0"
      ]
     },
     "metadata": {},
     "execution_count": 116
    }
   ],
   "source": [
    "p3 = np.zeros((3,3,3))\n",
    "p3[0,0,0] = 1\n",
    "print(p3)\n",
    "np.sum(p3)"
   ]
  },
  {
   "cell_type": "code",
   "execution_count": 119,
   "metadata": {},
   "outputs": [
    {
     "output_type": "stream",
     "name": "stderr",
     "text": [
      "<ipython-input-109-b56250aecc45>:10: RuntimeWarning: divide by zero encountered in log2\n  plogp = lambda x: - x * np.where(x > 0, np.log2(x), 0)\n"
     ]
    },
    {
     "output_type": "execute_result",
     "data": {
      "text/plain": [
       "0.0"
      ]
     },
     "metadata": {},
     "execution_count": 119
    }
   ],
   "source": [
    "jointEntropy(p3)"
   ]
  },
  {
   "cell_type": "code",
   "execution_count": 117,
   "metadata": {},
   "outputs": [
    {
     "output_type": "stream",
     "name": "stdout",
     "text": [
      "[[[0.03703704 0.03703704 0.03703704]\n  [0.03703704 0.03703704 0.03703704]\n  [0.03703704 0.03703704 0.03703704]]\n\n [[0.03703704 0.03703704 0.03703704]\n  [0.03703704 0.03703704 0.03703704]\n  [0.03703704 0.03703704 0.03703704]]\n\n [[0.03703704 0.03703704 0.03703704]\n  [0.03703704 0.03703704 0.03703704]\n  [0.03703704 0.03703704 0.03703704]]]\n"
     ]
    }
   ],
   "source": [
    "p4 = np.array([1/27 for i in range(27)]).reshape((3,3,3))\n",
    "print(p4)"
   ]
  },
  {
   "cell_type": "code",
   "execution_count": 118,
   "metadata": {},
   "outputs": [
    {
     "output_type": "execute_result",
     "data": {
      "text/plain": [
       "4.754887502163469"
      ]
     },
     "metadata": {},
     "execution_count": 118
    }
   ],
   "source": [
    "jointEntropy(p4)"
   ]
  },
  {
   "source": [
    "# 8. (Extension) Coding joint entropy for empirical data"
   ],
   "cell_type": "markdown",
   "metadata": {}
  },
  {
   "source": [
    "rows = samples x[i] of X (i=1..N, number of samples)\n",
    "columns = variables/features  \n",
    "here will always be multiple rows (because we always should have many samples), but the number of columns will depend on how many variables we are jointly considering (it could be just one if we have only a single variable)."
   ],
   "cell_type": "markdown",
   "metadata": {}
  },
  {
   "cell_type": "code",
   "execution_count": 124,
   "metadata": {},
   "outputs": [
    {
     "output_type": "stream",
     "name": "stdout",
     "text": [
      "[['foobar' 'acling' 'b']\n ['xbar' 'cling' 'd']\n ['foobar' 'dcling' 'b']\n ['xbar' 'acling' 'd']]\n['foobar' 'acling' 'b' 'xbar' 'cling' 'd' 'foobar' 'dcling' 'b' 'xbar'\n 'acling' 'd']\n['foobar', 'acling', 'b', 'xbar', 'cling', 'd', 'foobar', 'dcling', 'b', 'xbar', 'acling', 'd']\nCounter({'foobar': 2, 'acling': 2, 'b': 2, 'xbar': 2, 'd': 2, 'cling': 1, 'dcling': 1})\n"
     ]
    }
   ],
   "source": [
    "import itertools\n",
    "from collections import Counter\n",
    "\n",
    "some_list = [['foobar', 'acling', 'b'], ['xbar', 'cling', 'd'], ['foobar', 'dcling', 'b'], ['xbar', 'acling', 'd']]\n",
    "# totals = Counter(i for i in list(itertools.chain.from_iterable(some_list)))\n",
    "\n",
    "some_list = np.array(some_list)\n",
    "totals2 = Counter(list(some_list.flatten()))\n",
    "\n",
    "print(some_list)\n",
    "print(some_list.flatten())\n",
    "print(list(some_list.flatten()))\n",
    "print(totals2)\n",
    "\n",
    "def jointEntropyEmpirical(samples: np.array):\n",
    "\n",
    "    # check only 2D\n",
    "\n",
    "    # Each row of item represent a sample with the columns being the random variables or features of interest\n",
    "    # row 0 : X\n",
    "    # row 1 : Y\n",
    "\n",
    "    H, edges = np.histogramdd(samples)\n",
    "\n",
    "    for i in range(p.shape[0]):  #iterate over samples\n",
    "        xiCount = collections.Counter(items[i])\n",
    "\n",
    "\n",
    "def calculateDatasetShannonEntropy(items):\n",
    "    # also called empiricalentropy in course\n",
    "    itemscount = collections.Counter(items)\n",
    "    \n",
    "    # probability = # item x / # total number of items\n",
    "    dist = [x/sum(itemscount.values()) for x in itemscount.values()]\n",
    " \n",
    "    # use scipy to calculate entropy\n",
    "    entropy_value = scips.entropy(dist, base=2)\n",
    " \n",
    "    return entropy_value"
   ]
  },
  {
   "source": [
    "https://stackoverflow.com/questions/20332750/python-joint-distribution-of-n-variables    \n",
    "https://numpy.org/doc/stable/reference/generated/numpy.histogram2d.html#numpy.histogram2d"
   ],
   "cell_type": "markdown",
   "metadata": {}
  },
  {
   "cell_type": "code",
   "execution_count": 136,
   "metadata": {},
   "outputs": [
    {
     "output_type": "stream",
     "name": "stdout",
     "text": [
      "['foobar', 'xbar']\n2\n['dcling', 'cling', 'acling']\n3\n"
     ]
    }
   ],
   "source": [
    "samples = [['foobar', 'cling'], ['xbar', 'cling'], ['foobar', 'dcling'], ['xbar', 'acling']]\n",
    "# totals = Counter(i for i in list(itertools.chain.from_iterable(some_list)))\n",
    "samples = np.array(samples)\n",
    "\n",
    "alphabetX=list(set(samples[:,0]))\n",
    "print(alphabetX)\n",
    "print(len(alphabetX))\n",
    "\n",
    "alphabetY=list(set(samples[:,1]))\n",
    "print(alphabetY)\n",
    "print(len(alphabetY))"
   ]
  },
  {
   "cell_type": "code",
   "execution_count": 164,
   "metadata": {},
   "outputs": [
    {
     "output_type": "stream",
     "name": "stdout",
     "text": [
      "Sample 0 : ['foobar' 'cling']\nSample 1 : ['xbar' 'cling']\nSample 2 : ['foobar' 'dcling']\nSample 3 : ['xbar' 'acling']\n"
     ]
    }
   ],
   "source": [
    "\n",
    "alphabetX=list(set(samples[:,0]))\n",
    "alphabetY=list(set(samples[:,1]))\n",
    "\n",
    "jointProbabilities=np.zeros((len(alphabetX), len(alphabetY)))\n",
    "\n",
    "for i in range(samples.shape[0]):\n",
    "    print('Sample {} : {}'.format(i, samples[i]))\n",
    "    sample=samples[i]\n",
    "    jointProbabilities[alphabetX.index(sample[0]), alphabetY.index(sample[1])]+=1\n",
    "\n",
    "jointProbabilities/=samples.shape[0]\n",
    "\n",
    "jointEntropy(jointProbabilities)\n"
   ]
  },
  {
   "cell_type": "code",
   "execution_count": 165,
   "metadata": {},
   "outputs": [
    {
     "output_type": "stream",
     "name": "stdout",
     "text": [
      "['foobar', 'xbar']\n['dcling', 'cling', 'acling']\n[[0.25 0.25 0.  ]\n [0.   0.25 0.25]]\n"
     ]
    }
   ],
   "source": [
    "print(alphabetX)\n",
    "print(alphabetY)\n",
    "print(jointProbabilities)"
   ]
  },
  {
   "cell_type": "code",
   "execution_count": 158,
   "metadata": {},
   "outputs": [
    {
     "output_type": "stream",
     "name": "stderr",
     "text": [
      "<ipython-input-109-b56250aecc45>:10: RuntimeWarning: divide by zero encountered in log2\n  plogp = lambda x: - x * np.where(x > 0, np.log2(x), 0)\n"
     ]
    },
    {
     "output_type": "execute_result",
     "data": {
      "text/plain": [
       "2.0"
      ]
     },
     "metadata": {},
     "execution_count": 158
    }
   ],
   "source": [
    "jointEntropy(jointProbabilities)"
   ]
  },
  {
   "cell_type": "code",
   "execution_count": null,
   "metadata": {},
   "outputs": [],
   "source": []
  }
 ]
}