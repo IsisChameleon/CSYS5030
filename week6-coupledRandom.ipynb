{
 "cells": [
  {
   "cell_type": "code",
   "execution_count": 1,
   "source": [
    "JIDT_HOME='/home/jovyan/notebooks/jidt'\n",
    "DATA_FILENAME=JIDT_HOME + '/demos/data/2coupledRandomCols-1.txt'"
   ],
   "outputs": [],
   "metadata": {}
  },
  {
   "cell_type": "code",
   "execution_count": 2,
   "source": [
    "#---------------------------------------------------\n",
    "# START JVM\n",
    "#-----------------------------------------------------\n",
    "\n",
    "from jpype import startJVM, isJVMStarted, getDefaultJVMPath, JArray, JInt, JPackage, shutdownJVM, JDouble\n",
    "import numpy\n",
    "import sys\n",
    "# Our python data file readers are a bit of a hack, python users will do better on this:\n",
    "sys.path.append(\"/home/jovyan/notebooks/jidt/demos/python\")\n",
    "import readIntsFile, readFloatsFile\n",
    "\n",
    "# Add JIDT jar library to the path\n",
    "jarLocation = \"/home/jovyan/notebooks/jidt/infodynamics.jar\"\n",
    "# Start the JVM (add the \"-Xmx\" option with say 1024M if you get crashes due to not enough memory space)\n",
    "if (not isJVMStarted()):\n",
    "    startJVM(getDefaultJVMPath(), \"-ea\", \"-Djava.class.path=\" + jarLocation)\n"
   ],
   "outputs": [],
   "metadata": {}
  },
  {
   "cell_type": "code",
   "execution_count": 3,
   "source": [
    "# LOAD DATA FILE\n",
    "#-------------------\n",
    "\n",
    "import pandas as pd\n",
    "#from pathlib import Path\n",
    "\n",
    "filename = DATA_FILENAME\n",
    "data = pd.read_csv(filename, delim_whitespace=True, comment='%', header=None, names = ['Col0', 'Col1'], index_col=None)\n",
    "data.head()"
   ],
   "outputs": [
    {
     "output_type": "execute_result",
     "data": {
      "text/plain": [
       "       Col0      Col1\n",
       "0  0.625190  0.000000\n",
       "1  0.183227 -0.847045\n",
       "2 -1.029767  0.131580\n",
       "3  0.949222 -0.989124\n",
       "4  0.307062  0.680356"
      ],
      "text/html": [
       "<div>\n",
       "<style scoped>\n",
       "    .dataframe tbody tr th:only-of-type {\n",
       "        vertical-align: middle;\n",
       "    }\n",
       "\n",
       "    .dataframe tbody tr th {\n",
       "        vertical-align: top;\n",
       "    }\n",
       "\n",
       "    .dataframe thead th {\n",
       "        text-align: right;\n",
       "    }\n",
       "</style>\n",
       "<table border=\"1\" class=\"dataframe\">\n",
       "  <thead>\n",
       "    <tr style=\"text-align: right;\">\n",
       "      <th></th>\n",
       "      <th>Col0</th>\n",
       "      <th>Col1</th>\n",
       "    </tr>\n",
       "  </thead>\n",
       "  <tbody>\n",
       "    <tr>\n",
       "      <th>0</th>\n",
       "      <td>0.625190</td>\n",
       "      <td>0.000000</td>\n",
       "    </tr>\n",
       "    <tr>\n",
       "      <th>1</th>\n",
       "      <td>0.183227</td>\n",
       "      <td>-0.847045</td>\n",
       "    </tr>\n",
       "    <tr>\n",
       "      <th>2</th>\n",
       "      <td>-1.029767</td>\n",
       "      <td>0.131580</td>\n",
       "    </tr>\n",
       "    <tr>\n",
       "      <th>3</th>\n",
       "      <td>0.949222</td>\n",
       "      <td>-0.989124</td>\n",
       "    </tr>\n",
       "    <tr>\n",
       "      <th>4</th>\n",
       "      <td>0.307062</td>\n",
       "      <td>0.680356</td>\n",
       "    </tr>\n",
       "  </tbody>\n",
       "</table>\n",
       "</div>"
      ]
     },
     "metadata": {},
     "execution_count": 3
    }
   ],
   "metadata": {}
  },
  {
   "cell_type": "code",
   "execution_count": 5,
   "source": [
    "import matplotlib.pyplot as plt\n",
    "%matplotlib widget\n",
    "\n",
    "fig, axs = plt.subplots(1, 1, figsize=(9, 6))  \n",
    "#axs.plot(data['Heart rate'], label='Heart rate')\n",
    "axs.plot(data['Col0'], label='Col0')\n",
    "axs.plot(data['Col1'], label='Col1')\n",
    "#axs.plot(data['Blood oxygen'], label='Blood oxygen')\n",
    "#axs.set_title('Heart rate, Chest Volume and Blood Oxygen vs Time')\n",
    "axs.set_xlabel('Sample index')\n",
    "plt.legend()\n",
    "plt.show()"
   ],
   "outputs": [
    {
     "output_type": "display_data",
     "data": {
      "text/plain": [
       "Canvas(toolbar=Toolbar(toolitems=[('Home', 'Reset original view', 'home', 'home'), ('Back', 'Back to previous …"
      ],
      "application/vnd.jupyter.widget-view+json": {
       "version_major": 2,
       "version_minor": 0,
       "model_id": "5d414fa73f3c447ea96b93f4c01d5178"
      }
     },
     "metadata": {}
    }
   ],
   "metadata": {}
  },
  {
   "cell_type": "code",
   "execution_count": 6,
   "source": [
    "# Select data source and destination for MI Estimation\n",
    "# ----------------------------------------------------\n",
    "\n",
    "import numpy as np\n",
    "source = data['Col0'].to_numpy()\n",
    "destination = data['Col1'].to_numpy()\n"
   ],
   "outputs": [],
   "metadata": {}
  },
  {
   "cell_type": "code",
   "execution_count": 75,
   "source": [
    "\n",
    "# # 0. Load/prepare the data:\n",
    "# dataRaw = readFloatsFile.readFloatsFile(JIDT_HOME + \"/demos/data/SFI-heartRate_breathVol_bloodOx-extract.txt\")\n",
    "# # As numpy array:\n",
    "# data = numpy.array(dataRaw)\n",
    "# source = data[:,0]\n",
    "# destination = data[:,1]"
   ],
   "outputs": [],
   "metadata": {}
  },
  {
   "cell_type": "code",
   "execution_count": 7,
   "source": [
    "# Conversion to Java double array instead of numpy.float\n",
    "source = JArray(JDouble, 1)(source.tolist())\n",
    "destination = JArray(JDouble, 1)(destination.tolist())"
   ],
   "outputs": [],
   "metadata": {}
  },
  {
   "cell_type": "code",
   "execution_count": 8,
   "source": [
    "# Construct the calculator : MI Kernel Estimator\n",
    "#-------------------------------------------------\n",
    "\n",
    "# 1. Construct the calculator:\n",
    "calcClass = JPackage(\"infodynamics.measures.continuous.kernel\").MutualInfoCalculatorMultiVariateKernel\n",
    "calc = calcClass()\n",
    "# 2. Set any properties to non-default values:\n",
    "calc.setProperty(\"TIME_DIFF\", \"0\")\n",
    "calc.setProperty(\"KERNEL_WIDTH\", \"0.25\")\n",
    "# 3. Initialise the calculator for (re-)use:\n",
    "calc.initialise()\n",
    "# 4. Supply the sample data:\n",
    "calc.setObservations(source, destination)\n",
    "# 5. Compute the estimate:\n",
    "result = calc.computeAverageLocalOfObservations()\n",
    "\n",
    "print(\"MI_Kernel(col_0 -> col_1) = %.4f bits\" %\n",
    "    (result))\n"
   ],
   "outputs": [
    {
     "output_type": "stream",
     "name": "stdout",
     "text": [
      "MI_Kernel(col_0 -> col_1) = 0.4779 bits\n"
     ]
    }
   ],
   "metadata": {}
  },
  {
   "cell_type": "code",
   "execution_count": 11,
   "source": [
    "\n",
    "def kernelEstimator(timediff: int, k: float):\n",
    "    calc.setProperty(\"TIME_DIFF\", str(timediff))\n",
    "    calc.setProperty(\"KERNEL_WIDTH\", str(k))\n",
    "    # 3. Initialise the calculator for (re-)use:\n",
    "    calc.initialise()\n",
    "    # 4. Supply the sample data:\n",
    "    calc.setObservations(source, destination)\n",
    "    # 5. Compute the estimate:\n",
    "    result = calc.computeAverageLocalOfObservations()\n",
    "    return result\n",
    "\n",
    "\n",
    "\n",
    "\n",
    "    "
   ],
   "outputs": [],
   "metadata": {}
  },
  {
   "cell_type": "code",
   "execution_count": 13,
   "source": [
    "ks = np.linspace(0.1, 0.9, 20)\n",
    "tdiffs = range(50)\n",
    "\n",
    "KE_Results = np.zeros((len(tdiffs), ks.shape[0]))\n",
    "\n",
    "for i, tdiff in enumerate(tdiffs):\n",
    "    for j, k in enumerate(ks):\n",
    "        KE_Results[i][j]=kernelEstimator(str(tdiff), str(k))\n"
   ],
   "outputs": [],
   "metadata": {}
  },
  {
   "cell_type": "code",
   "execution_count": 19,
   "source": [
    "fig, axs = plt.subplots(1, 1, figsize=(9, 6))  \n",
    "axs.plot(KE_Results[:,0], label='MI Kernel r={}'.format(ks[0]))\n",
    "axs.plot(KE_Results[:,5], label='MI Kernel r={}'.format(ks[5]))\n",
    "axs.plot(KE_Results[:,10], label='MI Kernel r={}'.format(ks[10]))\n",
    "axs.plot(KE_Results[:,19], label='MI Kernel r={}'.format(ks[19]))\n",
    "axs.set_title('MI Kernel')\n",
    "axs.set_xlabel('Time Lag')\n",
    "plt.legend()\n",
    "plt.show()"
   ],
   "outputs": [
    {
     "output_type": "display_data",
     "data": {
      "text/plain": [
       "Canvas(toolbar=Toolbar(toolitems=[('Home', 'Reset original view', 'home', 'home'), ('Back', 'Back to previous …"
      ],
      "application/vnd.jupyter.widget-view+json": {
       "version_major": 2,
       "version_minor": 0,
       "model_id": "10a53beed0ec465cb8fd86fad204156a"
      }
     },
     "metadata": {}
    }
   ],
   "metadata": {}
  },
  {
   "cell_type": "code",
   "execution_count": 88,
   "source": [
    "#------------------------------------------\n",
    "# Estimation with Kraskov KSG Estimator\n",
    "#------------------------------------------\n",
    "\n",
    "# 1. Construct the calculator:\n",
    "calcClass = JPackage(\"infodynamics.measures.continuous.kraskov\").MutualInfoCalculatorMultiVariateKraskov2\n",
    "calc = calcClass()\n",
    "# 2. Set any properties to non-default values:\n",
    "calc.setProperty(\"k\", \"4\")\n",
    "# 3. Initialise the calculator for (re-)use:\n",
    "calc.initialise()\n",
    "# 4. Supply the sample data:\n",
    "calc.setObservations(source, destination)\n",
    "# 5. Compute the estimate:\n",
    "result = calc.computeAverageLocalOfObservations()\n",
    "\n",
    "print(\"MI_Kraskov (KSG) alg. 2(col_0 -> col_1) = %.4f nats\" %\n",
    "    (result))"
   ],
   "outputs": [
    {
     "output_type": "stream",
     "name": "stdout",
     "text": [
      "MI_Kraskov (KSG) alg. 2(col_0 -> col_1) = 0.1349 nats\n"
     ]
    }
   ],
   "metadata": {}
  },
  {
   "cell_type": "code",
   "execution_count": 89,
   "source": [
    "KSG_results=[]\n",
    "def ksgEstimator(timediff: int):\n",
    "    calc.setProperty(\"TIME_DIFF\", str(timediff))\n",
    "    # 3. Initialise the calculator for (re-)use:\n",
    "    calc.initialise()\n",
    "    # 4. Supply the sample data:\n",
    "    calc.setObservations(source, destination)\n",
    "    # 5. Compute the estimate:\n",
    "    result = calc.computeAverageLocalOfObservations()\n",
    "    return result\n",
    "\n",
    "for timediff in range(50):\n",
    "    result=gaussianEstimator(timediff)\n",
    "    KSG_results.append(result)"
   ],
   "outputs": [],
   "metadata": {}
  },
  {
   "cell_type": "code",
   "execution_count": 92,
   "source": [
    "fig, axs = plt.subplots(1, 1, figsize=(9, 6))  \n",
    "axs.plot([t for t in range(50)], KSG_results, label='MI KSG 2')\n",
    "axs.plot([t for t in range(50)], results, label='MI Gaussian')\n",
    "axs.set_title('MI Heart rate; Chest Volume vs Time Lag')\n",
    "axs.set_xlabel('Time Lag')\n",
    "plt.legend()\n",
    "plt.show()"
   ],
   "outputs": [
    {
     "output_type": "display_data",
     "data": {
      "text/plain": [
       "Canvas(toolbar=Toolbar(toolitems=[('Home', 'Reset original view', 'home', 'home'), ('Back', 'Back to previous …"
      ],
      "application/vnd.jupyter.widget-view+json": {
       "version_major": 2,
       "version_minor": 0,
       "model_id": "939b0baa045a4221b947d313e9c86dbd"
      }
     },
     "metadata": {}
    }
   ],
   "metadata": {}
  },
  {
   "cell_type": "code",
   "execution_count": null,
   "source": [],
   "outputs": [],
   "metadata": {}
  }
 ],
 "metadata": {
  "interpreter": {
   "hash": "98b0a9b7b4eaaa670588a142fd0a9b87eaafe866f1db4228be72b4211d12040f"
  },
  "kernelspec": {
   "name": "python3",
   "display_name": "Python 3.9.6 64-bit ('base': conda)"
  },
  "language_info": {
   "codemirror_mode": {
    "name": "ipython",
    "version": 3
   },
   "file_extension": ".py",
   "mimetype": "text/x-python",
   "name": "python",
   "nbconvert_exporter": "python",
   "pygments_lexer": "ipython3",
   "version": "3.9.6"
  }
 },
 "nbformat": 4,
 "nbformat_minor": 4
}