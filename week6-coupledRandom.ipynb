{
 "cells": [
  {
   "cell_type": "code",
   "execution_count": 1,
   "source": [
    "JIDT_HOME='/home/jovyan/notebooks/jidt'\n",
    "DATA_FILENAME=JIDT_HOME + '/demos/data/2coupledRandomCols-1.txt'"
   ],
   "outputs": [],
   "metadata": {}
  },
  {
   "cell_type": "code",
   "execution_count": 2,
   "source": [
    "#---------------------------------------------------\n",
    "# START JVM\n",
    "#-----------------------------------------------------\n",
    "\n",
    "from jpype import startJVM, isJVMStarted, getDefaultJVMPath, JArray, JInt, JPackage, shutdownJVM, JDouble\n",
    "import numpy\n",
    "import sys\n",
    "# Our python data file readers are a bit of a hack, python users will do better on this:\n",
    "sys.path.append(\"/home/jovyan/notebooks/jidt/demos/python\")\n",
    "import readIntsFile, readFloatsFile\n",
    "\n",
    "# Add JIDT jar library to the path\n",
    "jarLocation = \"/home/jovyan/notebooks/jidt/infodynamics.jar\"\n",
    "# Start the JVM (add the \"-Xmx\" option with say 1024M if you get crashes due to not enough memory space)\n",
    "if (not isJVMStarted()):\n",
    "    startJVM(getDefaultJVMPath(), \"-ea\", \"-Djava.class.path=\" + jarLocation)\n"
   ],
   "outputs": [],
   "metadata": {}
  },
  {
   "cell_type": "markdown",
   "source": [
    "# 5. Continuous-variable MI in JIDT -- Kernel estimator\n",
    "\n",
    "\n",
    "In this activity, we continue to analyse the 2coupledRandomCols-1.txt data set   \n",
    "(which has variable 1 as a noisy lagged copy of Gaussian variable 0).   \n",
    "\n"
   ],
   "metadata": {}
  },
  {
   "cell_type": "code",
   "execution_count": 3,
   "source": [
    "# LOAD DATA FILE\n",
    "#-------------------\n",
    "\n",
    "import pandas as pd\n",
    "#from pathlib import Path\n",
    "\n",
    "filename = DATA_FILENAME\n",
    "data = pd.read_csv(filename, delim_whitespace=True, comment='%', header=None, names = ['Col0', 'Col1'], index_col=None)\n",
    "data.head()"
   ],
   "outputs": [
    {
     "output_type": "execute_result",
     "data": {
      "text/html": [
       "<div>\n",
       "<style scoped>\n",
       "    .dataframe tbody tr th:only-of-type {\n",
       "        vertical-align: middle;\n",
       "    }\n",
       "\n",
       "    .dataframe tbody tr th {\n",
       "        vertical-align: top;\n",
       "    }\n",
       "\n",
       "    .dataframe thead th {\n",
       "        text-align: right;\n",
       "    }\n",
       "</style>\n",
       "<table border=\"1\" class=\"dataframe\">\n",
       "  <thead>\n",
       "    <tr style=\"text-align: right;\">\n",
       "      <th></th>\n",
       "      <th>Col0</th>\n",
       "      <th>Col1</th>\n",
       "    </tr>\n",
       "  </thead>\n",
       "  <tbody>\n",
       "    <tr>\n",
       "      <th>0</th>\n",
       "      <td>0.625190</td>\n",
       "      <td>0.000000</td>\n",
       "    </tr>\n",
       "    <tr>\n",
       "      <th>1</th>\n",
       "      <td>0.183227</td>\n",
       "      <td>-0.847045</td>\n",
       "    </tr>\n",
       "    <tr>\n",
       "      <th>2</th>\n",
       "      <td>-1.029767</td>\n",
       "      <td>0.131580</td>\n",
       "    </tr>\n",
       "    <tr>\n",
       "      <th>3</th>\n",
       "      <td>0.949222</td>\n",
       "      <td>-0.989124</td>\n",
       "    </tr>\n",
       "    <tr>\n",
       "      <th>4</th>\n",
       "      <td>0.307062</td>\n",
       "      <td>0.680356</td>\n",
       "    </tr>\n",
       "  </tbody>\n",
       "</table>\n",
       "</div>"
      ],
      "text/plain": [
       "       Col0      Col1\n",
       "0  0.625190  0.000000\n",
       "1  0.183227 -0.847045\n",
       "2 -1.029767  0.131580\n",
       "3  0.949222 -0.989124\n",
       "4  0.307062  0.680356"
      ]
     },
     "metadata": {},
     "execution_count": 3
    }
   ],
   "metadata": {}
  },
  {
   "cell_type": "code",
   "execution_count": 5,
   "source": [
    "import matplotlib.pyplot as plt\n",
    "%matplotlib widget\n",
    "\n",
    "fig, axs = plt.subplots(1, 1, figsize=(9, 6))  \n",
    "#axs.plot(data['Heart rate'], label='Heart rate')\n",
    "axs.plot(data['Col0'], label='Col0')\n",
    "axs.plot(data['Col1'], label='Col1')\n",
    "#axs.plot(data['Blood oxygen'], label='Blood oxygen')\n",
    "#axs.set_title('Heart rate, Chest Volume and Blood Oxygen vs Time')\n",
    "axs.set_xlabel('Sample index')\n",
    "plt.legend()\n",
    "plt.show()"
   ],
   "outputs": [
    {
     "output_type": "display_data",
     "data": {
      "application/vnd.jupyter.widget-view+json": {
       "version_major": 2,
       "version_minor": 0,
       "model_id": "5d414fa73f3c447ea96b93f4c01d5178"
      },
      "text/plain": [
       "Canvas(toolbar=Toolbar(toolitems=[('Home', 'Reset original view', 'home', 'home'), ('Back', 'Back to previous …"
      ]
     },
     "metadata": {}
    }
   ],
   "metadata": {}
  },
  {
   "cell_type": "code",
   "execution_count": 27,
   "source": [
    "# Select data source and destination for MI Estimation\n",
    "# ----------------------------------------------------\n",
    "\n",
    "import numpy as np\n",
    "source = data['Col0'].to_numpy()\n",
    "destination = data['Col1'].to_numpy()\n"
   ],
   "outputs": [],
   "metadata": {}
  },
  {
   "cell_type": "code",
   "execution_count": 75,
   "source": [
    "\n",
    "# # 0. Load/prepare the data:\n",
    "# dataRaw = readFloatsFile.readFloatsFile(JIDT_HOME + \"/demos/data/SFI-heartRate_breathVol_bloodOx-extract.txt\")\n",
    "# # As numpy array:\n",
    "# data = numpy.array(dataRaw)\n",
    "# source = data[:,0]\n",
    "# destination = data[:,1]"
   ],
   "outputs": [],
   "metadata": {}
  },
  {
   "cell_type": "code",
   "execution_count": 28,
   "source": [
    "# Conversion to Java double array instead of numpy.float\n",
    "source = JArray(JDouble, 1)(source.tolist())\n",
    "destination = JArray(JDouble, 1)(destination.tolist())"
   ],
   "outputs": [],
   "metadata": {}
  },
  {
   "cell_type": "markdown",
   "source": [
    "## Gaussian estimator"
   ],
   "metadata": {}
  },
  {
   "cell_type": "code",
   "execution_count": 31,
   "source": [
    "# 1. Construct the calculator:\n",
    "calcClass = JPackage(\"infodynamics.measures.continuous.gaussian\").MutualInfoCalculatorMultiVariateGaussian\n",
    "calc = calcClass()\n",
    "# 2. Set any properties to non-default values:\n",
    "calc.setProperty(\"TIME_DIFF\", \"1\")\n",
    "# 3. Initialise the calculator for (re-)use:\n",
    "calc.initialise()\n",
    "# 4. Supply the sample data:\n",
    "calc.setObservations(source, destination)\n",
    "# 5. Compute the estimate:\n",
    "result = calc.computeAverageLocalOfObservations()\n",
    "\n",
    "print(\"MI_Gaussian(col_0 -> col_1) = %.4f nats\" %\n",
    "    (result))"
   ],
   "outputs": [
    {
     "output_type": "stream",
     "name": "stdout",
     "text": [
      "MI_Gaussian(col_0 -> col_1) = 0.3707 nats\n"
     ]
    }
   ],
   "metadata": {}
  },
  {
   "cell_type": "code",
   "execution_count": null,
   "source": [
    "def GaussianEstimator(timediff: int):\n",
    "    "
   ],
   "outputs": [],
   "metadata": {}
  },
  {
   "cell_type": "markdown",
   "source": [
    "## Kernel estimator\n",
    "\n",
    "Select Kernel estimator.   \n",
    "Ensure that the 2coupledRandomCols-1.txt data set is still selected.  \n",
    "\n",
    "Set the TIME_DIFF parameter to 1 again. (Note these are always reset to defaults when you change the estimator). Leave the KERNEL_WIDTH parameter at its default (0.25).\n",
    "Press Compute.\n",
    "\n",
    "Note the answer (it's in bits).\n",
    "\n",
    "How close is it to the answer we measured (in nats) using the linear-Gaussian estimator?\n",
    "\n",
    "\n",
    "Why might it be different? Hint: Think about the assumptions of each estimator and their properties.\n",
    "- dependence on kernel width\n",
    "- possibility of a strong non linear relationship only detected in the kernel estimator\n",
    "\n",
    "\n",
    "### Dependence of Kernel Width\n",
    "\n",
    "You should alter the code template to do this in a for loop, and indeed in Matlab save and plot the results. (Recall that your code needs to call initialise() after setProperty() when changing properties such as the kernel width).\n",
    "How does the answer vary as a function of the kernel width? How is the question the estimator is asking varying as we change the kernel width? Is there an obvious kernel width that you should use?"
   ],
   "metadata": {}
  },
  {
   "cell_type": "code",
   "execution_count": 32,
   "source": [
    "# Construct the calculator : MI Kernel Estimator\n",
    "#-------------------------------------------------\n",
    "\n",
    "# 1. Construct the calculator:\n",
    "calcClass = JPackage(\"infodynamics.measures.continuous.kernel\").MutualInfoCalculatorMultiVariateKernel\n",
    "calc = calcClass()\n",
    "# 2. Set any properties to non-default values:\n",
    "calc.setProperty(\"TIME_DIFF\", \"1\")\n",
    "calc.setProperty(\"KERNEL_WIDTH\", \"0.25\")\n",
    "# 3. Initialise the calculator for (re-)use:\n",
    "calc.initialise()\n",
    "# 4. Supply the sample data:\n",
    "calc.setObservations(source, destination)\n",
    "# 5. Compute the estimate:\n",
    "result = calc.computeAverageLocalOfObservations()\n",
    "\n",
    "print(\"MI_Kernel(col_0 -> col_1) = %.4f bits\" %\n",
    "    (result))\n"
   ],
   "outputs": [
    {
     "output_type": "stream",
     "name": "stdout",
     "text": [
      "MI_Kernel(col_0 -> col_1) = 1.0423 bits\n"
     ]
    }
   ],
   "metadata": {}
  },
  {
   "cell_type": "markdown",
   "source": [
    "## RESULT OF KERNEL ESTIMATOR IS IN BITS !!!!!!!!!!!!!!!!!!!!"
   ],
   "metadata": {}
  },
  {
   "cell_type": "markdown",
   "source": [
    "Change the kernel width from 0.1 up to 1.0 in increments of 0.05, pressing compute and noting the answer each time."
   ],
   "metadata": {}
  },
  {
   "cell_type": "code",
   "execution_count": 11,
   "source": [
    "\n",
    "def kernelEstimator(timediff: int, k: float):\n",
    "    calc.setProperty(\"TIME_DIFF\", str(timediff))\n",
    "    calc.setProperty(\"KERNEL_WIDTH\", str(k))\n",
    "    # 3. Initialise the calculator for (re-)use:\n",
    "    calc.initialise()\n",
    "    # 4. Supply the sample data:\n",
    "    calc.setObservations(source, destination)\n",
    "    # 5. Compute the estimate:\n",
    "    result = calc.computeAverageLocalOfObservations()\n",
    "    return result\n",
    "\n",
    "   "
   ],
   "outputs": [],
   "metadata": {}
  },
  {
   "cell_type": "code",
   "execution_count": 24,
   "source": [
    "ks = np.linspace(0.1, 1.1, 20, endpoint=False)\n",
    "print(ks)"
   ],
   "outputs": [
    {
     "output_type": "stream",
     "name": "stdout",
     "text": [
      "[0.1  0.15 0.2  0.25 0.3  0.35 0.4  0.45 0.5  0.55 0.6  0.65 0.7  0.75\n",
      " 0.8  0.85 0.9  0.95 1.   1.05]\n"
     ]
    }
   ],
   "metadata": {}
  },
  {
   "cell_type": "code",
   "execution_count": 13,
   "source": [
    "ks = np.linspace(0.1, 1.1, 20, endpoint=False)\n",
    "tdiffs = range(50)\n",
    "\n",
    "KE_Results = np.zeros((len(tdiffs), ks.shape[0]))\n",
    "\n",
    "for i, tdiff in enumerate(tdiffs):\n",
    "    for j, k in enumerate(ks):\n",
    "        KE_Results[i][j]=kernelEstimator(str(tdiff), str(k))\n"
   ],
   "outputs": [],
   "metadata": {}
  },
  {
   "cell_type": "code",
   "execution_count": 19,
   "source": [
    "fig, axs = plt.subplots(1, 1, figsize=(9, 6))  \n",
    "axs.plot(KE_Results[:,0], label='MI Kernel r={}'.format(ks[0]))\n",
    "axs.plot(KE_Results[:,5], label='MI Kernel r={}'.format(ks[5]))\n",
    "axs.plot(KE_Results[:,10], label='MI Kernel r={}'.format(ks[10]))\n",
    "axs.plot(KE_Results[:,19], label='MI Kernel r={}'.format(ks[19]))\n",
    "axs.set_title('MI Kernel')\n",
    "axs.set_xlabel('Time Lag')\n",
    "plt.legend()\n",
    "plt.show()"
   ],
   "outputs": [
    {
     "output_type": "display_data",
     "data": {
      "application/vnd.jupyter.widget-view+json": {
       "version_major": 2,
       "version_minor": 0,
       "model_id": "10a53beed0ec465cb8fd86fad204156a"
      },
      "text/plain": [
       "Canvas(toolbar=Toolbar(toolitems=[('Home', 'Reset original view', 'home', 'home'), ('Back', 'Back to previous …"
      ]
     },
     "metadata": {}
    }
   ],
   "metadata": {}
  },
  {
   "cell_type": "code",
   "execution_count": 30,
   "source": [
    "fig, axs = plt.subplots(1, 1, figsize=(9, 6))  \n",
    "axs.plot(ks, KE_Results[1,:], label='MI Kernel Timediff ={} vs ks'.format(tdiffs[1]))\n",
    "axs.set_title('MI with Kernel Estimator - Variation of kernel r')\n",
    "axs.set_xlabel('Kernel r size')\n",
    "plt.legend()\n",
    "plt.show()"
   ],
   "outputs": [
    {
     "output_type": "display_data",
     "data": {
      "application/vnd.jupyter.widget-view+json": {
       "version_major": 2,
       "version_minor": 0,
       "model_id": "29b983379ff84eadabc001c6eef19c5c"
      },
      "text/plain": [
       "Canvas(toolbar=Toolbar(toolitems=[('Home', 'Reset original view', 'home', 'home'), ('Back', 'Back to previous …"
      ]
     },
     "metadata": {}
    }
   ],
   "metadata": {}
  },
  {
   "cell_type": "markdown",
   "source": [
    "This dependency to Kernel width is a big problem of that estimator. \n",
    "\n",
    "\n",
    "## KRASKOV ESTIMATOR   \n",
    "\n",
    "\n",
    "The next estimator will find out the width of the box for us, by selecting a fixed number of points in each box (the K nearest neighbours in the joint space).   \n",
    "So for each sample, then each box will have a different size (smaller when the joint space is more dense, bigger when it is less dense).   \n",
    "So we are effectively zooming in area with a lot of data to pick up the subtleties.   \n",
    "And zooming out from areas that are poorly sampled.   "
   ],
   "metadata": {}
  },
  {
   "cell_type": "code",
   "execution_count": 41,
   "source": [
    "#------------------------------------------\n",
    "# Estimation with Kraskov KSG Estimator\n",
    "#------------------------------------------\n",
    "\n",
    "# 1. Construct the calculator:\n",
    "calcClass = JPackage(\"infodynamics.measures.continuous.kraskov\").MutualInfoCalculatorMultiVariateKraskov2\n",
    "calc = calcClass()\n",
    "# 2. Set any properties to non-default values:\n",
    "calc.setProperty(\"k\", \"4\")\n",
    "# 3. Initialise the calculator for (re-)use:\n",
    "calc.initialise()\n",
    "# 4. Supply the sample data:\n",
    "calc.setObservations(source, destination)\n",
    "# 5. Compute the estimate:\n",
    "result = calc.computeAverageLocalOfObservations()\n",
    "\n",
    "print(\"MI_Kraskov (KSG) alg. 2(col_0 -> col_1) = %.4f nats\" %\n",
    "    (result))"
   ],
   "outputs": [
    {
     "output_type": "stream",
     "name": "stdout",
     "text": [
      "MI_Kraskov (KSG) alg. 2(col_0 -> col_1) = -0.0574 nats\n"
     ]
    }
   ],
   "metadata": {}
  },
  {
   "cell_type": "code",
   "execution_count": 46,
   "source": [
    "KSG_results=[]\n",
    "def ksgEstimator(timediff: int, nearestNeighbors: int = 4):\n",
    "    calc.setProperty(\"TIME_DIFF\", str(timediff))\n",
    "    calc.setProperty(\"k\", str(nearestNeighbors))\n",
    "    # 3. Initialise the calculator for (re-)use:\n",
    "    calc.initialise()\n",
    "    # 4. Supply the sample data:\n",
    "    calc.setObservations(source, destination)\n",
    "    # 5. Compute the estimate:\n",
    "    result = calc.computeAverageLocalOfObservations()\n",
    "    return result\n",
    "\n",
    "for timediff in range(50):\n",
    "    result=ksgEstimator(timediff, 4)\n",
    "    KSG_results.append(result)\n",
    "\n",
    "ks = list(range(4,15))\n",
    "print(ks)\n",
    "KSG_k_results=[]\n",
    "for k in ks:\n",
    "    result=ksgEstimator(1, k)\n",
    "    KSG_k_results.append(result)\n"
   ],
   "outputs": [
    {
     "output_type": "stream",
     "name": "stdout",
     "text": [
      "[4, 5, 6, 7, 8, 9, 10, 11, 12, 13, 14]\n"
     ]
    }
   ],
   "metadata": {}
  },
  {
   "cell_type": "code",
   "execution_count": 47,
   "source": [
    "fig, axs = plt.subplots(1, 1, figsize=(9, 6))  \n",
    "axs.plot(ks, KSG_k_results, label='MI KSG 2')\n",
    "axs.set_title('KSG MI ')\n",
    "axs.set_xlabel('k')\n",
    "plt.legend()\n",
    "plt.show()"
   ],
   "outputs": [
    {
     "output_type": "display_data",
     "data": {
      "application/vnd.jupyter.widget-view+json": {
       "version_major": 2,
       "version_minor": 0,
       "model_id": "63f54bdd9e6347879dbb234f9bbf3bb0"
      },
      "text/plain": [
       "Canvas(toolbar=Toolbar(toolitems=[('Home', 'Reset original view', 'home', 'home'), ('Back', 'Back to previous …"
      ]
     },
     "metadata": {}
    }
   ],
   "metadata": {}
  },
  {
   "cell_type": "markdown",
   "source": [
    "When model estimator like Gaussian shows a large value and one of the model free estimators gives a small value, it may mean there is not enough data for them.    \n",
    "Since they pick up all sort of relationships, they generally need more data.\n",
    "\n",
    "If the non linear estimators are bigger than Gaussian, then it means that there is probably a strong non linear relationship between the 2 variables considered.\n",
    "\n",
    "Those non linear estimators like KSG you can get negative. This is caused by the Bias correction. There is fluctuations around zero because of noise for the mutual information, this fluctuation could bring the estimate for the MI negative.\n",
    "\n"
   ],
   "metadata": {}
  },
  {
   "cell_type": "markdown",
   "source": [],
   "metadata": {}
  }
 ],
 "metadata": {
  "interpreter": {
   "hash": "98b0a9b7b4eaaa670588a142fd0a9b87eaafe866f1db4228be72b4211d12040f"
  },
  "kernelspec": {
   "name": "python3",
   "display_name": "Python 3.9.6 64-bit ('base': conda)"
  },
  "language_info": {
   "codemirror_mode": {
    "name": "ipython",
    "version": 3
   },
   "file_extension": ".py",
   "mimetype": "text/x-python",
   "name": "python",
   "nbconvert_exporter": "python",
   "pygments_lexer": "ipython3",
   "version": "3.9.6"
  }
 },
 "nbformat": 4,
 "nbformat_minor": 4
}