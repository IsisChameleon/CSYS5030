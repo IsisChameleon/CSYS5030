{
 "metadata": {
  "language_info": {
   "codemirror_mode": {
    "name": "ipython",
    "version": 3
   },
   "file_extension": ".py",
   "mimetype": "text/x-python",
   "name": "python",
   "nbconvert_exporter": "python",
   "pygments_lexer": "ipython3",
   "version": "3.9.2"
  },
  "orig_nbformat": 4,
  "kernelspec": {
   "name": "python3",
   "display_name": "Python 3.9.2 64-bit ('base': conda)"
  },
  "interpreter": {
   "hash": "98b0a9b7b4eaaa670588a142fd0a9b87eaafe866f1db4228be72b4211d12040f"
  }
 },
 "nbformat": 4,
 "nbformat_minor": 2,
 "cells": [
  {
   "source": [
    "# WEEK3 INFORMATION\n",
    "# 1. Scissors rock paper analysis\n"
   ],
   "cell_type": "markdown",
   "metadata": {}
  },
  {
   "cell_type": "code",
   "execution_count": 3,
   "metadata": {},
   "outputs": [],
   "source": [
    "#------------------------------------------------------------\n",
    "# WHEN RUNNING LOCALLY UPDATE THIS CELL TO SET UP DATASET LOCATION\n",
    "#------------------------------------------------------------\n",
    "BASEURITXT='/home/jovyan/notebooks/CSYS5030/data/SPR'"
   ]
  },
  {
   "cell_type": "code",
   "execution_count": 4,
   "metadata": {},
   "outputs": [],
   "source": [
    "#------------------------------------------------------------\n",
    "# LOAD GAMES FROM TEXT FILES\n",
    "#------------------------------------------------------------\n",
    "\n",
    "import re\n",
    "from pathlib import Path\n",
    "\n",
    "# moves = { 'scissors':0, 'paper':1, 'rock':2}\n",
    "def getResult(game1: int, game2: int):\n",
    "    results = [[0,1, -1], [-1, 0, 1], [1,-1,0]]\n",
    "    result=results[game1][game2]\n",
    "    return result\n",
    "\n",
    "def loadGames(baseUriStr: str):\n",
    "\n",
    "    player1Regex = re.compile('(?<=Player1:\\s).*(?=;)')\n",
    "    player2Regex = re.compile('(?<=Player2:\\s).*(?=$)')\n",
    "    game1Regex = re.compile('(?<=^)[012](?=\\s)')\n",
    "    game2Regex = re.compile('(?<=\\s)[012](?=$)')\n",
    "\n",
    "    baseUri=Path(baseUriStr)\n",
    "    txtFiles=[x for x in baseUri.glob('**/*.txt')]\n",
    "\n",
    "    # game = [game#, player1, player2, moveplayer1, moveplayer2]\n",
    "    filenum=0\n",
    "    games=list()\n",
    "    for tf in txtFiles:\n",
    "        with open(tf, 'rt') as f:\n",
    "            lines = f.readlines()\n",
    "    \n",
    "        for i, line in enumerate(lines):\n",
    "            if (i == 0):\n",
    "                player1 = re.findall(player1Regex, line)[0].lower()\n",
    "                player2 = re.findall(player2Regex, line)[0].lower()\n",
    "            else:\n",
    "                game1 =  int(re.findall(game1Regex, line)[0])\n",
    "                game2 =  int(re.findall(game2Regex, line)[0])\n",
    "                result = getResult(game1, game2)\n",
    "                result2 = getResult(game2, game1)\n",
    "                games.append([filenum, player1, player2, game1, game2, result, result2])\n",
    "\n",
    "        filenum+=1\n",
    "\n",
    "    return games\n",
    "\n",
    "            \n"
   ]
  },
  {
   "cell_type": "code",
   "execution_count": 5,
   "metadata": {},
   "outputs": [],
   "source": [
    "games = loadGames(BASEURITXT)\n",
    "\n",
    "\n",
    "\n"
   ]
  },
  {
   "cell_type": "code",
   "execution_count": 6,
   "metadata": {},
   "outputs": [],
   "source": [
    "#------------------------------------------------------------\n",
    "# LIST PLAYERS\n",
    "#------------------------------------------------------------\n",
    "\n",
    "import numpy as np\n",
    "\n",
    "edef listPlayers(games: list):\n",
    "    listPs = list()\n",
    "    listPs += [ [game[1], game[2]] for game in games]\n",
    "    listPs = np.array(listPs).flatten()\n",
    "    Pslist(=set(listPs))\n",
    "    return Ps"
   ]
  },
  {
   "cell_type": "code",
   "execution_count": 17,
   "metadata": {},
   "outputs": [
    {
     "output_type": "stream",
     "name": "stdout",
     "text": [
      "['l', 'm-sizzle', 'stuart', 'kc', 'clover', 'yizhi', 'sebastian', 'isabelle', 'j']\nl\n"
     ]
    }
   ],
   "source": [
    "players = listPlayers(games)\n",
    "print(players)\n",
    "print(players[0])\n"
   ]
  },
  {
   "cell_type": "code",
   "execution_count": 15,
   "metadata": {},
   "outputs": [
    {
     "output_type": "stream",
     "name": "stdout",
     "text": [
      "[-1, -1, -1, 1, 0, 0, 1, 1, 1, 1, -1, -1, -1, 0, 0, -1, 1, 0, -1, -1, -1, -1, -1, 0, 1, 0, 1, -1, -1, -1, 1, -1, 0, 0, 0, 1, 1, 0, -1, 0, 0, 0, 1, 1]\n[1, 2, 1, 1, 0, 1, 2, 1, 2, 1, 0, 1, 0, 1, 0, 1, 2, 0, 1, 2, 0, 2, 1, 0, 2, 0, 1, 1, 2, 1, 1, 0, 1, 0, 1, 2, 0, 2, 0, 1, 0, 1, 0, 2]\n44\n44\n"
     ]
    }
   ],
   "source": [
    "#------------------------------------------------------------\n",
    "#   GET 1 PLAYER MOVES AND RESULTS ACCROSS ALL GAMES\n",
    "#------------------------------------------------------------\n",
    "\n",
    "import pandas as pd\n",
    "\n",
    "def getPlayerAllMovesAndGains(playerName: str, games: np.array):\n",
    "    playerName = playerName.lower()\n",
    "    df_games = pd.DataFrame(games, columns = ['Game#', 'Player1', 'Player2', 'Move1', 'Move2', 'Result1', 'Result2' ])\n",
    "    d1 = df_games.loc[ df_games.Player1 == playerName]\n",
    "    moveWhen1 = list(d1.Move1)\n",
    "    winWhen1 = list(d1.Result1)\n",
    "    d2 = df_games.loc[ df_games.Player2 == playerName]\n",
    "    moveWhen2 = list(d2.Move2)\n",
    "    winWhen2 = list(d2.Result2)\n",
    "\n",
    "    return moveWhen1 + moveWhen2, winWhen1 + winWhen2\n",
    "\n",
    "moves, gains = getPlayerAllMovesAndGains('Isabelle', games)\n",
    "\n",
    "print(gains)\n",
    "print(moves)\n",
    "\n",
    "print(len(gains))\n",
    "print(len(moves))\n",
    "\n",
    "\n"
   ]
  },
  {
   "cell_type": "code",
   "execution_count": 120,
   "metadata": {},
   "outputs": [
    {
     "output_type": "execute_result",
     "data": {
      "text/plain": [
       "1.5488102670635504"
      ]
     },
     "metadata": {},
     "execution_count": 120
    }
   ],
   "source": [
    "from week1 import entropyEmpirical\n",
    "entropyEmpirical(moves)"
   ]
  },
  {
   "cell_type": "code",
   "execution_count": 18,
   "metadata": {},
   "outputs": [],
   "source": [
    "players=listPlayers(games)"
   ]
  },
  {
   "cell_type": "code",
   "execution_count": 21,
   "metadata": {},
   "outputs": [],
   "source": [
    "#------------------------------------------------------------\n",
    "#   GET 1 PLAYER MOVES AND RESULTS ACCROSS ALL GAMES\n",
    "#------------------------------------------------------------\n",
    "\n",
    "playersGameEntropy=dict()\n",
    "for player in players:\n",
    "    playersGameEntropy[player]=None\n"
   ]
  },
  {
   "cell_type": "code",
   "execution_count": 29,
   "metadata": {},
   "outputs": [
    {
     "output_type": "stream",
     "name": "stdout",
     "text": [
      "l plays with entropy 1.0 and in average a score of 0\nwinRatio 0.0, lossRatio 0.0\nm-sizzle plays with entropy 1.5602518646164185 and in average a score of 1\nwinRatio 0.4, lossRatio 0.37777777777777777\nstuart plays with entropy 1.4839123015466111 and in average a score of -3\nwinRatio 0.2857142857142857, lossRatio 0.37142857142857144\nkc plays with entropy 1.565596230357602 and in average a score of 3\nwinRatio 0.4, lossRatio 0.3\nclover plays with entropy 1.516147658077609 and in average a score of -3\nwinRatio 0.16, lossRatio 0.28\nyizhi plays with entropy 1.4987512731845576 and in average a score of 3\nwinRatio 0.38235294117647056, lossRatio 0.29411764705882354\nsebastian plays with entropy 1.4396275363413569 and in average a score of 3\nwinRatio 0.28, lossRatio 0.16\nisabelle plays with entropy 1.5488102670635504 and in average a score of -4\nwinRatio 0.29545454545454547, lossRatio 0.38636363636363635\nj plays with entropy 1.0 and in average a score of 0\nwinRatio 0.0, lossRatio 0.0\n"
     ]
    }
   ],
   "source": [
    "from week1 import entropyEmpirical\n",
    "\n",
    "scores=list()\n",
    "entropies=list()\n",
    "lossRatios=list()\n",
    "winRatios=list()\n",
    "for player in players:\n",
    "    moves, gains = getPlayerAllMovesAndGains(player, games)\n",
    "    playersGameEntropy[player] = entropyEmpirical(moves)\n",
    "    gains=np.array(gains)\n",
    "    score=np.sum(gains)\n",
    "    winRatio=len(list(gains[gains==1]))/len(list(gains))\n",
    "    lossRatio=len(list(gains[gains==-1]))/len(list(gains))\n",
    "    winRatios.append(winRatio)\n",
    "    lossRatios.append(lossRatio)\n",
    "    scores.append(score)\n",
    "    entropies.append(playersGameEntropy[player])\n",
    "    print('{} plays with entropy {} and in average a score of {}'.format(player, playersGameEntropy[player], score))\n",
    "    print('winRatio {}, lossRatio {}'.format(winRatio, lossRatio))\n",
    "\n"
   ]
  },
  {
   "cell_type": "code",
   "execution_count": 34,
   "metadata": {},
   "outputs": [
    {
     "output_type": "stream",
     "name": "stderr",
     "text": [
      "No handles with labels found to put in legend.\n"
     ]
    },
    {
     "output_type": "display_data",
     "data": {
      "text/plain": "<Figure size 648x432 with 1 Axes>",
      "image/svg+xml": "<?xml version=\"1.0\" encoding=\"utf-8\" standalone=\"no\"?>\n<!DOCTYPE svg PUBLIC \"-//W3C//DTD SVG 1.1//EN\"\n  \"http://www.w3.org/Graphics/SVG/1.1/DTD/svg11.dtd\">\n<svg height=\"386.034375pt\" version=\"1.1\" viewBox=\"0 0 545.865625 386.034375\" width=\"545.865625pt\" xmlns=\"http://www.w3.org/2000/svg\" xmlns:xlink=\"http://www.w3.org/1999/xlink\">\n <metadata>\n  <rdf:RDF xmlns:cc=\"http://creativecommons.org/ns#\" xmlns:dc=\"http://purl.org/dc/elements/1.1/\" xmlns:rdf=\"http://www.w3.org/1999/02/22-rdf-syntax-ns#\">\n   <cc:Work>\n    <dc:type rdf:resource=\"http://purl.org/dc/dcmitype/StillImage\"/>\n    <dc:date>2021-08-25T09:05:40.876560</dc:date>\n    <dc:format>image/svg+xml</dc:format>\n    <dc:creator>\n     <cc:Agent>\n      <dc:title>Matplotlib v3.4.2, https://matplotlib.org/</dc:title>\n     </cc:Agent>\n    </dc:creator>\n   </cc:Work>\n  </rdf:RDF>\n </metadata>\n <defs>\n  <style type=\"text/css\">*{stroke-linecap:butt;stroke-linejoin:round;}</style>\n </defs>\n <g id=\"figure_1\">\n  <g id=\"patch_1\">\n   <path d=\"M 0 386.034375 \nL 545.865625 386.034375 \nL 545.865625 0 \nL 0 0 \nz\n\" style=\"fill:none;\"/>\n  </g>\n  <g id=\"axes_1\">\n   <g id=\"patch_2\">\n    <path d=\"M 36.465625 348.478125 \nL 538.665625 348.478125 \nL 538.665625 22.318125 \nL 36.465625 22.318125 \nz\n\" style=\"fill:#ffffff;\"/>\n   </g>\n   <g id=\"matplotlib.axis_1\">\n    <g id=\"xtick_1\">\n     <g id=\"line2d_1\">\n      <defs>\n       <path d=\"M 0 0 \nL 0 3.5 \n\" id=\"m9e023b9258\" style=\"stroke:#000000;stroke-width:0.8;\"/>\n      </defs>\n      <g>\n       <use style=\"stroke:#000000;stroke-width:0.8;\" x=\"59.292898\" xlink:href=\"#m9e023b9258\" y=\"348.478125\"/>\n      </g>\n     </g>\n     <g id=\"text_1\">\n      <!-- 1.0 -->\n      <g transform=\"translate(51.341335 363.076562)scale(0.1 -0.1)\">\n       <defs>\n        <path d=\"M 794 531 \nL 1825 531 \nL 1825 4091 \nL 703 3866 \nL 703 4441 \nL 1819 4666 \nL 2450 4666 \nL 2450 531 \nL 3481 531 \nL 3481 0 \nL 794 0 \nL 794 531 \nz\n\" id=\"DejaVuSans-31\" transform=\"scale(0.015625)\"/>\n        <path d=\"M 684 794 \nL 1344 794 \nL 1344 0 \nL 684 0 \nL 684 794 \nz\n\" id=\"DejaVuSans-2e\" transform=\"scale(0.015625)\"/>\n        <path d=\"M 2034 4250 \nQ 1547 4250 1301 3770 \nQ 1056 3291 1056 2328 \nQ 1056 1369 1301 889 \nQ 1547 409 2034 409 \nQ 2525 409 2770 889 \nQ 3016 1369 3016 2328 \nQ 3016 3291 2770 3770 \nQ 2525 4250 2034 4250 \nz\nM 2034 4750 \nQ 2819 4750 3233 4129 \nQ 3647 3509 3647 2328 \nQ 3647 1150 3233 529 \nQ 2819 -91 2034 -91 \nQ 1250 -91 836 529 \nQ 422 1150 422 2328 \nQ 422 3509 836 4129 \nQ 1250 4750 2034 4750 \nz\n\" id=\"DejaVuSans-30\" transform=\"scale(0.015625)\"/>\n       </defs>\n       <use xlink:href=\"#DejaVuSans-31\"/>\n       <use x=\"63.623047\" xlink:href=\"#DejaVuSans-2e\"/>\n       <use x=\"95.410156\" xlink:href=\"#DejaVuSans-30\"/>\n      </g>\n     </g>\n    </g>\n    <g id=\"xtick_2\">\n     <g id=\"line2d_2\">\n      <g>\n       <use style=\"stroke:#000000;stroke-width:0.8;\" x=\"140.012222\" xlink:href=\"#m9e023b9258\" y=\"348.478125\"/>\n      </g>\n     </g>\n     <g id=\"text_2\">\n      <!-- 1.1 -->\n      <g transform=\"translate(132.060659 363.076562)scale(0.1 -0.1)\">\n       <use xlink:href=\"#DejaVuSans-31\"/>\n       <use x=\"63.623047\" xlink:href=\"#DejaVuSans-2e\"/>\n       <use x=\"95.410156\" xlink:href=\"#DejaVuSans-31\"/>\n      </g>\n     </g>\n    </g>\n    <g id=\"xtick_3\">\n     <g id=\"line2d_3\">\n      <g>\n       <use style=\"stroke:#000000;stroke-width:0.8;\" x=\"220.731546\" xlink:href=\"#m9e023b9258\" y=\"348.478125\"/>\n      </g>\n     </g>\n     <g id=\"text_3\">\n      <!-- 1.2 -->\n      <g transform=\"translate(212.779984 363.076562)scale(0.1 -0.1)\">\n       <defs>\n        <path d=\"M 1228 531 \nL 3431 531 \nL 3431 0 \nL 469 0 \nL 469 531 \nQ 828 903 1448 1529 \nQ 2069 2156 2228 2338 \nQ 2531 2678 2651 2914 \nQ 2772 3150 2772 3378 \nQ 2772 3750 2511 3984 \nQ 2250 4219 1831 4219 \nQ 1534 4219 1204 4116 \nQ 875 4013 500 3803 \nL 500 4441 \nQ 881 4594 1212 4672 \nQ 1544 4750 1819 4750 \nQ 2544 4750 2975 4387 \nQ 3406 4025 3406 3419 \nQ 3406 3131 3298 2873 \nQ 3191 2616 2906 2266 \nQ 2828 2175 2409 1742 \nQ 1991 1309 1228 531 \nz\n\" id=\"DejaVuSans-32\" transform=\"scale(0.015625)\"/>\n       </defs>\n       <use xlink:href=\"#DejaVuSans-31\"/>\n       <use x=\"63.623047\" xlink:href=\"#DejaVuSans-2e\"/>\n       <use x=\"95.410156\" xlink:href=\"#DejaVuSans-32\"/>\n      </g>\n     </g>\n    </g>\n    <g id=\"xtick_4\">\n     <g id=\"line2d_4\">\n      <g>\n       <use style=\"stroke:#000000;stroke-width:0.8;\" x=\"301.45087\" xlink:href=\"#m9e023b9258\" y=\"348.478125\"/>\n      </g>\n     </g>\n     <g id=\"text_4\">\n      <!-- 1.3 -->\n      <g transform=\"translate(293.499308 363.076562)scale(0.1 -0.1)\">\n       <defs>\n        <path d=\"M 2597 2516 \nQ 3050 2419 3304 2112 \nQ 3559 1806 3559 1356 \nQ 3559 666 3084 287 \nQ 2609 -91 1734 -91 \nQ 1441 -91 1130 -33 \nQ 819 25 488 141 \nL 488 750 \nQ 750 597 1062 519 \nQ 1375 441 1716 441 \nQ 2309 441 2620 675 \nQ 2931 909 2931 1356 \nQ 2931 1769 2642 2001 \nQ 2353 2234 1838 2234 \nL 1294 2234 \nL 1294 2753 \nL 1863 2753 \nQ 2328 2753 2575 2939 \nQ 2822 3125 2822 3475 \nQ 2822 3834 2567 4026 \nQ 2313 4219 1838 4219 \nQ 1578 4219 1281 4162 \nQ 984 4106 628 3988 \nL 628 4550 \nQ 988 4650 1302 4700 \nQ 1616 4750 1894 4750 \nQ 2613 4750 3031 4423 \nQ 3450 4097 3450 3541 \nQ 3450 3153 3228 2886 \nQ 3006 2619 2597 2516 \nz\n\" id=\"DejaVuSans-33\" transform=\"scale(0.015625)\"/>\n       </defs>\n       <use xlink:href=\"#DejaVuSans-31\"/>\n       <use x=\"63.623047\" xlink:href=\"#DejaVuSans-2e\"/>\n       <use x=\"95.410156\" xlink:href=\"#DejaVuSans-33\"/>\n      </g>\n     </g>\n    </g>\n    <g id=\"xtick_5\">\n     <g id=\"line2d_5\">\n      <g>\n       <use style=\"stroke:#000000;stroke-width:0.8;\" x=\"382.170194\" xlink:href=\"#m9e023b9258\" y=\"348.478125\"/>\n      </g>\n     </g>\n     <g id=\"text_5\">\n      <!-- 1.4 -->\n      <g transform=\"translate(374.218632 363.076562)scale(0.1 -0.1)\">\n       <defs>\n        <path d=\"M 2419 4116 \nL 825 1625 \nL 2419 1625 \nL 2419 4116 \nz\nM 2253 4666 \nL 3047 4666 \nL 3047 1625 \nL 3713 1625 \nL 3713 1100 \nL 3047 1100 \nL 3047 0 \nL 2419 0 \nL 2419 1100 \nL 313 1100 \nL 313 1709 \nL 2253 4666 \nz\n\" id=\"DejaVuSans-34\" transform=\"scale(0.015625)\"/>\n       </defs>\n       <use xlink:href=\"#DejaVuSans-31\"/>\n       <use x=\"63.623047\" xlink:href=\"#DejaVuSans-2e\"/>\n       <use x=\"95.410156\" xlink:href=\"#DejaVuSans-34\"/>\n      </g>\n     </g>\n    </g>\n    <g id=\"xtick_6\">\n     <g id=\"line2d_6\">\n      <g>\n       <use style=\"stroke:#000000;stroke-width:0.8;\" x=\"462.889518\" xlink:href=\"#m9e023b9258\" y=\"348.478125\"/>\n      </g>\n     </g>\n     <g id=\"text_6\">\n      <!-- 1.5 -->\n      <g transform=\"translate(454.937956 363.076562)scale(0.1 -0.1)\">\n       <defs>\n        <path d=\"M 691 4666 \nL 3169 4666 \nL 3169 4134 \nL 1269 4134 \nL 1269 2991 \nQ 1406 3038 1543 3061 \nQ 1681 3084 1819 3084 \nQ 2600 3084 3056 2656 \nQ 3513 2228 3513 1497 \nQ 3513 744 3044 326 \nQ 2575 -91 1722 -91 \nQ 1428 -91 1123 -41 \nQ 819 9 494 109 \nL 494 744 \nQ 775 591 1075 516 \nQ 1375 441 1709 441 \nQ 2250 441 2565 725 \nQ 2881 1009 2881 1497 \nQ 2881 1984 2565 2268 \nQ 2250 2553 1709 2553 \nQ 1456 2553 1204 2497 \nQ 953 2441 691 2322 \nL 691 4666 \nz\n\" id=\"DejaVuSans-35\" transform=\"scale(0.015625)\"/>\n       </defs>\n       <use xlink:href=\"#DejaVuSans-31\"/>\n       <use x=\"63.623047\" xlink:href=\"#DejaVuSans-2e\"/>\n       <use x=\"95.410156\" xlink:href=\"#DejaVuSans-35\"/>\n      </g>\n     </g>\n    </g>\n    <g id=\"text_7\">\n     <!-- H(x) -->\n     <g transform=\"translate(276.944531 376.754687)scale(0.1 -0.1)\">\n      <defs>\n       <path d=\"M 628 4666 \nL 1259 4666 \nL 1259 2753 \nL 3553 2753 \nL 3553 4666 \nL 4184 4666 \nL 4184 0 \nL 3553 0 \nL 3553 2222 \nL 1259 2222 \nL 1259 0 \nL 628 0 \nL 628 4666 \nz\n\" id=\"DejaVuSans-48\" transform=\"scale(0.015625)\"/>\n       <path d=\"M 1984 4856 \nQ 1566 4138 1362 3434 \nQ 1159 2731 1159 2009 \nQ 1159 1288 1364 580 \nQ 1569 -128 1984 -844 \nL 1484 -844 \nQ 1016 -109 783 600 \nQ 550 1309 550 2009 \nQ 550 2706 781 3412 \nQ 1013 4119 1484 4856 \nL 1984 4856 \nz\n\" id=\"DejaVuSans-28\" transform=\"scale(0.015625)\"/>\n       <path d=\"M 3513 3500 \nL 2247 1797 \nL 3578 0 \nL 2900 0 \nL 1881 1375 \nL 863 0 \nL 184 0 \nL 1544 1831 \nL 300 3500 \nL 978 3500 \nL 1906 2253 \nL 2834 3500 \nL 3513 3500 \nz\n\" id=\"DejaVuSans-78\" transform=\"scale(0.015625)\"/>\n       <path d=\"M 513 4856 \nL 1013 4856 \nQ 1481 4119 1714 3412 \nQ 1947 2706 1947 2009 \nQ 1947 1309 1714 600 \nQ 1481 -109 1013 -844 \nL 513 -844 \nQ 928 -128 1133 580 \nQ 1338 1288 1338 2009 \nQ 1338 2731 1133 3434 \nQ 928 4138 513 4856 \nz\n\" id=\"DejaVuSans-29\" transform=\"scale(0.015625)\"/>\n      </defs>\n      <use xlink:href=\"#DejaVuSans-48\"/>\n      <use x=\"75.195312\" xlink:href=\"#DejaVuSans-28\"/>\n      <use x=\"114.208984\" xlink:href=\"#DejaVuSans-78\"/>\n      <use x=\"173.388672\" xlink:href=\"#DejaVuSans-29\"/>\n     </g>\n    </g>\n   </g>\n   <g id=\"matplotlib.axis_2\">\n    <g id=\"ytick_1\">\n     <g id=\"line2d_7\">\n      <defs>\n       <path d=\"M 0 0 \nL -3.5 0 \n\" id=\"m60ad202b19\" style=\"stroke:#000000;stroke-width:0.8;\"/>\n      </defs>\n      <g>\n       <use style=\"stroke:#000000;stroke-width:0.8;\" x=\"36.465625\" xlink:href=\"#m60ad202b19\" y=\"333.65267\"/>\n      </g>\n     </g>\n     <g id=\"text_8\">\n      <!-- 0.00 -->\n      <g transform=\"translate(7.2 337.451889)scale(0.1 -0.1)\">\n       <use xlink:href=\"#DejaVuSans-30\"/>\n       <use x=\"63.623047\" xlink:href=\"#DejaVuSans-2e\"/>\n       <use x=\"95.410156\" xlink:href=\"#DejaVuSans-30\"/>\n       <use x=\"159.033203\" xlink:href=\"#DejaVuSans-30\"/>\n      </g>\n     </g>\n    </g>\n    <g id=\"ytick_2\">\n     <g id=\"line2d_8\">\n      <g>\n       <use style=\"stroke:#000000;stroke-width:0.8;\" x=\"36.465625\" xlink:href=\"#m60ad202b19\" y=\"296.589034\"/>\n      </g>\n     </g>\n     <g id=\"text_9\">\n      <!-- 0.05 -->\n      <g transform=\"translate(7.2 300.388253)scale(0.1 -0.1)\">\n       <use xlink:href=\"#DejaVuSans-30\"/>\n       <use x=\"63.623047\" xlink:href=\"#DejaVuSans-2e\"/>\n       <use x=\"95.410156\" xlink:href=\"#DejaVuSans-30\"/>\n       <use x=\"159.033203\" xlink:href=\"#DejaVuSans-35\"/>\n      </g>\n     </g>\n    </g>\n    <g id=\"ytick_3\">\n     <g id=\"line2d_9\">\n      <g>\n       <use style=\"stroke:#000000;stroke-width:0.8;\" x=\"36.465625\" xlink:href=\"#m60ad202b19\" y=\"259.525398\"/>\n      </g>\n     </g>\n     <g id=\"text_10\">\n      <!-- 0.10 -->\n      <g transform=\"translate(7.2 263.324616)scale(0.1 -0.1)\">\n       <use xlink:href=\"#DejaVuSans-30\"/>\n       <use x=\"63.623047\" xlink:href=\"#DejaVuSans-2e\"/>\n       <use x=\"95.410156\" xlink:href=\"#DejaVuSans-31\"/>\n       <use x=\"159.033203\" xlink:href=\"#DejaVuSans-30\"/>\n      </g>\n     </g>\n    </g>\n    <g id=\"ytick_4\">\n     <g id=\"line2d_10\">\n      <g>\n       <use style=\"stroke:#000000;stroke-width:0.8;\" x=\"36.465625\" xlink:href=\"#m60ad202b19\" y=\"222.461761\"/>\n      </g>\n     </g>\n     <g id=\"text_11\">\n      <!-- 0.15 -->\n      <g transform=\"translate(7.2 226.26098)scale(0.1 -0.1)\">\n       <use xlink:href=\"#DejaVuSans-30\"/>\n       <use x=\"63.623047\" xlink:href=\"#DejaVuSans-2e\"/>\n       <use x=\"95.410156\" xlink:href=\"#DejaVuSans-31\"/>\n       <use x=\"159.033203\" xlink:href=\"#DejaVuSans-35\"/>\n      </g>\n     </g>\n    </g>\n    <g id=\"ytick_5\">\n     <g id=\"line2d_11\">\n      <g>\n       <use style=\"stroke:#000000;stroke-width:0.8;\" x=\"36.465625\" xlink:href=\"#m60ad202b19\" y=\"185.398125\"/>\n      </g>\n     </g>\n     <g id=\"text_12\">\n      <!-- 0.20 -->\n      <g transform=\"translate(7.2 189.197344)scale(0.1 -0.1)\">\n       <use xlink:href=\"#DejaVuSans-30\"/>\n       <use x=\"63.623047\" xlink:href=\"#DejaVuSans-2e\"/>\n       <use x=\"95.410156\" xlink:href=\"#DejaVuSans-32\"/>\n       <use x=\"159.033203\" xlink:href=\"#DejaVuSans-30\"/>\n      </g>\n     </g>\n    </g>\n    <g id=\"ytick_6\">\n     <g id=\"line2d_12\">\n      <g>\n       <use style=\"stroke:#000000;stroke-width:0.8;\" x=\"36.465625\" xlink:href=\"#m60ad202b19\" y=\"148.334489\"/>\n      </g>\n     </g>\n     <g id=\"text_13\">\n      <!-- 0.25 -->\n      <g transform=\"translate(7.2 152.133707)scale(0.1 -0.1)\">\n       <use xlink:href=\"#DejaVuSans-30\"/>\n       <use x=\"63.623047\" xlink:href=\"#DejaVuSans-2e\"/>\n       <use x=\"95.410156\" xlink:href=\"#DejaVuSans-32\"/>\n       <use x=\"159.033203\" xlink:href=\"#DejaVuSans-35\"/>\n      </g>\n     </g>\n    </g>\n    <g id=\"ytick_7\">\n     <g id=\"line2d_13\">\n      <g>\n       <use style=\"stroke:#000000;stroke-width:0.8;\" x=\"36.465625\" xlink:href=\"#m60ad202b19\" y=\"111.270852\"/>\n      </g>\n     </g>\n     <g id=\"text_14\">\n      <!-- 0.30 -->\n      <g transform=\"translate(7.2 115.070071)scale(0.1 -0.1)\">\n       <use xlink:href=\"#DejaVuSans-30\"/>\n       <use x=\"63.623047\" xlink:href=\"#DejaVuSans-2e\"/>\n       <use x=\"95.410156\" xlink:href=\"#DejaVuSans-33\"/>\n       <use x=\"159.033203\" xlink:href=\"#DejaVuSans-30\"/>\n      </g>\n     </g>\n    </g>\n    <g id=\"ytick_8\">\n     <g id=\"line2d_14\">\n      <g>\n       <use style=\"stroke:#000000;stroke-width:0.8;\" x=\"36.465625\" xlink:href=\"#m60ad202b19\" y=\"74.207216\"/>\n      </g>\n     </g>\n     <g id=\"text_15\">\n      <!-- 0.35 -->\n      <g transform=\"translate(7.2 78.006435)scale(0.1 -0.1)\">\n       <use xlink:href=\"#DejaVuSans-30\"/>\n       <use x=\"63.623047\" xlink:href=\"#DejaVuSans-2e\"/>\n       <use x=\"95.410156\" xlink:href=\"#DejaVuSans-33\"/>\n       <use x=\"159.033203\" xlink:href=\"#DejaVuSans-35\"/>\n      </g>\n     </g>\n    </g>\n    <g id=\"ytick_9\">\n     <g id=\"line2d_15\">\n      <g>\n       <use style=\"stroke:#000000;stroke-width:0.8;\" x=\"36.465625\" xlink:href=\"#m60ad202b19\" y=\"37.14358\"/>\n      </g>\n     </g>\n     <g id=\"text_16\">\n      <!-- 0.40 -->\n      <g transform=\"translate(7.2 40.942798)scale(0.1 -0.1)\">\n       <use xlink:href=\"#DejaVuSans-30\"/>\n       <use x=\"63.623047\" xlink:href=\"#DejaVuSans-2e\"/>\n       <use x=\"95.410156\" xlink:href=\"#DejaVuSans-34\"/>\n       <use x=\"159.033203\" xlink:href=\"#DejaVuSans-30\"/>\n      </g>\n     </g>\n    </g>\n   </g>\n   <g id=\"line2d_16\">\n    <defs>\n     <path d=\"M 0 3 \nC 0.795609 3 1.55874 2.683901 2.12132 2.12132 \nC 2.683901 1.55874 3 0.795609 3 0 \nC 3 -0.795609 2.683901 -1.55874 2.12132 -2.12132 \nC 1.55874 -2.683901 0.795609 -3 0 -3 \nC -0.795609 -3 -1.55874 -2.683901 -2.12132 -2.12132 \nC -2.683901 -1.55874 -3 -0.795609 -3 0 \nC -3 0.795609 -2.683901 1.55874 -2.12132 2.12132 \nC -1.55874 2.683901 -0.795609 3 0 3 \nz\n\" id=\"m34ad73bfbf\" style=\"stroke:#ff0000;\"/>\n    </defs>\n    <g clip-path=\"url(#pf06e6dccdc)\">\n     <use style=\"fill:#ff0000;stroke:#ff0000;\" x=\"59.292898\" xlink:href=\"#m34ad73bfbf\" y=\"333.65267\"/>\n     <use style=\"fill:#ff0000;stroke:#ff0000;\" x=\"511.524416\" xlink:href=\"#m34ad73bfbf\" y=\"37.14358\"/>\n     <use style=\"fill:#ff0000;stroke:#ff0000;\" x=\"449.903637\" xlink:href=\"#m34ad73bfbf\" y=\"121.860463\"/>\n     <use style=\"fill:#ff0000;stroke:#ff0000;\" x=\"515.838352\" xlink:href=\"#m34ad73bfbf\" y=\"37.14358\"/>\n     <use style=\"fill:#ff0000;stroke:#ff0000;\" x=\"475.923799\" xlink:href=\"#m34ad73bfbf\" y=\"215.049034\"/>\n     <use style=\"fill:#ff0000;stroke:#ff0000;\" x=\"461.881555\" xlink:href=\"#m34ad73bfbf\" y=\"50.224863\"/>\n     <use style=\"fill:#ff0000;stroke:#ff0000;\" x=\"414.157274\" xlink:href=\"#m34ad73bfbf\" y=\"126.096307\"/>\n     <use style=\"fill:#ff0000;stroke:#ff0000;\" x=\"502.288836\" xlink:href=\"#m34ad73bfbf\" y=\"114.640274\"/>\n     <use style=\"fill:#ff0000;stroke:#ff0000;\" x=\"59.292898\" xlink:href=\"#m34ad73bfbf\" y=\"333.65267\"/>\n    </g>\n   </g>\n   <g id=\"patch_3\">\n    <path d=\"M 36.465625 348.478125 \nL 36.465625 22.318125 \n\" style=\"fill:none;stroke:#000000;stroke-linecap:square;stroke-linejoin:miter;stroke-width:0.8;\"/>\n   </g>\n   <g id=\"patch_4\">\n    <path d=\"M 538.665625 348.478125 \nL 538.665625 22.318125 \n\" style=\"fill:none;stroke:#000000;stroke-linecap:square;stroke-linejoin:miter;stroke-width:0.8;\"/>\n   </g>\n   <g id=\"patch_5\">\n    <path d=\"M 36.465625 348.478125 \nL 538.665625 348.478125 \n\" style=\"fill:none;stroke:#000000;stroke-linecap:square;stroke-linejoin:miter;stroke-width:0.8;\"/>\n   </g>\n   <g id=\"patch_6\">\n    <path d=\"M 36.465625 22.318125 \nL 538.665625 22.318125 \n\" style=\"fill:none;stroke:#000000;stroke-linecap:square;stroke-linejoin:miter;stroke-width:0.8;\"/>\n   </g>\n   <g id=\"text_17\">\n    <!-- WinRatios vs Entropies -->\n    <g transform=\"translate(219.039063 16.318125)scale(0.12 -0.12)\">\n     <defs>\n      <path d=\"M 213 4666 \nL 850 4666 \nL 1831 722 \nL 2809 4666 \nL 3519 4666 \nL 4500 722 \nL 5478 4666 \nL 6119 4666 \nL 4947 0 \nL 4153 0 \nL 3169 4050 \nL 2175 0 \nL 1381 0 \nL 213 4666 \nz\n\" id=\"DejaVuSans-57\" transform=\"scale(0.015625)\"/>\n      <path d=\"M 603 3500 \nL 1178 3500 \nL 1178 0 \nL 603 0 \nL 603 3500 \nz\nM 603 4863 \nL 1178 4863 \nL 1178 4134 \nL 603 4134 \nL 603 4863 \nz\n\" id=\"DejaVuSans-69\" transform=\"scale(0.015625)\"/>\n      <path d=\"M 3513 2113 \nL 3513 0 \nL 2938 0 \nL 2938 2094 \nQ 2938 2591 2744 2837 \nQ 2550 3084 2163 3084 \nQ 1697 3084 1428 2787 \nQ 1159 2491 1159 1978 \nL 1159 0 \nL 581 0 \nL 581 3500 \nL 1159 3500 \nL 1159 2956 \nQ 1366 3272 1645 3428 \nQ 1925 3584 2291 3584 \nQ 2894 3584 3203 3211 \nQ 3513 2838 3513 2113 \nz\n\" id=\"DejaVuSans-6e\" transform=\"scale(0.015625)\"/>\n      <path d=\"M 2841 2188 \nQ 3044 2119 3236 1894 \nQ 3428 1669 3622 1275 \nL 4263 0 \nL 3584 0 \nL 2988 1197 \nQ 2756 1666 2539 1819 \nQ 2322 1972 1947 1972 \nL 1259 1972 \nL 1259 0 \nL 628 0 \nL 628 4666 \nL 2053 4666 \nQ 2853 4666 3247 4331 \nQ 3641 3997 3641 3322 \nQ 3641 2881 3436 2590 \nQ 3231 2300 2841 2188 \nz\nM 1259 4147 \nL 1259 2491 \nL 2053 2491 \nQ 2509 2491 2742 2702 \nQ 2975 2913 2975 3322 \nQ 2975 3731 2742 3939 \nQ 2509 4147 2053 4147 \nL 1259 4147 \nz\n\" id=\"DejaVuSans-52\" transform=\"scale(0.015625)\"/>\n      <path d=\"M 2194 1759 \nQ 1497 1759 1228 1600 \nQ 959 1441 959 1056 \nQ 959 750 1161 570 \nQ 1363 391 1709 391 \nQ 2188 391 2477 730 \nQ 2766 1069 2766 1631 \nL 2766 1759 \nL 2194 1759 \nz\nM 3341 1997 \nL 3341 0 \nL 2766 0 \nL 2766 531 \nQ 2569 213 2275 61 \nQ 1981 -91 1556 -91 \nQ 1019 -91 701 211 \nQ 384 513 384 1019 \nQ 384 1609 779 1909 \nQ 1175 2209 1959 2209 \nL 2766 2209 \nL 2766 2266 \nQ 2766 2663 2505 2880 \nQ 2244 3097 1772 3097 \nQ 1472 3097 1187 3025 \nQ 903 2953 641 2809 \nL 641 3341 \nQ 956 3463 1253 3523 \nQ 1550 3584 1831 3584 \nQ 2591 3584 2966 3190 \nQ 3341 2797 3341 1997 \nz\n\" id=\"DejaVuSans-61\" transform=\"scale(0.015625)\"/>\n      <path d=\"M 1172 4494 \nL 1172 3500 \nL 2356 3500 \nL 2356 3053 \nL 1172 3053 \nL 1172 1153 \nQ 1172 725 1289 603 \nQ 1406 481 1766 481 \nL 2356 481 \nL 2356 0 \nL 1766 0 \nQ 1100 0 847 248 \nQ 594 497 594 1153 \nL 594 3053 \nL 172 3053 \nL 172 3500 \nL 594 3500 \nL 594 4494 \nL 1172 4494 \nz\n\" id=\"DejaVuSans-74\" transform=\"scale(0.015625)\"/>\n      <path d=\"M 1959 3097 \nQ 1497 3097 1228 2736 \nQ 959 2375 959 1747 \nQ 959 1119 1226 758 \nQ 1494 397 1959 397 \nQ 2419 397 2687 759 \nQ 2956 1122 2956 1747 \nQ 2956 2369 2687 2733 \nQ 2419 3097 1959 3097 \nz\nM 1959 3584 \nQ 2709 3584 3137 3096 \nQ 3566 2609 3566 1747 \nQ 3566 888 3137 398 \nQ 2709 -91 1959 -91 \nQ 1206 -91 779 398 \nQ 353 888 353 1747 \nQ 353 2609 779 3096 \nQ 1206 3584 1959 3584 \nz\n\" id=\"DejaVuSans-6f\" transform=\"scale(0.015625)\"/>\n      <path d=\"M 2834 3397 \nL 2834 2853 \nQ 2591 2978 2328 3040 \nQ 2066 3103 1784 3103 \nQ 1356 3103 1142 2972 \nQ 928 2841 928 2578 \nQ 928 2378 1081 2264 \nQ 1234 2150 1697 2047 \nL 1894 2003 \nQ 2506 1872 2764 1633 \nQ 3022 1394 3022 966 \nQ 3022 478 2636 193 \nQ 2250 -91 1575 -91 \nQ 1294 -91 989 -36 \nQ 684 19 347 128 \nL 347 722 \nQ 666 556 975 473 \nQ 1284 391 1588 391 \nQ 1994 391 2212 530 \nQ 2431 669 2431 922 \nQ 2431 1156 2273 1281 \nQ 2116 1406 1581 1522 \nL 1381 1569 \nQ 847 1681 609 1914 \nQ 372 2147 372 2553 \nQ 372 3047 722 3315 \nQ 1072 3584 1716 3584 \nQ 2034 3584 2315 3537 \nQ 2597 3491 2834 3397 \nz\n\" id=\"DejaVuSans-73\" transform=\"scale(0.015625)\"/>\n      <path id=\"DejaVuSans-20\" transform=\"scale(0.015625)\"/>\n      <path d=\"M 191 3500 \nL 800 3500 \nL 1894 563 \nL 2988 3500 \nL 3597 3500 \nL 2284 0 \nL 1503 0 \nL 191 3500 \nz\n\" id=\"DejaVuSans-76\" transform=\"scale(0.015625)\"/>\n      <path d=\"M 628 4666 \nL 3578 4666 \nL 3578 4134 \nL 1259 4134 \nL 1259 2753 \nL 3481 2753 \nL 3481 2222 \nL 1259 2222 \nL 1259 531 \nL 3634 531 \nL 3634 0 \nL 628 0 \nL 628 4666 \nz\n\" id=\"DejaVuSans-45\" transform=\"scale(0.015625)\"/>\n      <path d=\"M 2631 2963 \nQ 2534 3019 2420 3045 \nQ 2306 3072 2169 3072 \nQ 1681 3072 1420 2755 \nQ 1159 2438 1159 1844 \nL 1159 0 \nL 581 0 \nL 581 3500 \nL 1159 3500 \nL 1159 2956 \nQ 1341 3275 1631 3429 \nQ 1922 3584 2338 3584 \nQ 2397 3584 2469 3576 \nQ 2541 3569 2628 3553 \nL 2631 2963 \nz\n\" id=\"DejaVuSans-72\" transform=\"scale(0.015625)\"/>\n      <path d=\"M 1159 525 \nL 1159 -1331 \nL 581 -1331 \nL 581 3500 \nL 1159 3500 \nL 1159 2969 \nQ 1341 3281 1617 3432 \nQ 1894 3584 2278 3584 \nQ 2916 3584 3314 3078 \nQ 3713 2572 3713 1747 \nQ 3713 922 3314 415 \nQ 2916 -91 2278 -91 \nQ 1894 -91 1617 61 \nQ 1341 213 1159 525 \nz\nM 3116 1747 \nQ 3116 2381 2855 2742 \nQ 2594 3103 2138 3103 \nQ 1681 3103 1420 2742 \nQ 1159 2381 1159 1747 \nQ 1159 1113 1420 752 \nQ 1681 391 2138 391 \nQ 2594 391 2855 752 \nQ 3116 1113 3116 1747 \nz\n\" id=\"DejaVuSans-70\" transform=\"scale(0.015625)\"/>\n      <path d=\"M 3597 1894 \nL 3597 1613 \nL 953 1613 \nQ 991 1019 1311 708 \nQ 1631 397 2203 397 \nQ 2534 397 2845 478 \nQ 3156 559 3463 722 \nL 3463 178 \nQ 3153 47 2828 -22 \nQ 2503 -91 2169 -91 \nQ 1331 -91 842 396 \nQ 353 884 353 1716 \nQ 353 2575 817 3079 \nQ 1281 3584 2069 3584 \nQ 2775 3584 3186 3129 \nQ 3597 2675 3597 1894 \nz\nM 3022 2063 \nQ 3016 2534 2758 2815 \nQ 2500 3097 2075 3097 \nQ 1594 3097 1305 2825 \nQ 1016 2553 972 2059 \nL 3022 2063 \nz\n\" id=\"DejaVuSans-65\" transform=\"scale(0.015625)\"/>\n     </defs>\n     <use xlink:href=\"#DejaVuSans-57\"/>\n     <use x=\"96.626953\" xlink:href=\"#DejaVuSans-69\"/>\n     <use x=\"124.410156\" xlink:href=\"#DejaVuSans-6e\"/>\n     <use x=\"187.789062\" xlink:href=\"#DejaVuSans-52\"/>\n     <use x=\"255.021484\" xlink:href=\"#DejaVuSans-61\"/>\n     <use x=\"316.300781\" xlink:href=\"#DejaVuSans-74\"/>\n     <use x=\"355.509766\" xlink:href=\"#DejaVuSans-69\"/>\n     <use x=\"383.292969\" xlink:href=\"#DejaVuSans-6f\"/>\n     <use x=\"444.474609\" xlink:href=\"#DejaVuSans-73\"/>\n     <use x=\"496.574219\" xlink:href=\"#DejaVuSans-20\"/>\n     <use x=\"528.361328\" xlink:href=\"#DejaVuSans-76\"/>\n     <use x=\"587.541016\" xlink:href=\"#DejaVuSans-73\"/>\n     <use x=\"639.640625\" xlink:href=\"#DejaVuSans-20\"/>\n     <use x=\"671.427734\" xlink:href=\"#DejaVuSans-45\"/>\n     <use x=\"734.611328\" xlink:href=\"#DejaVuSans-6e\"/>\n     <use x=\"797.990234\" xlink:href=\"#DejaVuSans-74\"/>\n     <use x=\"837.199219\" xlink:href=\"#DejaVuSans-72\"/>\n     <use x=\"876.0625\" xlink:href=\"#DejaVuSans-6f\"/>\n     <use x=\"937.244141\" xlink:href=\"#DejaVuSans-70\"/>\n     <use x=\"1000.720703\" xlink:href=\"#DejaVuSans-69\"/>\n     <use x=\"1028.503906\" xlink:href=\"#DejaVuSans-65\"/>\n     <use x=\"1090.027344\" xlink:href=\"#DejaVuSans-73\"/>\n    </g>\n   </g>\n   <g id=\"legend_1\">\n    <g id=\"patch_7\">\n     <path d=\"M 527.665625 35.318125 \nL 531.665625 35.318125 \nQ 533.665625 35.318125 533.665625 33.318125 \nL 533.665625 29.318125 \nQ 533.665625 27.318125 531.665625 27.318125 \nL 527.665625 27.318125 \nQ 525.665625 27.318125 525.665625 29.318125 \nL 525.665625 33.318125 \nQ 525.665625 35.318125 527.665625 35.318125 \nz\n\" style=\"fill:#ffffff;opacity:0.8;stroke:#cccccc;stroke-linejoin:miter;\"/>\n    </g>\n   </g>\n  </g>\n </g>\n <defs>\n  <clipPath id=\"pf06e6dccdc\">\n   <rect height=\"326.16\" width=\"502.2\" x=\"36.465625\" y=\"22.318125\"/>\n  </clipPath>\n </defs>\n</svg>\n",
      "image/png": "[encoded data removed]"
     },
     "metadata": {
      "needs_background": "light"
     }
    }
   ],
   "source": [
    "#------------------------------------------------------------\n",
    "#   PLOT Entropies vs WinRatios\n",
    "#------------------------------------------------------------\n",
    "\n",
    "\n",
    "import matplotlib.pyplot as plt\n",
    "\n",
    "fig, axs = plt.subplots(1, 1, figsize=(9, 6))  \n",
    "axs.plot(entropies, winRatios, 'ro')\n",
    "axs.set_title('WinRatios vs Entropies')\n",
    "axs.set_xlabel('H(x)')\n",
    "plt.legend()\n",
    "plt.show()\n",
    "\n"
   ]
  },
  {
   "source": [
    "# 4. mutual information"
   ],
   "cell_type": "markdown",
   "metadata": {}
  },
  {
   "cell_type": "code",
   "execution_count": 1,
   "metadata": {},
   "outputs": [
    {
     "output_type": "execute_result",
     "data": {
      "text/plain": [
       "0.034851554559677256"
      ]
     },
     "metadata": {},
     "execution_count": 1
    }
   ],
   "source": [
    "from week1 import mutualInformation\n",
    "\n",
    "p = [[0.2, 0.3],[0.1, 0.4]]\n",
    "mutualInformation(p)\n",
    "#correct result = 0.034851554559677256"
   ]
  },
  {
   "cell_type": "code",
   "execution_count": 2,
   "metadata": {},
   "outputs": [
    {
     "output_type": "execute_result",
     "data": {
      "text/plain": [
       "1.0"
      ]
     },
     "metadata": {},
     "execution_count": 2
    }
   ],
   "source": [
    "p=[[0.5,0],[0,0.5]]\n",
    "mutualInformation(p)\n",
    "#correct result = 1"
   ]
  },
  {
   "cell_type": "code",
   "execution_count": 3,
   "metadata": {},
   "outputs": [
    {
     "output_type": "execute_result",
     "data": {
      "text/plain": [
       "0.0"
      ]
     },
     "metadata": {},
     "execution_count": 3
    }
   ],
   "source": [
    "p=[[0.25,0.25],[0.25,0.25]]\n",
    "mutualInformation(p)\n",
    "#correct result = 0 bits"
   ]
  },
  {
   "cell_type": "code",
   "execution_count": 1,
   "metadata": {},
   "outputs": [
    {
     "output_type": "execute_result",
     "data": {
      "text/plain": [
       "0.0"
      ]
     },
     "metadata": {},
     "execution_count": 1
    }
   ],
   "source": [
    "from week1 import mutualInformationEmpirical\n",
    "\n",
    "samples = [[0,0],[0,1],[1,0],[1,1]]\n",
    "mutualInformationEmpirical(samples)\n",
    "#correct answer : 0 bits cause knowing about 1 does't give any information about the state of the other"
   ]
  },
  {
   "cell_type": "code",
   "execution_count": 2,
   "metadata": {},
   "outputs": [
    {
     "output_type": "execute_result",
     "data": {
      "text/plain": [
       "1.0"
      ]
     },
     "metadata": {},
     "execution_count": 2
    }
   ],
   "source": [
    "samples = [[0,0],[0,0],[1,1],[1,1]]\n",
    "mutualInformationEmpirical(samples)\n",
    "#correct answer : 1 bits, cause knowing 1 is knowing the other"
   ]
  },
  {
   "source": [
    "# Mutual information between successive letters in written English   "
   ],
   "cell_type": "markdown",
   "metadata": {}
  },
  {
   "cell_type": "code",
   "execution_count": 46,
   "metadata": {},
   "outputs": [
    {
     "output_type": "execute_result",
     "data": {
      "text/plain": [
       "4.093811389530425"
      ]
     },
     "metadata": {},
     "execution_count": 46
    }
   ],
   "source": [
    "import re\n",
    "from week1 import entropyEmpirical, mutualInformationEmpirical, conditionalEntropyEmpirical, jointEntropyEmpirical\n",
    "\n",
    "filename = './data/Seinfeld-scripts-textOnly.txt'\n",
    "with open(filename, 'rt') as f:\n",
    "    text = f.read()\n",
    "\n",
    "\n",
    "p = re.compile('[!\"#$%&\\'()*+,-./:;<=>?@[\\\\]^_`{|}~]*')\n",
    "\n",
    "processedStr = p.sub('', ' '.join(text.lower().split()))\n",
    "\n",
    "sample = [ char for char in processedStr]\n",
    "entropyEmpirical(sample)"
   ]
  },
  {
   "cell_type": "code",
   "execution_count": 47,
   "metadata": {},
   "outputs": [
    {
     "output_type": "stream",
     "name": "stdout",
     "text": [
      "do you know what this is all about do you know why were here to be out this is outand out is one of the single most enjoyable experiences of life peopledid you ever hear people talking about we should\n"
     ]
    }
   ],
   "source": [
    "print(processedStr[0:200])"
   ]
  },
  {
   "cell_type": "code",
   "execution_count": 48,
   "metadata": {},
   "outputs": [],
   "source": [
    "samples = [[char1, char2] for char1, char2 in list(zip(processedStr[slice(0, None, 1)], processedStr[slice(1, None, 1)])) ]"
   ]
  },
  {
   "source": [
    "## Compute this mutual information and compare that to the average entropy of each character computed as per step 5 of the activity in the previous module"
   ],
   "cell_type": "markdown",
   "metadata": {}
  },
  {
   "cell_type": "code",
   "execution_count": 50,
   "metadata": {},
   "outputs": [
    {
     "output_type": "execute_result",
     "data": {
      "text/plain": [
       "0.7269903009049097"
      ]
     },
     "metadata": {},
     "execution_count": 50
    }
   ],
   "source": [
    "mutualInformationEmpirical(samples)"
   ]
  },
  {
   "cell_type": "code",
   "execution_count": 51,
   "metadata": {},
   "outputs": [
    {
     "output_type": "execute_result",
     "data": {
      "text/plain": [
       "3.366821110907418"
      ]
     },
     "metadata": {},
     "execution_count": 51
    }
   ],
   "source": [
    "conditionalEntropyEmpirical(samples)"
   ]
  },
  {
   "cell_type": "code",
   "execution_count": 52,
   "metadata": {},
   "outputs": [
    {
     "output_type": "execute_result",
     "data": {
      "text/plain": [
       "0.7269902786230071"
      ]
     },
     "metadata": {},
     "execution_count": 52
    }
   ],
   "source": [
    "4.093811389530425 - 3.366821110907418\n",
    "\n",
    "\n"
   ]
  },
  {
   "source": [
    "We obtain the\n",
    "H(X) - H(X|Y) = I(X;Y)"
   ],
   "cell_type": "markdown",
   "metadata": {}
  },
  {
   "source": [
    "1. What proportion of our uncertainty about the next character in the written text is reduced by observing the previous character?  \n",
    "\n",
    "We have reduce uncertainty by 0.73 bits\n",
    "\n",
    "1. How much code could we save in communicating a character if our coding scheme took the previous character into account? \n",
    "\n",
    "Instead of having to use 4.0938 bits we could use only 3.3668 bits \n",
    "\n",
    "2. The mutual information computes a measure of the relationship between the consecutive characters here. You're probably familiar with using correlation to measure a relationship between variables -- could correlation be used here? We will see more about how MI and correlation are related in the coming weeks.\n",
    "\n",
    "https://www.statology.org/correlation-in-python/    \n",
    "https://realpython.com/numpy-scipy-pandas-correlation-python/   \n",
    "https://www.geeksforgeeks.org/python-pearson-correlation-test-between-two-variables/    "
   ],
   "cell_type": "markdown",
   "metadata": {}
  },
  {
   "source": [
    "Calculate the correlation between the two arrays   \n",
    "Here the 2 arrays are the 2 arrays containing successive characters\n"
   ],
   "cell_type": "markdown",
   "metadata": {}
  },
  {
   "cell_type": "code",
   "execution_count": 61,
   "metadata": {},
   "outputs": [],
   "source": [
    "from sklearn import preprocessing \n",
    "labelEncoder = preprocessing.LabelEncoder() \n",
    "labelEncoder.fit(samples[:,0])\n",
    "labelEncoder.fit(samples[:,1])\n",
    " \n",
    "samplex= labelEncoder.transform(samples[:,0]) \n",
    "sampley= labelEncoder.transform(samples[:,1]) \n"
   ]
  },
  {
   "cell_type": "code",
   "execution_count": 62,
   "metadata": {},
   "outputs": [
    {
     "output_type": "execute_result",
     "data": {
      "text/plain": [
       "array([[ 1.        , -0.23654437],\n",
       "       [-0.23654437,  1.        ]])"
      ]
     },
     "metadata": {},
     "execution_count": 62
    }
   ],
   "source": [
    "np.corrcoef(samplex, sampley)"
   ]
  },
  {
   "cell_type": "code",
   "execution_count": 63,
   "metadata": {},
   "outputs": [],
   "source": [
    "# the above corrcoeff calculates the Pearson corerlation coefficient matrix, which is a measure of linear correlation. It may be otherwise correlated than linear."
   ]
  },
  {
   "cell_type": "code",
   "execution_count": 64,
   "metadata": {},
   "outputs": [
    {
     "output_type": "stream",
     "name": "stdout",
     "text": [
      "[15 26  0 ... 16 29 20]\n"
     ]
    }
   ],
   "source": [
    "print(samplex)"
   ]
  },
  {
   "cell_type": "code",
   "execution_count": 65,
   "metadata": {},
   "outputs": [
    {
     "output_type": "stream",
     "name": "stdout",
     "text": [
      "[26  0 36 ... 29 20 12]\n"
     ]
    }
   ],
   "source": [
    "print(sampley)"
   ]
  },
  {
   "source": [
    "## Are there relationships between previous characters and later characters beyond those which are consecutive?\n",
    "0.3 something 2l\n",
    "0.1 something 3l\n",
    "0.05 something 4l"
   ],
   "cell_type": "markdown",
   "metadata": {}
  },
  {
   "cell_type": "code",
   "execution_count": 71,
   "metadata": {},
   "outputs": [],
   "source": [
    " samples_2l = [[char1, char2] for char1, char2 in list(zip(processedStr[slice(0, None, 2)], processedStr[slice(2, None, 2)])) ] "
   ]
  },
  {
   "cell_type": "code",
   "execution_count": 72,
   "metadata": {},
   "outputs": [
    {
     "output_type": "execute_result",
     "data": {
      "text/plain": [
       "0.33075041703021313"
      ]
     },
     "metadata": {},
     "execution_count": 72
    }
   ],
   "source": [
    "mutualInformationEmpirical(samples_2l)"
   ]
  },
  {
   "cell_type": "code",
   "execution_count": 73,
   "metadata": {},
   "outputs": [],
   "source": [
    "samples_3l = [[char1, char2] for char1, char2 in list(zip(processedStr[slice(0, None, 3)], processedStr[slice(3, None, 3)])) ] "
   ]
  },
  {
   "cell_type": "code",
   "execution_count": 74,
   "metadata": {},
   "outputs": [
    {
     "output_type": "execute_result",
     "data": {
      "text/plain": [
       "0.11679974963117346"
      ]
     },
     "metadata": {},
     "execution_count": 74
    }
   ],
   "source": [
    "mutualInformationEmpirical(samples_3l)"
   ]
  },
  {
   "cell_type": "code",
   "execution_count": null,
   "metadata": {},
   "outputs": [],
   "source": []
  }
 ]
}