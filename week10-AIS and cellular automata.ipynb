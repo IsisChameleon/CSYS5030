{
 "cells": [
  {
   "cell_type": "code",
   "execution_count": null,
   "metadata": {},
   "outputs": [],
   "source": []
  },
  {
   "cell_type": "code",
   "execution_count": null,
   "metadata": {},
   "outputs": [],
   "source": []
  },
  {
   "cell_type": "markdown",
   "metadata": {},
   "source": [
    "  # Activity 6 Local information storage\n",
    "\n",
    "In this activity we will examine Active Information Storage (AIS) in Elementary Cellular Automata rule 54.  \n",
    "CAs are wonderful canonical systems to use to explore dynamics of self-organisation in complex systems, in particular regarding emergent structures such as blinkers, gliders and collisions.    \n",
    "If you have not played around with CAs before, you can explore dynamics of ECAs using NetLogo via Sample models | Computer Science | Cellular Automata | CA 1D Elementary in the Models Library (or access via NetLogo web (Links to an external site.) if you don't have an installation): try rules 2, 8, 18, 30, 54, 90, 110, 146, and 254 to see a variety of dynamics.   \n",
    "\n",
    "\n",
    "In this example we will compute the appropriate embedding length manually,    \n",
    "and then go on to examine local AIS values and how they relate to emergent structure."
   ]
  },
  {
   "cell_type": "code",
   "execution_count": 8,
   "metadata": {},
   "outputs": [],
   "source": [
    "#---------------------------------------------------\n",
    "# START JVM\n",
    "#-----------------------------------------------------\n",
    "\n",
    "from jpype import startJVM, getDefaultJVMPath, JArray, JInt, JPackage, shutdownJVM, isJVMStarted\n",
    "import numpy as np\n",
    "import sys\n",
    "# Our python data file readers are a bit of a hack, python users will do better on this:\n",
    "sys.path.append(\"/home/jovyan/notebooks/jidt/demos/python\")\n",
    "import readIntsFile\n",
    "\n",
    "# Add JIDT jar library to the path\n",
    "jarLocation = \"/home/jovyan/notebooks/jidt/infodynamics.jar\"\n",
    "# Start the JVM (add the \"-Xmx\" option with say 1024M if you get crashes due to not enough memory space)\n",
    "if (not isJVMStarted()):\n",
    "    startJVM(getDefaultJVMPath(), \"-ea\", \"-Djava.class.path=\" + jarLocation)\n",
    "\n",
    "javaIntList = lambda l : JArray(JInt, 1)(l)"
   ]
  },
  {
   "cell_type": "code",
   "execution_count": 9,
   "metadata": {},
   "outputs": [
    {
     "data": {
      "text/plain": [
       "(600, 10000)"
      ]
     },
     "execution_count": 9,
     "metadata": {},
     "output_type": "execute_result"
    }
   ],
   "source": [
    "# LOAD DATA FILE\n",
    "#-------------------\n",
    "\n",
    "import pandas as pd\n",
    "#from pathlib import Path\n",
    "\n",
    "filename = './data/ca54.txt'\n",
    "data = pd.read_csv(filename, delim_whitespace=True, comment='%', header=None, index_col=None)\n",
    "source = data.to_numpy()\n",
    "source.shape"
   ]
  },
  {
   "cell_type": "markdown",
   "metadata": {},
   "source": [
    "## 4. \n",
    "Examine how the code is computing the AIS for each cell. In Matlab change the directory now to demos/AutoAnalyser   \n",
    "or wherever you have moved the generated code file, and run GeneratedCalculator.   \n",
    "Notice the calculation for each cell printed in your console window, and notice the variance in these.   \n",
    "We would get a much more accurate result if we could make an AIS estimation by pooling all of the samples for the different cells together.     \n",
    "Reflect on why pooling the samples for technically different time-series processes is valid here, and think of a data set where it would not be a valid approach."
   ]
  },
  {
   "cell_type": "code",
   "execution_count": 10,
   "metadata": {},
   "outputs": [
    {
     "name": "stdout",
     "output_type": "stream",
     "text": [
      "Result obtained from 599 samples\n",
      "AIS_Discrete(col_0) = 0.2198 bits (null: 0.0014 +/- 0.0017 std dev.; p(surrogate > measured)=0.00000 from 100 surrogates)\n",
      "Result obtained from 599 samples\n",
      "AIS_Discrete(col_0) = 0.1186 bits (null: 0.0012 +/- 0.0017 std dev.; p(surrogate > measured)=0.00000 from 100 surrogates)\n",
      "Result obtained from 599 samples\n",
      "AIS_Discrete(col_0) = 0.2140 bits (null: 0.0013 +/- 0.0015 std dev.; p(surrogate > measured)=0.00000 from 100 surrogates)\n",
      "Result obtained from 599 samples\n",
      "AIS_Discrete(col_0) = 0.1109 bits (null: 0.0012 +/- 0.0016 std dev.; p(surrogate > measured)=0.00000 from 100 surrogates)\n",
      "Result obtained from 599 samples\n",
      "AIS_Discrete(col_0) = 0.2198 bits (null: 0.0014 +/- 0.0018 std dev.; p(surrogate > measured)=0.00000 from 100 surrogates)\n",
      "Result obtained from 599 samples\n",
      "AIS_Discrete(col_0) = 0.1167 bits (null: 0.0017 +/- 0.0020 std dev.; p(surrogate > measured)=0.00000 from 100 surrogates)\n",
      "Result obtained from 599 samples\n",
      "AIS_Discrete(col_0) = 0.2198 bits (null: 0.0013 +/- 0.0015 std dev.; p(surrogate > measured)=0.00000 from 100 surrogates)\n",
      "Result obtained from 599 samples\n",
      "AIS_Discrete(col_0) = 0.1188 bits (null: 0.0012 +/- 0.0016 std dev.; p(surrogate > measured)=0.00000 from 100 surrogates)\n",
      "Result obtained from 599 samples\n",
      "AIS_Discrete(col_0) = 0.2192 bits (null: 0.0011 +/- 0.0019 std dev.; p(surrogate > measured)=0.00000 from 100 surrogates)\n",
      "Result obtained from 599 samples\n",
      "AIS_Discrete(col_0) = 0.1268 bits (null: 0.0011 +/- 0.0017 std dev.; p(surrogate > measured)=0.00000 from 100 surrogates)\n"
     ]
    }
   ],
   "source": [
    "history_k=1\n",
    "\n",
    "# 1. Construct the calculator:\n",
    "calcClass = JPackage(\"infodynamics.measures.discrete\").ActiveInformationCalculatorDiscrete\n",
    "calc = calcClass(2, history_k)\n",
    "# 2. No other properties to set for discrete calculators.\n",
    "\n",
    "#for i in range(source.shape[1]):\n",
    "for i in range(10):\n",
    "    \n",
    "    # 3. Initialise the calculator for (re-)use:\n",
    "    calc.initialise()\n",
    "    # 4. Supply the sample data:\n",
    "    calc.addObservations(javaIntList(source[:,i].tolist()))\n",
    "    # 5. Compute the estimate:\n",
    "    result = calc.computeAverageLocalOfObservations()\n",
    "    print(f'Result obtained from {calc.getNumObservations()} samples')\n",
    "    # 6. Compute the (statistical significance via) null distribution empirically (e.g. with 100 permutations):\n",
    "    measDist = calc.computeSignificance(100)\n",
    "\n",
    "    if (i % 1) == 0:\n",
    "        print(\"AIS_Discrete(col_0) = %.4f bits (null: %.4f +/- %.4f std dev.; p(surrogate > measured)=%.5f from %d surrogates)\" %\n",
    "        (result, measDist.getMeanOfDistribution(), measDist.getStdOfDistribution(), measDist.pValue, 100))\n",
    "\n",
    "    bias = measDist.getMeanOfDistribution()\n",
    "\n",
    "    result_p = float(result)\n",
    "    bias_p = float(bias)\n",
    "\n"
   ]
  },
  {
   "cell_type": "markdown",
   "metadata": {},
   "source": [
    "# Pooling cells together"
   ]
  },
  {
   "cell_type": "code",
   "execution_count": 11,
   "metadata": {},
   "outputs": [],
   "source": [
    "history_k=1\n",
    "\n",
    "def pooledAIS(source, history_k):\n",
    "    # 1. Construct the calculator:\n",
    "    calcClass = JPackage(\"infodynamics.measures.discrete\").ActiveInformationCalculatorDiscrete\n",
    "    calc = calcClass(2, history_k)\n",
    "    # 2. No other properties to set for discrete calculators.\n",
    "\n",
    "        \n",
    "    # 3. Initialise the calculator for (re-)use:\n",
    "    calc.initialise()\n",
    "\n",
    "    for i in range(source.shape[1]):\n",
    "        # 4. Supply the sample data:\n",
    "        calc.addObservations(javaIntList(source[:,i].tolist()))\n",
    "        # 5. Compute the estimate:\n",
    "    result = calc.computeAverageLocalOfObservations()\n",
    "    print(f'Result obtained from {calc.getNumObservations()} samples : AIS_Discrete = {result} bits ')\n",
    "    # 6. Compute the (statistical significance via) analytically\n",
    "    measDist = calc.computeSignificance()\n",
    "\n",
    "    if (i % 1) == 0:\n",
    "        print(\"AIS_Discrete = %.4f bits (null: %.4f +/- %.4f std dev.; p(surrogate > measured)=%.5f )\" %\n",
    "        (result, measDist.getMeanOfDistribution(), measDist.getStdOfDistribution(), measDist.pValue))\n",
    "\n",
    "    bias = measDist.getMeanOfDistribution()\n",
    "\n",
    "    result_p = float(result)\n",
    "    bias_p = float(bias)\n",
    "    print(result_p, bias_p)\n",
    "    return result_p, result_p - bias_p, bias_p"
   ]
  },
  {
   "cell_type": "code",
   "execution_count": 12,
   "metadata": {},
   "outputs": [
    {
     "name": "stdout",
     "output_type": "stream",
     "text": [
      "Result obtained from 5990000 samples : AIS_Discrete = 0.14262157269805384 bits \n",
      "AIS_Discrete = 0.1426 bits (null: 0.0000 +/- 0.0000 std dev.; p(surrogate > measured)=0.00000 )\n",
      "0.14262157269805384 8.347245409015025e-08\n",
      "Result obtained from 5980000 samples : AIS_Discrete = 0.2260235679148699 bits \n",
      "AIS_Discrete = 0.2260 bits (null: 0.0000 +/- 0.0000 std dev.; p(surrogate > measured)=0.00000 )\n",
      "0.2260235679148699 2.508361204013378e-07\n",
      "Result obtained from 5970000 samples : AIS_Discrete = 0.5098537241109116 bits \n",
      "AIS_Discrete = 0.5099 bits (null: 0.0000 +/- 0.0000 std dev.; p(surrogate > measured)=0.00000 )\n",
      "0.5098537241109116 5.862646566164154e-07\n",
      "Result obtained from 5960000 samples : AIS_Discrete = 0.630722547152396 bits \n",
      "AIS_Discrete = 0.6307 bits (null: 0.0000 +/- 0.0000 std dev.; p(surrogate > measured)=0.00000 )\n",
      "0.630722547152396 1.2583892617449665e-06\n",
      "Result obtained from 5950000 samples : AIS_Discrete = 0.6624351627717631 bits \n",
      "AIS_Discrete = 0.6624 bits (null: 0.0000 +/- 0.0000 std dev.; p(surrogate > measured)=0.00000 )\n",
      "0.6624351627717631 2.6050420168067226e-06\n",
      "Result obtained from 5940000 samples : AIS_Discrete = 0.6786431593641208 bits \n",
      "AIS_Discrete = 0.6786 bits (null: 0.0000 +/- 0.0000 std dev.; p(surrogate > measured)=0.00000 )\n",
      "0.6786431593641208 5.303030303030303e-06\n",
      "Result obtained from 5930000 samples : AIS_Discrete = 0.686056056903236 bits \n",
      "AIS_Discrete = 0.6861 bits (null: 0.0000 +/- 0.0000 std dev.; p(surrogate > measured)=0.00000 )\n",
      "0.686056056903236 1.0708263069139966e-05\n",
      "Result obtained from 5920000 samples : AIS_Discrete = 0.6961474051808578 bits \n",
      "AIS_Discrete = 0.6961 bits (null: 0.0000 +/- 0.0000 std dev.; p(surrogate > measured)=0.00000 )\n",
      "0.6961474051808578 2.153716216216216e-05\n",
      "Result obtained from 5910000 samples : AIS_Discrete = 0.702462723810558 bits \n",
      "AIS_Discrete = 0.7025 bits (null: 0.0000 +/- 0.0000 std dev.; p(surrogate > measured)=0.00000 )\n",
      "0.702462723810558 4.323181049069374e-05\n",
      "Result obtained from 5900000 samples : AIS_Discrete = 0.7048028792652907 bits \n",
      "AIS_Discrete = 0.7048 bits (null: 0.0001 +/- 0.0000 std dev.; p(surrogate > measured)=0.00000 )\n",
      "0.7048028792652907 8.669491525423729e-05\n",
      "Result obtained from 5890000 samples : AIS_Discrete = 0.7086987456339983 bits \n",
      "AIS_Discrete = 0.7087 bits (null: 0.0002 +/- 0.0000 std dev.; p(surrogate > measured)=0.00000 )\n",
      "0.7086987456339983 0.0001737691001697793\n",
      "Result obtained from 5880000 samples : AIS_Discrete = 0.7112352106790846 bits \n",
      "AIS_Discrete = 0.7112 bits (null: 0.0003 +/- 0.0000 std dev.; p(surrogate > measured)=0.00000 )\n",
      "0.7112352106790846 0.00034821428571428574\n",
      "Result obtained from 5870000 samples : AIS_Discrete = 0.7137839995028897 bits \n",
      "AIS_Discrete = 0.7138 bits (null: 0.0007 +/- 0.0000 std dev.; p(surrogate > measured)=0.00000 )\n",
      "0.7137839995028897 0.0006977001703577512\n",
      "Result obtained from 5860000 samples : AIS_Discrete = 0.7155572241886606 bits \n",
      "AIS_Discrete = 0.7156 bits (null: 0.0014 +/- 0.0000 std dev.; p(surrogate > measured)=0.00000 )\n",
      "0.7155572241886606 0.0013978668941979522\n",
      "Result obtained from 5850000 samples : AIS_Discrete = 0.717956943821415 bits \n",
      "AIS_Discrete = 0.7180 bits (null: 0.0028 +/- 0.0000 std dev.; p(surrogate > measured)=0.00000 )\n",
      "0.717956943821415 0.0028005982905982907\n",
      "Result obtained from 5840000 samples : AIS_Discrete = 0.7195618355164749 bits \n",
      "AIS_Discrete = 0.7196 bits (null: 0.0056 +/- 0.0000 std dev.; p(surrogate > measured)=0.00000 )\n",
      "0.7195618355164749 0.005610873287671233\n",
      "Result obtained from 5830000 samples : AIS_Discrete = 0.7220524956364371 bits \n",
      "AIS_Discrete = 0.7221 bits (null: 0.0112 +/- 0.0000 std dev.; p(surrogate > measured)=0.00000 )\n",
      "0.7220524956364371 0.011241080617495711\n",
      "Result obtained from 5820000 samples : AIS_Discrete = 0.7240699902244334 bits \n",
      "AIS_Discrete = 0.7241 bits (null: 0.0225 +/- 0.0001 std dev.; p(surrogate > measured)=0.00000 )\n",
      "0.7240699902244334 0.022520876288659793\n",
      "Result obtained from 5810000 samples : AIS_Discrete = 0.7292246461245486 bits \n",
      "AIS_Discrete = 0.7292 bits (null: 0.0451 +/- 0.0001 std dev.; p(surrogate > measured)=0.00000 )\n",
      "0.7292246461245486 0.04511936316695353\n"
     ]
    }
   ],
   "source": [
    "ks=range(1,20)\n",
    "results=[]\n",
    "results_corrected=[]\n",
    "biases=[]\n",
    "for k in range(1,20):\n",
    "    result, result_corrected, bias = pooledAIS(source, k)\n",
    "    results.append(result)\n",
    "    results_corrected.append(result_corrected)\n",
    "    biases.append(bias)"
   ]
  },
  {
   "cell_type": "code",
   "execution_count": 13,
   "metadata": {},
   "outputs": [
    {
     "data": {
      "image/png": "[encoded data removed]",
      "text/plain": [
       "<Figure size 648x432 with 1 Axes>"
      ]
     },
     "metadata": {
      "needs_background": "light"
     },
     "output_type": "display_data"
    }
   ],
   "source": [
    "import matplotlib.pyplot as plt\n",
    "\n",
    "fig, axs = plt.subplots(1, 1, figsize=(9, 6))  \n",
    "axs.plot(ks, results, '.', label='AIS')\n",
    "axs.plot(ks, results_corrected, '.', label='AIS - Bias')\n",
    "axs.plot(ks, results_corrected, 'x', label='Bias')\n",
    "axs.set_title('AIS vs k')\n",
    "axs.set_xlabel('Discrete AIS in bits')\n",
    "axs.set_xlabel('history k')\n",
    "plt.legend()\n",
    "plt.show()"
   ]
  },
  {
   "cell_type": "markdown",
   "metadata": {},
   "source": [
    "# Compute local information storage\n",
    "\n",
    "## Selected K :  14\n",
    "\n",
    "## Calculate local information storage, cell by cell (feature by feature)"
   ]
  },
  {
   "cell_type": "code",
   "execution_count": 14,
   "metadata": {},
   "outputs": [],
   "source": [
    "import matplotlib.pyplot as plt\n",
    "\n",
    "def plotLocal(local):\n",
    "\n",
    "    print(type(local))\n",
    "    if type(local) != list:\n",
    "        print('not a list')\n",
    "        return\n",
    "        \n",
    "    fig, axs = plt.subplots(1, 1, figsize=(9, 6))  \n",
    "    axs.plot(locals[i], '.', label=f'localAIS cell {i}')\n",
    "    axs.set_title('local AIs for cell I')\n",
    "    axs.set_xlabel('time')\n",
    "    plt.legend()\n",
    "    plt.show()\n",
    "\n",
    "\n",
    "\n",
    "def localAIS(source, history_k):\n",
    "    # 1. Construct the calculator:\n",
    "    calcClass = JPackage(\"infodynamics.measures.discrete\").ActiveInformationCalculatorDiscrete\n",
    "    calc = calcClass(2, history_k)\n",
    "    # 2. No other properties to set for discrete calculators.\n",
    "\n",
    "        \n",
    "\n",
    "\n",
    "    locals=[[] for i in range(source.shape[1])]\n",
    "    print(f'Processing local AIS for the {source.shape[1]} cells')\n",
    "    print(f'Length of time: {len(source[:,0].tolist())}')\n",
    "\n",
    "    for i in range(source.shape[1]):\n",
    "        # 3. Initialise the calculator for (re-)use:\n",
    "        calc.initialise()\n",
    "        # 4. Supply the sample data:\n",
    "        # calc.addObservations()\n",
    "        # 5. Compute the estimate:\n",
    "        localAISForThisCell = calc.computeLocalFromPreviousObservations(javaIntList(source[:,i].tolist()))\n",
    "\n",
    "        locals[i] = np.array(localAISForThisCell).tolist()\n",
    "        \n",
    "        if (i % 1000) == 0:\n",
    "            print(f'locals[{i}]: {locals[i][500:599]}')\n",
    "\n",
    "    return locals"
   ]
  },
  {
   "cell_type": "code",
   "execution_count": 15,
   "metadata": {},
   "outputs": [
    {
     "data": {
      "text/plain": [
       "numpy.ndarray"
      ]
     },
     "execution_count": 15,
     "metadata": {},
     "output_type": "execute_result"
    }
   ],
   "source": [
    "type(source)"
   ]
  },
  {
   "cell_type": "code",
   "execution_count": 19,
   "metadata": {},
   "outputs": [
    {
     "name": "stdout",
     "output_type": "stream",
     "text": [
      "Processing local AIS for the 10000 cells\n",
      "Length of time: 600\n",
      "locals[0]: [nan, nan, nan, nan, nan, nan, nan, nan, nan, nan, nan, nan, nan, nan, nan, nan, nan, nan, nan, nan, nan, nan, nan, nan, nan, nan, nan, nan, nan, nan, nan, nan, nan, nan, nan, nan, nan, nan, nan, nan, nan, nan, nan, nan, nan, nan, nan, nan, nan, nan, nan, nan, nan, nan, nan, nan, nan, nan, nan, nan, nan, nan, nan, nan, nan, nan, nan, nan, nan, nan, nan, nan, nan, nan, nan, nan, nan, nan, nan, nan, nan, nan, nan, nan, nan, nan, nan, nan, nan, nan, nan, nan, nan, nan, nan, nan, nan, nan, nan]\n",
      "locals[1000]: [nan, nan, nan, nan, nan, nan, nan, nan, nan, nan, nan, nan, nan, nan, nan, nan, nan, nan, nan, nan, nan, nan, nan, nan, nan, nan, nan, nan, nan, nan, nan, nan, nan, nan, nan, nan, nan, nan, nan, nan, nan, nan, nan, nan, nan, nan, nan, nan, nan, nan, nan, nan, nan, nan, nan, nan, nan, nan, nan, nan, nan, nan, nan, nan, nan, nan, nan, nan, nan, nan, nan, nan, nan, nan, nan, nan, nan, nan, nan, nan, nan, nan, nan, nan, nan, nan, nan, nan, nan, nan, nan, nan, nan, nan, nan, nan, nan, nan, nan]\n",
      "locals[2000]: [nan, nan, nan, nan, nan, nan, nan, nan, nan, nan, nan, nan, nan, nan, nan, nan, nan, nan, nan, nan, nan, nan, nan, nan, nan, nan, nan, nan, nan, nan, nan, nan, nan, nan, nan, nan, nan, nan, nan, nan, nan, nan, nan, nan, nan, nan, nan, nan, nan, nan, nan, nan, nan, nan, nan, nan, nan, nan, nan, nan, nan, nan, nan, nan, nan, nan, nan, nan, nan, nan, nan, nan, nan, nan, nan, nan, nan, nan, nan, nan, nan, nan, nan, nan, nan, nan, nan, nan, nan, nan, nan, nan, nan, nan, nan, nan, nan, nan, nan]\n",
      "locals[3000]: [nan, nan, nan, nan, nan, nan, nan, nan, nan, nan, nan, nan, nan, nan, nan, nan, nan, nan, nan, nan, nan, nan, nan, nan, nan, nan, nan, nan, nan, nan, nan, nan, nan, nan, nan, nan, nan, nan, nan, nan, nan, nan, nan, nan, nan, nan, nan, nan, nan, nan, nan, nan, nan, nan, nan, nan, nan, nan, nan, nan, nan, nan, nan, nan, nan, nan, nan, nan, nan, nan, nan, nan, nan, nan, nan, nan, nan, nan, nan, nan, nan, nan, nan, nan, nan, nan, nan, nan, nan, nan, nan, nan, nan, nan, nan, nan, nan, nan, nan]\n",
      "locals[4000]: [nan, nan, nan, nan, nan, nan, nan, nan, nan, nan, nan, nan, nan, nan, nan, nan, nan, nan, nan, nan, nan, nan, nan, nan, nan, nan, nan, nan, nan, nan, nan, nan, nan, nan, nan, nan, nan, nan, nan, nan, nan, nan, nan, nan, nan, nan, nan, nan, nan, nan, nan, nan, nan, nan, nan, nan, nan, nan, nan, nan, nan, nan, nan, nan, nan, nan, nan, nan, nan, nan, nan, nan, nan, nan, nan, nan, nan, nan, nan, nan, nan, nan, nan, nan, nan, nan, nan, nan, nan, nan, nan, nan, nan, nan, nan, nan, nan, nan, nan]\n",
      "locals[5000]: [nan, nan, nan, nan, nan, nan, nan, nan, nan, nan, nan, nan, nan, nan, nan, nan, nan, nan, nan, nan, nan, nan, nan, nan, nan, nan, nan, nan, nan, nan, nan, nan, nan, nan, nan, nan, nan, nan, nan, nan, nan, nan, nan, nan, nan, nan, nan, nan, nan, nan, nan, nan, nan, nan, nan, nan, nan, nan, nan, nan, nan, nan, nan, nan, nan, nan, nan, nan, nan, nan, nan, nan, nan, nan, nan, nan, nan, nan, nan, nan, nan, nan, nan, nan, nan, nan, nan, nan, nan, nan, nan, nan, nan, nan, nan, nan, nan, nan, nan]\n",
      "locals[6000]: [nan, nan, nan, nan, nan, nan, nan, nan, nan, nan, nan, nan, nan, nan, nan, nan, nan, nan, nan, nan, nan, nan, nan, nan, nan, nan, nan, nan, nan, nan, nan, nan, nan, nan, nan, nan, nan, nan, nan, nan, nan, nan, nan, nan, nan, nan, nan, nan, nan, nan, nan, nan, nan, nan, nan, nan, nan, nan, nan, nan, nan, nan, nan, nan, nan, nan, nan, nan, nan, nan, nan, nan, nan, nan, nan, nan, nan, nan, nan, nan, nan, nan, nan, nan, nan, nan, nan, nan, nan, nan, nan, nan, nan, nan, nan, nan, nan, nan, nan]\n",
      "locals[7000]: [nan, nan, nan, nan, nan, nan, nan, nan, nan, nan, nan, nan, nan, nan, nan, nan, nan, nan, nan, nan, nan, nan, nan, nan, nan, nan, nan, nan, nan, nan, nan, nan, nan, nan, nan, nan, nan, nan, nan, nan, nan, nan, nan, nan, nan, nan, nan, nan, nan, nan, nan, nan, nan, nan, nan, nan, nan, nan, nan, nan, nan, nan, nan, nan, nan, nan, nan, nan, nan, nan, nan, nan, nan, nan, nan, nan, nan, nan, nan, nan, nan, nan, nan, nan, nan, nan, nan, nan, nan, nan, nan, nan, nan, nan, nan, nan, nan, nan, nan]\n",
      "locals[8000]: [nan, nan, nan, nan, nan, nan, nan, nan, nan, nan, nan, nan, nan, nan, nan, nan, nan, nan, nan, nan, nan, nan, nan, nan, nan, nan, nan, nan, nan, nan, nan, nan, nan, nan, nan, nan, nan, nan, nan, nan, nan, nan, nan, nan, nan, nan, nan, nan, nan, nan, nan, nan, nan, nan, nan, nan, nan, nan, nan, nan, nan, nan, nan, nan, nan, nan, nan, nan, nan, nan, nan, nan, nan, nan, nan, nan, nan, nan, nan, nan, nan, nan, nan, nan, nan, nan, nan, nan, nan, nan, nan, nan, nan, nan, nan, nan, nan, nan, nan]\n",
      "locals[9000]: [nan, nan, nan, nan, nan, nan, nan, nan, nan, nan, nan, nan, nan, nan, nan, nan, nan, nan, nan, nan, nan, nan, nan, nan, nan, nan, nan, nan, nan, nan, nan, nan, nan, nan, nan, nan, nan, nan, nan, nan, nan, nan, nan, nan, nan, nan, nan, nan, nan, nan, nan, nan, nan, nan, nan, nan, nan, nan, nan, nan, nan, nan, nan, nan, nan, nan, nan, nan, nan, nan, nan, nan, nan, nan, nan, nan, nan, nan, nan, nan, nan, nan, nan, nan, nan, nan, nan, nan, nan, nan, nan, nan, nan, nan, nan, nan, nan, nan, nan]\n"
     ]
    }
   ],
   "source": [
    "locals = localAIS(source, 14)"
   ]
  },
  {
   "cell_type": "code",
   "execution_count": 17,
   "metadata": {},
   "outputs": [
    {
     "data": {
      "text/plain": [
       "(600, 10000)"
      ]
     },
     "execution_count": 17,
     "metadata": {},
     "output_type": "execute_result"
    }
   ],
   "source": [
    "source.shape"
   ]
  },
  {
   "cell_type": "code",
   "execution_count": 18,
   "metadata": {},
   "outputs": [
    {
     "data": {
      "text/plain": [
       "<matplotlib.image.AxesImage at 0x7f212a8e0f10>"
      ]
     },
     "execution_count": 18,
     "metadata": {},
     "output_type": "execute_result"
    },
    {
     "data": {
      "image/png": "[encoded data removed]",
      "text/plain": [
       "<Figure size 432x432 with 1 Axes>"
      ]
     },
     "metadata": {
      "needs_background": "light"
     },
     "output_type": "display_data"
    }
   ],
   "source": [
    "from PIL import Image\n",
    "import matplotlib.pyplot as plt\n",
    "\n",
    "im = Image.fromarray(source[0:100, 0:100].astype(np.uint8).reshape(100, 100))\n",
    "\n",
    "fig, axs = plt.subplots(1,1,figsize=(6,6))\n",
    "axs.grid(False)\n",
    "axs.imshow(im)"
   ]
  },
  {
   "cell_type": "code",
   "execution_count": null,
   "metadata": {},
   "outputs": [],
   "source": []
  }
 ],
 "metadata": {
  "interpreter": {
   "hash": "d4d1e4263499bec80672ea0156c357c1ee493ec2b1c70f0acce89fc37c4a6abe"
  },
  "kernelspec": {
   "display_name": "Python 3.9.6 64-bit ('base': conda)",
   "name": "python3"
  },
  "language_info": {
   "codemirror_mode": {
    "name": "ipython",
    "version": 3
   },
   "file_extension": ".py",
   "mimetype": "text/x-python",
   "name": "python",
   "nbconvert_exporter": "python",
   "pygments_lexer": "ipython3",
   "version": "3.9.6"
  },
  "orig_nbformat": 4
 },
 "nbformat": 4,
 "nbformat_minor": 2
}
