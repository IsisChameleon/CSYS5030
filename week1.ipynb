{
 "cells": [
  {
   "cell_type": "code",
   "execution_count": 81,
   "id": "be568f86-94ac-40f3-89a6-8c41ac070f4f",
   "metadata": {},
   "outputs": [],
   "source": [
    "# Week 1\n",
    "\n",
    "from math import log2\n",
    "import numpy as np\n",
    "import matplotlib.pyplot as plt\n",
    "from contextlib import suppress\n",
    "\n",
    "def infocontent(p):\n",
    "    return - log2(p)\n",
    "\n",
    "def entropy1(p: np.array):\n",
    "    if type(p) == list:\n",
    "        p = np.array(p)\n",
    "    if np.sum(p) != 1:\n",
    "        raise Exception('The sum of the elements of p should be = 1: {}'.format(p))\n",
    "    with suppress(ZeroDivisionError):\n",
    "        H = - np.dot(p, np.where(p > 0, np.log2(p), 0))\n",
    "\n",
    "    return  H\n"
   ]
  },
  {
   "cell_type": "code",
   "execution_count": 82,
   "id": "6a8538cd-2646-408b-adc0-846b25a6435c",
   "metadata": {},
   "outputs": [
    {
     "data": {
      "text/plain": [
       "4.584962500721156"
      ]
     },
     "execution_count": 82,
     "metadata": {},
     "output_type": "execute_result"
    }
   ],
   "source": [
    "#from week1 import infocontent, entropy\n",
    "import matplotlib.pyplot as plt\n",
    "import numpy as np\n",
    "\n",
    "infocontent(1/24)"
   ]
  },
  {
   "cell_type": "code",
   "execution_count": 83,
   "id": "f23b7814-87fc-4333-ac5a-f10c55c12be7",
   "metadata": {},
   "outputs": [],
   "source": [
    "# Calculate entropy of a sequence of stuff\n",
    "\n",
    "import collections\n",
    " \n",
    "from scipy.stats import entropy\n",
    "  \n",
    "def calculateDatasetShannonEntropy(items):\n",
    "    itemscount = collections.Counter(items)\n",
    "    \n",
    "    # probability = # item x / # total number of items\n",
    "    dist = [x/sum(itemscount.values()) for x in itemscount.values()]\n",
    " \n",
    "    # use scipy to calculate entropy\n",
    "    entropy_value = entropy(dist, base=2)\n",
    " \n",
    "    return entropy_value"
   ]
  },
  {
   "cell_type": "code",
   "execution_count": 97,
   "id": "9e38f28c-2ea9-4c38-9d62-e1b79f5ef11d",
   "metadata": {},
   "outputs": [],
   "source": [
    "def jointentropy(p: np.array):\n",
    "    print(type(p))\n",
    "    print(p.shape[0])\n",
    "    print(p.shape[1])\n",
    "    if type(p) == list:\n",
    "        p = np.array(p)\n",
    "    if p.shape[0] != p.shape[1]:\n",
    "        raise Exception(\"p must be a square matrix\")\n",
    "    print(\"np.sum(p, axis=0) != 1 :\", np.sum(p, axis=0) != 1)\n",
    "    print(\"np.sum(p, axis=0):\", np.sum(p, axis=0))\n",
    "    if ( np.sum(p, axis=0) != 1).any() or (np.sum(p, axis=1) != 1).any():\n",
    "        raise Exception('The sum of the elements of p should be = 1 in all dimensions {}'.format(p))\n",
    "    with suppress(ZeroDivisionError):\n",
    "        H = - np.dot(p, np.where(p > 0, np.log2(p), 0))\n",
    "        H = np.sum(H)\n",
    "\n",
    "    return  H"
   ]
  },
  {
   "cell_type": "code",
   "execution_count": 100,
   "id": "006ad020-50f7-4f98-9f18-ed8efc9acffe",
   "metadata": {},
   "outputs": [
    {
     "name": "stdout",
     "output_type": "stream",
     "text": [
      "(2, 2)\n",
      "<class 'numpy.ndarray'>\n",
      "2\n",
      "2\n",
      "np.sum(p, axis=0) != 1 : [False False]\n",
      "np.sum(p, axis=0): [1. 1.]\n",
      "Joint entropy  6.947862376664824\n"
     ]
    }
   ],
   "source": [
    "a = np.array([[0.1, 0.9], [0.9, 0.1]])\n",
    "print(a.shape)\n",
    "je=jointentropy(a)\n",
    "print(\"Joint entropy \", je)"
   ]
  },
  {
   "cell_type": "code",
   "execution_count": 102,
   "id": "588f7c59-4db6-4843-8e78-9c2bb74b37d9",
   "metadata": {},
   "outputs": [
    {
     "ename": "Exception",
     "evalue": "The sum of the elements of p should be = 1: [0.1 0.9 0.9 0.1]",
     "output_type": "error",
     "traceback": [
      "\u001b[0;31m---------------------------------------------------------------------------\u001b[0m",
      "\u001b[0;31mException\u001b[0m                                 Traceback (most recent call last)",
      "\u001b[0;32m<ipython-input-102-36d8d1fe85b2>\u001b[0m in \u001b[0;36m<module>\u001b[0;34m\u001b[0m\n\u001b[1;32m      1\u001b[0m \u001b[0ma\u001b[0m\u001b[0;34m.\u001b[0m\u001b[0mravel\u001b[0m\u001b[0;34m(\u001b[0m\u001b[0;34m)\u001b[0m\u001b[0;34m\u001b[0m\u001b[0;34m\u001b[0m\u001b[0m\n\u001b[0;32m----> 2\u001b[0;31m \u001b[0mentropy1\u001b[0m\u001b[0;34m(\u001b[0m\u001b[0ma\u001b[0m\u001b[0;34m.\u001b[0m\u001b[0mravel\u001b[0m\u001b[0;34m(\u001b[0m\u001b[0;34m)\u001b[0m\u001b[0;34m)\u001b[0m\u001b[0;34m\u001b[0m\u001b[0;34m\u001b[0m\u001b[0m\n\u001b[0m",
      "\u001b[0;32m<ipython-input-81-3b2ed2ecf17a>\u001b[0m in \u001b[0;36mentropy1\u001b[0;34m(p)\u001b[0m\n\u001b[1;32m     13\u001b[0m         \u001b[0mp\u001b[0m \u001b[0;34m=\u001b[0m \u001b[0mnp\u001b[0m\u001b[0;34m.\u001b[0m\u001b[0marray\u001b[0m\u001b[0;34m(\u001b[0m\u001b[0mp\u001b[0m\u001b[0;34m)\u001b[0m\u001b[0;34m\u001b[0m\u001b[0;34m\u001b[0m\u001b[0m\n\u001b[1;32m     14\u001b[0m     \u001b[0;32mif\u001b[0m \u001b[0mnp\u001b[0m\u001b[0;34m.\u001b[0m\u001b[0msum\u001b[0m\u001b[0;34m(\u001b[0m\u001b[0mp\u001b[0m\u001b[0;34m)\u001b[0m \u001b[0;34m!=\u001b[0m \u001b[0;36m1\u001b[0m\u001b[0;34m:\u001b[0m\u001b[0;34m\u001b[0m\u001b[0;34m\u001b[0m\u001b[0m\n\u001b[0;32m---> 15\u001b[0;31m         \u001b[0;32mraise\u001b[0m \u001b[0mException\u001b[0m\u001b[0;34m(\u001b[0m\u001b[0;34m'The sum of the elements of p should be = 1: {}'\u001b[0m\u001b[0;34m.\u001b[0m\u001b[0mformat\u001b[0m\u001b[0;34m(\u001b[0m\u001b[0mp\u001b[0m\u001b[0;34m)\u001b[0m\u001b[0;34m)\u001b[0m\u001b[0;34m\u001b[0m\u001b[0;34m\u001b[0m\u001b[0m\n\u001b[0m\u001b[1;32m     16\u001b[0m     \u001b[0;32mwith\u001b[0m \u001b[0msuppress\u001b[0m\u001b[0;34m(\u001b[0m\u001b[0mZeroDivisionError\u001b[0m\u001b[0;34m)\u001b[0m\u001b[0;34m:\u001b[0m\u001b[0;34m\u001b[0m\u001b[0;34m\u001b[0m\u001b[0m\n\u001b[1;32m     17\u001b[0m         \u001b[0mH\u001b[0m \u001b[0;34m=\u001b[0m \u001b[0;34m-\u001b[0m \u001b[0mnp\u001b[0m\u001b[0;34m.\u001b[0m\u001b[0mdot\u001b[0m\u001b[0;34m(\u001b[0m\u001b[0mp\u001b[0m\u001b[0;34m,\u001b[0m \u001b[0mnp\u001b[0m\u001b[0;34m.\u001b[0m\u001b[0mwhere\u001b[0m\u001b[0;34m(\u001b[0m\u001b[0mp\u001b[0m \u001b[0;34m>\u001b[0m \u001b[0;36m0\u001b[0m\u001b[0;34m,\u001b[0m \u001b[0mnp\u001b[0m\u001b[0;34m.\u001b[0m\u001b[0mlog2\u001b[0m\u001b[0;34m(\u001b[0m\u001b[0mp\u001b[0m\u001b[0;34m)\u001b[0m\u001b[0;34m,\u001b[0m \u001b[0;36m0\u001b[0m\u001b[0;34m)\u001b[0m\u001b[0;34m)\u001b[0m\u001b[0;34m\u001b[0m\u001b[0;34m\u001b[0m\u001b[0m\n",
      "\u001b[0;31mException\u001b[0m: The sum of the elements of p should be = 1: [0.1 0.9 0.9 0.1]"
     ]
    }
   ],
   "source": []
  },
  {
   "cell_type": "code",
   "execution_count": 92,
   "id": "61a0e620-6b07-4e26-bf0b-ca3135ea5fe2",
   "metadata": {},
   "outputs": [
    {
     "name": "stdout",
     "output_type": "stream",
     "text": [
      "Join entropy with scipy: 1.580000754875826\n"
     ]
    }
   ],
   "source": [
    "print(\"Join entropy with scipy:\",  entropy(a.ravel(), base=2))\n",
    "#entropy(p.ravel(), base=2)"
   ]
  },
  {
   "cell_type": "code",
   "execution_count": 4,
   "id": "b4cec776-3a5b-4563-a6a8-beac86995362",
   "metadata": {},
   "outputs": [
    {
     "data": {
      "text/plain": [
       "0.4689955935892812"
      ]
     },
     "execution_count": 4,
     "metadata": {},
     "output_type": "execute_result"
    }
   ],
   "source": [
    "entropy(np.array([0.1, 0.9]))"
   ]
  },
  {
   "cell_type": "code",
   "execution_count": 1,
   "id": "ddb32398-fe67-4a78-8957-97cfbc272d8c",
   "metadata": {},
   "outputs": [
    {
     "ename": "NameError",
     "evalue": "name 'np' is not defined",
     "output_type": "error",
     "traceback": [
      "\u001b[0;31m---------------------------------------------------------------------------\u001b[0m",
      "\u001b[0;31mNameError\u001b[0m                                 Traceback (most recent call last)",
      "\u001b[0;32m<ipython-input-1-328d1d46a4e6>\u001b[0m in \u001b[0;36m<module>\u001b[0;34m\u001b[0m\n\u001b[1;32m      1\u001b[0m \u001b[0;31m# Plot H(X) as a function of p(x=1) for binary X\u001b[0m\u001b[0;34m\u001b[0m\u001b[0;34m\u001b[0m\u001b[0;34m\u001b[0m\u001b[0m\n\u001b[1;32m      2\u001b[0m \u001b[0;34m\u001b[0m\u001b[0m\n\u001b[0;32m----> 3\u001b[0;31m \u001b[0mx1\u001b[0m\u001b[0;34m=\u001b[0m\u001b[0mnp\u001b[0m\u001b[0;34m.\u001b[0m\u001b[0mlinspace\u001b[0m\u001b[0;34m(\u001b[0m\u001b[0;36m0\u001b[0m\u001b[0;34m,\u001b[0m \u001b[0;36m1\u001b[0m\u001b[0;34m,\u001b[0m \u001b[0mnum\u001b[0m\u001b[0;34m=\u001b[0m\u001b[0;36m51\u001b[0m\u001b[0;34m)\u001b[0m\u001b[0;34m\u001b[0m\u001b[0;34m\u001b[0m\u001b[0m\n\u001b[0m\u001b[1;32m      4\u001b[0m \u001b[0mx2\u001b[0m \u001b[0;34m=\u001b[0m \u001b[0;36m1\u001b[0m \u001b[0;34m-\u001b[0m \u001b[0mx1\u001b[0m\u001b[0;34m\u001b[0m\u001b[0;34m\u001b[0m\u001b[0m\n\u001b[1;32m      5\u001b[0m \u001b[0mx2\u001b[0m\u001b[0;34m\u001b[0m\u001b[0;34m\u001b[0m\u001b[0m\n",
      "\u001b[0;31mNameError\u001b[0m: name 'np' is not defined"
     ]
    }
   ],
   "source": [
    "# Plot H(X) as a function of p(x=1) for binary X\n",
    "\n",
    "x1=np.linspace(0, 1, num=51)\n",
    "x2 = 1 - x1\n",
    "x2\n",
    "\n",
    "\n",
    "x = np.array(list(zip(x1,x2)))\n",
    "x\n",
    "\n",
    "plt.plot(x1, [ entropy(xi) for xi in x])"
   ]
  },
  {
   "cell_type": "code",
   "execution_count": 6,
   "id": "99d7fb1d-91fd-4ab4-a91c-ad2232a507f1",
   "metadata": {},
   "outputs": [
    {
     "data": {
      "text/plain": [
       "2.0"
      ]
     },
     "execution_count": 6,
     "metadata": {},
     "output_type": "execute_result"
    }
   ],
   "source": [
    "# test entropy\n",
    "entropy([0.25, 0.25, 0.25, 0.25])"
   ]
  },
  {
   "cell_type": "code",
   "execution_count": 7,
   "id": "11f440a1-513d-4de4-8403-b2ad215b0c8f",
   "metadata": {},
   "outputs": [
    {
     "data": {
      "text/plain": [
       "4.584962500721155"
      ]
     },
     "execution_count": 7,
     "metadata": {},
     "output_type": "execute_result"
    }
   ],
   "source": [
    "# 5. Coming back to the characters that we could play Guess Who? with on the Kooky characters sheet \n",
    "# (Links to an external site.), validate that (using your entropy function if you need to)\n",
    "\n",
    "# (1) H(who) entropy of the characters identity - Question: who is your character? \n",
    "entropy([1/24 for i in range(24)])"
   ]
  },
  {
   "cell_type": "code",
   "execution_count": 8,
   "id": "a2f3be84-3628-49db-811b-2ded8cf5c04f",
   "metadata": {},
   "outputs": [
    {
     "data": {
      "text/plain": [
       "0.7382848661434506"
      ]
     },
     "execution_count": 8,
     "metadata": {},
     "output_type": "execute_result"
    }
   ],
   "source": [
    "# (2) H(one eye question) - Question : Does your character has one eye\n",
    "entropy([5/24, 19/24])"
   ]
  },
  {
   "cell_type": "code",
   "execution_count": 9,
   "id": "88916834-f548-41b0-9d2b-06d07cd8c809",
   "metadata": {},
   "outputs": [
    {
     "data": {
      "text/plain": [
       "0.24988229283318544"
      ]
     },
     "execution_count": 9,
     "metadata": {},
     "output_type": "execute_result"
    }
   ],
   "source": [
    "# (3) H(Jason question) - - Question : Is your character Jason\n",
    "entropy(np.array([1/24, 23/24]))"
   ]
  },
  {
   "cell_type": "code",
   "execution_count": 10,
   "id": "8a64ec86-8836-4edb-a7c5-d342d595f44b",
   "metadata": {},
   "outputs": [
    {
     "data": {
      "text/plain": [
       "1.360964047443681"
      ]
     },
     "execution_count": 10,
     "metadata": {},
     "output_type": "execute_result"
    }
   ],
   "source": [
    "# entropy([0, 0.5, 0.5])\n",
    "# https://stackoverflow.com/questions/21752989/numpy-efficiently-avoid-0s-when-taking-logmatrix\n",
    "# https://www.w3schools.com/python/numpy/numpy_ufunc_logs.asp\n",
    "# https://stackoverflow.com/questions/15450192/fastest-way-to-compute-entropy-in-python\n",
    "\n",
    "p = np.array([0.1, 0.4, 0.5])\n",
    "- np.dot(p, np.where(p > 0, np.log2(p), 0))"
   ]
  },
  {
   "cell_type": "code",
   "execution_count": 11,
   "id": "27457875-26b4-4762-94b8-47fd6c5c7b17",
   "metadata": {},
   "outputs": [
    {
     "data": {
      "text/plain": [
       "1.0"
      ]
     },
     "execution_count": 11,
     "metadata": {},
     "output_type": "execute_result"
    }
   ],
   "source": [
    "from scipy.stats import entropy\n",
    "p = np.array([0, 0.5, 0.5])\n",
    "entropy(p, base=2)"
   ]
  },
  {
   "cell_type": "code",
   "execution_count": 13,
   "id": "c35b2ec4-b076-4303-81b5-67b9b99ef9cb",
   "metadata": {},
   "outputs": [
    {
     "data": {
      "text/plain": [
       "1.0"
      ]
     },
     "execution_count": 13,
     "metadata": {},
     "output_type": "execute_result"
    }
   ],
   "source": [
    "p = np.array([0.5, 0.5])\n",
    "entropy(p, base=2)"
   ]
  },
  {
   "cell_type": "code",
   "execution_count": 14,
   "id": "757388fa-b3aa-4b73-9b63-acf8ba410472",
   "metadata": {},
   "outputs": [
    {
     "data": {
      "text/plain": [
       "1.9854752972273346"
      ]
     },
     "execution_count": 14,
     "metadata": {},
     "output_type": "execute_result"
    }
   ],
   "source": [
    "p = np.array([0.2, 0.30, 0.25, 0.25])\n",
    "entropy(p, base=2)"
   ]
  },
  {
   "cell_type": "code",
   "execution_count": 45,
   "id": "75412312-a228-4535-85a8-970e8fd1a408",
   "metadata": {},
   "outputs": [
    {
     "name": "stdout",
     "output_type": "stream",
     "text": [
      "first time\n",
      "np.cumsum:  [[0.  ]\n",
      " [0.02]\n",
      " [0.04]\n",
      " [0.06]\n",
      " [0.08]\n",
      " [0.1 ]\n",
      " [0.12]\n",
      " [0.14]\n",
      " [0.16]\n",
      " [0.18]\n",
      " [0.2 ]\n",
      " [0.22]\n",
      " [0.24]\n",
      " [0.26]\n",
      " [0.28]\n",
      " [0.3 ]\n",
      " [0.32]\n",
      " [0.34]\n",
      " [0.36]\n",
      " [0.38]\n",
      " [0.4 ]\n",
      " [0.42]\n",
      " [0.44]\n",
      " [0.46]\n",
      " [0.48]\n",
      " [0.5 ]\n",
      " [0.52]\n",
      " [0.54]\n",
      " [0.56]\n",
      " [0.58]\n",
      " [0.6 ]\n",
      " [0.62]\n",
      " [0.64]\n",
      " [0.66]\n",
      " [0.68]\n",
      " [0.7 ]\n",
      " [0.72]\n",
      " [0.74]\n",
      " [0.76]\n",
      " [0.78]\n",
      " [0.8 ]\n",
      " [0.82]\n",
      " [0.84]\n",
      " [0.86]\n",
      " [0.88]\n",
      " [0.9 ]\n",
      " [0.92]\n",
      " [0.94]\n",
      " [0.96]\n",
      " [0.98]\n",
      " [1.  ]]\n",
      "np.cumsum.shape (51, 1)\n",
      "x2.shape: (51, 1)\n",
      "[[0.   1.  ]\n",
      " [0.02 0.98]\n",
      " [0.04 0.96]\n",
      " [0.06 0.94]\n",
      " [0.08 0.92]\n",
      " [0.1  0.9 ]\n",
      " [0.12 0.88]\n",
      " [0.14 0.86]\n",
      " [0.16 0.84]\n",
      " [0.18 0.82]\n",
      " [0.2  0.8 ]\n",
      " [0.22 0.78]\n",
      " [0.24 0.76]\n",
      " [0.26 0.74]\n",
      " [0.28 0.72]\n",
      " [0.3  0.7 ]\n",
      " [0.32 0.68]\n",
      " [0.34 0.66]\n",
      " [0.36 0.64]\n",
      " [0.38 0.62]\n",
      " [0.4  0.6 ]\n",
      " [0.42 0.58]\n",
      " [0.44 0.56]\n",
      " [0.46 0.54]\n",
      " [0.48 0.52]\n",
      " [0.5  0.5 ]\n",
      " [0.52 0.48]\n",
      " [0.54 0.46]\n",
      " [0.56 0.44]\n",
      " [0.58 0.42]\n",
      " [0.6  0.4 ]\n",
      " [0.62 0.38]\n",
      " [0.64 0.36]\n",
      " [0.66 0.34]\n",
      " [0.68 0.32]\n",
      " [0.7  0.3 ]\n",
      " [0.72 0.28]\n",
      " [0.74 0.26]\n",
      " [0.76 0.24]\n",
      " [0.78 0.22]\n",
      " [0.8  0.2 ]\n",
      " [0.82 0.18]\n",
      " [0.84 0.16]\n",
      " [0.86 0.14]\n",
      " [0.88 0.12]\n",
      " [0.9  0.1 ]\n",
      " [0.92 0.08]\n",
      " [0.94 0.06]\n",
      " [0.96 0.04]\n",
      " [0.98 0.02]\n",
      " [1.   0.  ]]\n",
      "(51, 2)\n",
      "second time\n",
      "before\n",
      "[[0.   1.  ]\n",
      " [0.02 0.98]\n",
      " [0.04 0.96]\n",
      " [0.06 0.94]\n",
      " [0.08 0.92]\n",
      " [0.1  0.9 ]\n",
      " [0.12 0.88]\n",
      " [0.14 0.86]\n",
      " [0.16 0.84]\n",
      " [0.18 0.82]\n",
      " [0.2  0.8 ]\n",
      " [0.22 0.78]\n",
      " [0.24 0.76]\n",
      " [0.26 0.74]\n",
      " [0.28 0.72]\n",
      " [0.3  0.7 ]\n",
      " [0.32 0.68]\n",
      " [0.34 0.66]\n",
      " [0.36 0.64]\n",
      " [0.38 0.62]\n",
      " [0.4  0.6 ]\n",
      " [0.42 0.58]\n",
      " [0.44 0.56]\n",
      " [0.46 0.54]\n",
      " [0.48 0.52]\n",
      " [0.5  0.5 ]\n",
      " [0.52 0.48]\n",
      " [0.54 0.46]\n",
      " [0.56 0.44]\n",
      " [0.58 0.42]\n",
      " [0.6  0.4 ]\n",
      " [0.62 0.38]\n",
      " [0.64 0.36]\n",
      " [0.66 0.34]\n",
      " [0.68 0.32]\n",
      " [0.7  0.3 ]\n",
      " [0.72 0.28]\n",
      " [0.74 0.26]\n",
      " [0.76 0.24]\n",
      " [0.78 0.22]\n",
      " [0.8  0.2 ]\n",
      " [0.82 0.18]\n",
      " [0.84 0.16]\n",
      " [0.86 0.14]\n",
      " [0.88 0.12]\n",
      " [0.9  0.1 ]\n",
      " [0.92 0.08]\n",
      " [0.94 0.06]\n",
      " [0.96 0.04]\n",
      " [0.98 0.02]\n",
      " [1.   0.  ]]\n",
      "(51, 2)\n",
      "np.cumsum:  [[0.   1.  ]\n",
      " [0.02 1.  ]\n",
      " [0.04 1.  ]\n",
      " [0.06 1.  ]\n",
      " [0.08 1.  ]\n",
      " [0.1  1.  ]\n",
      " [0.12 1.  ]\n",
      " [0.14 1.  ]\n",
      " [0.16 1.  ]\n",
      " [0.18 1.  ]\n",
      " [0.2  1.  ]\n",
      " [0.22 1.  ]\n",
      " [0.24 1.  ]\n",
      " [0.26 1.  ]\n",
      " [0.28 1.  ]\n",
      " [0.3  1.  ]\n",
      " [0.32 1.  ]\n",
      " [0.34 1.  ]\n",
      " [0.36 1.  ]\n",
      " [0.38 1.  ]\n",
      " [0.4  1.  ]\n",
      " [0.42 1.  ]\n",
      " [0.44 1.  ]\n",
      " [0.46 1.  ]\n",
      " [0.48 1.  ]\n",
      " [0.5  1.  ]\n",
      " [0.52 1.  ]\n",
      " [0.54 1.  ]\n",
      " [0.56 1.  ]\n",
      " [0.58 1.  ]\n",
      " [0.6  1.  ]\n",
      " [0.62 1.  ]\n",
      " [0.64 1.  ]\n",
      " [0.66 1.  ]\n",
      " [0.68 1.  ]\n",
      " [0.7  1.  ]\n",
      " [0.72 1.  ]\n",
      " [0.74 1.  ]\n",
      " [0.76 1.  ]\n",
      " [0.78 1.  ]\n",
      " [0.8  1.  ]\n",
      " [0.82 1.  ]\n",
      " [0.84 1.  ]\n",
      " [0.86 1.  ]\n",
      " [0.88 1.  ]\n",
      " [0.9  1.  ]\n",
      " [0.92 1.  ]\n",
      " [0.94 1.  ]\n",
      " [0.96 1.  ]\n",
      " [0.98 1.  ]\n",
      " [1.   1.  ]]\n",
      "np.cumsum.shape (51, 2)\n",
      "x2.shape: (51, 2)\n",
      "[[0.   1.   1.   0.  ]\n",
      " [0.02 0.98 0.98 0.  ]\n",
      " [0.04 0.96 0.96 0.  ]\n",
      " [0.06 0.94 0.94 0.  ]\n",
      " [0.08 0.92 0.92 0.  ]\n",
      " [0.1  0.9  0.9  0.  ]\n",
      " [0.12 0.88 0.88 0.  ]\n",
      " [0.14 0.86 0.86 0.  ]\n",
      " [0.16 0.84 0.84 0.  ]\n",
      " [0.18 0.82 0.82 0.  ]\n",
      " [0.2  0.8  0.8  0.  ]\n",
      " [0.22 0.78 0.78 0.  ]\n",
      " [0.24 0.76 0.76 0.  ]\n",
      " [0.26 0.74 0.74 0.  ]\n",
      " [0.28 0.72 0.72 0.  ]\n",
      " [0.3  0.7  0.7  0.  ]\n",
      " [0.32 0.68 0.68 0.  ]\n",
      " [0.34 0.66 0.66 0.  ]\n",
      " [0.36 0.64 0.64 0.  ]\n",
      " [0.38 0.62 0.62 0.  ]\n",
      " [0.4  0.6  0.6  0.  ]\n",
      " [0.42 0.58 0.58 0.  ]\n",
      " [0.44 0.56 0.56 0.  ]\n",
      " [0.46 0.54 0.54 0.  ]\n",
      " [0.48 0.52 0.52 0.  ]\n",
      " [0.5  0.5  0.5  0.  ]\n",
      " [0.52 0.48 0.48 0.  ]\n",
      " [0.54 0.46 0.46 0.  ]\n",
      " [0.56 0.44 0.44 0.  ]\n",
      " [0.58 0.42 0.42 0.  ]\n",
      " [0.6  0.4  0.4  0.  ]\n",
      " [0.62 0.38 0.38 0.  ]\n",
      " [0.64 0.36 0.36 0.  ]\n",
      " [0.66 0.34 0.34 0.  ]\n",
      " [0.68 0.32 0.32 0.  ]\n",
      " [0.7  0.3  0.3  0.  ]\n",
      " [0.72 0.28 0.28 0.  ]\n",
      " [0.74 0.26 0.26 0.  ]\n",
      " [0.76 0.24 0.24 0.  ]\n",
      " [0.78 0.22 0.22 0.  ]\n",
      " [0.8  0.2  0.2  0.  ]\n",
      " [0.82 0.18 0.18 0.  ]\n",
      " [0.84 0.16 0.16 0.  ]\n",
      " [0.86 0.14 0.14 0.  ]\n",
      " [0.88 0.12 0.12 0.  ]\n",
      " [0.9  0.1  0.1  0.  ]\n",
      " [0.92 0.08 0.08 0.  ]\n",
      " [0.94 0.06 0.06 0.  ]\n",
      " [0.96 0.04 0.04 0.  ]\n",
      " [0.98 0.02 0.02 0.  ]\n",
      " [1.   0.   0.   0.  ]]\n",
      "(51, 4)\n",
      "before\n",
      "[[0.   1.   1.   0.  ]\n",
      " [0.02 0.98 0.98 0.  ]\n",
      " [0.04 0.96 0.96 0.  ]\n",
      " [0.06 0.94 0.94 0.  ]\n",
      " [0.08 0.92 0.92 0.  ]\n",
      " [0.1  0.9  0.9  0.  ]\n",
      " [0.12 0.88 0.88 0.  ]\n",
      " [0.14 0.86 0.86 0.  ]\n",
      " [0.16 0.84 0.84 0.  ]\n",
      " [0.18 0.82 0.82 0.  ]\n",
      " [0.2  0.8  0.8  0.  ]\n",
      " [0.22 0.78 0.78 0.  ]\n",
      " [0.24 0.76 0.76 0.  ]\n",
      " [0.26 0.74 0.74 0.  ]\n",
      " [0.28 0.72 0.72 0.  ]\n",
      " [0.3  0.7  0.7  0.  ]\n",
      " [0.32 0.68 0.68 0.  ]\n",
      " [0.34 0.66 0.66 0.  ]\n",
      " [0.36 0.64 0.64 0.  ]\n",
      " [0.38 0.62 0.62 0.  ]\n",
      " [0.4  0.6  0.6  0.  ]\n",
      " [0.42 0.58 0.58 0.  ]\n",
      " [0.44 0.56 0.56 0.  ]\n",
      " [0.46 0.54 0.54 0.  ]\n",
      " [0.48 0.52 0.52 0.  ]\n",
      " [0.5  0.5  0.5  0.  ]\n",
      " [0.52 0.48 0.48 0.  ]\n",
      " [0.54 0.46 0.46 0.  ]\n",
      " [0.56 0.44 0.44 0.  ]\n",
      " [0.58 0.42 0.42 0.  ]\n",
      " [0.6  0.4  0.4  0.  ]\n",
      " [0.62 0.38 0.38 0.  ]\n",
      " [0.64 0.36 0.36 0.  ]\n",
      " [0.66 0.34 0.34 0.  ]\n",
      " [0.68 0.32 0.32 0.  ]\n",
      " [0.7  0.3  0.3  0.  ]\n",
      " [0.72 0.28 0.28 0.  ]\n",
      " [0.74 0.26 0.26 0.  ]\n",
      " [0.76 0.24 0.24 0.  ]\n",
      " [0.78 0.22 0.22 0.  ]\n",
      " [0.8  0.2  0.2  0.  ]\n",
      " [0.82 0.18 0.18 0.  ]\n",
      " [0.84 0.16 0.16 0.  ]\n",
      " [0.86 0.14 0.14 0.  ]\n",
      " [0.88 0.12 0.12 0.  ]\n",
      " [0.9  0.1  0.1  0.  ]\n",
      " [0.92 0.08 0.08 0.  ]\n",
      " [0.94 0.06 0.06 0.  ]\n",
      " [0.96 0.04 0.04 0.  ]\n",
      " [0.98 0.02 0.02 0.  ]\n",
      " [1.   0.   0.   0.  ]]\n",
      "(51, 4)\n"
     ]
    }
   ],
   "source": [
    "# Plot H(X) as a function of p(x=1) for X with alphabet C\n",
    "# P(p(x=a), p(x=b), p(x=c), p(x=d))\n",
    "\n",
    "x=np.linspace(0, 1, num=51)\n",
    "x=x.reshape(51,1)\n",
    "\n",
    "def makexx(x):\n",
    "\n",
    "    print(\"np.cumsum: \", np.cumsum(x, axis=1))\n",
    "    print(\"np.cumsum.shape\", np.cumsum(x, axis=1).shape)\n",
    "    x2 = np.ones((51,1)) - np.cumsum(x, axis=1)\n",
    "    print(\"x2.shape:\", x2.shape)\n",
    "    x = np.concatenate((x, x2), axis=1)\n",
    "    print(x)\n",
    "    print(x.shape)\n",
    "    return x\n"
   ]
  },
  {
   "cell_type": "code",
   "execution_count": null,
   "id": "9f6a8144-49e8-4721-be16-074ade46961a",
   "metadata": {},
   "outputs": [],
   "source": [
    "# Plot H(X) as a function of p(x=1) for X with alphabet C\n",
    "# P(p(x1=1), p(x2=2), p(x3=3), p(x4=4))"
   ]
  },
  {
   "cell_type": "code",
   "execution_count": 47,
   "id": "1643216c-728c-4eed-9110-d38c7345f715",
   "metadata": {},
   "outputs": [
    {
     "data": {
      "text/plain": [
       "0.9182958340544894"
      ]
     },
     "execution_count": 47,
     "metadata": {},
     "output_type": "execute_result"
    }
   ],
   "source": [
    "# Calculate entropy of a sequence of stuff\n",
    "\n",
    "import collections\n",
    " \n",
    "from scipy.stats import entropy\n",
    "  \n",
    "def calculateDatasetShannonEntropy(items):\n",
    "    itemscount = collections.Counter(items)\n",
    "    \n",
    "    # probability = # item x / # total number of items\n",
    "    dist = [x/sum(itemscount.values()) for x in itemscount.values()]\n",
    " \n",
    "    # use scipy to calculate entropy\n",
    "    entropy_value = entropy(dist, base=2)\n",
    " \n",
    "    return entropy_value\n",
    "\n",
    "calculateDatasetShannonEntropy(['hello', 'bye', 'bye'])"
   ]
  },
  {
   "cell_type": "code",
   "execution_count": 48,
   "id": "49eeb281-aaf9-4532-9840-05bec8c463fa",
   "metadata": {},
   "outputs": [
    {
     "data": {
      "text/plain": [
       "0.0"
      ]
     },
     "execution_count": 48,
     "metadata": {},
     "output_type": "execute_result"
    }
   ],
   "source": [
    "calculateDatasetShannonEntropy(['bye', 'bye', 'bye'])"
   ]
  },
  {
   "cell_type": "code",
   "execution_count": 50,
   "id": "f521278e-296a-4a4c-afa9-e5d8138ce324",
   "metadata": {},
   "outputs": [
    {
     "data": {
      "text/plain": [
       "1.0"
      ]
     },
     "execution_count": 50,
     "metadata": {},
     "output_type": "execute_result"
    }
   ],
   "source": [
    "calculateDatasetShannonEntropy(['bye', 'hello', 'bye', 'hello'])"
   ]
  },
  {
   "cell_type": "code",
   "execution_count": 51,
   "id": "63c8e786-3a99-4697-a071-38a655094b0c",
   "metadata": {},
   "outputs": [
    {
     "data": {
      "text/plain": [
       "0.0"
      ]
     },
     "execution_count": 51,
     "metadata": {},
     "output_type": "execute_result"
    }
   ],
   "source": [
    "calculateDatasetShannonEntropy([1,1,1,1])"
   ]
  },
  {
   "cell_type": "code",
   "execution_count": 52,
   "id": "60083921-e76c-47f8-b640-daa0ace30d9b",
   "metadata": {},
   "outputs": [
    {
     "data": {
      "text/plain": [
       "1.0"
      ]
     },
     "execution_count": 52,
     "metadata": {},
     "output_type": "execute_result"
    }
   ],
   "source": [
    "calculateDatasetShannonEntropy([0,1,0,1])"
   ]
  },
  {
   "cell_type": "code",
   "execution_count": 64,
   "id": "ec7db566-5f62-407b-b913-4ee14540cd65",
   "metadata": {},
   "outputs": [
    {
     "data": {
      "text/plain": [
       "1.584962500721156"
      ]
     },
     "execution_count": 64,
     "metadata": {},
     "output_type": "execute_result"
    }
   ],
   "source": [
    "calculateDatasetShannonEntropy([0,1,1,2,2,0])"
   ]
  },
  {
   "cell_type": "code",
   "execution_count": null,
   "id": "4c26ad98-6ddb-4256-abf1-671044253177",
   "metadata": {},
   "outputs": [],
   "source": [
    "calculateDatasetShannonEntropy(['bye', 'hello', 'bye', 'hello'])"
   ]
  },
  {
   "cell_type": "code",
   "execution_count": 88,
   "id": "216c6eba-3f95-411b-85b4-e9943f5fd24f",
   "metadata": {},
   "outputs": [],
   "source": [
    "#https://stackoverflow.com/questions/51022380/how-to-calculate-entropy-of-joint-distribution"
   ]
  },
  {
   "cell_type": "code",
   "execution_count": 2,
   "id": "9f6a00b9-5658-4035-bae4-1a57844a2d50",
   "metadata": {},
   "outputs": [],
   "source": [
    "        import numpy as np\n",
    "        p = np.array([[0.125, 0.0625, 0.03125, 0.03125],\n",
    "             [0.0625, 0.125, 0.03125, 0.03125],\n",
    "             [0.0625, 0.0625, 0.0625, 0.0625],\n",
    "             [0.25,0,0,0]])"
   ]
  },
  {
   "cell_type": "code",
   "execution_count": 3,
   "id": "b58234f4",
   "metadata": {},
   "outputs": [
    {
     "name": "stdout",
     "output_type": "stream",
     "text": [
      "[[0.125   0.0625  0.03125 0.03125]\n",
      " [0.0625  0.125   0.03125 0.03125]\n",
      " [0.0625  0.0625  0.0625  0.0625 ]\n",
      " [0.25    0.      0.      0.     ]]\n"
     ]
    }
   ],
   "source": [
    "print(p)"
   ]
  },
  {
   "cell_type": "code",
   "execution_count": 6,
   "id": "696e34a2",
   "metadata": {},
   "outputs": [
    {
     "name": "stdout",
     "output_type": "stream",
     "text": [
      "[0.5   0.25  0.125 0.125]\n"
     ]
    }
   ],
   "source": [
    "dim=0\n",
    "pdim = np.sum(p, axis=dim)\n",
    "print(pdim)"
   ]
  },
  {
   "cell_type": "code",
   "execution_count": 7,
   "id": "7c93c647",
   "metadata": {},
   "outputs": [
    {
     "name": "stdout",
     "output_type": "stream",
     "text": [
      "[0.25 0.25 0.25 0.25]\n"
     ]
    }
   ],
   "source": [
    "dim=1\n",
    "pdim = np.sum(p, axis=dim)\n",
    "print(pdim)"
   ]
  },
  {
   "cell_type": "code",
   "execution_count": 10,
   "id": "97377484",
   "metadata": {},
   "outputs": [],
   "source": [
    "def marginalP(p: np.array, dim: int):\n",
    "    return np.sum(p, axis=dim)"
   ]
  },
  {
   "cell_type": "code",
   "execution_count": 11,
   "id": "fe1ff1a3",
   "metadata": {},
   "outputs": [],
   "source": [
    "marginalX = lambda  p : marginalP(p, 0)"
   ]
  },
  {
   "cell_type": "code",
   "execution_count": 12,
   "id": "c1192562",
   "metadata": {},
   "outputs": [
    {
     "data": {
      "text/plain": [
       "array([0.5  , 0.25 , 0.125, 0.125])"
      ]
     },
     "execution_count": 12,
     "metadata": {},
     "output_type": "execute_result"
    }
   ],
   "source": [
    "marginalX(p)"
   ]
  },
  {
   "cell_type": "code",
   "execution_count": 13,
   "id": "6a730f2f",
   "metadata": {},
   "outputs": [
    {
     "data": {
      "text/plain": [
       "(4, 4)"
      ]
     },
     "execution_count": 13,
     "metadata": {},
     "output_type": "execute_result"
    }
   ],
   "source": [
    "p.shape"
   ]
  },
  {
   "cell_type": "code",
   "execution_count": 17,
   "id": "3d005f2c",
   "metadata": {},
   "outputs": [
    {
     "data": {
      "text/plain": [
       "2"
      ]
     },
     "execution_count": 17,
     "metadata": {},
     "output_type": "execute_result"
    }
   ],
   "source": [
    "p.ndim"
   ]
  },
  {
   "cell_type": "code",
   "execution_count": 18,
   "id": "61855415",
   "metadata": {},
   "outputs": [],
   "source": [
    "def marginalP(p: np.array, dim: int):\n",
    "    if dim + 1 > p.ndim:\n",
    "        raise Exception('The probability matrix has only {} dimensions while you are requesting to get marginal in dimension {}'.format(p.ndim, dim+1))\n",
    "    return np.sum(p, axis=dim)"
   ]
  },
  {
   "cell_type": "code",
   "execution_count": 20,
   "id": "60178c40",
   "metadata": {},
   "outputs": [
    {
     "ename": "Exception",
     "evalue": "The probability matrix has only 2 dimensions while you are requesting to get marginal in dimension 2",
     "output_type": "error",
     "traceback": [
      "\u001b[0;31m---------------------------------------------------------------------------\u001b[0m",
      "\u001b[0;31mException\u001b[0m                                 Traceback (most recent call last)",
      "\u001b[0;32m<ipython-input-20-3487959220d4>\u001b[0m in \u001b[0;36m<module>\u001b[0;34m\u001b[0m\n\u001b[0;32m----> 1\u001b[0;31m \u001b[0mmarginalP\u001b[0m\u001b[0;34m(\u001b[0m\u001b[0mp\u001b[0m\u001b[0;34m,\u001b[0m \u001b[0;36m2\u001b[0m\u001b[0;34m)\u001b[0m\u001b[0;34m\u001b[0m\u001b[0;34m\u001b[0m\u001b[0m\n\u001b[0m",
      "\u001b[0;32m<ipython-input-18-bfadcee08f6d>\u001b[0m in \u001b[0;36mmarginalP\u001b[0;34m(p, dim)\u001b[0m\n\u001b[1;32m      1\u001b[0m \u001b[0;32mdef\u001b[0m \u001b[0mmarginalP\u001b[0m\u001b[0;34m(\u001b[0m\u001b[0mp\u001b[0m\u001b[0;34m:\u001b[0m \u001b[0mnp\u001b[0m\u001b[0;34m.\u001b[0m\u001b[0marray\u001b[0m\u001b[0;34m,\u001b[0m \u001b[0mdim\u001b[0m\u001b[0;34m:\u001b[0m \u001b[0mint\u001b[0m\u001b[0;34m)\u001b[0m\u001b[0;34m:\u001b[0m\u001b[0;34m\u001b[0m\u001b[0;34m\u001b[0m\u001b[0m\n\u001b[1;32m      2\u001b[0m     \u001b[0;32mif\u001b[0m \u001b[0mdim\u001b[0m \u001b[0;34m+\u001b[0m \u001b[0;36m1\u001b[0m \u001b[0;34m>\u001b[0m \u001b[0mp\u001b[0m\u001b[0;34m.\u001b[0m\u001b[0mndim\u001b[0m\u001b[0;34m:\u001b[0m\u001b[0;34m\u001b[0m\u001b[0;34m\u001b[0m\u001b[0m\n\u001b[0;32m----> 3\u001b[0;31m         \u001b[0;32mraise\u001b[0m \u001b[0mException\u001b[0m\u001b[0;34m(\u001b[0m\u001b[0;34m'The probability matrix has only {} dimensions while you are requesting to get marginal in dimension {}'\u001b[0m\u001b[0;34m.\u001b[0m\u001b[0mformat\u001b[0m\u001b[0;34m(\u001b[0m\u001b[0mp\u001b[0m\u001b[0;34m.\u001b[0m\u001b[0mndim\u001b[0m\u001b[0;34m,\u001b[0m \u001b[0mdim\u001b[0m\u001b[0;34m)\u001b[0m\u001b[0;34m)\u001b[0m\u001b[0;34m\u001b[0m\u001b[0;34m\u001b[0m\u001b[0m\n\u001b[0m\u001b[1;32m      4\u001b[0m     \u001b[0;32mreturn\u001b[0m \u001b[0mnp\u001b[0m\u001b[0;34m.\u001b[0m\u001b[0msum\u001b[0m\u001b[0;34m(\u001b[0m\u001b[0mp\u001b[0m\u001b[0;34m,\u001b[0m \u001b[0maxis\u001b[0m\u001b[0;34m=\u001b[0m\u001b[0mdim\u001b[0m\u001b[0;34m)\u001b[0m\u001b[0;34m\u001b[0m\u001b[0;34m\u001b[0m\u001b[0m\n",
      "\u001b[0;31mException\u001b[0m: The probability matrix has only 2 dimensions while you are requesting to get marginal in dimension 2"
     ]
    }
   ],
   "source": [
    "marginalP(p, 2)"
   ]
  },
  {
   "cell_type": "code",
   "execution_count": 24,
   "id": "1f776d21",
   "metadata": {},
   "outputs": [
    {
     "data": {
      "text/plain": [
       "1.75"
      ]
     },
     "execution_count": 24,
     "metadata": {},
     "output_type": "execute_result"
    }
   ],
   "source": [
    "from week1 import entropy1, marginalX, marginalY\n",
    "entropy1(marginalX(p))\n",
    "# 1.75 is the correct answer (7/4 bits)"
   ]
  },
  {
   "cell_type": "code",
   "execution_count": 26,
   "id": "e251dca4",
   "metadata": {},
   "outputs": [
    {
     "data": {
      "text/plain": [
       "2.0"
      ]
     },
     "execution_count": 26,
     "metadata": {},
     "output_type": "execute_result"
    }
   ],
   "source": [
    "# H(Y) = 2 bits\n",
    "entropy1(marginalY(p))"
   ]
  },
  {
   "cell_type": "code",
   "execution_count": 30,
   "id": "1ff48022",
   "metadata": {},
   "outputs": [
    {
     "data": {
      "text/plain": [
       "(4, 4)"
      ]
     },
     "execution_count": 30,
     "metadata": {},
     "output_type": "execute_result"
    }
   ],
   "source": [
    "p.shape"
   ]
  },
  {
   "cell_type": "code",
   "execution_count": 37,
   "id": "7897e781",
   "metadata": {},
   "outputs": [
    {
     "name": "stdout",
     "output_type": "stream",
     "text": [
      "0\n",
      "[[0.125   0.0625  0.03125 0.03125]\n",
      " [0.0625  0.125   0.03125 0.03125]\n",
      " [0.0625  0.0625  0.0625  0.0625 ]\n",
      " [0.25    0.      0.      0.     ]]\n",
      "[0.125   0.0625  0.03125 0.03125]\n",
      "0.25\n",
      "1\n",
      "[[0.125   0.0625  0.03125 0.03125]\n",
      " [0.0625  0.125   0.03125 0.03125]\n",
      " [0.0625  0.0625  0.0625  0.0625 ]\n",
      " [0.25    0.      0.      0.     ]]\n",
      "[0.0625  0.125   0.03125 0.03125]\n",
      "0.25\n",
      "2\n",
      "[[0.125   0.0625  0.03125 0.03125]\n",
      " [0.0625  0.125   0.03125 0.03125]\n",
      " [0.0625  0.0625  0.0625  0.0625 ]\n",
      " [0.25    0.      0.      0.     ]]\n",
      "[0.0625 0.0625 0.0625 0.0625]\n",
      "0.25\n",
      "3\n",
      "[[0.125   0.0625  0.03125 0.03125]\n",
      " [0.0625  0.125   0.03125 0.03125]\n",
      " [0.0625  0.0625  0.0625  0.0625 ]\n",
      " [0.25    0.      0.      0.     ]]\n",
      "[0.25 0.   0.   0.  ]\n",
      "0.25\n"
     ]
    }
   ],
   "source": [
    "    for i in range(p.shape[0]):\n",
    "        print(i)\n",
    "        print(p)\n",
    "        print(p[i])\n",
    "        pyi = np.sum(p[i])\n",
    "        print(pyi)"
   ]
  },
  {
   "cell_type": "code",
   "execution_count": 38,
   "id": "9e0d1b24",
   "metadata": {},
   "outputs": [],
   "source": [
    "def entropyXGivenY(p: np.array):\n",
    "    # 2 dim only for now\n",
    "\n",
    "    # e.g.\n",
    "    # p(x,y)\n",
    "    # Y rows (dim=0) \\X   columns (dim=1)\n",
    "    # p = np.array([[0.125, 0.0625, 0.03125, 0.03125],\n",
    "    #       [0.0625, 0.125, 0.03125, 0.03125],\n",
    "    #       [0.0625, 0.0625, 0.0625, 0.0625],\n",
    "    #       [0.25,0,0,0]])\n",
    "    # Correct answer = 11/8 = 1.375\n",
    "    total = 0\n",
    "    for i in range(p.shape[0]):\n",
    "        pyi = np.sum(p[i])\n",
    "        total+= pyi * entropy1(1/pyi * p[i])\n",
    "\n",
    "    return total"
   ]
  },
  {
   "cell_type": "code",
   "execution_count": 39,
   "id": "29250503",
   "metadata": {},
   "outputs": [
    {
     "name": "stderr",
     "output_type": "stream",
     "text": [
      "/home/jovyan/notebooks/CSYS5030/week1.py:19: RuntimeWarning: divide by zero encountered in log2\n",
      "  H = - np.dot(p, np.where(p > 0, np.log2(p), 0))\n"
     ]
    },
    {
     "data": {
      "text/plain": [
       "1.375"
      ]
     },
     "execution_count": 39,
     "metadata": {},
     "output_type": "execute_result"
    }
   ],
   "source": [
    "entropyXGivenY(p)"
   ]
  },
  {
   "cell_type": "code",
   "execution_count": 40,
   "id": "ee818b1f",
   "metadata": {},
   "outputs": [
    {
     "data": {
      "text/plain": [
       "1.375"
      ]
     },
     "execution_count": 40,
     "metadata": {},
     "output_type": "execute_result"
    }
   ],
   "source": [
    "11/8"
   ]
  },
  {
   "cell_type": "code",
   "execution_count": null,
   "id": "31d76d85",
   "metadata": {},
   "outputs": [],
   "source": []
  }
 ],
 "metadata": {
  "interpreter": {
   "hash": "98b0a9b7b4eaaa670588a142fd0a9b87eaafe866f1db4228be72b4211d12040f"
  },
  "kernelspec": {
   "display_name": "Python 3",
   "language": "python",
   "name": "python3"
  },
  "language_info": {
   "codemirror_mode": {
    "name": "ipython",
    "version": 3
   },
   "file_extension": ".py",
   "mimetype": "text/x-python",
   "name": "python",
   "nbconvert_exporter": "python",
   "pygments_lexer": "ipython3",
   "version": "3.9.2"
  }
 },
 "nbformat": 4,
 "nbformat_minor": 5
}
