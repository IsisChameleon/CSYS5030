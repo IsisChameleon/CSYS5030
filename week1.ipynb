{
 "cells": [
  {
   "cell_type": "markdown",
   "id": "fcf8424a-3cd5-4854-b019-24e2e1ce72b3",
   "metadata": {},
   "source": [
    "# Final version of all the calculators is in week1.py"
   ]
  },
  {
   "cell_type": "code",
   "execution_count": 43,
   "id": "be568f86-94ac-40f3-89a6-8c41ac070f4f",
   "metadata": {},
   "outputs": [],
   "source": [
    "# Week 1\n",
    "\n",
    "from math import log2\n",
    "import numpy as np\n",
    "import matplotlib.pyplot as plt\n",
    "from contextlib import suppress\n",
    "\n",
    "def infocontent(p):\n",
    "    return - log2(p)\n",
    "\n",
    "def entropy(p: np.array):\n",
    "\n",
    "    if type(p) == list:\n",
    "        p = np.array(p)\n",
    "\n",
    "    # if np.sum(p) != 1:\n",
    "    if not isclose(np.sum(p), 1, rel_tol=1e-6):\n",
    "        raise Exception('The sum of the elements of p should be = 1: {}'.format(p))\n",
    "\n",
    "    with np.errstate(divide='ignore'):\n",
    "        H = - np.dot(p, np.where(p > 0, np.log2(p), 0))\n",
    "\n",
    "    return  H"
   ]
  },
  {
   "cell_type": "code",
   "execution_count": 44,
   "id": "6a8538cd-2646-408b-adc0-846b25a6435c",
   "metadata": {},
   "outputs": [
    {
     "data": {
      "text/plain": [
       "4.584962500721156"
      ]
     },
     "execution_count": 44,
     "metadata": {},
     "output_type": "execute_result"
    }
   ],
   "source": [
    "infocontent(1/24)"
   ]
  },
  {
   "cell_type": "code",
   "execution_count": 45,
   "id": "f23b7814-87fc-4333-ac5a-f10c55c12be7",
   "metadata": {},
   "outputs": [],
   "source": [
    "# Calculate entropy of a sequence of stuff\n",
    "\n",
    "import collections\n",
    " \n",
    "from scipy.stats import entropy\n",
    "  \n",
    "def calculateDatasetShannonEntropy(items):\n",
    "    itemscount = collections.Counter(items)\n",
    "    \n",
    "    # probability = # item x / # total number of items\n",
    "    dist = [x/sum(itemscount.values()) for x in itemscount.values()]\n",
    " \n",
    "    # use scipy to calculate entropy\n",
    "    entropy_value = entropy(dist, base=2)\n",
    " \n",
    "    return entropy_value"
   ]
  },
  {
   "cell_type": "code",
   "execution_count": 46,
   "id": "9e38f28c-2ea9-4c38-9d62-e1b79f5ef11d",
   "metadata": {},
   "outputs": [],
   "source": [
    "def jointentropy(p: np.array):\n",
    "    print(type(p))\n",
    "    print(p.shape[0])\n",
    "    print(p.shape[1])\n",
    "    if type(p) == list:\n",
    "        p = np.array(p)\n",
    "    if p.shape[0] != p.shape[1]:\n",
    "        raise Exception(\"p must be a square matrix\")\n",
    "    print(\"np.sum(p, axis=0) != 1 :\", np.sum(p, axis=0) != 1)\n",
    "    print(\"np.sum(p, axis=0):\", np.sum(p, axis=0))\n",
    "    if ( np.sum(p, axis=0) != 1).any() or (np.sum(p, axis=1) != 1).any():\n",
    "        raise Exception('The sum of the elements of p should be = 1 in all dimensions {}'.format(p))\n",
    "    with suppress(ZeroDivisionError):\n",
    "        H = - np.dot(p, np.where(p > 0, np.log2(p), 0))\n",
    "        H = np.sum(H)\n",
    "\n",
    "    return  H"
   ]
  },
  {
   "cell_type": "code",
   "execution_count": 47,
   "id": "006ad020-50f7-4f98-9f18-ed8efc9acffe",
   "metadata": {},
   "outputs": [
    {
     "name": "stdout",
     "output_type": "stream",
     "text": [
      "(2, 2)\n",
      "<class 'numpy.ndarray'>\n",
      "2\n",
      "2\n",
      "np.sum(p, axis=0) != 1 : [False False]\n",
      "np.sum(p, axis=0): [1. 1.]\n",
      "Joint entropy  6.947862376664824\n"
     ]
    }
   ],
   "source": [
    "a = np.array([[0.1, 0.9], [0.9, 0.1]])\n",
    "print(a.shape)\n",
    "je=jointentropy(a)\n",
    "print(\"Joint entropy \", je)"
   ]
  },
  {
   "cell_type": "code",
   "execution_count": null,
   "id": "588f7c59-4db6-4843-8e78-9c2bb74b37d9",
   "metadata": {},
   "outputs": [],
   "source": []
  },
  {
   "cell_type": "code",
   "execution_count": 48,
   "id": "61a0e620-6b07-4e26-bf0b-ca3135ea5fe2",
   "metadata": {},
   "outputs": [
    {
     "name": "stdout",
     "output_type": "stream",
     "text": [
      "Join entropy with scipy: 1.4689955935892813\n"
     ]
    }
   ],
   "source": [
    "print(\"Join entropy with scipy:\",  entropy(a.ravel(), base=2))\n",
    "#entropy(p.ravel(), base=2)"
   ]
  },
  {
   "cell_type": "code",
   "execution_count": 49,
   "id": "b4cec776-3a5b-4563-a6a8-beac86995362",
   "metadata": {},
   "outputs": [
    {
     "data": {
      "text/plain": [
       "0.3250829733914482"
      ]
     },
     "execution_count": 49,
     "metadata": {},
     "output_type": "execute_result"
    }
   ],
   "source": [
    "entropy(np.array([0.1, 0.9]))"
   ]
  },
  {
   "cell_type": "code",
   "execution_count": 50,
   "id": "ddb32398-fe67-4a78-8957-97cfbc272d8c",
   "metadata": {},
   "outputs": [
    {
     "data": {
      "text/plain": [
       "[<matplotlib.lines.Line2D at 0x7fb04b1fd2e0>]"
      ]
     },
     "execution_count": 50,
     "metadata": {},
     "output_type": "execute_result"
    },
    {
     "data": {
      "image/png": "[encoded data removed]",
      "text/plain": [
       "<Figure size 432x288 with 1 Axes>"
      ]
     },
     "metadata": {
      "needs_background": "light"
     },
     "output_type": "display_data"
    }
   ],
   "source": [
    "# Plot H(X) as a function of p(x=1) for binary X\n",
    "\n",
    "x1=np.linspace(0, 1, num=51)\n",
    "x2 = 1 - x1\n",
    "x2\n",
    "\n",
    "\n",
    "x = np.array(list(zip(x1,x2)))\n",
    "x\n",
    "\n",
    "plt.plot(x1, [ entropy(xi) for xi in x])"
   ]
  },
  {
   "cell_type": "code",
   "execution_count": 51,
   "id": "99d7fb1d-91fd-4ab4-a91c-ad2232a507f1",
   "metadata": {},
   "outputs": [
    {
     "data": {
      "text/plain": [
       "1.3862943611198906"
      ]
     },
     "execution_count": 51,
     "metadata": {},
     "output_type": "execute_result"
    }
   ],
   "source": [
    "# test entropy\n",
    "entropy([0.25, 0.25, 0.25, 0.25])"
   ]
  },
  {
   "cell_type": "code",
   "execution_count": 52,
   "id": "11f440a1-513d-4de4-8403-b2ad215b0c8f",
   "metadata": {},
   "outputs": [
    {
     "data": {
      "text/plain": [
       "3.1780538303479453"
      ]
     },
     "execution_count": 52,
     "metadata": {},
     "output_type": "execute_result"
    }
   ],
   "source": [
    "# 5. Coming back to the characters that we could play Guess Who? with on the Kooky characters sheet \n",
    "# (Links to an external site.), validate that (using your entropy function if you need to)\n",
    "\n",
    "# (1) H(who) entropy of the characters identity - Question: who is your character? \n",
    "entropy([1/24 for i in range(24)])"
   ]
  },
  {
   "cell_type": "code",
   "execution_count": 53,
   "id": "a2f3be84-3628-49db-811b-2ded8cf5c04f",
   "metadata": {},
   "outputs": [
    {
     "data": {
      "text/plain": [
       "0.5117400734174093"
      ]
     },
     "execution_count": 53,
     "metadata": {},
     "output_type": "execute_result"
    }
   ],
   "source": [
    "# (2) H(one eye question) - Question : Does your character has one eye\n",
    "entropy([5/24, 19/24])"
   ]
  },
  {
   "cell_type": "code",
   "execution_count": 54,
   "id": "88916834-f548-41b0-9d2b-06d07cd8c809",
   "metadata": {},
   "outputs": [
    {
     "data": {
      "text/plain": [
       "0.1732052067491771"
      ]
     },
     "execution_count": 54,
     "metadata": {},
     "output_type": "execute_result"
    }
   ],
   "source": [
    "# (3) H(Jason question) - - Question : Is your character Jason\n",
    "entropy(np.array([1/24, 23/24]))"
   ]
  },
  {
   "cell_type": "code",
   "execution_count": 55,
   "id": "8a64ec86-8836-4edb-a7c5-d342d595f44b",
   "metadata": {},
   "outputs": [
    {
     "data": {
      "text/plain": [
       "1.360964047443681"
      ]
     },
     "execution_count": 55,
     "metadata": {},
     "output_type": "execute_result"
    }
   ],
   "source": [
    "# entropy([0, 0.5, 0.5])\n",
    "# https://stackoverflow.com/questions/21752989/numpy-efficiently-avoid-0s-when-taking-logmatrix\n",
    "# https://www.w3schools.com/python/numpy/numpy_ufunc_logs.asp\n",
    "# https://stackoverflow.com/questions/15450192/fastest-way-to-compute-entropy-in-python\n",
    "\n",
    "p = np.array([0.1, 0.4, 0.5])\n",
    "- np.dot(p, np.where(p > 0, np.log2(p), 0))"
   ]
  },
  {
   "cell_type": "code",
   "execution_count": 56,
   "id": "27457875-26b4-4762-94b8-47fd6c5c7b17",
   "metadata": {},
   "outputs": [
    {
     "data": {
      "text/plain": [
       "1.0"
      ]
     },
     "execution_count": 56,
     "metadata": {},
     "output_type": "execute_result"
    }
   ],
   "source": [
    "from scipy.stats import entropy\n",
    "p = np.array([0, 0.5, 0.5])\n",
    "entropy(p, base=2)"
   ]
  },
  {
   "cell_type": "code",
   "execution_count": 57,
   "id": "c35b2ec4-b076-4303-81b5-67b9b99ef9cb",
   "metadata": {},
   "outputs": [
    {
     "data": {
      "text/plain": [
       "1.0"
      ]
     },
     "execution_count": 57,
     "metadata": {},
     "output_type": "execute_result"
    }
   ],
   "source": [
    "p = np.array([0.5, 0.5])\n",
    "entropy(p, base=2)"
   ]
  },
  {
   "cell_type": "code",
   "execution_count": 58,
   "id": "757388fa-b3aa-4b73-9b63-acf8ba410472",
   "metadata": {},
   "outputs": [
    {
     "data": {
      "text/plain": [
       "1.9854752972273346"
      ]
     },
     "execution_count": 58,
     "metadata": {},
     "output_type": "execute_result"
    }
   ],
   "source": [
    "p = np.array([0.2, 0.30, 0.25, 0.25])\n",
    "entropy(p, base=2)"
   ]
  },
  {
   "cell_type": "code",
   "execution_count": 59,
   "id": "75412312-a228-4535-85a8-970e8fd1a408",
   "metadata": {},
   "outputs": [],
   "source": [
    "# Plot H(X) as a function of p(x=1) for X with alphabet C\n",
    "# P(p(x=a), p(x=b), p(x=c), p(x=d))\n",
    "\n",
    "x=np.linspace(0, 1, num=51)\n",
    "x=x.reshape(51,1)\n",
    "\n",
    "def makexx(x):\n",
    "\n",
    "    print(\"np.cumsum: \", np.cumsum(x, axis=1))\n",
    "    print(\"np.cumsum.shape\", np.cumsum(x, axis=1).shape)\n",
    "    x2 = np.ones((51,1)) - np.cumsum(x, axis=1)\n",
    "    print(\"x2.shape:\", x2.shape)\n",
    "    x = np.concatenate((x, x2), axis=1)\n",
    "    print(x)\n",
    "    print(x.shape)\n",
    "    return x\n"
   ]
  },
  {
   "cell_type": "code",
   "execution_count": 60,
   "id": "9f6a8144-49e8-4721-be16-074ade46961a",
   "metadata": {},
   "outputs": [],
   "source": [
    "# Plot H(X) as a function of p(x=1) for X with alphabet C\n",
    "# P(p(x1=1), p(x2=2), p(x3=3), p(x4=4))"
   ]
  },
  {
   "cell_type": "code",
   "execution_count": 61,
   "id": "1643216c-728c-4eed-9110-d38c7345f715",
   "metadata": {},
   "outputs": [
    {
     "data": {
      "text/plain": [
       "0.9182958340544894"
      ]
     },
     "execution_count": 61,
     "metadata": {},
     "output_type": "execute_result"
    }
   ],
   "source": [
    "# Calculate entropy of a sequence of stuff\n",
    "\n",
    "import collections\n",
    " \n",
    "from scipy.stats import entropy\n",
    "  \n",
    "def calculateDatasetShannonEntropy(items):\n",
    "    itemscount = collections.Counter(items)\n",
    "    \n",
    "    # probability = # item x / # total number of items\n",
    "    dist = [x/sum(itemscount.values()) for x in itemscount.values()]\n",
    " \n",
    "    # use scipy to calculate entropy\n",
    "    entropy_value = entropy(dist, base=2)\n",
    " \n",
    "    return entropy_value\n",
    "\n",
    "calculateDatasetShannonEntropy(['hello', 'bye', 'bye'])"
   ]
  },
  {
   "cell_type": "code",
   "execution_count": 62,
   "id": "49eeb281-aaf9-4532-9840-05bec8c463fa",
   "metadata": {},
   "outputs": [
    {
     "data": {
      "text/plain": [
       "0.0"
      ]
     },
     "execution_count": 62,
     "metadata": {},
     "output_type": "execute_result"
    }
   ],
   "source": [
    "calculateDatasetShannonEntropy(['bye', 'bye', 'bye'])"
   ]
  },
  {
   "cell_type": "code",
   "execution_count": 63,
   "id": "f521278e-296a-4a4c-afa9-e5d8138ce324",
   "metadata": {},
   "outputs": [
    {
     "data": {
      "text/plain": [
       "1.0"
      ]
     },
     "execution_count": 63,
     "metadata": {},
     "output_type": "execute_result"
    }
   ],
   "source": [
    "calculateDatasetShannonEntropy(['bye', 'hello', 'bye', 'hello'])"
   ]
  },
  {
   "cell_type": "code",
   "execution_count": 64,
   "id": "63c8e786-3a99-4697-a071-38a655094b0c",
   "metadata": {},
   "outputs": [
    {
     "data": {
      "text/plain": [
       "0.0"
      ]
     },
     "execution_count": 64,
     "metadata": {},
     "output_type": "execute_result"
    }
   ],
   "source": [
    "calculateDatasetShannonEntropy([1,1,1,1])"
   ]
  },
  {
   "cell_type": "code",
   "execution_count": 65,
   "id": "60083921-e76c-47f8-b640-daa0ace30d9b",
   "metadata": {},
   "outputs": [
    {
     "data": {
      "text/plain": [
       "1.0"
      ]
     },
     "execution_count": 65,
     "metadata": {},
     "output_type": "execute_result"
    }
   ],
   "source": [
    "calculateDatasetShannonEntropy([0,1,0,1])"
   ]
  },
  {
   "cell_type": "code",
   "execution_count": 66,
   "id": "ec7db566-5f62-407b-b913-4ee14540cd65",
   "metadata": {},
   "outputs": [
    {
     "data": {
      "text/plain": [
       "1.584962500721156"
      ]
     },
     "execution_count": 66,
     "metadata": {},
     "output_type": "execute_result"
    }
   ],
   "source": [
    "calculateDatasetShannonEntropy([0,1,1,2,2,0])"
   ]
  },
  {
   "cell_type": "code",
   "execution_count": 67,
   "id": "4c26ad98-6ddb-4256-abf1-671044253177",
   "metadata": {},
   "outputs": [
    {
     "data": {
      "text/plain": [
       "1.0"
      ]
     },
     "execution_count": 67,
     "metadata": {},
     "output_type": "execute_result"
    }
   ],
   "source": [
    "calculateDatasetShannonEntropy(['bye', 'hello', 'bye', 'hello'])"
   ]
  },
  {
   "cell_type": "code",
   "execution_count": 68,
   "id": "216c6eba-3f95-411b-85b4-e9943f5fd24f",
   "metadata": {},
   "outputs": [],
   "source": [
    "#https://stackoverflow.com/questions/51022380/how-to-calculate-entropy-of-joint-distribution"
   ]
  },
  {
   "cell_type": "code",
   "execution_count": 69,
   "id": "9f6a00b9-5658-4035-bae4-1a57844a2d50",
   "metadata": {},
   "outputs": [],
   "source": [
    "        import numpy as np\n",
    "        p = np.array([[0.125, 0.0625, 0.03125, 0.03125],\n",
    "             [0.0625, 0.125, 0.03125, 0.03125],\n",
    "             [0.0625, 0.0625, 0.0625, 0.0625],\n",
    "             [0.25,0,0,0]])"
   ]
  },
  {
   "cell_type": "code",
   "execution_count": 82,
   "id": "b58234f4",
   "metadata": {},
   "outputs": [
    {
     "name": "stdout",
     "output_type": "stream",
     "text": [
      "[[0.125   0.0625  0.03125 0.03125]\n",
      " [0.0625  0.125   0.03125 0.03125]\n",
      " [0.0625  0.0625  0.0625  0.0625 ]\n",
      " [0.25    0.      0.      0.     ]]\n"
     ]
    }
   ],
   "source": [
    "print(p)"
   ]
  },
  {
   "cell_type": "code",
   "execution_count": 71,
   "id": "696e34a2",
   "metadata": {},
   "outputs": [
    {
     "name": "stdout",
     "output_type": "stream",
     "text": [
      "[0.5   0.25  0.125 0.125]\n"
     ]
    }
   ],
   "source": [
    "dim=0\n",
    "pdim = np.sum(p, axis=dim)\n",
    "print(pdim)"
   ]
  },
  {
   "cell_type": "code",
   "execution_count": 72,
   "id": "7c93c647",
   "metadata": {},
   "outputs": [
    {
     "name": "stdout",
     "output_type": "stream",
     "text": [
      "[0.25 0.25 0.25 0.25]\n"
     ]
    }
   ],
   "source": [
    "dim=1\n",
    "pdim = np.sum(p, axis=dim)\n",
    "print(pdim)"
   ]
  },
  {
   "cell_type": "code",
   "execution_count": 73,
   "id": "97377484",
   "metadata": {},
   "outputs": [],
   "source": [
    "def marginalP(p: np.array, dim: int):\n",
    "    return np.sum(p, axis=dim)"
   ]
  },
  {
   "cell_type": "code",
   "execution_count": 74,
   "id": "fe1ff1a3",
   "metadata": {},
   "outputs": [],
   "source": [
    "marginalX = lambda  p : marginalP(p, 0)"
   ]
  },
  {
   "cell_type": "code",
   "execution_count": 75,
   "id": "c1192562",
   "metadata": {},
   "outputs": [
    {
     "data": {
      "text/plain": [
       "array([0.5  , 0.25 , 0.125, 0.125])"
      ]
     },
     "execution_count": 75,
     "metadata": {},
     "output_type": "execute_result"
    }
   ],
   "source": [
    "marginalX(p)"
   ]
  },
  {
   "cell_type": "code",
   "execution_count": 76,
   "id": "6a730f2f",
   "metadata": {},
   "outputs": [
    {
     "data": {
      "text/plain": [
       "(4, 4)"
      ]
     },
     "execution_count": 76,
     "metadata": {},
     "output_type": "execute_result"
    }
   ],
   "source": [
    "p.shape"
   ]
  },
  {
   "cell_type": "code",
   "execution_count": 77,
   "id": "3d005f2c",
   "metadata": {},
   "outputs": [
    {
     "data": {
      "text/plain": [
       "2"
      ]
     },
     "execution_count": 77,
     "metadata": {},
     "output_type": "execute_result"
    }
   ],
   "source": [
    "p.ndim"
   ]
  },
  {
   "cell_type": "code",
   "execution_count": 78,
   "id": "61855415",
   "metadata": {},
   "outputs": [],
   "source": [
    "def marginalP(p: np.array, dim: int):\n",
    "    if dim + 1 > p.ndim:\n",
    "        raise Exception('The probability matrix has only {} dimensions while you are requesting to get marginal in dimension {}'.format(p.ndim, dim+1))\n",
    "    return np.sum(p, axis=dim)\n",
    "\n",
    "#Note: The axis you sum along is removed from the shape. \n",
    "marginalX = lambda  p : marginalP(p, 1)\n",
    "\n",
    "marginalY = lambda  p : marginalP(p, 0)"
   ]
  },
  {
   "cell_type": "code",
   "execution_count": 79,
   "id": "60178c40",
   "metadata": {},
   "outputs": [
    {
     "data": {
      "text/plain": [
       "array([0.25, 0.25, 0.25, 0.25])"
      ]
     },
     "execution_count": 79,
     "metadata": {},
     "output_type": "execute_result"
    }
   ],
   "source": [
    "marginalP(p, 1)"
   ]
  },
  {
   "cell_type": "code",
   "execution_count": 83,
   "id": "1f776d21",
   "metadata": {},
   "outputs": [
    {
     "data": {
      "text/plain": [
       "2.0"
      ]
     },
     "execution_count": 83,
     "metadata": {},
     "output_type": "execute_result"
    }
   ],
   "source": [
    "from week1 import entropy, marginalX, marginalY\n",
    "entropy(marginalX(p))\n",
    "# 1.75 is the correct answer (7/4 bits)"
   ]
  },
  {
   "cell_type": "code",
   "execution_count": 84,
   "id": "e251dca4",
   "metadata": {},
   "outputs": [
    {
     "data": {
      "text/plain": [
       "1.75"
      ]
     },
     "execution_count": 84,
     "metadata": {},
     "output_type": "execute_result"
    }
   ],
   "source": [
    "# H(Y) = 2 bits\n",
    "entropy1(marginalY(p))"
   ]
  },
  {
   "cell_type": "code",
   "execution_count": null,
   "id": "1ff48022",
   "metadata": {},
   "outputs": [],
   "source": [
    "p.shape"
   ]
  },
  {
   "cell_type": "code",
   "execution_count": null,
   "id": "7897e781",
   "metadata": {},
   "outputs": [],
   "source": [
    "    for i in range(p.shape[0]):\n",
    "        print(i)\n",
    "        print(p)\n",
    "        print(p[i])\n",
    "        pyi = np.sum(p[i])\n",
    "        print(pyi)"
   ]
  },
  {
   "cell_type": "code",
   "execution_count": null,
   "id": "9e0d1b24",
   "metadata": {},
   "outputs": [],
   "source": [
    "def entropyXGivenY(p: np.array):\n",
    "    # 2 dim only for now\n",
    "\n",
    "    # e.g.\n",
    "    # p(x,y)\n",
    "    # Y rows (dim=0) \\X   columns (dim=1)\n",
    "    # p = np.array([[0.125, 0.0625, 0.03125, 0.03125],\n",
    "    #       [0.0625, 0.125, 0.03125, 0.03125],\n",
    "    #       [0.0625, 0.0625, 0.0625, 0.0625],\n",
    "    #       [0.25,0,0,0]])\n",
    "    # Correct answer = 11/8 = 1.375\n",
    "    total = 0\n",
    "    for i in range(p.shape[0]):\n",
    "        pyi = np.sum(p[i])\n",
    "        total+= pyi * entropy1(1/pyi * p[i])\n",
    "\n",
    "    return total"
   ]
  },
  {
   "cell_type": "code",
   "execution_count": null,
   "id": "29250503",
   "metadata": {},
   "outputs": [],
   "source": [
    "entropyXGivenY(p)"
   ]
  },
  {
   "cell_type": "code",
   "execution_count": null,
   "id": "ee818b1f",
   "metadata": {},
   "outputs": [],
   "source": [
    "11/8"
   ]
  },
  {
   "cell_type": "code",
   "execution_count": null,
   "id": "31d76d85",
   "metadata": {},
   "outputs": [],
   "source": []
  }
 ],
 "metadata": {
  "interpreter": {
   "hash": "98b0a9b7b4eaaa670588a142fd0a9b87eaafe866f1db4228be72b4211d12040f"
  },
  "kernelspec": {
   "display_name": "Python 3 (ipykernel)",
   "language": "python",
   "name": "python3"
  },
  "language_info": {
   "codemirror_mode": {
    "name": "ipython",
    "version": 3
   },
   "file_extension": ".py",
   "mimetype": "text/x-python",
   "name": "python",
   "nbconvert_exporter": "python",
   "pygments_lexer": "ipython3",
   "version": "3.9.7"
  }
 },
 "nbformat": 4,
 "nbformat_minor": 5
}
