{
 "cells": [
  {
   "cell_type": "code",
   "execution_count": 7,
   "id": "6a8538cd-2646-408b-adc0-846b25a6435c",
   "metadata": {},
   "outputs": [
    {
     "data": {
      "text/plain": [
       "0.19104010419671483"
      ]
     },
     "execution_count": 7,
     "metadata": {},
     "output_type": "execute_result"
    }
   ],
   "source": [
    "import week1\n",
    "\n",
    "week1.infocontent(1/24)"
   ]
  },
  {
   "cell_type": "code",
   "execution_count": 4,
   "id": "b4cec776-3a5b-4563-a6a8-beac86995362",
   "metadata": {},
   "outputs": [],
   "source": [
    "from math import log2\n"
   ]
  },
  {
   "cell_type": "code",
   "execution_count": 5,
   "id": "ddb32398-fe67-4a78-8957-97cfbc272d8c",
   "metadata": {},
   "outputs": [
    {
     "data": {
      "text/plain": [
       "1.0"
      ]
     },
     "execution_count": 5,
     "metadata": {},
     "output_type": "execute_result"
    }
   ],
   "source": [
    "- log2(0.5)\n"
   ]
  },
  {
   "cell_type": "code",
   "execution_count": 6,
   "id": "11f440a1-513d-4de4-8403-b2ad215b0c8f",
   "metadata": {},
   "outputs": [
    {
     "data": {
      "text/plain": [
       "4.584962500721156"
      ]
     },
     "execution_count": 6,
     "metadata": {},
     "output_type": "execute_result"
    }
   ],
   "source": [
    "- log2(1/24)\n"
   ]
  },
  {
   "cell_type": "code",
   "execution_count": null,
   "id": "88916834-f548-41b0-9d2b-06d07cd8c809",
   "metadata": {},
   "outputs": [],
   "source": []
  }
 ],
 "metadata": {
  "kernelspec": {
   "display_name": "Python 3",
   "language": "python",
   "name": "python3"
  },
  "language_info": {
   "codemirror_mode": {
    "name": "ipython",
    "version": 3
   },
   "file_extension": ".py",
   "mimetype": "text/x-python",
   "name": "python",
   "nbconvert_exporter": "python",
   "pygments_lexer": "ipython3",
   "version": "3.9.2"
  }
 },
 "nbformat": 4,
 "nbformat_minor": 5
}
