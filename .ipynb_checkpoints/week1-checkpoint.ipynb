{
 "cells": [
  {
   "cell_type": "code",
   "execution_count": 17,
   "id": "be568f86-94ac-40f3-89a6-8c41ac070f4f",
   "metadata": {},
   "outputs": [],
   "source": [
    "# Week 1\n",
    "\n",
    "from math import log2\n",
    "import numpy as np\n",
    "import matplotlib.pyplot as plt\n",
    "\n",
    "def infocontent(p):\n",
    "    return - log2(p)\n",
    "\n",
    "def entropy(p: np.array):\n",
    "    if np.sum(p) != 1:\n",
    "        raise Exception('The sum of the elements of p should be = 1: {}'.format(p))\n",
    "    return  - np.dot(p, np.log2(p))\n"
   ]
  },
  {
   "cell_type": "code",
   "execution_count": 6,
   "id": "6a8538cd-2646-408b-adc0-846b25a6435c",
   "metadata": {},
   "outputs": [
    {
     "data": {
      "text/plain": [
       "4.584962500721156"
      ]
     },
     "execution_count": 6,
     "metadata": {},
     "output_type": "execute_result"
    }
   ],
   "source": [
    "#from week1 import infocontent, entropy\n",
    "import matplotlib.pyplot as plt\n",
    "import numpy as np\n",
    "\n",
    "infocontent(1/24)"
   ]
  },
  {
   "cell_type": "code",
   "execution_count": 11,
   "id": "b4cec776-3a5b-4563-a6a8-beac86995362",
   "metadata": {},
   "outputs": [
    {
     "data": {
      "text/plain": [
       "0.4689955935892812"
      ]
     },
     "execution_count": 11,
     "metadata": {},
     "output_type": "execute_result"
    }
   ],
   "source": [
    "entropy(np.array([0.1, 0.9]))"
   ]
  },
  {
   "cell_type": "code",
   "execution_count": 22,
   "id": "ddb32398-fe67-4a78-8957-97cfbc272d8c",
   "metadata": {},
   "outputs": [
    {
     "name": "stderr",
     "output_type": "stream",
     "text": [
      "<ipython-input-17-32f798ed5d02>:12: RuntimeWarning: divide by zero encountered in log2\n",
      "  return  - np.dot(p, np.log2(p))\n"
     ]
    },
    {
     "data": {
      "text/plain": [
       "[<matplotlib.lines.Line2D at 0x7f29c45efe50>]"
      ]
     },
     "execution_count": 22,
     "metadata": {},
     "output_type": "execute_result"
    },
    {
     "data": {
      "image/png": "[encoded data removed]",
      "text/plain": [
       "<Figure size 432x288 with 1 Axes>"
      ]
     },
     "metadata": {
      "needs_background": "light"
     },
     "output_type": "display_data"
    }
   ],
   "source": [
    "# Plot H(X) as a function of p(x=1) for binary X\n",
    "\n",
    "x1=np.linspace(0, 1, num=51)\n",
    "x2 = 1 - x1\n",
    "x2\n",
    "\n",
    "\n",
    "x = np.array(list(zip(x1,x2)))\n",
    "x\n",
    "\n",
    "plt.plot(x1, [ entropy(xi) for xi in x])"
   ]
  },
  {
   "cell_type": "code",
   "execution_count": 23,
   "id": "99d7fb1d-91fd-4ab4-a91c-ad2232a507f1",
   "metadata": {},
   "outputs": [
    {
     "data": {
      "text/plain": [
       "2.0"
      ]
     },
     "execution_count": 23,
     "metadata": {},
     "output_type": "execute_result"
    }
   ],
   "source": [
    "# test entropy\n",
    "entropy([0.25, 0.25, 0.25, 0.25])"
   ]
  },
  {
   "cell_type": "code",
   "execution_count": 27,
   "id": "11f440a1-513d-4de4-8403-b2ad215b0c8f",
   "metadata": {},
   "outputs": [
    {
     "data": {
      "text/plain": [
       "4.584962500721155"
      ]
     },
     "execution_count": 27,
     "metadata": {},
     "output_type": "execute_result"
    }
   ],
   "source": [
    "# 5. Coming back to the characters that we could play Guess Who? with on the Kooky characters sheet \n",
    "# (Links to an external site.), validate that (using your entropy function if you need to)\n",
    "\n",
    "# (1) H(who) entropy of the characters identity - Question: who is your character? \n",
    "entropy([1/24 for i in range(24)])"
   ]
  },
  {
   "cell_type": "code",
   "execution_count": 28,
   "id": "a2f3be84-3628-49db-811b-2ded8cf5c04f",
   "metadata": {},
   "outputs": [
    {
     "data": {
      "text/plain": [
       "0.7382848661434506"
      ]
     },
     "execution_count": 28,
     "metadata": {},
     "output_type": "execute_result"
    }
   ],
   "source": [
    "# (2) H(one eye question) - Question : Does your character has one eye\n",
    "entropy([5/24, 19/24])"
   ]
  },
  {
   "cell_type": "code",
   "execution_count": 29,
   "id": "88916834-f548-41b0-9d2b-06d07cd8c809",
   "metadata": {},
   "outputs": [
    {
     "data": {
      "text/plain": [
       "0.24988229283318544"
      ]
     },
     "execution_count": 29,
     "metadata": {},
     "output_type": "execute_result"
    }
   ],
   "source": [
    "# (3) H(Jason question) - - Question : Is your character Jason\n",
    "entropy([1/24, 23/24])"
   ]
  },
  {
   "cell_type": "code",
   "execution_count": null,
   "id": "8a64ec86-8836-4edb-a7c5-d342d595f44b",
   "metadata": {},
   "outputs": [],
   "source": []
  }
 ],
 "metadata": {
  "kernelspec": {
   "display_name": "Python 3",
   "language": "python",
   "name": "python3"
  },
  "language_info": {
   "codemirror_mode": {
    "name": "ipython",
    "version": 3
   },
   "file_extension": ".py",
   "mimetype": "text/x-python",
   "name": "python",
   "nbconvert_exporter": "python",
   "pygments_lexer": "ipython3",
   "version": "3.9.2"
  }
 },
 "nbformat": 4,
 "nbformat_minor": 5
}
