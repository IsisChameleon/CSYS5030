{
 "cells": [
  {
   "cell_type": "code",
   "execution_count": 1,
   "metadata": {},
   "outputs": [],
   "source": [
    "JIDT_HOME='/home/jovyan/notebooks/jidt'"
   ]
  },
  {
   "cell_type": "code",
   "execution_count": 2,
   "metadata": {},
   "outputs": [],
   "source": [
    "#---------------------------------------------------\n",
    "# START JVM\n",
    "#-----------------------------------------------------\n",
    "\n",
    "from jpype import startJVM, isJVMStarted, getDefaultJVMPath, JArray, JInt, JPackage, shutdownJVM, JDouble\n",
    "import numpy\n",
    "import sys\n",
    "# Our python data file readers are a bit of a hack, python users will do better on this:\n",
    "sys.path.append(\"/home/jovyan/notebooks/jidt/demos/python\")\n",
    "import readIntsFile, readFloatsFile\n",
    "\n",
    "# Add JIDT jar library to the path\n",
    "jarLocation = \"/home/jovyan/notebooks/jidt/infodynamics.jar\"\n",
    "# Start the JVM (add the \"-Xmx\" option with say 1024M if you get crashes due to not enough memory space)\n",
    "if (not isJVMStarted()):\n",
    "    startJVM(getDefaultJVMPath(), \"-ea\", \"-Djava.class.path=\" + jarLocation)\n"
   ]
  },
  {
   "cell_type": "code",
   "execution_count": 3,
   "metadata": {},
   "outputs": [
    {
     "data": {
      "text/html": [
       "<div>\n",
       "<style scoped>\n",
       "    .dataframe tbody tr th:only-of-type {\n",
       "        vertical-align: middle;\n",
       "    }\n",
       "\n",
       "    .dataframe tbody tr th {\n",
       "        vertical-align: top;\n",
       "    }\n",
       "\n",
       "    .dataframe thead th {\n",
       "        text-align: right;\n",
       "    }\n",
       "</style>\n",
       "<table border=\"1\" class=\"dataframe\">\n",
       "  <thead>\n",
       "    <tr style=\"text-align: right;\">\n",
       "      <th></th>\n",
       "      <th>Heart rate</th>\n",
       "      <th>Chest volume</th>\n",
       "      <th>Blood oxygen</th>\n",
       "    </tr>\n",
       "  </thead>\n",
       "  <tbody>\n",
       "    <tr>\n",
       "      <th>0</th>\n",
       "      <td>83.66</td>\n",
       "      <td>7485</td>\n",
       "      <td>5042</td>\n",
       "    </tr>\n",
       "    <tr>\n",
       "      <th>1</th>\n",
       "      <td>85.23</td>\n",
       "      <td>12553</td>\n",
       "      <td>4881</td>\n",
       "    </tr>\n",
       "    <tr>\n",
       "      <th>2</th>\n",
       "      <td>86.87</td>\n",
       "      <td>13031</td>\n",
       "      <td>4822</td>\n",
       "    </tr>\n",
       "    <tr>\n",
       "      <th>3</th>\n",
       "      <td>88.33</td>\n",
       "      <td>17247</td>\n",
       "      <td>4762</td>\n",
       "    </tr>\n",
       "    <tr>\n",
       "      <th>4</th>\n",
       "      <td>87.61</td>\n",
       "      <td>12586</td>\n",
       "      <td>4744</td>\n",
       "    </tr>\n",
       "  </tbody>\n",
       "</table>\n",
       "</div>"
      ],
      "text/plain": [
       "   Heart rate  Chest volume  Blood oxygen\n",
       "0       83.66          7485          5042\n",
       "1       85.23         12553          4881\n",
       "2       86.87         13031          4822\n",
       "3       88.33         17247          4762\n",
       "4       87.61         12586          4744"
      ]
     },
     "execution_count": 3,
     "metadata": {},
     "output_type": "execute_result"
    }
   ],
   "source": [
    "# LOAD DATA FILE\n",
    "#-------------------\n",
    "\n",
    "import pandas as pd\n",
    "#from pathlib import Path\n",
    "\n",
    "filename = './data/SFI-heartRate_breathVol_bloodOx-extract.txt'\n",
    "data = pd.read_csv(filename, delim_whitespace=True, comment='%', header=None, names = ['Heart rate', 'Chest volume', 'Blood oxygen'], index_col=None)\n",
    "data.head()"
   ]
  },
  {
   "cell_type": "code",
   "execution_count": 4,
   "metadata": {},
   "outputs": [
    {
     "data": {
      "text/plain": [
       "0       83.66\n",
       "1       85.23\n",
       "2       86.87\n",
       "3       88.33\n",
       "4       87.61\n",
       "        ...  \n",
       "1196    75.25\n",
       "1197    70.13\n",
       "1198    66.93\n",
       "1199    65.75\n",
       "1200    64.83\n",
       "Name: Heart rate, Length: 1201, dtype: float64"
      ]
     },
     "execution_count": 4,
     "metadata": {},
     "output_type": "execute_result"
    }
   ],
   "source": [
    "data['Heart rate']"
   ]
  },
  {
   "cell_type": "code",
   "execution_count": 5,
   "metadata": {},
   "outputs": [
    {
     "data": {
      "application/vnd.jupyter.widget-view+json": {
       "model_id": "779368b0029549a29d46022da07bc86b",
       "version_major": 2,
       "version_minor": 0
      },
      "text/plain": [
       "Canvas(toolbar=Toolbar(toolitems=[('Home', 'Reset original view', 'home', 'home'), ('Back', 'Back to previous …"
      ]
     },
     "metadata": {},
     "output_type": "display_data"
    }
   ],
   "source": [
    "import matplotlib.pyplot as plt\n",
    "%matplotlib widget\n",
    "\n",
    "fig, axs = plt.subplots(1, 1, figsize=(9, 6))  \n",
    "#axs.plot(data['Heart rate'], label='Heart rate')\n",
    "axs.plot(data['Chest volume'], label='Chest volume')\n",
    "#axs.plot(data['Blood oxygen'], label='Blood oxygen')\n",
    "axs.set_title('Heart rate, Chest Volume and Blood Oxygen vs Time')\n",
    "axs.set_xlabel('Sample index')\n",
    "plt.legend()\n",
    "plt.show()"
   ]
  },
  {
   "cell_type": "code",
   "execution_count": 6,
   "metadata": {},
   "outputs": [
    {
     "data": {
      "application/vnd.jupyter.widget-view+json": {
       "model_id": "d1559a3751d6401dbf38ec0052727d86",
       "version_major": 2,
       "version_minor": 0
      },
      "text/plain": [
       "Canvas(toolbar=Toolbar(toolitems=[('Home', 'Reset original view', 'home', 'home'), ('Back', 'Back to previous …"
      ]
     },
     "metadata": {},
     "output_type": "display_data"
    },
    {
     "data": {
      "text/plain": [
       "<AxesSubplot:>"
      ]
     },
     "execution_count": 6,
     "metadata": {},
     "output_type": "execute_result"
    }
   ],
   "source": [
    "# Standardize the data\n",
    "# ----------------------\n",
    "\n",
    "# copy the data\n",
    "data_scaled = data.copy()\n",
    "  \n",
    "# apply normalization techniques\n",
    "for column in data_scaled.columns:\n",
    "    data_scaled[column] = (data_scaled[column] -\n",
    "                           data_scaled[column].mean()) / data_scaled[column].std()    \n",
    "  \n",
    "# view normalized data   \n",
    "data_scaled.plot()"
   ]
  },
  {
   "cell_type": "code",
   "execution_count": 7,
   "metadata": {},
   "outputs": [],
   "source": [
    "# Select data source and destination for MI Estimation\n",
    "# ----------------------------------------------------\n",
    "\n",
    "import numpy as np\n",
    "source = data['Heart rate'].to_numpy()\n",
    "destination = data['Chest volume'].to_numpy()\n"
   ]
  },
  {
   "cell_type": "code",
   "execution_count": 8,
   "metadata": {},
   "outputs": [],
   "source": [
    "\n",
    "# # 0. Load/prepare the data:\n",
    "# dataRaw = readFloatsFile.readFloatsFile(JIDT_HOME + \"/demos/data/SFI-heartRate_breathVol_bloodOx-extract.txt\")\n",
    "# # As numpy array:\n",
    "# data = numpy.array(dataRaw)\n",
    "# source = data[:,0]\n",
    "# destination = data[:,1]"
   ]
  },
  {
   "cell_type": "code",
   "execution_count": 9,
   "metadata": {},
   "outputs": [],
   "source": [
    "# Conversion to Java double array instead of numpy.float\n",
    "source = JArray(JDouble, 1)(source.tolist())\n",
    "destination = JArray(JDouble, 1)(destination.tolist())"
   ]
  },
  {
   "cell_type": "code",
   "execution_count": 10,
   "metadata": {},
   "outputs": [
    {
     "name": "stdout",
     "output_type": "stream",
     "text": [
      "MI_Gaussian(col_0 -> col_1) = 0.0003 nats\n"
     ]
    }
   ],
   "source": [
    "# Construct the calculator : MI Gaussian Estimator\n",
    "#-------------------------------------------------\n",
    "\n",
    "# 1. Construct the calculator:\n",
    "calcClass = JPackage(\"infodynamics.measures.continuous.gaussian\").MutualInfoCalculatorMultiVariateGaussian\n",
    "calc = calcClass()\n",
    "# 2. Set any properties to non-default values:\n",
    "calc.setProperty(\"TIME_DIFF\", \"5\")\n",
    "# 3. Initialise the calculator for (re-)use:\n",
    "calc.initialise()\n",
    "# 4. Supply the sample data:\n",
    "calc.setObservations(source, destination)\n",
    "# 5. Compute the estimate:\n",
    "result = calc.computeAverageLocalOfObservations()\n",
    "\n",
    "print(\"MI_Gaussian(col_0 -> col_1) = %.4f nats\" %\n",
    "    (result))\n"
   ]
  },
  {
   "cell_type": "code",
   "execution_count": 11,
   "metadata": {},
   "outputs": [],
   "source": [
    "results=[]\n",
    "def gaussianEstimator(timediff: int):\n",
    "    calc.setProperty(\"TIME_DIFF\", str(timediff))\n",
    "    # 3. Initialise the calculator for (re-)use:\n",
    "    calc.initialise()\n",
    "    # 4. Supply the sample data:\n",
    "    calc.setObservations(source, destination)\n",
    "    # 5. Compute the estimate:\n",
    "    result = calc.computeAverageLocalOfObservations()\n",
    "    return result\n",
    "\n",
    "for timediff in range(50):\n",
    "    result=gaussianEstimator(timediff)\n",
    "    results.append(result)\n",
    "\n",
    "    "
   ]
  },
  {
   "cell_type": "code",
   "execution_count": 12,
   "metadata": {},
   "outputs": [
    {
     "data": {
      "application/vnd.jupyter.widget-view+json": {
       "model_id": "05091017f25948c093f07b963be73fbf",
       "version_major": 2,
       "version_minor": 0
      },
      "text/plain": [
       "Canvas(toolbar=Toolbar(toolitems=[('Home', 'Reset original view', 'home', 'home'), ('Back', 'Back to previous …"
      ]
     },
     "metadata": {},
     "output_type": "display_data"
    }
   ],
   "source": [
    "fig, axs = plt.subplots(1, 1, figsize=(9, 6))  \n",
    "axs.plot([t for t in range(50)], results, label='MI Gaussian')\n",
    "axs.set_title('MI Gaussian Heart rate; Chest Volume vs Time Lag')\n",
    "axs.set_xlabel('Time Lag')\n",
    "plt.legend()\n",
    "plt.show()"
   ]
  },
  {
   "cell_type": "code",
   "execution_count": 13,
   "metadata": {},
   "outputs": [
    {
     "name": "stdout",
     "output_type": "stream",
     "text": [
      "MI_Kraskov (KSG) alg. 2(col_0 -> col_1) = 0.1337 nats\n"
     ]
    }
   ],
   "source": [
    "#------------------------------------------\n",
    "# Estimation with Kraskov KSG Estimator\n",
    "#------------------------------------------\n",
    "\n",
    "# 1. Construct the calculator:\n",
    "calcClass = JPackage(\"infodynamics.measures.continuous.kraskov\").MutualInfoCalculatorMultiVariateKraskov2\n",
    "calc = calcClass()\n",
    "# 2. Set any properties to non-default values:\n",
    "calc.setProperty(\"k\", \"4\")\n",
    "# 3. Initialise the calculator for (re-)use:\n",
    "calc.initialise()\n",
    "# 4. Supply the sample data:\n",
    "calc.setObservations(source, destination)\n",
    "# 5. Compute the estimate:\n",
    "result = calc.computeAverageLocalOfObservations()\n",
    "\n",
    "print(\"MI_Kraskov (KSG) alg. 2(col_0 -> col_1) = %.4f nats\" %\n",
    "    (result))"
   ]
  },
  {
   "cell_type": "code",
   "execution_count": 16,
   "metadata": {},
   "outputs": [],
   "source": [
    "KSG_results=[]\n",
    "\n",
    "def ksgEstimator(timediff: int):\n",
    "    calc.setProperty(\"TIME_DIFF\", str(timediff))\n",
    "    # 3. Initialise the calculator for (re-)use:\n",
    "    calc.initialise()\n",
    "    # 4. Supply the sample data:\n",
    "    calc.setObservations(source, destination)\n",
    "    # 5. Compute the estimate:\n",
    "    result = calc.computeAverageLocalOfObservations()\n",
    "    results = calc.computeLocalOfPreviousObservations()\n",
    "    return result, results\n",
    "\n",
    "for timediff in range(50):\n",
    "    result=ksgEstimator(timediff)\n",
    "    KSG_results.append(result)"
   ]
  },
  {
   "cell_type": "code",
   "execution_count": 15,
   "metadata": {},
   "outputs": [
    {
     "data": {
      "application/vnd.jupyter.widget-view+json": {
       "model_id": "b89b3c34a2b241249c56026dd4d1290b",
       "version_major": 2,
       "version_minor": 0
      },
      "text/plain": [
       "Canvas(toolbar=Toolbar(toolitems=[('Home', 'Reset original view', 'home', 'home'), ('Back', 'Back to previous …"
      ]
     },
     "metadata": {},
     "output_type": "display_data"
    }
   ],
   "source": [
    "fig, axs = plt.subplots(1, 1, figsize=(9, 6))  \n",
    "axs.plot([t for t in range(50)], KSG_results, label='MI KSG 2')\n",
    "axs.plot([t for t in range(50)], results, label='MI Gaussian')\n",
    "axs.set_title('MI Heart rate; Chest Volume vs Time Lag')\n",
    "axs.set_xlabel('Time Lag')\n",
    "plt.legend()\n",
    "plt.show()"
   ]
  },
  {
   "cell_type": "code",
   "execution_count": 17,
   "metadata": {},
   "outputs": [
    {
     "name": "stdout",
     "output_type": "stream",
     "text": [
      "MI_Kraskov (KSG) alg. 2(col_0 -> col_1) = 0.1346 nats\n"
     ]
    }
   ],
   "source": [
    "# ksg estimator locals\n",
    "\n",
    "#------------------------------------------\n",
    "# Estimation with Kraskov KSG Estimator\n",
    "#------------------------------------------\n",
    "\n",
    "# 1. Construct the calculator:\n",
    "calcClass = JPackage(\"infodynamics.measures.continuous.kraskov\").MutualInfoCalculatorMultiVariateKraskov2\n",
    "calc = calcClass()\n",
    "# 2. Set any properties to non-default values:\n",
    "calc.setProperty(\"k\", \"4\")\n",
    "# 3. Initialise the calculator for (re-)use:\n",
    "calc.initialise()\n",
    "# 4. Supply the sample data:\n",
    "calc.setObservations(source, destination)\n",
    "# 5. Compute the estimate:\n",
    "result = calc.computeAverageLocalOfObservations()\n",
    "results = calc.computeLocalOfPreviousObservations()\n",
    "\n",
    "print(\"MI_Kraskov (KSG) alg. 2(col_0 -> col_1) = %.4f nats\" %\n",
    "    (result))"
   ]
  },
  {
   "cell_type": "code",
   "execution_count": 19,
   "metadata": {},
   "outputs": [],
   "source": [
    "results=np.array(results)"
   ]
  },
  {
   "cell_type": "code",
   "execution_count": 23,
   "metadata": {},
   "outputs": [
    {
     "data": {
      "text/plain": [
       "(1201,)"
      ]
     },
     "execution_count": 23,
     "metadata": {},
     "output_type": "execute_result"
    }
   ],
   "source": [
    "np.array(source).shape"
   ]
  },
  {
   "cell_type": "code",
   "execution_count": 21,
   "metadata": {},
   "outputs": [
    {
     "ename": "TypeError",
     "evalue": "scatter() missing 1 required positional argument: 'y'",
     "output_type": "error",
     "traceback": [
      "\u001b[0;31m---------------------------------------------------------------------------\u001b[0m",
      "\u001b[0;31mTypeError\u001b[0m                                 Traceback (most recent call last)",
      "\u001b[0;32m/tmp/ipykernel_1131/275291773.py\u001b[0m in \u001b[0;36m<module>\u001b[0;34m\u001b[0m\n\u001b[0;32m----> 1\u001b[0;31m \u001b[0mplt\u001b[0m\u001b[0;34m.\u001b[0m\u001b[0mscatter\u001b[0m\u001b[0;34m(\u001b[0m\u001b[0mresults\u001b[0m\u001b[0;34m)\u001b[0m\u001b[0;34m\u001b[0m\u001b[0;34m\u001b[0m\u001b[0m\n\u001b[0m",
      "\u001b[0;31mTypeError\u001b[0m: scatter() missing 1 required positional argument: 'y'"
     ]
    }
   ],
   "source": [
    "plt.scatter(results)"
   ]
  },
  {
   "cell_type": "code",
   "execution_count": 24,
   "metadata": {},
   "outputs": [
    {
     "data": {
      "text/html": [
       "<div>\n",
       "<style scoped>\n",
       "    .dataframe tbody tr th:only-of-type {\n",
       "        vertical-align: middle;\n",
       "    }\n",
       "\n",
       "    .dataframe tbody tr th {\n",
       "        vertical-align: top;\n",
       "    }\n",
       "\n",
       "    .dataframe thead th {\n",
       "        text-align: right;\n",
       "    }\n",
       "</style>\n",
       "<table border=\"1\" class=\"dataframe\">\n",
       "  <thead>\n",
       "    <tr style=\"text-align: right;\">\n",
       "      <th></th>\n",
       "      <th>Heart rate</th>\n",
       "      <th>Chest volume</th>\n",
       "      <th>Blood oxygen</th>\n",
       "    </tr>\n",
       "  </thead>\n",
       "  <tbody>\n",
       "    <tr>\n",
       "      <th>0</th>\n",
       "      <td>83.66</td>\n",
       "      <td>7485</td>\n",
       "      <td>5042</td>\n",
       "    </tr>\n",
       "    <tr>\n",
       "      <th>1</th>\n",
       "      <td>85.23</td>\n",
       "      <td>12553</td>\n",
       "      <td>4881</td>\n",
       "    </tr>\n",
       "    <tr>\n",
       "      <th>2</th>\n",
       "      <td>86.87</td>\n",
       "      <td>13031</td>\n",
       "      <td>4822</td>\n",
       "    </tr>\n",
       "    <tr>\n",
       "      <th>3</th>\n",
       "      <td>88.33</td>\n",
       "      <td>17247</td>\n",
       "      <td>4762</td>\n",
       "    </tr>\n",
       "    <tr>\n",
       "      <th>4</th>\n",
       "      <td>87.61</td>\n",
       "      <td>12586</td>\n",
       "      <td>4744</td>\n",
       "    </tr>\n",
       "  </tbody>\n",
       "</table>\n",
       "</div>"
      ],
      "text/plain": [
       "   Heart rate  Chest volume  Blood oxygen\n",
       "0       83.66          7485          5042\n",
       "1       85.23         12553          4881\n",
       "2       86.87         13031          4822\n",
       "3       88.33         17247          4762\n",
       "4       87.61         12586          4744"
      ]
     },
     "execution_count": 24,
     "metadata": {},
     "output_type": "execute_result"
    }
   ],
   "source": [
    "data.head()"
   ]
  },
  {
   "cell_type": "code",
   "execution_count": 28,
   "metadata": {},
   "outputs": [
    {
     "data": {
      "application/vnd.jupyter.widget-view+json": {
       "model_id": "a49301eaeb4349989e1fc7516fbc0c40",
       "version_major": 2,
       "version_minor": 0
      },
      "text/plain": [
       "Canvas(toolbar=Toolbar(toolitems=[('Home', 'Reset original view', 'home', 'home'), ('Back', 'Back to previous …"
      ]
     },
     "metadata": {},
     "output_type": "display_data"
    },
    {
     "data": {
      "text/plain": [
       "<AxesSubplot:xlabel='Heart rate', ylabel='Chest volume'>"
      ]
     },
     "execution_count": 28,
     "metadata": {},
     "output_type": "execute_result"
    }
   ],
   "source": [
    "data.plot.scatter('Heart rate', 'Chest volume', c=results, colormap='viridis') #heart rate = source, chest_volumne = destination"
   ]
  },
  {
   "cell_type": "markdown",
   "metadata": {},
   "source": [
    "# !!! In the heart data our samples are not independent, yet our estimators expect them to be\n",
    "\n",
    "our k neighbours (close in space) are more likely to be close in time too\n",
    "==> create a bias in our sampling\n",
    "\n",
    "It artifically shrinks the size of the box in kraskov\n",
    "Then decrease the cout\n",
    "then increase the mutual information \n",
    "\n",
    "How to avoid it? tell estimator to avoid looking at samples too close in time\n",
    "\n",
    "What is too close?\n",
    "So we need to look at the autocorrelation of the timeseries.\n",
    "\n",
    "When autocorrelation +- = 0 say at time 15 away, then we say don't look at point that are closer than 15 time steps away from me\n",
    "\n",
    "DYN_CORR_EXCL in jidt\n"
   ]
  }
 ],
 "metadata": {
  "interpreter": {
   "hash": "98b0a9b7b4eaaa670588a142fd0a9b87eaafe866f1db4228be72b4211d12040f"
  },
  "kernelspec": {
   "display_name": "Python 3.9.6 64-bit ('base': conda)",
   "name": "python3"
  },
  "language_info": {
   "codemirror_mode": {
    "name": "ipython",
    "version": 3
   },
   "file_extension": ".py",
   "mimetype": "text/x-python",
   "name": "python",
   "nbconvert_exporter": "python",
   "pygments_lexer": "ipython3",
   "version": "3.9.6"
  }
 },
 "nbformat": 4,
 "nbformat_minor": 4
}
